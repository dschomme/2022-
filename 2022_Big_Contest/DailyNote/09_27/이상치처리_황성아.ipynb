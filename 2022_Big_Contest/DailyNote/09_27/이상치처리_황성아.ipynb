{
  "nbformat": 4,
  "nbformat_minor": 0,
  "metadata": {
    "colab": {
      "provenance": [],
      "collapsed_sections": []
    },
    "kernelspec": {
      "name": "python3",
      "display_name": "Python 3"
    },
    "language_info": {
      "name": "python"
    }
  },
  "cells": [
    {
      "cell_type": "code",
      "execution_count": 1,
      "metadata": {
        "id": "UlHjQ0Ka-hkW"
      },
      "outputs": [],
      "source": [
        "import numpy as np\n",
        "import pandas as pd \n",
        "import matplotlib.pyplot as plt\n",
        "%matplotlib inline\n",
        "import seaborn as sns"
      ]
    },
    {
      "cell_type": "code",
      "source": [
        "from lightgbm import LGBMRegressor\n",
        "import warnings\n",
        "warnings.filterwarnings('ignore')"
      ],
      "metadata": {
        "id": "G-w4wm2i-ky5"
      },
      "execution_count": 2,
      "outputs": []
    },
    {
      "cell_type": "code",
      "source": [
        "from google.colab import drive\n",
        "drive.mount('/content/gdrive')"
      ],
      "metadata": {
        "colab": {
          "base_uri": "https://localhost:8080/"
        },
        "id": "CMnicReJ-k1Q",
        "outputId": "e9976f7a-0f45-40fb-cefd-d94567b68fe9"
      },
      "execution_count": 3,
      "outputs": [
        {
          "output_type": "stream",
          "name": "stdout",
          "text": [
            "Mounted at /content/gdrive\n"
          ]
        }
      ]
    },
    {
      "cell_type": "code",
      "source": [
        "respec = pd.read_csv('/content/gdrive/MyDrive/BigContest_data/respec.csv')\n",
        "respec.head()"
      ],
      "metadata": {
        "colab": {
          "base_uri": "https://localhost:8080/",
          "height": 357
        },
        "id": "EsmAlS-x-k3l",
        "outputId": "70097ab3-cced-4f8f-9451-e13f83224774"
      },
      "execution_count": 4,
      "outputs": [
        {
          "output_type": "execute_result",
          "data": {
            "text/plain": [
              "   application_id  user_id  gender          insert_time  credit_score  \\\n",
              "0          954900   553686     1.0  2022-06-07 14:29:03         870.0   \n",
              "1          137274    59516     1.0  2022-06-07 21:40:22         710.0   \n",
              "2         1570936   167320     1.0  2022-06-07 09:40:27         820.0   \n",
              "3          967833    33400     1.0  2022-06-07 08:55:07         630.0   \n",
              "4         1614045   860410     1.0  2022-06-07 11:29:05         590.0   \n",
              "\n",
              "   yearly_income      income_type employment_type houseown_type  \\\n",
              "0     30000000.0  PRIVATEBUSINESS             정규직        기타가족소유   \n",
              "1     30000000.0       FREELANCER              기타        기타가족소유   \n",
              "2     62000000.0     EARNEDINCOME             정규직            자가   \n",
              "3     36000000.0     EARNEDINCOME             정규직        기타가족소유   \n",
              "4     45000000.0      OTHERINCOME              기타            자가   \n",
              "\n",
              "   desired_amount     purpose  personal_rehabilitation_yn  \\\n",
              "0      30000000.0  SWITCHLOAN                         0.0   \n",
              "1      10000000.0      LIVING                         1.0   \n",
              "2       2000000.0      LIVING                         1.0   \n",
              "3       5000000.0      LIVING                         0.0   \n",
              "4      15000000.0  SWITCHLOAN                         1.0   \n",
              "\n",
              "   personal_rehabilitation_complete_yn  existing_loan_cnt  existing_loan_amt  \\\n",
              "0                                  1.0                1.0         27000000.0   \n",
              "1                                  1.0                5.0         15000000.0   \n",
              "2                                  1.0                7.0        344000000.0   \n",
              "3                                  0.0                1.0         16000000.0   \n",
              "4                                  0.0                1.0         20000000.0   \n",
              "\n",
              "   reage  work_year  \n",
              "0   50.0       16.0  \n",
              "1   20.0        2.0  \n",
              "2   30.0        6.0  \n",
              "3   20.0        2.0  \n",
              "4   40.0        6.0  "
            ],
            "text/html": [
              "\n",
              "  <div id=\"df-428f294f-f5a3-402c-9da1-36e6441224ff\">\n",
              "    <div class=\"colab-df-container\">\n",
              "      <div>\n",
              "<style scoped>\n",
              "    .dataframe tbody tr th:only-of-type {\n",
              "        vertical-align: middle;\n",
              "    }\n",
              "\n",
              "    .dataframe tbody tr th {\n",
              "        vertical-align: top;\n",
              "    }\n",
              "\n",
              "    .dataframe thead th {\n",
              "        text-align: right;\n",
              "    }\n",
              "</style>\n",
              "<table border=\"1\" class=\"dataframe\">\n",
              "  <thead>\n",
              "    <tr style=\"text-align: right;\">\n",
              "      <th></th>\n",
              "      <th>application_id</th>\n",
              "      <th>user_id</th>\n",
              "      <th>gender</th>\n",
              "      <th>insert_time</th>\n",
              "      <th>credit_score</th>\n",
              "      <th>yearly_income</th>\n",
              "      <th>income_type</th>\n",
              "      <th>employment_type</th>\n",
              "      <th>houseown_type</th>\n",
              "      <th>desired_amount</th>\n",
              "      <th>purpose</th>\n",
              "      <th>personal_rehabilitation_yn</th>\n",
              "      <th>personal_rehabilitation_complete_yn</th>\n",
              "      <th>existing_loan_cnt</th>\n",
              "      <th>existing_loan_amt</th>\n",
              "      <th>reage</th>\n",
              "      <th>work_year</th>\n",
              "    </tr>\n",
              "  </thead>\n",
              "  <tbody>\n",
              "    <tr>\n",
              "      <th>0</th>\n",
              "      <td>954900</td>\n",
              "      <td>553686</td>\n",
              "      <td>1.0</td>\n",
              "      <td>2022-06-07 14:29:03</td>\n",
              "      <td>870.0</td>\n",
              "      <td>30000000.0</td>\n",
              "      <td>PRIVATEBUSINESS</td>\n",
              "      <td>정규직</td>\n",
              "      <td>기타가족소유</td>\n",
              "      <td>30000000.0</td>\n",
              "      <td>SWITCHLOAN</td>\n",
              "      <td>0.0</td>\n",
              "      <td>1.0</td>\n",
              "      <td>1.0</td>\n",
              "      <td>27000000.0</td>\n",
              "      <td>50.0</td>\n",
              "      <td>16.0</td>\n",
              "    </tr>\n",
              "    <tr>\n",
              "      <th>1</th>\n",
              "      <td>137274</td>\n",
              "      <td>59516</td>\n",
              "      <td>1.0</td>\n",
              "      <td>2022-06-07 21:40:22</td>\n",
              "      <td>710.0</td>\n",
              "      <td>30000000.0</td>\n",
              "      <td>FREELANCER</td>\n",
              "      <td>기타</td>\n",
              "      <td>기타가족소유</td>\n",
              "      <td>10000000.0</td>\n",
              "      <td>LIVING</td>\n",
              "      <td>1.0</td>\n",
              "      <td>1.0</td>\n",
              "      <td>5.0</td>\n",
              "      <td>15000000.0</td>\n",
              "      <td>20.0</td>\n",
              "      <td>2.0</td>\n",
              "    </tr>\n",
              "    <tr>\n",
              "      <th>2</th>\n",
              "      <td>1570936</td>\n",
              "      <td>167320</td>\n",
              "      <td>1.0</td>\n",
              "      <td>2022-06-07 09:40:27</td>\n",
              "      <td>820.0</td>\n",
              "      <td>62000000.0</td>\n",
              "      <td>EARNEDINCOME</td>\n",
              "      <td>정규직</td>\n",
              "      <td>자가</td>\n",
              "      <td>2000000.0</td>\n",
              "      <td>LIVING</td>\n",
              "      <td>1.0</td>\n",
              "      <td>1.0</td>\n",
              "      <td>7.0</td>\n",
              "      <td>344000000.0</td>\n",
              "      <td>30.0</td>\n",
              "      <td>6.0</td>\n",
              "    </tr>\n",
              "    <tr>\n",
              "      <th>3</th>\n",
              "      <td>967833</td>\n",
              "      <td>33400</td>\n",
              "      <td>1.0</td>\n",
              "      <td>2022-06-07 08:55:07</td>\n",
              "      <td>630.0</td>\n",
              "      <td>36000000.0</td>\n",
              "      <td>EARNEDINCOME</td>\n",
              "      <td>정규직</td>\n",
              "      <td>기타가족소유</td>\n",
              "      <td>5000000.0</td>\n",
              "      <td>LIVING</td>\n",
              "      <td>0.0</td>\n",
              "      <td>0.0</td>\n",
              "      <td>1.0</td>\n",
              "      <td>16000000.0</td>\n",
              "      <td>20.0</td>\n",
              "      <td>2.0</td>\n",
              "    </tr>\n",
              "    <tr>\n",
              "      <th>4</th>\n",
              "      <td>1614045</td>\n",
              "      <td>860410</td>\n",
              "      <td>1.0</td>\n",
              "      <td>2022-06-07 11:29:05</td>\n",
              "      <td>590.0</td>\n",
              "      <td>45000000.0</td>\n",
              "      <td>OTHERINCOME</td>\n",
              "      <td>기타</td>\n",
              "      <td>자가</td>\n",
              "      <td>15000000.0</td>\n",
              "      <td>SWITCHLOAN</td>\n",
              "      <td>1.0</td>\n",
              "      <td>0.0</td>\n",
              "      <td>1.0</td>\n",
              "      <td>20000000.0</td>\n",
              "      <td>40.0</td>\n",
              "      <td>6.0</td>\n",
              "    </tr>\n",
              "  </tbody>\n",
              "</table>\n",
              "</div>\n",
              "      <button class=\"colab-df-convert\" onclick=\"convertToInteractive('df-428f294f-f5a3-402c-9da1-36e6441224ff')\"\n",
              "              title=\"Convert this dataframe to an interactive table.\"\n",
              "              style=\"display:none;\">\n",
              "        \n",
              "  <svg xmlns=\"http://www.w3.org/2000/svg\" height=\"24px\"viewBox=\"0 0 24 24\"\n",
              "       width=\"24px\">\n",
              "    <path d=\"M0 0h24v24H0V0z\" fill=\"none\"/>\n",
              "    <path d=\"M18.56 5.44l.94 2.06.94-2.06 2.06-.94-2.06-.94-.94-2.06-.94 2.06-2.06.94zm-11 1L8.5 8.5l.94-2.06 2.06-.94-2.06-.94L8.5 2.5l-.94 2.06-2.06.94zm10 10l.94 2.06.94-2.06 2.06-.94-2.06-.94-.94-2.06-.94 2.06-2.06.94z\"/><path d=\"M17.41 7.96l-1.37-1.37c-.4-.4-.92-.59-1.43-.59-.52 0-1.04.2-1.43.59L10.3 9.45l-7.72 7.72c-.78.78-.78 2.05 0 2.83L4 21.41c.39.39.9.59 1.41.59.51 0 1.02-.2 1.41-.59l7.78-7.78 2.81-2.81c.8-.78.8-2.07 0-2.86zM5.41 20L4 18.59l7.72-7.72 1.47 1.35L5.41 20z\"/>\n",
              "  </svg>\n",
              "      </button>\n",
              "      \n",
              "  <style>\n",
              "    .colab-df-container {\n",
              "      display:flex;\n",
              "      flex-wrap:wrap;\n",
              "      gap: 12px;\n",
              "    }\n",
              "\n",
              "    .colab-df-convert {\n",
              "      background-color: #E8F0FE;\n",
              "      border: none;\n",
              "      border-radius: 50%;\n",
              "      cursor: pointer;\n",
              "      display: none;\n",
              "      fill: #1967D2;\n",
              "      height: 32px;\n",
              "      padding: 0 0 0 0;\n",
              "      width: 32px;\n",
              "    }\n",
              "\n",
              "    .colab-df-convert:hover {\n",
              "      background-color: #E2EBFA;\n",
              "      box-shadow: 0px 1px 2px rgba(60, 64, 67, 0.3), 0px 1px 3px 1px rgba(60, 64, 67, 0.15);\n",
              "      fill: #174EA6;\n",
              "    }\n",
              "\n",
              "    [theme=dark] .colab-df-convert {\n",
              "      background-color: #3B4455;\n",
              "      fill: #D2E3FC;\n",
              "    }\n",
              "\n",
              "    [theme=dark] .colab-df-convert:hover {\n",
              "      background-color: #434B5C;\n",
              "      box-shadow: 0px 1px 3px 1px rgba(0, 0, 0, 0.15);\n",
              "      filter: drop-shadow(0px 1px 2px rgba(0, 0, 0, 0.3));\n",
              "      fill: #FFFFFF;\n",
              "    }\n",
              "  </style>\n",
              "\n",
              "      <script>\n",
              "        const buttonEl =\n",
              "          document.querySelector('#df-428f294f-f5a3-402c-9da1-36e6441224ff button.colab-df-convert');\n",
              "        buttonEl.style.display =\n",
              "          google.colab.kernel.accessAllowed ? 'block' : 'none';\n",
              "\n",
              "        async function convertToInteractive(key) {\n",
              "          const element = document.querySelector('#df-428f294f-f5a3-402c-9da1-36e6441224ff');\n",
              "          const dataTable =\n",
              "            await google.colab.kernel.invokeFunction('convertToInteractive',\n",
              "                                                     [key], {});\n",
              "          if (!dataTable) return;\n",
              "\n",
              "          const docLinkHtml = 'Like what you see? Visit the ' +\n",
              "            '<a target=\"_blank\" href=https://colab.research.google.com/notebooks/data_table.ipynb>data table notebook</a>'\n",
              "            + ' to learn more about interactive tables.';\n",
              "          element.innerHTML = '';\n",
              "          dataTable['output_type'] = 'display_data';\n",
              "          await google.colab.output.renderOutput(dataTable, element);\n",
              "          const docLink = document.createElement('div');\n",
              "          docLink.innerHTML = docLinkHtml;\n",
              "          element.appendChild(docLink);\n",
              "        }\n",
              "      </script>\n",
              "    </div>\n",
              "  </div>\n",
              "  "
            ]
          },
          "metadata": {},
          "execution_count": 4
        }
      ]
    },
    {
      "cell_type": "markdown",
      "source": [
        "### 1) yearly_income"
      ],
      "metadata": {
        "id": "gxCUHgKZ_ATU"
      }
    },
    {
      "cell_type": "code",
      "source": [
        "sns.boxplot(y= respec[\"yearly_income\"])"
      ],
      "metadata": {
        "colab": {
          "base_uri": "https://localhost:8080/",
          "height": 281
        },
        "id": "cX-HKxTg_PuR",
        "outputId": "75f6c2e1-5542-42fe-9a7d-224ca7e15c83"
      },
      "execution_count": 5,
      "outputs": [
        {
          "output_type": "execute_result",
          "data": {
            "text/plain": [
              "<matplotlib.axes._subplots.AxesSubplot at 0x7f49a00aa6d0>"
            ]
          },
          "metadata": {},
          "execution_count": 5
        },
        {
          "output_type": "display_data",
          "data": {
            "text/plain": [
              "<Figure size 432x288 with 1 Axes>"
            ],
            "image/png": "[encoded data removed]"
          },
          "metadata": {
            "needs_background": "light"
          }
        }
      ]
    },
    {
      "cell_type": "code",
      "source": [
        "plt.figure(figsize=(30,8))\n",
        "sns.distplot(respec['yearly_income'])\n",
        "plt.show()"
      ],
      "metadata": {
        "colab": {
          "base_uri": "https://localhost:8080/",
          "height": 434
        },
        "id": "EEIpet2Z_P1z",
        "outputId": "a63d328c-6c5b-48c6-9a51-65d8668f3a54"
      },
      "execution_count": 6,
      "outputs": [
        {
          "output_type": "display_data",
          "data": {
            "text/plain": [
              "<Figure size 2160x576 with 1 Axes>"
            ],
            "image/png": "[encoded data removed]"
          },
          "metadata": {
            "needs_background": "light"
          }
        }
      ]
    },
    {
      "cell_type": "code",
      "source": [
        "respec['yearly_income']=np.log(respec['yearly_income'])"
      ],
      "metadata": {
        "id": "qCAjniBJ_P4Z"
      },
      "execution_count": 7,
      "outputs": []
    },
    {
      "cell_type": "code",
      "source": [
        "sns.boxplot(y= respec[\"yearly_income\"])"
      ],
      "metadata": {
        "colab": {
          "base_uri": "https://localhost:8080/",
          "height": 270
        },
        "id": "dUVNI-7k_P7B",
        "outputId": "aab39d83-ee11-42b7-d541-3e9dc46c2002"
      },
      "execution_count": 8,
      "outputs": [
        {
          "output_type": "execute_result",
          "data": {
            "text/plain": [
              "<matplotlib.axes._subplots.AxesSubplot at 0x7f499df43a90>"
            ]
          },
          "metadata": {},
          "execution_count": 8
        },
        {
          "output_type": "display_data",
          "data": {
            "text/plain": [
              "<Figure size 432x288 with 1 Axes>"
            ],
            "image/png": "[encoded data removed]"
          },
          "metadata": {
            "needs_background": "light"
          }
        }
      ]
    },
    {
      "cell_type": "code",
      "source": [
        "IQR = respec['yearly_income'].quantile(0.75) - respec['yearly_income'].quantile(0.25)\n",
        "print(respec['yearly_income'].quantile(0.25) - 1.5*IQR )\n",
        "print(respec['yearly_income'].quantile(0.75) + 1.5*IQR )"
      ],
      "metadata": {
        "colab": {
          "base_uri": "https://localhost:8080/"
        },
        "id": "ydvo71J2_W3T",
        "outputId": "cfedc03f-a639-463e-f3a4-2deb920fb81a"
      },
      "execution_count": 9,
      "outputs": [
        {
          "output_type": "stream",
          "name": "stdout",
          "text": [
            "16.092717394875763\n",
            "18.708423264502414\n"
          ]
        }
      ]
    },
    {
      "cell_type": "code",
      "source": [
        "respec.loc[respec['yearly_income'] <= (respec['yearly_income'].quantile(0.25) - 1.5*IQR )] =(respec['yearly_income'].quantile(0.25) - 1.5*IQR )\n",
        "respec.loc[respec['yearly_income'] >= (respec['yearly_income'].quantile(0.75) + 1.5*IQR )] = (respec['yearly_income'].quantile(0.75) + 1.5*IQR )"
      ],
      "metadata": {
        "id": "kVpOHCzn_W53"
      },
      "execution_count": 10,
      "outputs": []
    },
    {
      "cell_type": "code",
      "source": [
        "sns.boxplot(y= respec[\"yearly_income\"])"
      ],
      "metadata": {
        "colab": {
          "base_uri": "https://localhost:8080/",
          "height": 270
        },
        "id": "Xx66BuPa_W79",
        "outputId": "8fbd6048-6568-4916-c090-147b9595e813"
      },
      "execution_count": 11,
      "outputs": [
        {
          "output_type": "execute_result",
          "data": {
            "text/plain": [
              "<matplotlib.axes._subplots.AxesSubplot at 0x7f499b15a050>"
            ]
          },
          "metadata": {},
          "execution_count": 11
        },
        {
          "output_type": "display_data",
          "data": {
            "text/plain": [
              "<Figure size 432x288 with 1 Axes>"
            ],
            "image/png": "[encoded data removed]"
          },
          "metadata": {
            "needs_background": "light"
          }
        }
      ]
    },
    {
      "cell_type": "markdown",
      "source": [
        "### 2) Credit_score"
      ],
      "metadata": {
        "id": "u_dFad-c_A4S"
      }
    },
    {
      "cell_type": "code",
      "source": [
        "sns.boxplot(y= respec[\"credit_score\"])"
      ],
      "metadata": {
        "colab": {
          "base_uri": "https://localhost:8080/",
          "height": 270
        },
        "id": "MfVVUha2_VAU",
        "outputId": "c99fd6d5-213d-4316-f00b-c22415208d75"
      },
      "execution_count": 12,
      "outputs": [
        {
          "output_type": "execute_result",
          "data": {
            "text/plain": [
              "<matplotlib.axes._subplots.AxesSubplot at 0x7f499b112150>"
            ]
          },
          "metadata": {},
          "execution_count": 12
        },
        {
          "output_type": "display_data",
          "data": {
            "text/plain": [
              "<Figure size 432x288 with 1 Axes>"
            ],
            "image/png": "[encoded data removed]"
          },
          "metadata": {
            "needs_background": "light"
          }
        }
      ]
    },
    {
      "cell_type": "code",
      "source": [
        "IQR = respec[\"credit_score\"].quantile(0.75) - respec[\"credit_score\"].quantile(0.25)\n",
        "print(respec[\"credit_score\"].quantile(0.25) - 1.5*IQR )\n",
        "print(respec[\"credit_score\"].quantile(0.75) + 1.5*IQR )"
      ],
      "metadata": {
        "colab": {
          "base_uri": "https://localhost:8080/"
        },
        "id": "3brCPDzE_VDH",
        "outputId": "3a958447-bb53-40d5-9b2a-48303cadf5ca"
      },
      "execution_count": 13,
      "outputs": [
        {
          "output_type": "stream",
          "name": "stdout",
          "text": [
            "370.0\n",
            "930.0\n"
          ]
        }
      ]
    },
    {
      "cell_type": "code",
      "source": [
        "respec.loc[respec[\"credit_score\"] <= (respec[\"credit_score\"].quantile(0.25) - 1.5*IQR )] =(respec[\"credit_score\"].quantile(0.25) - 1.5*IQR )\n",
        "respec.loc[respec[\"credit_score\"] >= (respec[\"credit_score\"].quantile(0.75) + 1.5*IQR )] = (respec[\"credit_score\"].quantile(0.75) + 1.5*IQR )"
      ],
      "metadata": {
        "id": "NuVTpP4w_VFu"
      },
      "execution_count": 14,
      "outputs": []
    },
    {
      "cell_type": "code",
      "source": [
        "sns.boxplot(y= respec[\"credit_score\"])"
      ],
      "metadata": {
        "colab": {
          "base_uri": "https://localhost:8080/",
          "height": 270
        },
        "id": "VJ175MBU_ezE",
        "outputId": "075f9c06-2b57-4b84-d6a9-8b276e4faccd"
      },
      "execution_count": 15,
      "outputs": [
        {
          "output_type": "execute_result",
          "data": {
            "text/plain": [
              "<matplotlib.axes._subplots.AxesSubplot at 0x7f499b0669d0>"
            ]
          },
          "metadata": {},
          "execution_count": 15
        },
        {
          "output_type": "display_data",
          "data": {
            "text/plain": [
              "<Figure size 432x288 with 1 Axes>"
            ],
            "image/png": "[encoded data removed]"
          },
          "metadata": {
            "needs_background": "light"
          }
        }
      ]
    },
    {
      "cell_type": "markdown",
      "source": [
        "### desired_amount"
      ],
      "metadata": {
        "id": "-vitZX1N_Giw"
      }
    },
    {
      "cell_type": "code",
      "source": [
        "sns.boxplot(y= respec[\"desired_amount\"])"
      ],
      "metadata": {
        "colab": {
          "base_uri": "https://localhost:8080/",
          "height": 281
        },
        "id": "WNR85eXQ_gvi",
        "outputId": "9240b37b-1410-4b6a-d019-c686c3062a03"
      },
      "execution_count": 16,
      "outputs": [
        {
          "output_type": "execute_result",
          "data": {
            "text/plain": [
              "<matplotlib.axes._subplots.AxesSubplot at 0x7f499b02b810>"
            ]
          },
          "metadata": {},
          "execution_count": 16
        },
        {
          "output_type": "display_data",
          "data": {
            "text/plain": [
              "<Figure size 432x288 with 1 Axes>"
            ],
            "image/png": "[encoded data removed]"
          },
          "metadata": {
            "needs_background": "light"
          }
        }
      ]
    },
    {
      "cell_type": "code",
      "source": [
        "plt.figure(figsize=(30,8))\n",
        "sns.distplot(respec[\"desired_amount\"])\n",
        "plt.show()"
      ],
      "metadata": {
        "colab": {
          "base_uri": "https://localhost:8080/",
          "height": 433
        },
        "id": "eG0RsAo5_gya",
        "outputId": "0d344a60-748c-4ab6-a06e-f82fb2aa85fb"
      },
      "execution_count": 17,
      "outputs": [
        {
          "output_type": "display_data",
          "data": {
            "text/plain": [
              "<Figure size 2160x576 with 1 Axes>"
            ],
            "image/png": "[encoded data removed]"
          },
          "metadata": {
            "needs_background": "light"
          }
        }
      ]
    },
    {
      "cell_type": "code",
      "source": [
        "respec[\"desired_amount\"]=np.log(respec[\"desired_amount\"])"
      ],
      "metadata": {
        "id": "8Zi__Sok_g1A"
      },
      "execution_count": 18,
      "outputs": []
    },
    {
      "cell_type": "code",
      "source": [
        "sns.boxplot(y= respec[\"desired_amount\"])"
      ],
      "metadata": {
        "colab": {
          "base_uri": "https://localhost:8080/",
          "height": 270
        },
        "id": "drYJXOFF_g4I",
        "outputId": "3f7cc514-a86c-4c15-e5c1-2358c7bcf5fe"
      },
      "execution_count": 19,
      "outputs": [
        {
          "output_type": "execute_result",
          "data": {
            "text/plain": [
              "<matplotlib.axes._subplots.AxesSubplot at 0x7f499b001f50>"
            ]
          },
          "metadata": {},
          "execution_count": 19
        },
        {
          "output_type": "display_data",
          "data": {
            "text/plain": [
              "<Figure size 432x288 with 1 Axes>"
            ],
            "image/png": "[encoded data removed]"
          },
          "metadata": {
            "needs_background": "light"
          }
        }
      ]
    },
    {
      "cell_type": "code",
      "source": [
        "IQR = respec[\"desired_amount\"].quantile(0.75) - respec[\"desired_amount\"].quantile(0.25)\n",
        "print(respec[\"desired_amount\"].quantile(0.25) - 1.5*IQR )\n",
        "print(respec[\"desired_amount\"].quantile(0.75) + 1.5*IQR )"
      ],
      "metadata": {
        "colab": {
          "base_uri": "https://localhost:8080/"
        },
        "id": "0i8ezvJF_mj7",
        "outputId": "73f79a1e-3484-437d-a13e-ea55725cd567"
      },
      "execution_count": 20,
      "outputs": [
        {
          "output_type": "stream",
          "name": "stdout",
          "text": [
            "12.737309266556295\n",
            "19.904347143468506\n"
          ]
        }
      ]
    },
    {
      "cell_type": "code",
      "source": [
        "respec.loc[respec[\"desired_amount\"] <= (respec[\"desired_amount\"].quantile(0.25) - 1.5*IQR )] =(respec[\"desired_amount\"].quantile(0.25) - 1.5*IQR )\n",
        "respec.loc[respec[\"desired_amount\"] >= (respec[\"desired_amount\"].quantile(0.75) + 1.5*IQR )] = (respec[\"desired_amount\"].quantile(0.75) + 1.5*IQR )"
      ],
      "metadata": {
        "id": "oQVOfQY8_mmk"
      },
      "execution_count": 21,
      "outputs": []
    },
    {
      "cell_type": "code",
      "source": [
        "sns.boxplot(y= respec[\"desired_amount\"])"
      ],
      "metadata": {
        "colab": {
          "base_uri": "https://localhost:8080/",
          "height": 270
        },
        "id": "Jy8_2b9t_mon",
        "outputId": "054f5789-1a6f-4a92-8364-de0b2ec1004c"
      },
      "execution_count": 22,
      "outputs": [
        {
          "output_type": "execute_result",
          "data": {
            "text/plain": [
              "<matplotlib.axes._subplots.AxesSubplot at 0x7f49a4d11b10>"
            ]
          },
          "metadata": {},
          "execution_count": 22
        },
        {
          "output_type": "display_data",
          "data": {
            "text/plain": [
              "<Figure size 432x288 with 1 Axes>"
            ],
            "image/png": "[encoded data removed]"
          },
          "metadata": {
            "needs_background": "light"
          }
        }
      ]
    },
    {
      "cell_type": "markdown",
      "source": [
        "### existing_loan_amt"
      ],
      "metadata": {
        "id": "8nJXnJ0P_Ijq"
      }
    },
    {
      "cell_type": "code",
      "source": [
        "sns.boxplot(y= respec[\"existing_loan_amt\"])"
      ],
      "metadata": {
        "colab": {
          "base_uri": "https://localhost:8080/",
          "height": 281
        },
        "id": "cbgz-_ed-k57",
        "outputId": "535fb545-989b-43a6-886c-58ea4e27c5dc"
      },
      "execution_count": 23,
      "outputs": [
        {
          "output_type": "execute_result",
          "data": {
            "text/plain": [
              "<matplotlib.axes._subplots.AxesSubplot at 0x7f499b056850>"
            ]
          },
          "metadata": {},
          "execution_count": 23
        },
        {
          "output_type": "display_data",
          "data": {
            "text/plain": [
              "<Figure size 432x288 with 1 Axes>"
            ],
            "image/png": "[encoded data removed]"
          },
          "metadata": {
            "needs_background": "light"
          }
        }
      ]
    },
    {
      "cell_type": "code",
      "source": [
        "plt.figure(figsize=(30,8))\n",
        "sns.distplot(respec[\"existing_loan_amt\"])\n",
        "plt.show()"
      ],
      "metadata": {
        "colab": {
          "base_uri": "https://localhost:8080/",
          "height": 431
        },
        "id": "CBKndQsl-k8R",
        "outputId": "dc992739-64b9-4076-a9f4-baa4270a0381"
      },
      "execution_count": 24,
      "outputs": [
        {
          "output_type": "display_data",
          "data": {
            "text/plain": [
              "<Figure size 2160x576 with 1 Axes>"
            ],
            "image/png": "[encoded data removed]"
          },
          "metadata": {
            "needs_background": "light"
          }
        }
      ]
    },
    {
      "cell_type": "code",
      "source": [
        "respec[\"existing_loan_amt\"]=np.log(respec[\"existing_loan_amt\"])"
      ],
      "metadata": {
        "id": "ijz_q6I9-k-o"
      },
      "execution_count": 25,
      "outputs": []
    },
    {
      "cell_type": "code",
      "source": [
        "sns.boxplot(y= respec[\"existing_loan_amt\"])"
      ],
      "metadata": {
        "colab": {
          "base_uri": "https://localhost:8080/",
          "height": 270
        },
        "id": "MorY6azO_veR",
        "outputId": "856a9fc3-5fc0-497e-f714-f3bb3746695b"
      },
      "execution_count": 26,
      "outputs": [
        {
          "output_type": "execute_result",
          "data": {
            "text/plain": [
              "<matplotlib.axes._subplots.AxesSubplot at 0x7f499d9ea150>"
            ]
          },
          "metadata": {},
          "execution_count": 26
        },
        {
          "output_type": "display_data",
          "data": {
            "text/plain": [
              "<Figure size 432x288 with 1 Axes>"
            ],
            "image/png": "[encoded data removed]"
          },
          "metadata": {
            "needs_background": "light"
          }
        }
      ]
    },
    {
      "cell_type": "code",
      "source": [
        "IQR = respec[\"existing_loan_amt\"].quantile(0.75) - respec[\"existing_loan_amt\"].quantile(0.25)\n",
        "print(respec[\"existing_loan_amt\"].quantile(0.25) - 1.5*IQR )\n",
        "print(respec[\"existing_loan_amt\"].quantile(0.75) + 1.5*IQR )"
      ],
      "metadata": {
        "colab": {
          "base_uri": "https://localhost:8080/"
        },
        "id": "I3QsqRPx_vg1",
        "outputId": "8a6628d6-a6ed-4260-94ec-587bdd7e91b9"
      },
      "execution_count": 27,
      "outputs": [
        {
          "output_type": "stream",
          "name": "stdout",
          "text": [
            "10.300460374791097\n",
            "22.603560299701197\n"
          ]
        }
      ]
    },
    {
      "cell_type": "code",
      "source": [
        "respec.loc[respec[\"existing_loan_amt\"] <= (respec[\"existing_loan_amt\"].quantile(0.25) - 1.5*IQR )] =(respec[\"existing_loan_amt\"].quantile(0.25) - 1.5*IQR )\n",
        "respec.loc[respec[\"existing_loan_amt\"] >= (respec[\"existing_loan_amt\"].quantile(0.75) + 1.5*IQR )] = (respec[\"existing_loan_amt\"].quantile(0.75) + 1.5*IQR )"
      ],
      "metadata": {
        "id": "ZCgzN-x2-lBO"
      },
      "execution_count": 28,
      "outputs": []
    },
    {
      "cell_type": "code",
      "source": [
        "sns.boxplot(y= respec[\"existing_loan_amt\"])"
      ],
      "metadata": {
        "colab": {
          "base_uri": "https://localhost:8080/",
          "height": 270
        },
        "id": "OzBm0vAb_0RQ",
        "outputId": "016ba868-36b2-43f2-af27-554919f07edf"
      },
      "execution_count": 29,
      "outputs": [
        {
          "output_type": "execute_result",
          "data": {
            "text/plain": [
              "<matplotlib.axes._subplots.AxesSubplot at 0x7f499af14190>"
            ]
          },
          "metadata": {},
          "execution_count": 29
        },
        {
          "output_type": "display_data",
          "data": {
            "text/plain": [
              "<Figure size 432x288 with 1 Axes>"
            ],
            "image/png": "[encoded data removed]"
          },
          "metadata": {
            "needs_background": "light"
          }
        }
      ]
    }
  ]
}