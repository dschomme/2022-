{
  "nbformat": 4,
  "nbformat_minor": 0,
  "metadata": {
    "colab": {
      "provenance": [],
      "collapsed_sections": []
    },
    "kernelspec": {
      "name": "python3",
      "display_name": "Python 3"
    },
    "language_info": {
      "name": "python"
    }
  },
  "cells": [
    {
      "cell_type": "code",
      "execution_count": 1,
      "metadata": {
        "id": "JBxr5i4HZVMD"
      },
      "outputs": [],
      "source": [
        "import numpy as np\n",
        "import pandas as pd\n",
        "import matplotlib.pyplot as plt\n",
        "%matplotlib inline\n",
        "import seaborn as sns\n",
        "import pandas_profiling \n",
        "\n",
        "# 전처리\n",
        "from sklearn.preprocessing import LabelEncoder, StandardScaler"
      ]
    },
    {
      "cell_type": "code",
      "source": [
        "from google.colab import drive\n",
        "drive.mount('/content/gdrive')"
      ],
      "metadata": {
        "colab": {
          "base_uri": "https://localhost:8080/"
        },
        "id": "z8PrGCx8Z2Jk",
        "outputId": "f96ea6ca-58f6-4fb0-85bc-c8d8ededf2c3"
      },
      "execution_count": 3,
      "outputs": [
        {
          "output_type": "stream",
          "name": "stdout",
          "text": [
            "Mounted at /content/gdrive\n"
          ]
        }
      ]
    },
    {
      "cell_type": "code",
      "source": [
        "log_data = pd.read_csv('/content/gdrive/MyDrive/dataset/log_data.csv')\n",
        "spec_data = pd.read_csv('/content/gdrive/MyDrive/dataset/user_spec.csv')\n",
        "loan_data = pd.read_csv('/content/gdrive/MyDrive/dataset/loan_result.csv')\n",
        "relog_data = pd.read_csv('/content/gdrive/MyDrive/dataset/relog.csv')"
      ],
      "metadata": {
        "id": "Xgo1OsURZrPK"
      },
      "execution_count": 4,
      "outputs": []
    },
    {
      "cell_type": "code",
      "source": [
        "relog_data"
      ],
      "metadata": {
        "colab": {
          "base_uri": "https://localhost:8080/",
          "height": 658
        },
        "id": "OiuSdj8TZ0vK",
        "outputId": "25d30f72-cdfb-4fad-ad22-c8a7ccc3e618"
      },
      "execution_count": 5,
      "outputs": [
        {
          "output_type": "execute_result",
          "data": {
            "text/plain": [
              "        Unnamed: 0  user_id            timestamp  \\\n",
              "0         11709372        1  2022-05-03 14:52:28   \n",
              "1         10428909        7  2022-05-22 16:39:49   \n",
              "2          9627339        9  2022-05-21 23:37:58   \n",
              "3          9505105       11  2022-03-24 10:53:59   \n",
              "4          1447554       12  2022-03-14 01:13:11   \n",
              "...            ...      ...                  ...   \n",
              "584631     2012632   879693  2022-05-13 11:29:49   \n",
              "584632    14380169   879694  2022-03-31 20:07:23   \n",
              "584633     6068504   879695  2022-05-27 12:48:32   \n",
              "584634     7298665   879696  2022-03-14 05:35:34   \n",
              "584635     8248077   879698  2022-05-24 22:33:24   \n",
              "\n",
              "                                                    event  \n",
              "0                                            11-11-2-8-11  \n",
              "1                                                      11  \n",
              "2                                                11-11-11  \n",
              "3       1-11-8-11-9-6-5-4-7-11-8-8-1-11-8-5-4-7-11-8-8...  \n",
              "4       1-2-6-5-4-7-7-7-1-2-6-5-4-7-7-7-1-2-6-5-4-7-7-...  \n",
              "...                                                   ...  \n",
              "584631  6-5-4-7-1-7-6-1-8-11-6-7-1-6-5-4-6-5-4-6-7-7-7...  \n",
              "584632                                        6-5-4-7-7-7  \n",
              "584633                                            6-5-4-7  \n",
              "584634                           2-8-11-11-8-11-1-2-5-4-7  \n",
              "584635                                              1-6-5  \n",
              "\n",
              "[584636 rows x 4 columns]"
            ],
            "text/html": [
              "\n",
              "  <div id=\"df-23c25fbf-032c-4c76-b1bc-35fc109dc38e\">\n",
              "    <div class=\"colab-df-container\">\n",
              "      <div>\n",
              "<style scoped>\n",
              "    .dataframe tbody tr th:only-of-type {\n",
              "        vertical-align: middle;\n",
              "    }\n",
              "\n",
              "    .dataframe tbody tr th {\n",
              "        vertical-align: top;\n",
              "    }\n",
              "\n",
              "    .dataframe thead th {\n",
              "        text-align: right;\n",
              "    }\n",
              "</style>\n",
              "<table border=\"1\" class=\"dataframe\">\n",
              "  <thead>\n",
              "    <tr style=\"text-align: right;\">\n",
              "      <th></th>\n",
              "      <th>Unnamed: 0</th>\n",
              "      <th>user_id</th>\n",
              "      <th>timestamp</th>\n",
              "      <th>event</th>\n",
              "    </tr>\n",
              "  </thead>\n",
              "  <tbody>\n",
              "    <tr>\n",
              "      <th>0</th>\n",
              "      <td>11709372</td>\n",
              "      <td>1</td>\n",
              "      <td>2022-05-03 14:52:28</td>\n",
              "      <td>11-11-2-8-11</td>\n",
              "    </tr>\n",
              "    <tr>\n",
              "      <th>1</th>\n",
              "      <td>10428909</td>\n",
              "      <td>7</td>\n",
              "      <td>2022-05-22 16:39:49</td>\n",
              "      <td>11</td>\n",
              "    </tr>\n",
              "    <tr>\n",
              "      <th>2</th>\n",
              "      <td>9627339</td>\n",
              "      <td>9</td>\n",
              "      <td>2022-05-21 23:37:58</td>\n",
              "      <td>11-11-11</td>\n",
              "    </tr>\n",
              "    <tr>\n",
              "      <th>3</th>\n",
              "      <td>9505105</td>\n",
              "      <td>11</td>\n",
              "      <td>2022-03-24 10:53:59</td>\n",
              "      <td>1-11-8-11-9-6-5-4-7-11-8-8-1-11-8-5-4-7-11-8-8...</td>\n",
              "    </tr>\n",
              "    <tr>\n",
              "      <th>4</th>\n",
              "      <td>1447554</td>\n",
              "      <td>12</td>\n",
              "      <td>2022-03-14 01:13:11</td>\n",
              "      <td>1-2-6-5-4-7-7-7-1-2-6-5-4-7-7-7-1-2-6-5-4-7-7-...</td>\n",
              "    </tr>\n",
              "    <tr>\n",
              "      <th>...</th>\n",
              "      <td>...</td>\n",
              "      <td>...</td>\n",
              "      <td>...</td>\n",
              "      <td>...</td>\n",
              "    </tr>\n",
              "    <tr>\n",
              "      <th>584631</th>\n",
              "      <td>2012632</td>\n",
              "      <td>879693</td>\n",
              "      <td>2022-05-13 11:29:49</td>\n",
              "      <td>6-5-4-7-1-7-6-1-8-11-6-7-1-6-5-4-6-5-4-6-7-7-7...</td>\n",
              "    </tr>\n",
              "    <tr>\n",
              "      <th>584632</th>\n",
              "      <td>14380169</td>\n",
              "      <td>879694</td>\n",
              "      <td>2022-03-31 20:07:23</td>\n",
              "      <td>6-5-4-7-7-7</td>\n",
              "    </tr>\n",
              "    <tr>\n",
              "      <th>584633</th>\n",
              "      <td>6068504</td>\n",
              "      <td>879695</td>\n",
              "      <td>2022-05-27 12:48:32</td>\n",
              "      <td>6-5-4-7</td>\n",
              "    </tr>\n",
              "    <tr>\n",
              "      <th>584634</th>\n",
              "      <td>7298665</td>\n",
              "      <td>879696</td>\n",
              "      <td>2022-03-14 05:35:34</td>\n",
              "      <td>2-8-11-11-8-11-1-2-5-4-7</td>\n",
              "    </tr>\n",
              "    <tr>\n",
              "      <th>584635</th>\n",
              "      <td>8248077</td>\n",
              "      <td>879698</td>\n",
              "      <td>2022-05-24 22:33:24</td>\n",
              "      <td>1-6-5</td>\n",
              "    </tr>\n",
              "  </tbody>\n",
              "</table>\n",
              "<p>584636 rows × 4 columns</p>\n",
              "</div>\n",
              "      <button class=\"colab-df-convert\" onclick=\"convertToInteractive('df-23c25fbf-032c-4c76-b1bc-35fc109dc38e')\"\n",
              "              title=\"Convert this dataframe to an interactive table.\"\n",
              "              style=\"display:none;\">\n",
              "        \n",
              "  <svg xmlns=\"http://www.w3.org/2000/svg\" height=\"24px\"viewBox=\"0 0 24 24\"\n",
              "       width=\"24px\">\n",
              "    <path d=\"M0 0h24v24H0V0z\" fill=\"none\"/>\n",
              "    <path d=\"M18.56 5.44l.94 2.06.94-2.06 2.06-.94-2.06-.94-.94-2.06-.94 2.06-2.06.94zm-11 1L8.5 8.5l.94-2.06 2.06-.94-2.06-.94L8.5 2.5l-.94 2.06-2.06.94zm10 10l.94 2.06.94-2.06 2.06-.94-2.06-.94-.94-2.06-.94 2.06-2.06.94z\"/><path d=\"M17.41 7.96l-1.37-1.37c-.4-.4-.92-.59-1.43-.59-.52 0-1.04.2-1.43.59L10.3 9.45l-7.72 7.72c-.78.78-.78 2.05 0 2.83L4 21.41c.39.39.9.59 1.41.59.51 0 1.02-.2 1.41-.59l7.78-7.78 2.81-2.81c.8-.78.8-2.07 0-2.86zM5.41 20L4 18.59l7.72-7.72 1.47 1.35L5.41 20z\"/>\n",
              "  </svg>\n",
              "      </button>\n",
              "      \n",
              "  <style>\n",
              "    .colab-df-container {\n",
              "      display:flex;\n",
              "      flex-wrap:wrap;\n",
              "      gap: 12px;\n",
              "    }\n",
              "\n",
              "    .colab-df-convert {\n",
              "      background-color: #E8F0FE;\n",
              "      border: none;\n",
              "      border-radius: 50%;\n",
              "      cursor: pointer;\n",
              "      display: none;\n",
              "      fill: #1967D2;\n",
              "      height: 32px;\n",
              "      padding: 0 0 0 0;\n",
              "      width: 32px;\n",
              "    }\n",
              "\n",
              "    .colab-df-convert:hover {\n",
              "      background-color: #E2EBFA;\n",
              "      box-shadow: 0px 1px 2px rgba(60, 64, 67, 0.3), 0px 1px 3px 1px rgba(60, 64, 67, 0.15);\n",
              "      fill: #174EA6;\n",
              "    }\n",
              "\n",
              "    [theme=dark] .colab-df-convert {\n",
              "      background-color: #3B4455;\n",
              "      fill: #D2E3FC;\n",
              "    }\n",
              "\n",
              "    [theme=dark] .colab-df-convert:hover {\n",
              "      background-color: #434B5C;\n",
              "      box-shadow: 0px 1px 3px 1px rgba(0, 0, 0, 0.15);\n",
              "      filter: drop-shadow(0px 1px 2px rgba(0, 0, 0, 0.3));\n",
              "      fill: #FFFFFF;\n",
              "    }\n",
              "  </style>\n",
              "\n",
              "      <script>\n",
              "        const buttonEl =\n",
              "          document.querySelector('#df-23c25fbf-032c-4c76-b1bc-35fc109dc38e button.colab-df-convert');\n",
              "        buttonEl.style.display =\n",
              "          google.colab.kernel.accessAllowed ? 'block' : 'none';\n",
              "\n",
              "        async function convertToInteractive(key) {\n",
              "          const element = document.querySelector('#df-23c25fbf-032c-4c76-b1bc-35fc109dc38e');\n",
              "          const dataTable =\n",
              "            await google.colab.kernel.invokeFunction('convertToInteractive',\n",
              "                                                     [key], {});\n",
              "          if (!dataTable) return;\n",
              "\n",
              "          const docLinkHtml = 'Like what you see? Visit the ' +\n",
              "            '<a target=\"_blank\" href=https://colab.research.google.com/notebooks/data_table.ipynb>data table notebook</a>'\n",
              "            + ' to learn more about interactive tables.';\n",
              "          element.innerHTML = '';\n",
              "          dataTable['output_type'] = 'display_data';\n",
              "          await google.colab.output.renderOutput(dataTable, element);\n",
              "          const docLink = document.createElement('div');\n",
              "          docLink.innerHTML = docLinkHtml;\n",
              "          element.appendChild(docLink);\n",
              "        }\n",
              "      </script>\n",
              "    </div>\n",
              "  </div>\n",
              "  "
            ]
          },
          "metadata": {},
          "execution_count": 5
        }
      ]
    },
    {
      "cell_type": "markdown",
      "source": [
        "- 7-7-7, 11-11-11과 같이 반복되는 데이터는 무엇일까...? 앱을 실행시켜 놓은 후 다른 앱을 실행하거나, 메신저등의 행동을 하고 온사람들...?\n",
        "- 어떻게 로그인 부터 안하고 다른 행동들을 먼저 시작하였는가"
      ],
      "metadata": {
        "id": "bA5Kadx-mBNl"
      }
    },
    {
      "cell_type": "markdown",
      "source": [
        "1. 핀다 사용해보면서 순서에 따라 행동을 정의해야 할 필요성\n",
        "2. 파생변수 :\n",
        "- 하루에 몇번 앱에 접속하였는지\n",
        "- 총 몇번 앱에 접속하였는지\n",
        "- 각 행동으로 넘어갈때 소요시간 (행동의 time_stamp - 그 다음 행동의 time_stamp) 그리고 이것들의 평균을 구한다음 가장 오래걸리는 행동 파악\n",
        "- 신규 사용자: 사용경험이 1회인 사용자\n",
        "- 재방문 사용자: 사용경험이 2회 이상인 사용자\n"
      ],
      "metadata": {
        "id": "l8WnoIzaqBMc"
      }
    },
    {
      "cell_type": "markdown",
      "source": [
        "- use_loanmanage : 대출관리서비스 이용 : is applied 가 1인지 확인하기 나중에\n",
        "- 신규 이용자와 기존 이용자 구분하기\n",
        "- 한도조회 서비스 이용 고객 : 1. sign up 2.open App 3.Login 4.ViewLoanApplyIntro 5. Start Loan Apply 6."
      ],
      "metadata": {
        "id": "yFvlGToufLYb"
      }
    },
    {
      "cell_type": "code",
      "source": [
        "- use_"
      ],
      "metadata": {
        "id": "I7T1H34la9ya"
      },
      "execution_count": null,
      "outputs": []
    }
  ]
}