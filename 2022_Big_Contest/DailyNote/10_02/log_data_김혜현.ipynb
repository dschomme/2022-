{
  "nbformat": 4,
  "nbformat_minor": 0,
  "metadata": {
    "colab": {
      "provenance": [],
      "collapsed_sections": [],
      "machine_shape": "hm"
    },
    "kernelspec": {
      "name": "python3",
      "display_name": "Python 3"
    },
    "language_info": {
      "name": "python"
    },
    "accelerator": "GPU",
    "gpuClass": "premium"
  },
  "cells": [
    {
      "cell_type": "markdown",
      "source": [
        "# 1. 라이브러리 및 패키지 불러오기"
      ],
      "metadata": {
        "id": "VBRWloYpMhAn"
      }
    },
    {
      "cell_type": "code",
      "execution_count": 28,
      "metadata": {
        "id": "_Tb9RsUqMWOv"
      },
      "outputs": [],
      "source": [
        "import numpy as np\n",
        "import pandas as pd\n",
        "import matplotlib.pyplot as plt\n",
        "%matplotlib inline\n",
        "import seaborn as sns"
      ]
    },
    {
      "cell_type": "markdown",
      "source": [
        "#2. 데이터 불러오기"
      ],
      "metadata": {
        "id": "ThDJrAL8MyfO"
      }
    },
    {
      "cell_type": "code",
      "source": [
        "log_data = pd.read_csv('/content/drive/MyDrive/2022_Bigcontest/Data/log_data.csv')\n",
        "log = log_data"
      ],
      "metadata": {
        "id": "KFhuySSRMxv8"
      },
      "execution_count": 29,
      "outputs": []
    },
    {
      "cell_type": "markdown",
      "source": [
        "# 3. 전처리"
      ],
      "metadata": {
        "id": "q3g_wN6PQTEs"
      }
    },
    {
      "cell_type": "markdown",
      "source": [
        "##1) mp_os\n",
        "- android os는 getcreditinfo행동밖에 없고, Android os는 getcreditinfo만 없으므로 합쳐주는게 맞다고 판단 android -> Android로 변환\n",
        "\n",
        "- 애플 제품에는 login이 없음 / 아이패드에는 여윳돈 계산 기능이 없는것인지 하지 않은 것인지 암튼 없음"
      ],
      "metadata": {
        "id": "-6m2Zub8agVs"
      }
    },
    {
      "cell_type": "code",
      "source": [
        "log.loc[list(log[log['mp_os']=='android'].index),'mp_os'] = 'Android'"
      ],
      "metadata": {
        "id": "iMTkJOS6QGvf"
      },
      "execution_count": 30,
      "outputs": []
    },
    {
      "cell_type": "code",
      "source": [
        "log.loc[list(log[log['mp_os']=='iPadOS'].index),'mp_os'] = 'iOS'"
      ],
      "metadata": {
        "id": "eB9xpaZZQo-N"
      },
      "execution_count": 31,
      "outputs": []
    },
    {
      "cell_type": "code",
      "source": [
        "# mp_os가 결측값이면 mp_app_version도 결측값임을 확인"
      ],
      "metadata": {
        "id": "ApjwfiAph6h9"
      },
      "execution_count": 32,
      "outputs": []
    },
    {
      "cell_type": "markdown",
      "source": [
        "## 2) timestamp"
      ],
      "metadata": {
        "id": "HekwHqUYTQcQ"
      }
    },
    {
      "cell_type": "code",
      "source": [
        "def extract_month(date):\n",
        "    month = str(date.month)\n",
        "    if date.month < 10:\n",
        "        month = '0' + month\n",
        "    return str(date.year) + month "
      ],
      "metadata": {
        "id": "B2DgQk4hTc2A"
      },
      "execution_count": 33,
      "outputs": []
    },
    {
      "cell_type": "code",
      "source": [
        "log['timestamp'] = pd.to_datetime(log['timestamp'], infer_datetime_format=True)"
      ],
      "metadata": {
        "id": "do-YDTPxmimT"
      },
      "execution_count": 34,
      "outputs": []
    },
    {
      "cell_type": "code",
      "source": [
        "month_ = log.set_index('timestamp').groupby(extract_month)"
      ],
      "metadata": {
        "id": "tqdrYBg2h6kI"
      },
      "execution_count": 35,
      "outputs": []
    },
    {
      "cell_type": "markdown",
      "source": [
        "# 3) 고객이탈"
      ],
      "metadata": {
        "id": "m1TpST6pmXnS"
      }
    },
    {
      "cell_type": "code",
      "source": [
        "log.head()"
      ],
      "metadata": {
        "colab": {
          "base_uri": "https://localhost:8080/",
          "height": 206
        },
        "id": "RRqRous3ePMn",
        "outputId": "ee773384-effb-4043-cc5f-8f13152d3c1d"
      },
      "execution_count": 36,
      "outputs": [
        {
          "output_type": "execute_result",
          "data": {
            "text/plain": [
              "   user_id               event           timestamp    mp_os mp_app_version  \\\n",
              "0   576409      StartLoanApply 2022-03-25 11:12:09  Android          3.8.2   \n",
              "1   576409  ViewLoanApplyIntro 2022-03-25 11:12:09  Android          3.8.2   \n",
              "2    72878        EndLoanApply 2022-03-25 11:14:44  Android          3.8.4   \n",
              "3   645317             OpenApp 2022-03-25 11:15:09      iOS          3.6.1   \n",
              "4   645317       UseLoanManage 2022-03-25 11:15:11      iOS          3.6.1   \n",
              "\n",
              "      date_cd  \n",
              "0  2022-03-25  \n",
              "1  2022-03-25  \n",
              "2  2022-03-25  \n",
              "3  2022-03-25  \n",
              "4  2022-03-25  "
            ],
            "text/html": [
              "\n",
              "  <div id=\"df-02c0cbda-ed3a-4746-8e50-67e280d20fb7\">\n",
              "    <div class=\"colab-df-container\">\n",
              "      <div>\n",
              "<style scoped>\n",
              "    .dataframe tbody tr th:only-of-type {\n",
              "        vertical-align: middle;\n",
              "    }\n",
              "\n",
              "    .dataframe tbody tr th {\n",
              "        vertical-align: top;\n",
              "    }\n",
              "\n",
              "    .dataframe thead th {\n",
              "        text-align: right;\n",
              "    }\n",
              "</style>\n",
              "<table border=\"1\" class=\"dataframe\">\n",
              "  <thead>\n",
              "    <tr style=\"text-align: right;\">\n",
              "      <th></th>\n",
              "      <th>user_id</th>\n",
              "      <th>event</th>\n",
              "      <th>timestamp</th>\n",
              "      <th>mp_os</th>\n",
              "      <th>mp_app_version</th>\n",
              "      <th>date_cd</th>\n",
              "    </tr>\n",
              "  </thead>\n",
              "  <tbody>\n",
              "    <tr>\n",
              "      <th>0</th>\n",
              "      <td>576409</td>\n",
              "      <td>StartLoanApply</td>\n",
              "      <td>2022-03-25 11:12:09</td>\n",
              "      <td>Android</td>\n",
              "      <td>3.8.2</td>\n",
              "      <td>2022-03-25</td>\n",
              "    </tr>\n",
              "    <tr>\n",
              "      <th>1</th>\n",
              "      <td>576409</td>\n",
              "      <td>ViewLoanApplyIntro</td>\n",
              "      <td>2022-03-25 11:12:09</td>\n",
              "      <td>Android</td>\n",
              "      <td>3.8.2</td>\n",
              "      <td>2022-03-25</td>\n",
              "    </tr>\n",
              "    <tr>\n",
              "      <th>2</th>\n",
              "      <td>72878</td>\n",
              "      <td>EndLoanApply</td>\n",
              "      <td>2022-03-25 11:14:44</td>\n",
              "      <td>Android</td>\n",
              "      <td>3.8.4</td>\n",
              "      <td>2022-03-25</td>\n",
              "    </tr>\n",
              "    <tr>\n",
              "      <th>3</th>\n",
              "      <td>645317</td>\n",
              "      <td>OpenApp</td>\n",
              "      <td>2022-03-25 11:15:09</td>\n",
              "      <td>iOS</td>\n",
              "      <td>3.6.1</td>\n",
              "      <td>2022-03-25</td>\n",
              "    </tr>\n",
              "    <tr>\n",
              "      <th>4</th>\n",
              "      <td>645317</td>\n",
              "      <td>UseLoanManage</td>\n",
              "      <td>2022-03-25 11:15:11</td>\n",
              "      <td>iOS</td>\n",
              "      <td>3.6.1</td>\n",
              "      <td>2022-03-25</td>\n",
              "    </tr>\n",
              "  </tbody>\n",
              "</table>\n",
              "</div>\n",
              "      <button class=\"colab-df-convert\" onclick=\"convertToInteractive('df-02c0cbda-ed3a-4746-8e50-67e280d20fb7')\"\n",
              "              title=\"Convert this dataframe to an interactive table.\"\n",
              "              style=\"display:none;\">\n",
              "        \n",
              "  <svg xmlns=\"http://www.w3.org/2000/svg\" height=\"24px\"viewBox=\"0 0 24 24\"\n",
              "       width=\"24px\">\n",
              "    <path d=\"M0 0h24v24H0V0z\" fill=\"none\"/>\n",
              "    <path d=\"M18.56 5.44l.94 2.06.94-2.06 2.06-.94-2.06-.94-.94-2.06-.94 2.06-2.06.94zm-11 1L8.5 8.5l.94-2.06 2.06-.94-2.06-.94L8.5 2.5l-.94 2.06-2.06.94zm10 10l.94 2.06.94-2.06 2.06-.94-2.06-.94-.94-2.06-.94 2.06-2.06.94z\"/><path d=\"M17.41 7.96l-1.37-1.37c-.4-.4-.92-.59-1.43-.59-.52 0-1.04.2-1.43.59L10.3 9.45l-7.72 7.72c-.78.78-.78 2.05 0 2.83L4 21.41c.39.39.9.59 1.41.59.51 0 1.02-.2 1.41-.59l7.78-7.78 2.81-2.81c.8-.78.8-2.07 0-2.86zM5.41 20L4 18.59l7.72-7.72 1.47 1.35L5.41 20z\"/>\n",
              "  </svg>\n",
              "      </button>\n",
              "      \n",
              "  <style>\n",
              "    .colab-df-container {\n",
              "      display:flex;\n",
              "      flex-wrap:wrap;\n",
              "      gap: 12px;\n",
              "    }\n",
              "\n",
              "    .colab-df-convert {\n",
              "      background-color: #E8F0FE;\n",
              "      border: none;\n",
              "      border-radius: 50%;\n",
              "      cursor: pointer;\n",
              "      display: none;\n",
              "      fill: #1967D2;\n",
              "      height: 32px;\n",
              "      padding: 0 0 0 0;\n",
              "      width: 32px;\n",
              "    }\n",
              "\n",
              "    .colab-df-convert:hover {\n",
              "      background-color: #E2EBFA;\n",
              "      box-shadow: 0px 1px 2px rgba(60, 64, 67, 0.3), 0px 1px 3px 1px rgba(60, 64, 67, 0.15);\n",
              "      fill: #174EA6;\n",
              "    }\n",
              "\n",
              "    [theme=dark] .colab-df-convert {\n",
              "      background-color: #3B4455;\n",
              "      fill: #D2E3FC;\n",
              "    }\n",
              "\n",
              "    [theme=dark] .colab-df-convert:hover {\n",
              "      background-color: #434B5C;\n",
              "      box-shadow: 0px 1px 3px 1px rgba(0, 0, 0, 0.15);\n",
              "      filter: drop-shadow(0px 1px 2px rgba(0, 0, 0, 0.3));\n",
              "      fill: #FFFFFF;\n",
              "    }\n",
              "  </style>\n",
              "\n",
              "      <script>\n",
              "        const buttonEl =\n",
              "          document.querySelector('#df-02c0cbda-ed3a-4746-8e50-67e280d20fb7 button.colab-df-convert');\n",
              "        buttonEl.style.display =\n",
              "          google.colab.kernel.accessAllowed ? 'block' : 'none';\n",
              "\n",
              "        async function convertToInteractive(key) {\n",
              "          const element = document.querySelector('#df-02c0cbda-ed3a-4746-8e50-67e280d20fb7');\n",
              "          const dataTable =\n",
              "            await google.colab.kernel.invokeFunction('convertToInteractive',\n",
              "                                                     [key], {});\n",
              "          if (!dataTable) return;\n",
              "\n",
              "          const docLinkHtml = 'Like what you see? Visit the ' +\n",
              "            '<a target=\"_blank\" href=https://colab.research.google.com/notebooks/data_table.ipynb>data table notebook</a>'\n",
              "            + ' to learn more about interactive tables.';\n",
              "          element.innerHTML = '';\n",
              "          dataTable['output_type'] = 'display_data';\n",
              "          await google.colab.output.renderOutput(dataTable, element);\n",
              "          const docLink = document.createElement('div');\n",
              "          docLink.innerHTML = docLinkHtml;\n",
              "          element.appendChild(docLink);\n",
              "        }\n",
              "      </script>\n",
              "    </div>\n",
              "  </div>\n",
              "  "
            ]
          },
          "metadata": {},
          "execution_count": 36
        }
      ]
    },
    {
      "cell_type": "code",
      "source": [
        "funnel_dict = {'StartLoanApply' : 1, 'UseLoanManage': 2, 'UsePrepayCalc': 3, 'UseDSRCalc': 4, 'GetCreditInfo':5}\n",
        "funnel_steps = pd.DataFrame.from_dict(funnel_dict, orient='index', columns=['step_no'])\n",
        "funnel_steps"
      ],
      "metadata": {
        "colab": {
          "base_uri": "https://localhost:8080/",
          "height": 206
        },
        "id": "5aCMOmCwGxFv",
        "outputId": "35adb095-735f-4db4-c09e-03239885a796"
      },
      "execution_count": 62,
      "outputs": [
        {
          "output_type": "execute_result",
          "data": {
            "text/plain": [
              "                step_no\n",
              "StartLoanApply        1\n",
              "UseLoanManage         2\n",
              "UsePrepayCalc         3\n",
              "UseDSRCalc            4\n",
              "GetCreditInfo         5"
            ],
            "text/html": [
              "\n",
              "  <div id=\"df-84864b8f-0bc6-4632-a96d-b4a793096b64\">\n",
              "    <div class=\"colab-df-container\">\n",
              "      <div>\n",
              "<style scoped>\n",
              "    .dataframe tbody tr th:only-of-type {\n",
              "        vertical-align: middle;\n",
              "    }\n",
              "\n",
              "    .dataframe tbody tr th {\n",
              "        vertical-align: top;\n",
              "    }\n",
              "\n",
              "    .dataframe thead th {\n",
              "        text-align: right;\n",
              "    }\n",
              "</style>\n",
              "<table border=\"1\" class=\"dataframe\">\n",
              "  <thead>\n",
              "    <tr style=\"text-align: right;\">\n",
              "      <th></th>\n",
              "      <th>step_no</th>\n",
              "    </tr>\n",
              "  </thead>\n",
              "  <tbody>\n",
              "    <tr>\n",
              "      <th>StartLoanApply</th>\n",
              "      <td>1</td>\n",
              "    </tr>\n",
              "    <tr>\n",
              "      <th>UseLoanManage</th>\n",
              "      <td>2</td>\n",
              "    </tr>\n",
              "    <tr>\n",
              "      <th>UsePrepayCalc</th>\n",
              "      <td>3</td>\n",
              "    </tr>\n",
              "    <tr>\n",
              "      <th>UseDSRCalc</th>\n",
              "      <td>4</td>\n",
              "    </tr>\n",
              "    <tr>\n",
              "      <th>GetCreditInfo</th>\n",
              "      <td>5</td>\n",
              "    </tr>\n",
              "  </tbody>\n",
              "</table>\n",
              "</div>\n",
              "      <button class=\"colab-df-convert\" onclick=\"convertToInteractive('df-84864b8f-0bc6-4632-a96d-b4a793096b64')\"\n",
              "              title=\"Convert this dataframe to an interactive table.\"\n",
              "              style=\"display:none;\">\n",
              "        \n",
              "  <svg xmlns=\"http://www.w3.org/2000/svg\" height=\"24px\"viewBox=\"0 0 24 24\"\n",
              "       width=\"24px\">\n",
              "    <path d=\"M0 0h24v24H0V0z\" fill=\"none\"/>\n",
              "    <path d=\"M18.56 5.44l.94 2.06.94-2.06 2.06-.94-2.06-.94-.94-2.06-.94 2.06-2.06.94zm-11 1L8.5 8.5l.94-2.06 2.06-.94-2.06-.94L8.5 2.5l-.94 2.06-2.06.94zm10 10l.94 2.06.94-2.06 2.06-.94-2.06-.94-.94-2.06-.94 2.06-2.06.94z\"/><path d=\"M17.41 7.96l-1.37-1.37c-.4-.4-.92-.59-1.43-.59-.52 0-1.04.2-1.43.59L10.3 9.45l-7.72 7.72c-.78.78-.78 2.05 0 2.83L4 21.41c.39.39.9.59 1.41.59.51 0 1.02-.2 1.41-.59l7.78-7.78 2.81-2.81c.8-.78.8-2.07 0-2.86zM5.41 20L4 18.59l7.72-7.72 1.47 1.35L5.41 20z\"/>\n",
              "  </svg>\n",
              "      </button>\n",
              "      \n",
              "  <style>\n",
              "    .colab-df-container {\n",
              "      display:flex;\n",
              "      flex-wrap:wrap;\n",
              "      gap: 12px;\n",
              "    }\n",
              "\n",
              "    .colab-df-convert {\n",
              "      background-color: #E8F0FE;\n",
              "      border: none;\n",
              "      border-radius: 50%;\n",
              "      cursor: pointer;\n",
              "      display: none;\n",
              "      fill: #1967D2;\n",
              "      height: 32px;\n",
              "      padding: 0 0 0 0;\n",
              "      width: 32px;\n",
              "    }\n",
              "\n",
              "    .colab-df-convert:hover {\n",
              "      background-color: #E2EBFA;\n",
              "      box-shadow: 0px 1px 2px rgba(60, 64, 67, 0.3), 0px 1px 3px 1px rgba(60, 64, 67, 0.15);\n",
              "      fill: #174EA6;\n",
              "    }\n",
              "\n",
              "    [theme=dark] .colab-df-convert {\n",
              "      background-color: #3B4455;\n",
              "      fill: #D2E3FC;\n",
              "    }\n",
              "\n",
              "    [theme=dark] .colab-df-convert:hover {\n",
              "      background-color: #434B5C;\n",
              "      box-shadow: 0px 1px 3px 1px rgba(0, 0, 0, 0.15);\n",
              "      filter: drop-shadow(0px 1px 2px rgba(0, 0, 0, 0.3));\n",
              "      fill: #FFFFFF;\n",
              "    }\n",
              "  </style>\n",
              "\n",
              "      <script>\n",
              "        const buttonEl =\n",
              "          document.querySelector('#df-84864b8f-0bc6-4632-a96d-b4a793096b64 button.colab-df-convert');\n",
              "        buttonEl.style.display =\n",
              "          google.colab.kernel.accessAllowed ? 'block' : 'none';\n",
              "\n",
              "        async function convertToInteractive(key) {\n",
              "          const element = document.querySelector('#df-84864b8f-0bc6-4632-a96d-b4a793096b64');\n",
              "          const dataTable =\n",
              "            await google.colab.kernel.invokeFunction('convertToInteractive',\n",
              "                                                     [key], {});\n",
              "          if (!dataTable) return;\n",
              "\n",
              "          const docLinkHtml = 'Like what you see? Visit the ' +\n",
              "            '<a target=\"_blank\" href=https://colab.research.google.com/notebooks/data_table.ipynb>data table notebook</a>'\n",
              "            + ' to learn more about interactive tables.';\n",
              "          element.innerHTML = '';\n",
              "          dataTable['output_type'] = 'display_data';\n",
              "          await google.colab.output.renderOutput(dataTable, element);\n",
              "          const docLink = document.createElement('div');\n",
              "          docLink.innerHTML = docLinkHtml;\n",
              "          element.appendChild(docLink);\n",
              "        }\n",
              "      </script>\n",
              "    </div>\n",
              "  </div>\n",
              "  "
            ]
          },
          "metadata": {},
          "execution_count": 62
        }
      ]
    },
    {
      "cell_type": "code",
      "source": [
        "grouped = log.groupby(['user_id', 'event'])['timestamp'].agg(np.min)\n",
        "grouped = pd.DataFrame(grouped).merge(funnel_steps, left_on='event', right_index=True)\n",
        "grouped.tail()"
      ],
      "metadata": {
        "colab": {
          "base_uri": "https://localhost:8080/",
          "height": 237
        },
        "id": "CSxabr4fG9Ab",
        "outputId": "99fa0006-1882-4472-c94e-bdee65e6616b"
      },
      "execution_count": 91,
      "outputs": [
        {
          "output_type": "execute_result",
          "data": {
            "text/plain": [
              "                             timestamp  step_no\n",
              "user_id event                                  \n",
              "878796  UseDSRCalc 2022-04-05 21:48:33        4\n",
              "878870  UseDSRCalc 2022-04-22 18:54:29        4\n",
              "879287  UseDSRCalc 2022-04-05 17:30:02        4\n",
              "879399  UseDSRCalc 2022-03-03 18:20:50        4\n",
              "879667  UseDSRCalc 2022-03-24 13:57:56        4"
            ],
            "text/html": [
              "\n",
              "  <div id=\"df-c13fc085-6c5e-4676-a2fc-e1cb0b008ec7\">\n",
              "    <div class=\"colab-df-container\">\n",
              "      <div>\n",
              "<style scoped>\n",
              "    .dataframe tbody tr th:only-of-type {\n",
              "        vertical-align: middle;\n",
              "    }\n",
              "\n",
              "    .dataframe tbody tr th {\n",
              "        vertical-align: top;\n",
              "    }\n",
              "\n",
              "    .dataframe thead th {\n",
              "        text-align: right;\n",
              "    }\n",
              "</style>\n",
              "<table border=\"1\" class=\"dataframe\">\n",
              "  <thead>\n",
              "    <tr style=\"text-align: right;\">\n",
              "      <th></th>\n",
              "      <th></th>\n",
              "      <th>timestamp</th>\n",
              "      <th>step_no</th>\n",
              "    </tr>\n",
              "    <tr>\n",
              "      <th>user_id</th>\n",
              "      <th>event</th>\n",
              "      <th></th>\n",
              "      <th></th>\n",
              "    </tr>\n",
              "  </thead>\n",
              "  <tbody>\n",
              "    <tr>\n",
              "      <th>878796</th>\n",
              "      <th>UseDSRCalc</th>\n",
              "      <td>2022-04-05 21:48:33</td>\n",
              "      <td>4</td>\n",
              "    </tr>\n",
              "    <tr>\n",
              "      <th>878870</th>\n",
              "      <th>UseDSRCalc</th>\n",
              "      <td>2022-04-22 18:54:29</td>\n",
              "      <td>4</td>\n",
              "    </tr>\n",
              "    <tr>\n",
              "      <th>879287</th>\n",
              "      <th>UseDSRCalc</th>\n",
              "      <td>2022-04-05 17:30:02</td>\n",
              "      <td>4</td>\n",
              "    </tr>\n",
              "    <tr>\n",
              "      <th>879399</th>\n",
              "      <th>UseDSRCalc</th>\n",
              "      <td>2022-03-03 18:20:50</td>\n",
              "      <td>4</td>\n",
              "    </tr>\n",
              "    <tr>\n",
              "      <th>879667</th>\n",
              "      <th>UseDSRCalc</th>\n",
              "      <td>2022-03-24 13:57:56</td>\n",
              "      <td>4</td>\n",
              "    </tr>\n",
              "  </tbody>\n",
              "</table>\n",
              "</div>\n",
              "      <button class=\"colab-df-convert\" onclick=\"convertToInteractive('df-c13fc085-6c5e-4676-a2fc-e1cb0b008ec7')\"\n",
              "              title=\"Convert this dataframe to an interactive table.\"\n",
              "              style=\"display:none;\">\n",
              "        \n",
              "  <svg xmlns=\"http://www.w3.org/2000/svg\" height=\"24px\"viewBox=\"0 0 24 24\"\n",
              "       width=\"24px\">\n",
              "    <path d=\"M0 0h24v24H0V0z\" fill=\"none\"/>\n",
              "    <path d=\"M18.56 5.44l.94 2.06.94-2.06 2.06-.94-2.06-.94-.94-2.06-.94 2.06-2.06.94zm-11 1L8.5 8.5l.94-2.06 2.06-.94-2.06-.94L8.5 2.5l-.94 2.06-2.06.94zm10 10l.94 2.06.94-2.06 2.06-.94-2.06-.94-.94-2.06-.94 2.06-2.06.94z\"/><path d=\"M17.41 7.96l-1.37-1.37c-.4-.4-.92-.59-1.43-.59-.52 0-1.04.2-1.43.59L10.3 9.45l-7.72 7.72c-.78.78-.78 2.05 0 2.83L4 21.41c.39.39.9.59 1.41.59.51 0 1.02-.2 1.41-.59l7.78-7.78 2.81-2.81c.8-.78.8-2.07 0-2.86zM5.41 20L4 18.59l7.72-7.72 1.47 1.35L5.41 20z\"/>\n",
              "  </svg>\n",
              "      </button>\n",
              "      \n",
              "  <style>\n",
              "    .colab-df-container {\n",
              "      display:flex;\n",
              "      flex-wrap:wrap;\n",
              "      gap: 12px;\n",
              "    }\n",
              "\n",
              "    .colab-df-convert {\n",
              "      background-color: #E8F0FE;\n",
              "      border: none;\n",
              "      border-radius: 50%;\n",
              "      cursor: pointer;\n",
              "      display: none;\n",
              "      fill: #1967D2;\n",
              "      height: 32px;\n",
              "      padding: 0 0 0 0;\n",
              "      width: 32px;\n",
              "    }\n",
              "\n",
              "    .colab-df-convert:hover {\n",
              "      background-color: #E2EBFA;\n",
              "      box-shadow: 0px 1px 2px rgba(60, 64, 67, 0.3), 0px 1px 3px 1px rgba(60, 64, 67, 0.15);\n",
              "      fill: #174EA6;\n",
              "    }\n",
              "\n",
              "    [theme=dark] .colab-df-convert {\n",
              "      background-color: #3B4455;\n",
              "      fill: #D2E3FC;\n",
              "    }\n",
              "\n",
              "    [theme=dark] .colab-df-convert:hover {\n",
              "      background-color: #434B5C;\n",
              "      box-shadow: 0px 1px 3px 1px rgba(0, 0, 0, 0.15);\n",
              "      filter: drop-shadow(0px 1px 2px rgba(0, 0, 0, 0.3));\n",
              "      fill: #FFFFFF;\n",
              "    }\n",
              "  </style>\n",
              "\n",
              "      <script>\n",
              "        const buttonEl =\n",
              "          document.querySelector('#df-c13fc085-6c5e-4676-a2fc-e1cb0b008ec7 button.colab-df-convert');\n",
              "        buttonEl.style.display =\n",
              "          google.colab.kernel.accessAllowed ? 'block' : 'none';\n",
              "\n",
              "        async function convertToInteractive(key) {\n",
              "          const element = document.querySelector('#df-c13fc085-6c5e-4676-a2fc-e1cb0b008ec7');\n",
              "          const dataTable =\n",
              "            await google.colab.kernel.invokeFunction('convertToInteractive',\n",
              "                                                     [key], {});\n",
              "          if (!dataTable) return;\n",
              "\n",
              "          const docLinkHtml = 'Like what you see? Visit the ' +\n",
              "            '<a target=\"_blank\" href=https://colab.research.google.com/notebooks/data_table.ipynb>data table notebook</a>'\n",
              "            + ' to learn more about interactive tables.';\n",
              "          element.innerHTML = '';\n",
              "          dataTable['output_type'] = 'display_data';\n",
              "          await google.colab.output.renderOutput(dataTable, element);\n",
              "          const docLink = document.createElement('div');\n",
              "          docLink.innerHTML = docLinkHtml;\n",
              "          element.appendChild(docLink);\n",
              "        }\n",
              "      </script>\n",
              "    </div>\n",
              "  </div>\n",
              "  "
            ]
          },
          "metadata": {},
          "execution_count": 91
        }
      ]
    },
    {
      "cell_type": "code",
      "source": [
        "funnel = grouped.reset_index().pivot(index='user_id', columns='step_no', values='timestamp')\n",
        "funnel.columns = funnel_steps.index\n",
        "funnel"
      ],
      "metadata": {
        "colab": {
          "base_uri": "https://localhost:8080/",
          "height": 455
        },
        "id": "qMGVhM8MHiyP",
        "outputId": "f931054c-401b-45eb-9c25-508ca6d143d0"
      },
      "execution_count": 93,
      "outputs": [
        {
          "output_type": "execute_result",
          "data": {
            "text/plain": [
              "             StartLoanApply       UseLoanManage       UsePrepayCalc  \\\n",
              "user_id                                                               \n",
              "1                       NaT 2022-06-16 23:58:41                 NaT   \n",
              "7                       NaT                 NaT                 NaT   \n",
              "9                       NaT                 NaT                 NaT   \n",
              "11      2022-03-24 10:55:43 2022-03-24 10:54:08 2022-03-24 10:54:36   \n",
              "12      2022-03-14 01:13:21 2022-05-01 18:30:48                 NaT   \n",
              "...                     ...                 ...                 ...   \n",
              "879693  2022-05-13 11:29:49 2022-05-13 13:24:32                 NaT   \n",
              "879694  2022-03-31 20:07:23                 NaT                 NaT   \n",
              "879695  2022-05-27 12:48:32                 NaT                 NaT   \n",
              "879696                  NaT 2022-03-14 05:35:41                 NaT   \n",
              "879698  2022-05-24 22:33:32                 NaT                 NaT   \n",
              "\n",
              "        UseDSRCalc       GetCreditInfo  \n",
              "user_id                                 \n",
              "1              NaT 2022-05-03 14:52:28  \n",
              "7              NaT 2022-05-22 16:39:49  \n",
              "9              NaT 2022-05-21 23:37:58  \n",
              "11             NaT 2022-03-24 10:54:07  \n",
              "12             NaT 2022-05-01 18:30:42  \n",
              "...            ...                 ...  \n",
              "879693         NaT 2022-05-13 13:24:33  \n",
              "879694         NaT                 NaT  \n",
              "879695         NaT                 NaT  \n",
              "879696         NaT 2022-03-14 05:35:43  \n",
              "879698         NaT                 NaT  \n",
              "\n",
              "[517316 rows x 5 columns]"
            ],
            "text/html": [
              "\n",
              "  <div id=\"df-e142ccb1-5282-46fe-8934-f90a216356d0\">\n",
              "    <div class=\"colab-df-container\">\n",
              "      <div>\n",
              "<style scoped>\n",
              "    .dataframe tbody tr th:only-of-type {\n",
              "        vertical-align: middle;\n",
              "    }\n",
              "\n",
              "    .dataframe tbody tr th {\n",
              "        vertical-align: top;\n",
              "    }\n",
              "\n",
              "    .dataframe thead th {\n",
              "        text-align: right;\n",
              "    }\n",
              "</style>\n",
              "<table border=\"1\" class=\"dataframe\">\n",
              "  <thead>\n",
              "    <tr style=\"text-align: right;\">\n",
              "      <th></th>\n",
              "      <th>StartLoanApply</th>\n",
              "      <th>UseLoanManage</th>\n",
              "      <th>UsePrepayCalc</th>\n",
              "      <th>UseDSRCalc</th>\n",
              "      <th>GetCreditInfo</th>\n",
              "    </tr>\n",
              "    <tr>\n",
              "      <th>user_id</th>\n",
              "      <th></th>\n",
              "      <th></th>\n",
              "      <th></th>\n",
              "      <th></th>\n",
              "      <th></th>\n",
              "    </tr>\n",
              "  </thead>\n",
              "  <tbody>\n",
              "    <tr>\n",
              "      <th>1</th>\n",
              "      <td>NaT</td>\n",
              "      <td>2022-06-16 23:58:41</td>\n",
              "      <td>NaT</td>\n",
              "      <td>NaT</td>\n",
              "      <td>2022-05-03 14:52:28</td>\n",
              "    </tr>\n",
              "    <tr>\n",
              "      <th>7</th>\n",
              "      <td>NaT</td>\n",
              "      <td>NaT</td>\n",
              "      <td>NaT</td>\n",
              "      <td>NaT</td>\n",
              "      <td>2022-05-22 16:39:49</td>\n",
              "    </tr>\n",
              "    <tr>\n",
              "      <th>9</th>\n",
              "      <td>NaT</td>\n",
              "      <td>NaT</td>\n",
              "      <td>NaT</td>\n",
              "      <td>NaT</td>\n",
              "      <td>2022-05-21 23:37:58</td>\n",
              "    </tr>\n",
              "    <tr>\n",
              "      <th>11</th>\n",
              "      <td>2022-03-24 10:55:43</td>\n",
              "      <td>2022-03-24 10:54:08</td>\n",
              "      <td>2022-03-24 10:54:36</td>\n",
              "      <td>NaT</td>\n",
              "      <td>2022-03-24 10:54:07</td>\n",
              "    </tr>\n",
              "    <tr>\n",
              "      <th>12</th>\n",
              "      <td>2022-03-14 01:13:21</td>\n",
              "      <td>2022-05-01 18:30:48</td>\n",
              "      <td>NaT</td>\n",
              "      <td>NaT</td>\n",
              "      <td>2022-05-01 18:30:42</td>\n",
              "    </tr>\n",
              "    <tr>\n",
              "      <th>...</th>\n",
              "      <td>...</td>\n",
              "      <td>...</td>\n",
              "      <td>...</td>\n",
              "      <td>...</td>\n",
              "      <td>...</td>\n",
              "    </tr>\n",
              "    <tr>\n",
              "      <th>879693</th>\n",
              "      <td>2022-05-13 11:29:49</td>\n",
              "      <td>2022-05-13 13:24:32</td>\n",
              "      <td>NaT</td>\n",
              "      <td>NaT</td>\n",
              "      <td>2022-05-13 13:24:33</td>\n",
              "    </tr>\n",
              "    <tr>\n",
              "      <th>879694</th>\n",
              "      <td>2022-03-31 20:07:23</td>\n",
              "      <td>NaT</td>\n",
              "      <td>NaT</td>\n",
              "      <td>NaT</td>\n",
              "      <td>NaT</td>\n",
              "    </tr>\n",
              "    <tr>\n",
              "      <th>879695</th>\n",
              "      <td>2022-05-27 12:48:32</td>\n",
              "      <td>NaT</td>\n",
              "      <td>NaT</td>\n",
              "      <td>NaT</td>\n",
              "      <td>NaT</td>\n",
              "    </tr>\n",
              "    <tr>\n",
              "      <th>879696</th>\n",
              "      <td>NaT</td>\n",
              "      <td>2022-03-14 05:35:41</td>\n",
              "      <td>NaT</td>\n",
              "      <td>NaT</td>\n",
              "      <td>2022-03-14 05:35:43</td>\n",
              "    </tr>\n",
              "    <tr>\n",
              "      <th>879698</th>\n",
              "      <td>2022-05-24 22:33:32</td>\n",
              "      <td>NaT</td>\n",
              "      <td>NaT</td>\n",
              "      <td>NaT</td>\n",
              "      <td>NaT</td>\n",
              "    </tr>\n",
              "  </tbody>\n",
              "</table>\n",
              "<p>517316 rows × 5 columns</p>\n",
              "</div>\n",
              "      <button class=\"colab-df-convert\" onclick=\"convertToInteractive('df-e142ccb1-5282-46fe-8934-f90a216356d0')\"\n",
              "              title=\"Convert this dataframe to an interactive table.\"\n",
              "              style=\"display:none;\">\n",
              "        \n",
              "  <svg xmlns=\"http://www.w3.org/2000/svg\" height=\"24px\"viewBox=\"0 0 24 24\"\n",
              "       width=\"24px\">\n",
              "    <path d=\"M0 0h24v24H0V0z\" fill=\"none\"/>\n",
              "    <path d=\"M18.56 5.44l.94 2.06.94-2.06 2.06-.94-2.06-.94-.94-2.06-.94 2.06-2.06.94zm-11 1L8.5 8.5l.94-2.06 2.06-.94-2.06-.94L8.5 2.5l-.94 2.06-2.06.94zm10 10l.94 2.06.94-2.06 2.06-.94-2.06-.94-.94-2.06-.94 2.06-2.06.94z\"/><path d=\"M17.41 7.96l-1.37-1.37c-.4-.4-.92-.59-1.43-.59-.52 0-1.04.2-1.43.59L10.3 9.45l-7.72 7.72c-.78.78-.78 2.05 0 2.83L4 21.41c.39.39.9.59 1.41.59.51 0 1.02-.2 1.41-.59l7.78-7.78 2.81-2.81c.8-.78.8-2.07 0-2.86zM5.41 20L4 18.59l7.72-7.72 1.47 1.35L5.41 20z\"/>\n",
              "  </svg>\n",
              "      </button>\n",
              "      \n",
              "  <style>\n",
              "    .colab-df-container {\n",
              "      display:flex;\n",
              "      flex-wrap:wrap;\n",
              "      gap: 12px;\n",
              "    }\n",
              "\n",
              "    .colab-df-convert {\n",
              "      background-color: #E8F0FE;\n",
              "      border: none;\n",
              "      border-radius: 50%;\n",
              "      cursor: pointer;\n",
              "      display: none;\n",
              "      fill: #1967D2;\n",
              "      height: 32px;\n",
              "      padding: 0 0 0 0;\n",
              "      width: 32px;\n",
              "    }\n",
              "\n",
              "    .colab-df-convert:hover {\n",
              "      background-color: #E2EBFA;\n",
              "      box-shadow: 0px 1px 2px rgba(60, 64, 67, 0.3), 0px 1px 3px 1px rgba(60, 64, 67, 0.15);\n",
              "      fill: #174EA6;\n",
              "    }\n",
              "\n",
              "    [theme=dark] .colab-df-convert {\n",
              "      background-color: #3B4455;\n",
              "      fill: #D2E3FC;\n",
              "    }\n",
              "\n",
              "    [theme=dark] .colab-df-convert:hover {\n",
              "      background-color: #434B5C;\n",
              "      box-shadow: 0px 1px 3px 1px rgba(0, 0, 0, 0.15);\n",
              "      filter: drop-shadow(0px 1px 2px rgba(0, 0, 0, 0.3));\n",
              "      fill: #FFFFFF;\n",
              "    }\n",
              "  </style>\n",
              "\n",
              "      <script>\n",
              "        const buttonEl =\n",
              "          document.querySelector('#df-e142ccb1-5282-46fe-8934-f90a216356d0 button.colab-df-convert');\n",
              "        buttonEl.style.display =\n",
              "          google.colab.kernel.accessAllowed ? 'block' : 'none';\n",
              "\n",
              "        async function convertToInteractive(key) {\n",
              "          const element = document.querySelector('#df-e142ccb1-5282-46fe-8934-f90a216356d0');\n",
              "          const dataTable =\n",
              "            await google.colab.kernel.invokeFunction('convertToInteractive',\n",
              "                                                     [key], {});\n",
              "          if (!dataTable) return;\n",
              "\n",
              "          const docLinkHtml = 'Like what you see? Visit the ' +\n",
              "            '<a target=\"_blank\" href=https://colab.research.google.com/notebooks/data_table.ipynb>data table notebook</a>'\n",
              "            + ' to learn more about interactive tables.';\n",
              "          element.innerHTML = '';\n",
              "          dataTable['output_type'] = 'display_data';\n",
              "          await google.colab.output.renderOutput(dataTable, element);\n",
              "          const docLink = document.createElement('div');\n",
              "          docLink.innerHTML = docLinkHtml;\n",
              "          element.appendChild(docLink);\n",
              "        }\n",
              "      </script>\n",
              "    </div>\n",
              "  </div>\n",
              "  "
            ]
          },
          "metadata": {},
          "execution_count": 93
        }
      ]
    },
    {
      "cell_type": "code",
      "source": [
        "step_values = [funnel[index].notnull().sum() for index in funnel_steps.index]\n",
        "step_values"
      ],
      "metadata": {
        "colab": {
          "base_uri": "https://localhost:8080/"
        },
        "id": "orJmCRA1H2gX",
        "outputId": "72827735-9f17-4301-c1f8-08fbcebf02f5"
      },
      "execution_count": 94,
      "outputs": [
        {
          "output_type": "execute_result",
          "data": {
            "text/plain": [
              "[326555, 297468, 4486, 3619, 462609]"
            ]
          },
          "metadata": {},
          "execution_count": 94
        }
      ]
    },
    {
      "cell_type": "code",
      "source": [
        "def show_funnel(funnel_values, funnel_steps):\n",
        "    from plotly import graph_objects as go\n",
        "    \n",
        "    fig = go.Figure(go.Funnel(\n",
        "        y = funnel_steps,\n",
        "        x = funnel_values\n",
        "    ))\n",
        "    \n",
        "    fig.show()"
      ],
      "metadata": {
        "id": "mMNl1nSAH6f8"
      },
      "execution_count": 95,
      "outputs": []
    },
    {
      "cell_type": "code",
      "source": [
        "show_funnel(step_values, funnel_steps.index)"
      ],
      "metadata": {
        "colab": {
          "base_uri": "https://localhost:8080/",
          "height": 542
        },
        "id": "9vwceMKXH7y6",
        "outputId": "5b458516-366c-4805-a4c9-d37d1edc5057"
      },
      "execution_count": 96,
      "outputs": [
        {
          "output_type": "display_data",
          "data": {
            "text/html": [
              "<html>\n",
              "<head><meta charset=\"utf-8\" /></head>\n",
              "<body>\n",
              "    <div>            <script src=\"https://cdnjs.cloudflare.com/ajax/libs/mathjax/2.7.5/MathJax.js?config=TeX-AMS-MML_SVG\"></script><script type=\"text/javascript\">if (window.MathJax) {MathJax.Hub.Config({SVG: {font: \"STIX-Web\"}});}</script>                <script type=\"text/javascript\">window.PlotlyConfig = {MathJaxConfig: 'local'};</script>\n",
              "        <script src=\"https://cdn.plot.ly/plotly-2.8.3.min.js\"></script>                <div id=\"7324351d-089e-4993-827d-c1af7b74fd97\" class=\"plotly-graph-div\" style=\"height:525px; width:100%;\"></div>            <script type=\"text/javascript\">                                    window.PLOTLYENV=window.PLOTLYENV || {};                                    if (document.getElementById(\"7324351d-089e-4993-827d-c1af7b74fd97\")) {                    Plotly.newPlot(                        \"7324351d-089e-4993-827d-c1af7b74fd97\",                        [{\"x\":[326555,297468,4486,3619,462609],\"y\":[\"StartLoanApply\",\"UseLoanManage\",\"UsePrepayCalc\",\"UseDSRCalc\",\"GetCreditInfo\"],\"type\":\"funnel\"}],                        {\"template\":{\"data\":{\"bar\":[{\"error_x\":{\"color\":\"#2a3f5f\"},\"error_y\":{\"color\":\"#2a3f5f\"},\"marker\":{\"line\":{\"color\":\"#E5ECF6\",\"width\":0.5},\"pattern\":{\"fillmode\":\"overlay\",\"size\":10,\"solidity\":0.2}},\"type\":\"bar\"}],\"barpolar\":[{\"marker\":{\"line\":{\"color\":\"#E5ECF6\",\"width\":0.5},\"pattern\":{\"fillmode\":\"overlay\",\"size\":10,\"solidity\":0.2}},\"type\":\"barpolar\"}],\"carpet\":[{\"aaxis\":{\"endlinecolor\":\"#2a3f5f\",\"gridcolor\":\"white\",\"linecolor\":\"white\",\"minorgridcolor\":\"white\",\"startlinecolor\":\"#2a3f5f\"},\"baxis\":{\"endlinecolor\":\"#2a3f5f\",\"gridcolor\":\"white\",\"linecolor\":\"white\",\"minorgridcolor\":\"white\",\"startlinecolor\":\"#2a3f5f\"},\"type\":\"carpet\"}],\"choropleth\":[{\"colorbar\":{\"outlinewidth\":0,\"ticks\":\"\"},\"type\":\"choropleth\"}],\"contour\":[{\"colorbar\":{\"outlinewidth\":0,\"ticks\":\"\"},\"colorscale\":[[0.0,\"#0d0887\"],[0.1111111111111111,\"#46039f\"],[0.2222222222222222,\"#7201a8\"],[0.3333333333333333,\"#9c179e\"],[0.4444444444444444,\"#bd3786\"],[0.5555555555555556,\"#d8576b\"],[0.6666666666666666,\"#ed7953\"],[0.7777777777777778,\"#fb9f3a\"],[0.8888888888888888,\"#fdca26\"],[1.0,\"#f0f921\"]],\"type\":\"contour\"}],\"contourcarpet\":[{\"colorbar\":{\"outlinewidth\":0,\"ticks\":\"\"},\"type\":\"contourcarpet\"}],\"heatmap\":[{\"colorbar\":{\"outlinewidth\":0,\"ticks\":\"\"},\"colorscale\":[[0.0,\"#0d0887\"],[0.1111111111111111,\"#46039f\"],[0.2222222222222222,\"#7201a8\"],[0.3333333333333333,\"#9c179e\"],[0.4444444444444444,\"#bd3786\"],[0.5555555555555556,\"#d8576b\"],[0.6666666666666666,\"#ed7953\"],[0.7777777777777778,\"#fb9f3a\"],[0.8888888888888888,\"#fdca26\"],[1.0,\"#f0f921\"]],\"type\":\"heatmap\"}],\"heatmapgl\":[{\"colorbar\":{\"outlinewidth\":0,\"ticks\":\"\"},\"colorscale\":[[0.0,\"#0d0887\"],[0.1111111111111111,\"#46039f\"],[0.2222222222222222,\"#7201a8\"],[0.3333333333333333,\"#9c179e\"],[0.4444444444444444,\"#bd3786\"],[0.5555555555555556,\"#d8576b\"],[0.6666666666666666,\"#ed7953\"],[0.7777777777777778,\"#fb9f3a\"],[0.8888888888888888,\"#fdca26\"],[1.0,\"#f0f921\"]],\"type\":\"heatmapgl\"}],\"histogram\":[{\"marker\":{\"pattern\":{\"fillmode\":\"overlay\",\"size\":10,\"solidity\":0.2}},\"type\":\"histogram\"}],\"histogram2d\":[{\"colorbar\":{\"outlinewidth\":0,\"ticks\":\"\"},\"colorscale\":[[0.0,\"#0d0887\"],[0.1111111111111111,\"#46039f\"],[0.2222222222222222,\"#7201a8\"],[0.3333333333333333,\"#9c179e\"],[0.4444444444444444,\"#bd3786\"],[0.5555555555555556,\"#d8576b\"],[0.6666666666666666,\"#ed7953\"],[0.7777777777777778,\"#fb9f3a\"],[0.8888888888888888,\"#fdca26\"],[1.0,\"#f0f921\"]],\"type\":\"histogram2d\"}],\"histogram2dcontour\":[{\"colorbar\":{\"outlinewidth\":0,\"ticks\":\"\"},\"colorscale\":[[0.0,\"#0d0887\"],[0.1111111111111111,\"#46039f\"],[0.2222222222222222,\"#7201a8\"],[0.3333333333333333,\"#9c179e\"],[0.4444444444444444,\"#bd3786\"],[0.5555555555555556,\"#d8576b\"],[0.6666666666666666,\"#ed7953\"],[0.7777777777777778,\"#fb9f3a\"],[0.8888888888888888,\"#fdca26\"],[1.0,\"#f0f921\"]],\"type\":\"histogram2dcontour\"}],\"mesh3d\":[{\"colorbar\":{\"outlinewidth\":0,\"ticks\":\"\"},\"type\":\"mesh3d\"}],\"parcoords\":[{\"line\":{\"colorbar\":{\"outlinewidth\":0,\"ticks\":\"\"}},\"type\":\"parcoords\"}],\"pie\":[{\"automargin\":true,\"type\":\"pie\"}],\"scatter\":[{\"marker\":{\"colorbar\":{\"outlinewidth\":0,\"ticks\":\"\"}},\"type\":\"scatter\"}],\"scatter3d\":[{\"line\":{\"colorbar\":{\"outlinewidth\":0,\"ticks\":\"\"}},\"marker\":{\"colorbar\":{\"outlinewidth\":0,\"ticks\":\"\"}},\"type\":\"scatter3d\"}],\"scattercarpet\":[{\"marker\":{\"colorbar\":{\"outlinewidth\":0,\"ticks\":\"\"}},\"type\":\"scattercarpet\"}],\"scattergeo\":[{\"marker\":{\"colorbar\":{\"outlinewidth\":0,\"ticks\":\"\"}},\"type\":\"scattergeo\"}],\"scattergl\":[{\"marker\":{\"colorbar\":{\"outlinewidth\":0,\"ticks\":\"\"}},\"type\":\"scattergl\"}],\"scattermapbox\":[{\"marker\":{\"colorbar\":{\"outlinewidth\":0,\"ticks\":\"\"}},\"type\":\"scattermapbox\"}],\"scatterpolar\":[{\"marker\":{\"colorbar\":{\"outlinewidth\":0,\"ticks\":\"\"}},\"type\":\"scatterpolar\"}],\"scatterpolargl\":[{\"marker\":{\"colorbar\":{\"outlinewidth\":0,\"ticks\":\"\"}},\"type\":\"scatterpolargl\"}],\"scatterternary\":[{\"marker\":{\"colorbar\":{\"outlinewidth\":0,\"ticks\":\"\"}},\"type\":\"scatterternary\"}],\"surface\":[{\"colorbar\":{\"outlinewidth\":0,\"ticks\":\"\"},\"colorscale\":[[0.0,\"#0d0887\"],[0.1111111111111111,\"#46039f\"],[0.2222222222222222,\"#7201a8\"],[0.3333333333333333,\"#9c179e\"],[0.4444444444444444,\"#bd3786\"],[0.5555555555555556,\"#d8576b\"],[0.6666666666666666,\"#ed7953\"],[0.7777777777777778,\"#fb9f3a\"],[0.8888888888888888,\"#fdca26\"],[1.0,\"#f0f921\"]],\"type\":\"surface\"}],\"table\":[{\"cells\":{\"fill\":{\"color\":\"#EBF0F8\"},\"line\":{\"color\":\"white\"}},\"header\":{\"fill\":{\"color\":\"#C8D4E3\"},\"line\":{\"color\":\"white\"}},\"type\":\"table\"}]},\"layout\":{\"annotationdefaults\":{\"arrowcolor\":\"#2a3f5f\",\"arrowhead\":0,\"arrowwidth\":1},\"autotypenumbers\":\"strict\",\"coloraxis\":{\"colorbar\":{\"outlinewidth\":0,\"ticks\":\"\"}},\"colorscale\":{\"diverging\":[[0,\"#8e0152\"],[0.1,\"#c51b7d\"],[0.2,\"#de77ae\"],[0.3,\"#f1b6da\"],[0.4,\"#fde0ef\"],[0.5,\"#f7f7f7\"],[0.6,\"#e6f5d0\"],[0.7,\"#b8e186\"],[0.8,\"#7fbc41\"],[0.9,\"#4d9221\"],[1,\"#276419\"]],\"sequential\":[[0.0,\"#0d0887\"],[0.1111111111111111,\"#46039f\"],[0.2222222222222222,\"#7201a8\"],[0.3333333333333333,\"#9c179e\"],[0.4444444444444444,\"#bd3786\"],[0.5555555555555556,\"#d8576b\"],[0.6666666666666666,\"#ed7953\"],[0.7777777777777778,\"#fb9f3a\"],[0.8888888888888888,\"#fdca26\"],[1.0,\"#f0f921\"]],\"sequentialminus\":[[0.0,\"#0d0887\"],[0.1111111111111111,\"#46039f\"],[0.2222222222222222,\"#7201a8\"],[0.3333333333333333,\"#9c179e\"],[0.4444444444444444,\"#bd3786\"],[0.5555555555555556,\"#d8576b\"],[0.6666666666666666,\"#ed7953\"],[0.7777777777777778,\"#fb9f3a\"],[0.8888888888888888,\"#fdca26\"],[1.0,\"#f0f921\"]]},\"colorway\":[\"#636efa\",\"#EF553B\",\"#00cc96\",\"#ab63fa\",\"#FFA15A\",\"#19d3f3\",\"#FF6692\",\"#B6E880\",\"#FF97FF\",\"#FECB52\"],\"font\":{\"color\":\"#2a3f5f\"},\"geo\":{\"bgcolor\":\"white\",\"lakecolor\":\"white\",\"landcolor\":\"#E5ECF6\",\"showlakes\":true,\"showland\":true,\"subunitcolor\":\"white\"},\"hoverlabel\":{\"align\":\"left\"},\"hovermode\":\"closest\",\"mapbox\":{\"style\":\"light\"},\"paper_bgcolor\":\"white\",\"plot_bgcolor\":\"#E5ECF6\",\"polar\":{\"angularaxis\":{\"gridcolor\":\"white\",\"linecolor\":\"white\",\"ticks\":\"\"},\"bgcolor\":\"#E5ECF6\",\"radialaxis\":{\"gridcolor\":\"white\",\"linecolor\":\"white\",\"ticks\":\"\"}},\"scene\":{\"xaxis\":{\"backgroundcolor\":\"#E5ECF6\",\"gridcolor\":\"white\",\"gridwidth\":2,\"linecolor\":\"white\",\"showbackground\":true,\"ticks\":\"\",\"zerolinecolor\":\"white\"},\"yaxis\":{\"backgroundcolor\":\"#E5ECF6\",\"gridcolor\":\"white\",\"gridwidth\":2,\"linecolor\":\"white\",\"showbackground\":true,\"ticks\":\"\",\"zerolinecolor\":\"white\"},\"zaxis\":{\"backgroundcolor\":\"#E5ECF6\",\"gridcolor\":\"white\",\"gridwidth\":2,\"linecolor\":\"white\",\"showbackground\":true,\"ticks\":\"\",\"zerolinecolor\":\"white\"}},\"shapedefaults\":{\"line\":{\"color\":\"#2a3f5f\"}},\"ternary\":{\"aaxis\":{\"gridcolor\":\"white\",\"linecolor\":\"white\",\"ticks\":\"\"},\"baxis\":{\"gridcolor\":\"white\",\"linecolor\":\"white\",\"ticks\":\"\"},\"bgcolor\":\"#E5ECF6\",\"caxis\":{\"gridcolor\":\"white\",\"linecolor\":\"white\",\"ticks\":\"\"}},\"title\":{\"x\":0.05},\"xaxis\":{\"automargin\":true,\"gridcolor\":\"white\",\"linecolor\":\"white\",\"ticks\":\"\",\"title\":{\"standoff\":15},\"zerolinecolor\":\"white\",\"zerolinewidth\":2},\"yaxis\":{\"automargin\":true,\"gridcolor\":\"white\",\"linecolor\":\"white\",\"ticks\":\"\",\"title\":{\"standoff\":15},\"zerolinecolor\":\"white\",\"zerolinewidth\":2}}}},                        {\"responsive\": true}                    ).then(function(){\n",
              "                            \n",
              "var gd = document.getElementById('7324351d-089e-4993-827d-c1af7b74fd97');\n",
              "var x = new MutationObserver(function (mutations, observer) {{\n",
              "        var display = window.getComputedStyle(gd).display;\n",
              "        if (!display || display === 'none') {{\n",
              "            console.log([gd, 'removed!']);\n",
              "            Plotly.purge(gd);\n",
              "            observer.disconnect();\n",
              "        }}\n",
              "}});\n",
              "\n",
              "// Listen for the removal of the full notebook cells\n",
              "var notebookContainer = gd.closest('#notebook-container');\n",
              "if (notebookContainer) {{\n",
              "    x.observe(notebookContainer, {childList: true});\n",
              "}}\n",
              "\n",
              "// Listen for the clearing of the current output cell\n",
              "var outputEl = gd.closest('.output');\n",
              "if (outputEl) {{\n",
              "    x.observe(outputEl, {childList: true});\n",
              "}}\n",
              "\n",
              "                        })                };                            </script>        </div>\n",
              "</body>\n",
              "</html>"
            ]
          },
          "metadata": {}
        }
      ]
    },
    {
      "cell_type": "markdown",
      "source": [
        "![image.png](data:image/png;base64,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)"
      ],
      "metadata": {
        "id": "4QP-n2JYPmH7"
      }
    },
    {
      "cell_type": "code",
      "source": [
        "np.mean(funnel['UseLoanManage'] - funnel['StartLoanApply'])"
      ],
      "metadata": {
        "colab": {
          "base_uri": "https://localhost:8080/"
        },
        "id": "PIQ2fN8LH9CB",
        "outputId": "8fc397ce-0faa-4384-e102-f8a4f7a7a411"
      },
      "execution_count": 98,
      "outputs": [
        {
          "output_type": "execute_result",
          "data": {
            "text/plain": [
              "Timedelta('0 days 19:54:19.140679419')"
            ]
          },
          "metadata": {},
          "execution_count": 98
        }
      ]
    },
    {
      "cell_type": "code",
      "source": [
        "np.mean(funnel['StartLoanApply'] - funnel['GetCreditInfo'])"
      ],
      "metadata": {
        "colab": {
          "base_uri": "https://localhost:8080/"
        },
        "id": "G0lvRxjGOidh",
        "outputId": "a19fee92-38ea-43f7-888a-6971b1871251"
      },
      "execution_count": 99,
      "outputs": [
        {
          "output_type": "execute_result",
          "data": {
            "text/plain": [
              "Timedelta('2 days 22:36:50.205554841')"
            ]
          },
          "metadata": {},
          "execution_count": 99
        }
      ]
    },
    {
      "cell_type": "markdown",
      "source": [
        "#4.세션잡기"
      ],
      "metadata": {
        "id": "2K2YD4d1KD55"
      }
    },
    {
      "cell_type": "code",
      "source": [
        "relog = log.sort_values(by = ['user_id', 'timestamp'])"
      ],
      "metadata": {
        "id": "rvc51WbJKWB1"
      },
      "execution_count": 78,
      "outputs": []
    },
    {
      "cell_type": "code",
      "source": [
        "sample = relog[relog['event'].isin(['OpenApp', 'GetCreditInfo', 'UseLoanManage', 'UsePrepayCalc', 'ViewLoanApplyIntro', 'StartLoanApply','EndLoanApply', 'CompleteIDCertification', 'UseDSRCalc'])]"
      ],
      "metadata": {
        "id": "ZcojUvTJKWE1"
      },
      "execution_count": 83,
      "outputs": []
    },
    {
      "cell_type": "code",
      "source": [
        "sample = sample[['user_id', 'event', 'timestamp']]"
      ],
      "metadata": {
        "id": "1luSUpoYL046"
      },
      "execution_count": 85,
      "outputs": []
    },
    {
      "cell_type": "code",
      "source": [],
      "metadata": {
        "id": "mQTWdrftL9U3"
      },
      "execution_count": null,
      "outputs": []
    },
    {
      "cell_type": "code",
      "source": [],
      "metadata": {
        "id": "tAWBBnf4L9ZK"
      },
      "execution_count": null,
      "outputs": []
    },
    {
      "cell_type": "code",
      "source": [],
      "metadata": {
        "id": "iuVeV8qiL9cu"
      },
      "execution_count": null,
      "outputs": []
    },
    {
      "cell_type": "code",
      "source": [],
      "metadata": {
        "id": "amn7NaNkKVpI"
      },
      "execution_count": null,
      "outputs": []
    }
  ]
}