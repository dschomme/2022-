{
 "cells": [
  {
   "cell_type": "code",
   "execution_count": 1,
   "id": "ccf8219d",
   "metadata": {},
   "outputs": [],
   "source": [
    "# 패키지 설치\n",
    "import numpy as np\n",
    "import pandas as pd \n",
    "import matplotlib.pyplot as plt\n",
    "%matplotlib inline\n",
    "import seaborn as sns\n",
    "\n",
    "from sklearn.model_selection import cross_val_score\n",
    "from sklearn.metrics import roc_auc_score, roc_curve, precision_recall_curve, precision_score, recall_score, auc\n",
    "from sklearn.metrics import confusion_matrix, plot_confusion_matrix\n",
    "from sklearn.metrics import classification_report, accuracy_score, f1_score\n",
    "\n",
    "from bayes_opt import BayesianOptimization"
   ]
  },
  {
   "cell_type": "code",
   "execution_count": 2,
   "id": "a733d8aa",
   "metadata": {},
   "outputs": [],
   "source": [
    "import lightgbm\n",
    "from lightgbm import LGBMClassifier\n",
    "import warnings\n",
    "warnings.filterwarnings('ignore')"
   ]
  },
  {
   "cell_type": "code",
   "execution_count": 3,
   "id": "8ae11106",
   "metadata": {},
   "outputs": [],
   "source": [
    "from imblearn.under_sampling import RandomUnderSampler\n",
    "from collections import Counter\n",
    "from sklearn.model_selection import RandomizedSearchCV"
   ]
  },
  {
   "cell_type": "code",
   "execution_count": 4,
   "id": "b6de4a1b",
   "metadata": {},
   "outputs": [
    {
     "data": {
      "text/html": [
       "<div>\n",
       "<style scoped>\n",
       "    .dataframe tbody tr th:only-of-type {\n",
       "        vertical-align: middle;\n",
       "    }\n",
       "\n",
       "    .dataframe tbody tr th {\n",
       "        vertical-align: top;\n",
       "    }\n",
       "\n",
       "    .dataframe thead th {\n",
       "        text-align: right;\n",
       "    }\n",
       "</style>\n",
       "<table border=\"1\" class=\"dataframe\">\n",
       "  <thead>\n",
       "    <tr style=\"text-align: right;\">\n",
       "      <th></th>\n",
       "      <th>user_id</th>\n",
       "      <th>sum_applied</th>\n",
       "      <th>application_id</th>\n",
       "      <th>gender</th>\n",
       "      <th>insert_time</th>\n",
       "      <th>yearly_income</th>\n",
       "      <th>income_type</th>\n",
       "      <th>employment_type</th>\n",
       "      <th>houseown_type</th>\n",
       "      <th>desired_amount</th>\n",
       "      <th>...</th>\n",
       "      <th>is_applied</th>\n",
       "      <th>weekday</th>\n",
       "      <th>loanapply_insert_hour</th>\n",
       "      <th>bank_apply_rate</th>\n",
       "      <th>product_apply_rate</th>\n",
       "      <th>cluster2</th>\n",
       "      <th>action_cnt</th>\n",
       "      <th>use_day_cnt</th>\n",
       "      <th>first_event</th>\n",
       "      <th>timeout_sum(s)</th>\n",
       "    </tr>\n",
       "  </thead>\n",
       "  <tbody>\n",
       "    <tr>\n",
       "      <th>0</th>\n",
       "      <td>545882.0</td>\n",
       "      <td>8.0</td>\n",
       "      <td>576643</td>\n",
       "      <td>1.0</td>\n",
       "      <td>2022-05-09 10:54:51</td>\n",
       "      <td>72000000.0</td>\n",
       "      <td>직장가입자(4대보험O)</td>\n",
       "      <td>정규직</td>\n",
       "      <td>전월세</td>\n",
       "      <td>20000000.0</td>\n",
       "      <td>...</td>\n",
       "      <td>0.0</td>\n",
       "      <td>0</td>\n",
       "      <td>10</td>\n",
       "      <td>0.042501</td>\n",
       "      <td>0.050284</td>\n",
       "      <td>0</td>\n",
       "      <td>41.913806</td>\n",
       "      <td>5.765978</td>\n",
       "      <td>CompleteIDCertification</td>\n",
       "      <td>67.997282</td>\n",
       "    </tr>\n",
       "    <tr>\n",
       "      <th>1</th>\n",
       "      <td>545882.0</td>\n",
       "      <td>8.0</td>\n",
       "      <td>576643</td>\n",
       "      <td>1.0</td>\n",
       "      <td>2022-05-09 10:54:51</td>\n",
       "      <td>72000000.0</td>\n",
       "      <td>직장가입자(4대보험O)</td>\n",
       "      <td>정규직</td>\n",
       "      <td>전월세</td>\n",
       "      <td>20000000.0</td>\n",
       "      <td>...</td>\n",
       "      <td>0.0</td>\n",
       "      <td>0</td>\n",
       "      <td>10</td>\n",
       "      <td>0.017018</td>\n",
       "      <td>0.016149</td>\n",
       "      <td>0</td>\n",
       "      <td>41.913806</td>\n",
       "      <td>5.765978</td>\n",
       "      <td>CompleteIDCertification</td>\n",
       "      <td>67.997282</td>\n",
       "    </tr>\n",
       "    <tr>\n",
       "      <th>2</th>\n",
       "      <td>558819.0</td>\n",
       "      <td>5.0</td>\n",
       "      <td>2136706</td>\n",
       "      <td>1.0</td>\n",
       "      <td>2022-05-09 10:41:05</td>\n",
       "      <td>39000000.0</td>\n",
       "      <td>직장가입자(4대보험O)</td>\n",
       "      <td>정규직</td>\n",
       "      <td>전월세</td>\n",
       "      <td>80000000.0</td>\n",
       "      <td>...</td>\n",
       "      <td>0.0</td>\n",
       "      <td>0</td>\n",
       "      <td>10</td>\n",
       "      <td>0.024636</td>\n",
       "      <td>0.028622</td>\n",
       "      <td>0</td>\n",
       "      <td>41.913806</td>\n",
       "      <td>5.765978</td>\n",
       "      <td>CompleteIDCertification</td>\n",
       "      <td>67.997282</td>\n",
       "    </tr>\n",
       "    <tr>\n",
       "      <th>3</th>\n",
       "      <td>558819.0</td>\n",
       "      <td>5.0</td>\n",
       "      <td>2136706</td>\n",
       "      <td>1.0</td>\n",
       "      <td>2022-05-09 10:41:05</td>\n",
       "      <td>39000000.0</td>\n",
       "      <td>직장가입자(4대보험O)</td>\n",
       "      <td>정규직</td>\n",
       "      <td>전월세</td>\n",
       "      <td>80000000.0</td>\n",
       "      <td>...</td>\n",
       "      <td>0.0</td>\n",
       "      <td>0</td>\n",
       "      <td>10</td>\n",
       "      <td>0.021634</td>\n",
       "      <td>0.035367</td>\n",
       "      <td>0</td>\n",
       "      <td>41.913806</td>\n",
       "      <td>5.765978</td>\n",
       "      <td>CompleteIDCertification</td>\n",
       "      <td>67.997282</td>\n",
       "    </tr>\n",
       "    <tr>\n",
       "      <th>4</th>\n",
       "      <td>558819.0</td>\n",
       "      <td>5.0</td>\n",
       "      <td>2136706</td>\n",
       "      <td>1.0</td>\n",
       "      <td>2022-05-09 10:41:05</td>\n",
       "      <td>39000000.0</td>\n",
       "      <td>직장가입자(4대보험O)</td>\n",
       "      <td>정규직</td>\n",
       "      <td>전월세</td>\n",
       "      <td>80000000.0</td>\n",
       "      <td>...</td>\n",
       "      <td>0.0</td>\n",
       "      <td>0</td>\n",
       "      <td>10</td>\n",
       "      <td>0.027749</td>\n",
       "      <td>0.035265</td>\n",
       "      <td>4</td>\n",
       "      <td>41.913806</td>\n",
       "      <td>5.765978</td>\n",
       "      <td>CompleteIDCertification</td>\n",
       "      <td>67.997282</td>\n",
       "    </tr>\n",
       "  </tbody>\n",
       "</table>\n",
       "<p>5 rows × 34 columns</p>\n",
       "</div>"
      ],
      "text/plain": [
       "    user_id  sum_applied  application_id  gender          insert_time  \\\n",
       "0  545882.0          8.0          576643     1.0  2022-05-09 10:54:51   \n",
       "1  545882.0          8.0          576643     1.0  2022-05-09 10:54:51   \n",
       "2  558819.0          5.0         2136706     1.0  2022-05-09 10:41:05   \n",
       "3  558819.0          5.0         2136706     1.0  2022-05-09 10:41:05   \n",
       "4  558819.0          5.0         2136706     1.0  2022-05-09 10:41:05   \n",
       "\n",
       "   yearly_income   income_type employment_type houseown_type  desired_amount  \\\n",
       "0     72000000.0  직장가입자(4대보험O)             정규직           전월세      20000000.0   \n",
       "1     72000000.0  직장가입자(4대보험O)             정규직           전월세      20000000.0   \n",
       "2     39000000.0  직장가입자(4대보험O)             정규직           전월세      80000000.0   \n",
       "3     39000000.0  직장가입자(4대보험O)             정규직           전월세      80000000.0   \n",
       "4     39000000.0  직장가입자(4대보험O)             정규직           전월세      80000000.0   \n",
       "\n",
       "   ... is_applied  weekday  loanapply_insert_hour  bank_apply_rate  \\\n",
       "0  ...        0.0        0                     10         0.042501   \n",
       "1  ...        0.0        0                     10         0.017018   \n",
       "2  ...        0.0        0                     10         0.024636   \n",
       "3  ...        0.0        0                     10         0.021634   \n",
       "4  ...        0.0        0                     10         0.027749   \n",
       "\n",
       "   product_apply_rate  cluster2  action_cnt  use_day_cnt  \\\n",
       "0            0.050284         0   41.913806     5.765978   \n",
       "1            0.016149         0   41.913806     5.765978   \n",
       "2            0.028622         0   41.913806     5.765978   \n",
       "3            0.035367         0   41.913806     5.765978   \n",
       "4            0.035265         4   41.913806     5.765978   \n",
       "\n",
       "               first_event timeout_sum(s)  \n",
       "0  CompleteIDCertification      67.997282  \n",
       "1  CompleteIDCertification      67.997282  \n",
       "2  CompleteIDCertification      67.997282  \n",
       "3  CompleteIDCertification      67.997282  \n",
       "4  CompleteIDCertification      67.997282  \n",
       "\n",
       "[5 rows x 34 columns]"
      ]
     },
     "execution_count": 4,
     "metadata": {},
     "output_type": "execute_result"
    }
   ],
   "source": [
    "final_df = pd.read_csv('/Users/sungahwang/Desktop/BC_data/final.csv')\n",
    "final_df.head()"
   ]
  },
  {
   "cell_type": "code",
   "execution_count": 5,
   "id": "94d1c0e6",
   "metadata": {},
   "outputs": [],
   "source": [
    "final = final_df.drop(['user_id', 'application_id', 'insert_time', 'loanapply_insert_time'], axis = 1)"
   ]
  },
  {
   "cell_type": "code",
   "execution_count": 6,
   "id": "c5614648",
   "metadata": {},
   "outputs": [],
   "source": [
    "final['income_type'] = final['income_type'].astype('category')\n",
    "final['employment_type'] = final['employment_type'].astype('category')\n",
    "final['houseown_type'] = final['houseown_type'].astype('category')\n",
    "final['purpose'] = final['purpose'].astype('category')\n",
    "final['first_event'] = final['first_event'].astype('category')\n",
    "final['weekday'] = final['weekday'].astype('category')\n",
    "final['personal_rehabilitation_yn'] = final['personal_rehabilitation_yn'].astype('category')\n",
    "final['personal_rehabilitation_complete_yn'] = final['personal_rehabilitation_complete_yn'].astype('category')\n",
    "final['gender'] = final['gender'].astype('category')\n",
    "final['spec_clust'] = final['spec_clust'].astype('category')\n",
    "final['cluster2'] = final['cluster2'].astype('category')"
   ]
  },
  {
   "cell_type": "code",
   "execution_count": 7,
   "id": "8e2370a7",
   "metadata": {},
   "outputs": [],
   "source": [
    "final = pd.get_dummies(final)"
   ]
  },
  {
   "cell_type": "code",
   "execution_count": 8,
   "id": "008bd4c5",
   "metadata": {},
   "outputs": [],
   "source": [
    "final['yearly_income']=np.log(final['yearly_income'])\n",
    "final[\"desired_amount\"]=np.log(final[\"desired_amount\"])\n",
    "final[\"existing_loan_amt\"]=np.log(final[\"existing_loan_amt\"])"
   ]
  },
  {
   "cell_type": "code",
   "execution_count": 9,
   "id": "1189fda5",
   "metadata": {},
   "outputs": [],
   "source": [
    "final_train = final[final['is_applied'].notnull()]\n",
    "final_test = final[final['is_applied'].isnull()]"
   ]
  },
  {
   "cell_type": "code",
   "execution_count": 10,
   "id": "da5daee1",
   "metadata": {},
   "outputs": [],
   "source": [
    "data = final_train.drop('is_applied',axis=1)\n",
    "target = final_train['is_applied']"
   ]
  },
  {
   "cell_type": "code",
   "execution_count": 11,
   "id": "d1f464f4",
   "metadata": {},
   "outputs": [],
   "source": [
    "final_test_train = final_test.drop('is_applied',axis=1)"
   ]
  },
  {
   "cell_type": "code",
   "execution_count": 12,
   "id": "25c21ab4",
   "metadata": {},
   "outputs": [],
   "source": [
    "from sklearn.model_selection import train_test_split\n",
    "X_train, X_val, y_train, y_val = train_test_split(data, target, test_size=0.3, random_state=0)"
   ]
  },
  {
   "cell_type": "markdown",
   "id": "9e688d9b",
   "metadata": {},
   "source": [
    "# lgb + random search"
   ]
  },
  {
   "cell_type": "code",
   "execution_count": 13,
   "id": "d297f868",
   "metadata": {},
   "outputs": [],
   "source": [
    "parameters = {'num_leaves':[50, 60, 70], 'min_child_samples':[13,15,17],'max_depth':[15,20,25],\n",
    "             'learning_rate':[0.05,0.1,0.15], 'scale_pos_weight':[4,5,6,8]}"
   ]
  },
  {
   "cell_type": "code",
   "execution_count": 14,
   "id": "29e3bfe0",
   "metadata": {},
   "outputs": [],
   "source": [
    "lgb = LGBMClassifier()"
   ]
  },
  {
   "cell_type": "code",
   "execution_count": 15,
   "id": "a24ea5f2",
   "metadata": {},
   "outputs": [
    {
     "name": "stdout",
     "output_type": "stream",
     "text": [
      "{'scale_pos_weight': 4, 'num_leaves': 60, 'min_child_samples': 15, 'max_depth': 20, 'learning_rate': 0.15}\n"
     ]
    }
   ],
   "source": [
    "clf = RandomizedSearchCV(lgb, parameters, scoring='f1', n_iter=10)\n",
    "clf.fit(X = X_train, y = y_train)\n",
    "print(clf.best_params_)"
   ]
  },
  {
   "cell_type": "code",
   "execution_count": 16,
   "id": "3c1cd689",
   "metadata": {},
   "outputs": [],
   "source": [
    "lgb_param = LGBMClassifier(scale_pos_weight = 4, num_leaves = 70, min_child_samples = 13, max_depth = 25, learning_rate = 0.15)\n",
    "lgb_param.fit(X_train, y_train)\n",
    "lgb_param_preds = lgb_param.predict(X_val)"
   ]
  },
  {
   "cell_type": "code",
   "execution_count": 17,
   "id": "6f2714d7",
   "metadata": {},
   "outputs": [
    {
     "name": "stdout",
     "output_type": "stream",
     "text": [
      "f1 score : 0.4105\n",
      "accuracy: 0.9158\n",
      "precision: 0.3403\n",
      "recall: 0.5174\n",
      "roc_auc: 0.7285\n"
     ]
    }
   ],
   "source": [
    "#f1 score\n",
    "print('f1 score : {:0.4f}'.format(f1_score(y_val, lgb_param_preds)))\n",
    "#정확도\n",
    "print('accuracy: {:0.4f}'.format(accuracy_score(y_val, lgb_param_preds)))\n",
    "# 정밀도\n",
    "print('precision: {:0.4f}'.format(precision_score(y_val, lgb_param_preds)))\n",
    "#재현율\n",
    "print('recall: {:0.4f}'.format(recall_score(y_val,lgb_param_preds)))\n",
    "# ROC_AUC\n",
    "print('roc_auc: {:0.4f}'.format(roc_auc_score(y_val, lgb_param_preds)))"
   ]
  },
  {
   "cell_type": "markdown",
   "id": "eb4c9f2d",
   "metadata": {},
   "source": [
    "* 추가"
   ]
  },
  {
   "cell_type": "code",
   "execution_count": 18,
   "id": "48cadeed",
   "metadata": {},
   "outputs": [],
   "source": [
    "lgb_param = LGBMClassifier(scale_pos_weight = 4, n_estimators = 800,\n",
    "                           objective = 'binary', metric='f1',\n",
    "                           num_leaves = 72 ,\n",
    "                           min_child_samples = 12, max_depth = 25,\n",
    "                           learning_rate = 0.3)\n",
    "lgb_param.fit(X_train, y_train)\n",
    "lgb_param_preds = lgb_param.predict(X_val)"
   ]
  },
  {
   "cell_type": "code",
   "execution_count": 19,
   "id": "cb0b8275",
   "metadata": {},
   "outputs": [
    {
     "name": "stdout",
     "output_type": "stream",
     "text": [
      "f1 score : 0.4263\n",
      "accuracy: 0.9169\n",
      "precision: 0.3501\n",
      "recall: 0.5450\n",
      "roc_auc: 0.7421\n"
     ]
    }
   ],
   "source": [
    "#f1 score\n",
    "print('f1 score : {:0.4f}'.format(f1_score(y_val, lgb_param_preds)))\n",
    "#정확도\n",
    "print('accuracy: {:0.4f}'.format(accuracy_score(y_val, lgb_param_preds)))\n",
    "# 정밀도\n",
    "print('precision: {:0.4f}'.format(precision_score(y_val, lgb_param_preds)))\n",
    "#재현율\n",
    "print('recall: {:0.4f}'.format(recall_score(y_val,lgb_param_preds)))\n",
    "# ROC_AUC\n",
    "print('roc_auc: {:0.4f}'.format(roc_auc_score(y_val, lgb_param_preds)))"
   ]
  },
  {
   "cell_type": "code",
   "execution_count": 20,
   "id": "2b1830c5",
   "metadata": {},
   "outputs": [],
   "source": [
    "lgb_param = LGBMClassifier(scale_pos_weight = 4, n_estimators = 800,\n",
    "                           objective = 'binary', metric='f1',\n",
    "                           num_leaves = 72 ,\n",
    "                           min_child_samples = 12, max_depth = 25,\n",
    "                           learning_rate = 0.3)\n",
    "lgb_param.fit(X_train, y_train)\n",
    "lgb_param_preds = lgb_param.predict(X_train)"
   ]
  },
  {
   "cell_type": "code",
   "execution_count": 21,
   "id": "b95922b4",
   "metadata": {},
   "outputs": [
    {
     "name": "stdout",
     "output_type": "stream",
     "text": [
      "f1 score : 0.4592\n",
      "accuracy: 0.9215\n",
      "precision: 0.3766\n",
      "recall: 0.5884\n",
      "roc_auc: 0.7649\n"
     ]
    }
   ],
   "source": [
    "#f1 score\n",
    "print('f1 score : {:0.4f}'.format(f1_score(y_train, lgb_param_preds)))\n",
    "#정확도\n",
    "print('accuracy: {:0.4f}'.format(accuracy_score(y_train, lgb_param_preds)))\n",
    "# 정밀도\n",
    "print('precision: {:0.4f}'.format(precision_score(y_train, lgb_param_preds)))\n",
    "#재현율\n",
    "print('recall: {:0.4f}'.format(recall_score(y_train,lgb_param_preds)))\n",
    "# ROC_AUC\n",
    "print('roc_auc: {:0.4f}'.format(roc_auc_score(y_train, lgb_param_preds)))"
   ]
  },
  {
   "cell_type": "markdown",
   "id": "0072cc2c",
   "metadata": {},
   "source": [
    "# lgb + rus"
   ]
  },
  {
   "cell_type": "code",
   "execution_count": 22,
   "id": "256cc548",
   "metadata": {},
   "outputs": [],
   "source": [
    "rus = RandomUnderSampler(random_state= 42,sampling_strategy= {0:600000, 1:392199 })"
   ]
  },
  {
   "cell_type": "code",
   "execution_count": 23,
   "id": "62bda7d1",
   "metadata": {},
   "outputs": [
    {
     "name": "stdout",
     "output_type": "stream",
     "text": [
      "Counter({0.0: 600000, 1.0: 392199})\n"
     ]
    }
   ],
   "source": [
    "X_rus, y_rus = rus.fit_resample(X_train, y_train)\n",
    "print(Counter(y_rus))"
   ]
  },
  {
   "cell_type": "code",
   "execution_count": 24,
   "id": "be168023",
   "metadata": {},
   "outputs": [],
   "source": [
    "parameters2 = {'num_leaves':[80, 90, 100, 110, 120], 'min_child_samples':[8,10,12],'max_depth':[10,20,30],\n",
    "             'learning_rate':[0.1,0.15, 0.2, 0.25]}"
   ]
  },
  {
   "cell_type": "code",
   "execution_count": 25,
   "id": "13dff54f",
   "metadata": {},
   "outputs": [],
   "source": [
    "lgb = LGBMClassifier()"
   ]
  },
  {
   "cell_type": "code",
   "execution_count": 26,
   "id": "32024b31",
   "metadata": {},
   "outputs": [
    {
     "name": "stdout",
     "output_type": "stream",
     "text": [
      "{'num_leaves': 120, 'min_child_samples': 12, 'max_depth': 20, 'learning_rate': 0.25}\n"
     ]
    }
   ],
   "source": [
    "clf = RandomizedSearchCV(lgb, parameters2, scoring='f1',n_iter=10)\n",
    "clf.fit(X = X_rus, y = y_rus)\n",
    "print(clf.best_params_)"
   ]
  },
  {
   "cell_type": "code",
   "execution_count": 27,
   "id": "c3aedcd6",
   "metadata": {},
   "outputs": [],
   "source": [
    "lgb_param2 = LGBMClassifier(num_leaves = 110, min_child_samples = 10, max_depth = 30, learning_rate = 0.25)\n",
    "lgb_param2.fit(X_rus, y_rus)\n",
    "lgb_param_preds2 = lgb_param2.predict(X_val)"
   ]
  },
  {
   "cell_type": "code",
   "execution_count": 28,
   "id": "9fa51e30",
   "metadata": {},
   "outputs": [
    {
     "name": "stdout",
     "output_type": "stream",
     "text": [
      "f1 score : 0.3527\n",
      "accuracy: 0.8329\n",
      "precision: 0.2260\n",
      "recall: 0.8030\n",
      "roc_auc: 0.8189\n"
     ]
    }
   ],
   "source": [
    "#f1 score\n",
    "print('f1 score : {:0.4f}'.format(f1_score(y_val, lgb_param_preds2)))\n",
    "#정확도\n",
    "print('accuracy: {:0.4f}'.format(accuracy_score(y_val, lgb_param_preds2)))\n",
    "# 정밀도\n",
    "print('precision: {:0.4f}'.format(precision_score(y_val, lgb_param_preds2)))\n",
    "#재현율\n",
    "print('recall: {:0.4f}'.format(recall_score(y_val,lgb_param_preds2)))\n",
    "# ROC_AUC\n",
    "print('roc_auc: {:0.4f}'.format(roc_auc_score(y_val, lgb_param_preds2)))"
   ]
  },
  {
   "cell_type": "markdown",
   "id": "00c3064d",
   "metadata": {},
   "source": [
    "* 추가"
   ]
  },
  {
   "cell_type": "code",
   "execution_count": 29,
   "id": "f5418aaa",
   "metadata": {},
   "outputs": [],
   "source": [
    "lgb_param2 = LGBMClassifier(n_estimators = 1500, num_leaves = 110,\n",
    "                            objective = 'binary', metric='f1',\n",
    "                            min_child_samples = 12, max_depth = 28,\n",
    "                            learning_rate = 0.35)\n",
    "lgb_param2.fit(X_rus, y_rus)\n",
    "lgb_param_preds2 = lgb_param2.predict(X_val)"
   ]
  },
  {
   "cell_type": "code",
   "execution_count": 30,
   "id": "4ca05346",
   "metadata": {},
   "outputs": [
    {
     "name": "stdout",
     "output_type": "stream",
     "text": [
      "f1 score : 0.3630\n",
      "accuracy: 0.8412\n",
      "precision: 0.2349\n",
      "recall: 0.7981\n",
      "roc_auc: 0.8210\n"
     ]
    }
   ],
   "source": [
    "#f1 score\n",
    "print('f1 score : {:0.4f}'.format(f1_score(y_val, lgb_param_preds2)))\n",
    "#정확도\n",
    "print('accuracy: {:0.4f}'.format(accuracy_score(y_val, lgb_param_preds2)))\n",
    "# 정밀도\n",
    "print('precision: {:0.4f}'.format(precision_score(y_val, lgb_param_preds2)))\n",
    "#재현율\n",
    "print('recall: {:0.4f}'.format(recall_score(y_val,lgb_param_preds2)))\n",
    "# ROC_AUC\n",
    "print('roc_auc: {:0.4f}'.format(roc_auc_score(y_val, lgb_param_preds2)))"
   ]
  },
  {
   "cell_type": "code",
   "execution_count": 31,
   "id": "cf70df89",
   "metadata": {},
   "outputs": [],
   "source": [
    "lgb_param2 = LGBMClassifier(n_estimators = 1500, num_leaves = 110, objective = 'binary',\n",
    "                            metric='f1', min_child_samples = 12,\n",
    "                            max_depth = 28, learning_rate = 0.35)\n",
    "lgb_param2.fit(X_rus, y_rus)\n",
    "lgb_param_preds2 = lgb_param2.predict(X_train)"
   ]
  },
  {
   "cell_type": "code",
   "execution_count": 32,
   "id": "e4690721",
   "metadata": {},
   "outputs": [
    {
     "name": "stdout",
     "output_type": "stream",
     "text": [
      "f1 score : 0.4303\n",
      "accuracy: 0.8584\n",
      "precision: 0.2787\n",
      "recall: 0.9440\n",
      "roc_auc: 0.8986\n"
     ]
    }
   ],
   "source": [
    "#f1 score\n",
    "print('f1 score : {:0.4f}'.format(f1_score(y_train, lgb_param_preds2)))\n",
    "#정확도\n",
    "print('accuracy: {:0.4f}'.format(accuracy_score(y_train, lgb_param_preds2)))\n",
    "# 정밀도\n",
    "print('precision: {:0.4f}'.format(precision_score(y_train, lgb_param_preds2)))\n",
    "#재현율\n",
    "print('recall: {:0.4f}'.format(recall_score(y_train,lgb_param_preds2)))\n",
    "# ROC_AUC\n",
    "print('roc_auc: {:0.4f}'.format(roc_auc_score(y_train, lgb_param_preds2)))"
   ]
  },
  {
   "cell_type": "markdown",
   "id": "86308679",
   "metadata": {},
   "source": [
    "# lgb+ random search : Best"
   ]
  },
  {
   "cell_type": "code",
   "execution_count": 33,
   "id": "d5991ae4",
   "metadata": {},
   "outputs": [
    {
     "data": {
      "text/plain": [
       "array([1., 0., 0., ..., 0., 0., 0.])"
      ]
     },
     "execution_count": 33,
     "metadata": {},
     "output_type": "execute_result"
    }
   ],
   "source": [
    "lbg_preds_test = lgb_param.predict(final_test_train.to_numpy())\n",
    "lbg_preds_test"
   ]
  },
  {
   "cell_type": "code",
   "execution_count": 34,
   "id": "548886c9",
   "metadata": {},
   "outputs": [],
   "source": [
    "final_test.loc[(final_test['is_applied'].isnull()), 'is_applied'] = lbg_preds_test"
   ]
  },
  {
   "cell_type": "code",
   "execution_count": 35,
   "id": "2fde0144",
   "metadata": {},
   "outputs": [],
   "source": [
    "final_target = final_test['is_applied']"
   ]
  },
  {
   "cell_type": "markdown",
   "id": "c0fd3db7",
   "metadata": {},
   "source": [
    "# Dataset: application_id, product_id, 대출 여부(예측)"
   ]
  },
  {
   "cell_type": "code",
   "execution_count": 36,
   "id": "e1f30b3c",
   "metadata": {},
   "outputs": [],
   "source": [
    "final_test_df = final_df[final_df['is_applied'].isnull()]"
   ]
  },
  {
   "cell_type": "code",
   "execution_count": 37,
   "id": "c661e35f",
   "metadata": {},
   "outputs": [
    {
     "data": {
      "text/html": [
       "<div>\n",
       "<style scoped>\n",
       "    .dataframe tbody tr th:only-of-type {\n",
       "        vertical-align: middle;\n",
       "    }\n",
       "\n",
       "    .dataframe tbody tr th {\n",
       "        vertical-align: top;\n",
       "    }\n",
       "\n",
       "    .dataframe thead th {\n",
       "        text-align: right;\n",
       "    }\n",
       "</style>\n",
       "<table border=\"1\" class=\"dataframe\">\n",
       "  <thead>\n",
       "    <tr style=\"text-align: right;\">\n",
       "      <th></th>\n",
       "      <th>application_id</th>\n",
       "      <th>product_id</th>\n",
       "    </tr>\n",
       "  </thead>\n",
       "  <tbody>\n",
       "    <tr>\n",
       "      <th>9325995</th>\n",
       "      <td>1748340</td>\n",
       "      <td>191</td>\n",
       "    </tr>\n",
       "    <tr>\n",
       "      <th>9325996</th>\n",
       "      <td>1748340</td>\n",
       "      <td>169</td>\n",
       "    </tr>\n",
       "    <tr>\n",
       "      <th>9325997</th>\n",
       "      <td>1748340</td>\n",
       "      <td>7</td>\n",
       "    </tr>\n",
       "    <tr>\n",
       "      <th>9325998</th>\n",
       "      <td>1748340</td>\n",
       "      <td>268</td>\n",
       "    </tr>\n",
       "    <tr>\n",
       "      <th>9325999</th>\n",
       "      <td>1748340</td>\n",
       "      <td>118</td>\n",
       "    </tr>\n",
       "    <tr>\n",
       "      <th>...</th>\n",
       "      <td>...</td>\n",
       "      <td>...</td>\n",
       "    </tr>\n",
       "    <tr>\n",
       "      <th>12581472</th>\n",
       "      <td>1428218</td>\n",
       "      <td>200</td>\n",
       "    </tr>\n",
       "    <tr>\n",
       "      <th>12581473</th>\n",
       "      <td>1428218</td>\n",
       "      <td>7</td>\n",
       "    </tr>\n",
       "    <tr>\n",
       "      <th>12581474</th>\n",
       "      <td>1428218</td>\n",
       "      <td>257</td>\n",
       "    </tr>\n",
       "    <tr>\n",
       "      <th>12581475</th>\n",
       "      <td>1428218</td>\n",
       "      <td>110</td>\n",
       "    </tr>\n",
       "    <tr>\n",
       "      <th>12581476</th>\n",
       "      <td>1428218</td>\n",
       "      <td>194</td>\n",
       "    </tr>\n",
       "  </tbody>\n",
       "</table>\n",
       "<p>3255482 rows × 2 columns</p>\n",
       "</div>"
      ],
      "text/plain": [
       "          application_id  product_id\n",
       "9325995          1748340         191\n",
       "9325996          1748340         169\n",
       "9325997          1748340           7\n",
       "9325998          1748340         268\n",
       "9325999          1748340         118\n",
       "...                  ...         ...\n",
       "12581472         1428218         200\n",
       "12581473         1428218           7\n",
       "12581474         1428218         257\n",
       "12581475         1428218         110\n",
       "12581476         1428218         194\n",
       "\n",
       "[3255482 rows x 2 columns]"
      ]
     },
     "execution_count": 37,
     "metadata": {},
     "output_type": "execute_result"
    }
   ],
   "source": [
    "final_test_df = final_test_df[['application_id', 'product_id']]\n",
    "final_test_df"
   ]
  },
  {
   "cell_type": "code",
   "execution_count": 38,
   "id": "4e41e28a",
   "metadata": {},
   "outputs": [],
   "source": [
    "df_concat = pd.concat([final_test_df, final_target], axis=1)"
   ]
  },
  {
   "cell_type": "code",
   "execution_count": 39,
   "id": "6fce2ae0",
   "metadata": {},
   "outputs": [
    {
     "data": {
      "text/html": [
       "<div>\n",
       "<style scoped>\n",
       "    .dataframe tbody tr th:only-of-type {\n",
       "        vertical-align: middle;\n",
       "    }\n",
       "\n",
       "    .dataframe tbody tr th {\n",
       "        vertical-align: top;\n",
       "    }\n",
       "\n",
       "    .dataframe thead th {\n",
       "        text-align: right;\n",
       "    }\n",
       "</style>\n",
       "<table border=\"1\" class=\"dataframe\">\n",
       "  <thead>\n",
       "    <tr style=\"text-align: right;\">\n",
       "      <th></th>\n",
       "      <th>application_id</th>\n",
       "      <th>product_id</th>\n",
       "      <th>is_applied</th>\n",
       "    </tr>\n",
       "  </thead>\n",
       "  <tbody>\n",
       "    <tr>\n",
       "      <th>9325995</th>\n",
       "      <td>1748340</td>\n",
       "      <td>191</td>\n",
       "      <td>1.0</td>\n",
       "    </tr>\n",
       "    <tr>\n",
       "      <th>9325996</th>\n",
       "      <td>1748340</td>\n",
       "      <td>169</td>\n",
       "      <td>0.0</td>\n",
       "    </tr>\n",
       "    <tr>\n",
       "      <th>9325997</th>\n",
       "      <td>1748340</td>\n",
       "      <td>7</td>\n",
       "      <td>0.0</td>\n",
       "    </tr>\n",
       "    <tr>\n",
       "      <th>9325998</th>\n",
       "      <td>1748340</td>\n",
       "      <td>268</td>\n",
       "      <td>1.0</td>\n",
       "    </tr>\n",
       "    <tr>\n",
       "      <th>9325999</th>\n",
       "      <td>1748340</td>\n",
       "      <td>118</td>\n",
       "      <td>0.0</td>\n",
       "    </tr>\n",
       "    <tr>\n",
       "      <th>...</th>\n",
       "      <td>...</td>\n",
       "      <td>...</td>\n",
       "      <td>...</td>\n",
       "    </tr>\n",
       "    <tr>\n",
       "      <th>12581472</th>\n",
       "      <td>1428218</td>\n",
       "      <td>200</td>\n",
       "      <td>0.0</td>\n",
       "    </tr>\n",
       "    <tr>\n",
       "      <th>12581473</th>\n",
       "      <td>1428218</td>\n",
       "      <td>7</td>\n",
       "      <td>0.0</td>\n",
       "    </tr>\n",
       "    <tr>\n",
       "      <th>12581474</th>\n",
       "      <td>1428218</td>\n",
       "      <td>257</td>\n",
       "      <td>0.0</td>\n",
       "    </tr>\n",
       "    <tr>\n",
       "      <th>12581475</th>\n",
       "      <td>1428218</td>\n",
       "      <td>110</td>\n",
       "      <td>0.0</td>\n",
       "    </tr>\n",
       "    <tr>\n",
       "      <th>12581476</th>\n",
       "      <td>1428218</td>\n",
       "      <td>194</td>\n",
       "      <td>0.0</td>\n",
       "    </tr>\n",
       "  </tbody>\n",
       "</table>\n",
       "<p>3255482 rows × 3 columns</p>\n",
       "</div>"
      ],
      "text/plain": [
       "          application_id  product_id  is_applied\n",
       "9325995          1748340         191         1.0\n",
       "9325996          1748340         169         0.0\n",
       "9325997          1748340           7         0.0\n",
       "9325998          1748340         268         1.0\n",
       "9325999          1748340         118         0.0\n",
       "...                  ...         ...         ...\n",
       "12581472         1428218         200         0.0\n",
       "12581473         1428218           7         0.0\n",
       "12581474         1428218         257         0.0\n",
       "12581475         1428218         110         0.0\n",
       "12581476         1428218         194         0.0\n",
       "\n",
       "[3255482 rows x 3 columns]"
      ]
     },
     "execution_count": 39,
     "metadata": {},
     "output_type": "execute_result"
    }
   ],
   "source": [
    "df_concat"
   ]
  },
  {
   "cell_type": "code",
   "execution_count": 40,
   "id": "20d09e19",
   "metadata": {},
   "outputs": [],
   "source": [
    "df_concat.to_csv(\"/Users/sungahwang/Desktop/BC_data/lgb_test_target.csv\", index = False)"
   ]
  }
 ],
 "metadata": {
  "kernelspec": {
   "display_name": "Python 3 (ipykernel)",
   "language": "python",
   "name": "python3"
  },
  "language_info": {
   "codemirror_mode": {
    "name": "ipython",
    "version": 3
   },
   "file_extension": ".py",
   "mimetype": "text/x-python",
   "name": "python",
   "nbconvert_exporter": "python",
   "pygments_lexer": "ipython3",
   "version": "3.9.12"
  }
 },
 "nbformat": 4,
 "nbformat_minor": 5
}
