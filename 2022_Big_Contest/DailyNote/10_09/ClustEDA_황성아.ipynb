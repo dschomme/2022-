{
 "cells": [
  {
   "cell_type": "code",
   "execution_count": 1,
   "id": "854cf900",
   "metadata": {},
   "outputs": [],
   "source": [
    "import numpy as np\n",
    "import pandas as pd \n",
    "import matplotlib.pyplot as plt\n",
    "%matplotlib inline\n",
    "import seaborn as sns"
   ]
  },
  {
   "cell_type": "code",
   "execution_count": 4,
   "id": "6839f485",
   "metadata": {},
   "outputs": [
    {
     "data": {
      "text/html": [
       "<div>\n",
       "<style scoped>\n",
       "    .dataframe tbody tr th:only-of-type {\n",
       "        vertical-align: middle;\n",
       "    }\n",
       "\n",
       "    .dataframe tbody tr th {\n",
       "        vertical-align: top;\n",
       "    }\n",
       "\n",
       "    .dataframe thead th {\n",
       "        text-align: right;\n",
       "    }\n",
       "</style>\n",
       "<table border=\"1\" class=\"dataframe\">\n",
       "  <thead>\n",
       "    <tr style=\"text-align: right;\">\n",
       "      <th></th>\n",
       "      <th>application_id</th>\n",
       "      <th>user_id</th>\n",
       "      <th>gender</th>\n",
       "      <th>insert_time</th>\n",
       "      <th>yearly_income</th>\n",
       "      <th>income_type</th>\n",
       "      <th>employment_type</th>\n",
       "      <th>houseown_type</th>\n",
       "      <th>desired_amount</th>\n",
       "      <th>purpose</th>\n",
       "      <th>personal_rehabilitation_yn</th>\n",
       "      <th>personal_rehabilitation_complete_yn</th>\n",
       "      <th>existing_loan_cnt</th>\n",
       "      <th>existing_loan_amt</th>\n",
       "      <th>reage</th>\n",
       "      <th>career</th>\n",
       "      <th>credit_grade</th>\n",
       "      <th>Labels</th>\n",
       "    </tr>\n",
       "  </thead>\n",
       "  <tbody>\n",
       "    <tr>\n",
       "      <th>0</th>\n",
       "      <td>954900</td>\n",
       "      <td>553686</td>\n",
       "      <td>1.0</td>\n",
       "      <td>2022-06-07 14:29:03</td>\n",
       "      <td>30000000.0</td>\n",
       "      <td>개인사업자</td>\n",
       "      <td>정규직</td>\n",
       "      <td>기타가족소유</td>\n",
       "      <td>30000000.0</td>\n",
       "      <td>대환대출</td>\n",
       "      <td>0.0</td>\n",
       "      <td>1.0</td>\n",
       "      <td>1.0</td>\n",
       "      <td>27000000.0</td>\n",
       "      <td>50.0</td>\n",
       "      <td>16.0</td>\n",
       "      <td>3.0</td>\n",
       "      <td>1</td>\n",
       "    </tr>\n",
       "    <tr>\n",
       "      <th>1</th>\n",
       "      <td>137274</td>\n",
       "      <td>59516</td>\n",
       "      <td>1.0</td>\n",
       "      <td>2022-06-07 21:40:22</td>\n",
       "      <td>30000000.0</td>\n",
       "      <td>프리랜서</td>\n",
       "      <td>기타</td>\n",
       "      <td>기타가족소유</td>\n",
       "      <td>10000000.0</td>\n",
       "      <td>생활비</td>\n",
       "      <td>1.0</td>\n",
       "      <td>1.0</td>\n",
       "      <td>5.0</td>\n",
       "      <td>15000000.0</td>\n",
       "      <td>20.0</td>\n",
       "      <td>2.0</td>\n",
       "      <td>5.0</td>\n",
       "      <td>2</td>\n",
       "    </tr>\n",
       "    <tr>\n",
       "      <th>2</th>\n",
       "      <td>1570936</td>\n",
       "      <td>167320</td>\n",
       "      <td>1.0</td>\n",
       "      <td>2022-06-07 09:40:27</td>\n",
       "      <td>62000000.0</td>\n",
       "      <td>직장가입자(4대보험O)</td>\n",
       "      <td>정규직</td>\n",
       "      <td>자가</td>\n",
       "      <td>2000000.0</td>\n",
       "      <td>생활비</td>\n",
       "      <td>1.0</td>\n",
       "      <td>1.0</td>\n",
       "      <td>7.0</td>\n",
       "      <td>344000000.0</td>\n",
       "      <td>30.0</td>\n",
       "      <td>6.0</td>\n",
       "      <td>4.0</td>\n",
       "      <td>3</td>\n",
       "    </tr>\n",
       "    <tr>\n",
       "      <th>3</th>\n",
       "      <td>967833</td>\n",
       "      <td>33400</td>\n",
       "      <td>1.0</td>\n",
       "      <td>2022-06-07 08:55:07</td>\n",
       "      <td>36000000.0</td>\n",
       "      <td>직장가입자(4대보험O)</td>\n",
       "      <td>정규직</td>\n",
       "      <td>기타가족소유</td>\n",
       "      <td>5000000.0</td>\n",
       "      <td>생활비</td>\n",
       "      <td>0.0</td>\n",
       "      <td>0.0</td>\n",
       "      <td>1.0</td>\n",
       "      <td>16000000.0</td>\n",
       "      <td>20.0</td>\n",
       "      <td>2.0</td>\n",
       "      <td>6.0</td>\n",
       "      <td>2</td>\n",
       "    </tr>\n",
       "    <tr>\n",
       "      <th>4</th>\n",
       "      <td>1614045</td>\n",
       "      <td>860410</td>\n",
       "      <td>1.0</td>\n",
       "      <td>2022-06-07 11:29:05</td>\n",
       "      <td>45000000.0</td>\n",
       "      <td>기타소득</td>\n",
       "      <td>기타</td>\n",
       "      <td>자가</td>\n",
       "      <td>15000000.0</td>\n",
       "      <td>대환대출</td>\n",
       "      <td>1.0</td>\n",
       "      <td>0.0</td>\n",
       "      <td>1.0</td>\n",
       "      <td>20000000.0</td>\n",
       "      <td>40.0</td>\n",
       "      <td>6.0</td>\n",
       "      <td>7.0</td>\n",
       "      <td>4</td>\n",
       "    </tr>\n",
       "    <tr>\n",
       "      <th>...</th>\n",
       "      <td>...</td>\n",
       "      <td>...</td>\n",
       "      <td>...</td>\n",
       "      <td>...</td>\n",
       "      <td>...</td>\n",
       "      <td>...</td>\n",
       "      <td>...</td>\n",
       "      <td>...</td>\n",
       "      <td>...</td>\n",
       "      <td>...</td>\n",
       "      <td>...</td>\n",
       "      <td>...</td>\n",
       "      <td>...</td>\n",
       "      <td>...</td>\n",
       "      <td>...</td>\n",
       "      <td>...</td>\n",
       "      <td>...</td>\n",
       "      <td>...</td>\n",
       "    </tr>\n",
       "    <tr>\n",
       "      <th>968748</th>\n",
       "      <td>1864587</td>\n",
       "      <td>489900</td>\n",
       "      <td>1.0</td>\n",
       "      <td>2022-03-22 14:55:32</td>\n",
       "      <td>25000000.0</td>\n",
       "      <td>프리랜서</td>\n",
       "      <td>기타</td>\n",
       "      <td>기타가족소유</td>\n",
       "      <td>5000000.0</td>\n",
       "      <td>사업자금</td>\n",
       "      <td>0.0</td>\n",
       "      <td>0.0</td>\n",
       "      <td>0.0</td>\n",
       "      <td>0.0</td>\n",
       "      <td>20.0</td>\n",
       "      <td>2.0</td>\n",
       "      <td>7.0</td>\n",
       "      <td>0</td>\n",
       "    </tr>\n",
       "    <tr>\n",
       "      <th>968749</th>\n",
       "      <td>1327066</td>\n",
       "      <td>151422</td>\n",
       "      <td>1.0</td>\n",
       "      <td>2022-03-22 01:19:24</td>\n",
       "      <td>20000000.0</td>\n",
       "      <td>기타소득</td>\n",
       "      <td>기타</td>\n",
       "      <td>자가</td>\n",
       "      <td>50000000.0</td>\n",
       "      <td>생활비</td>\n",
       "      <td>0.0</td>\n",
       "      <td>1.0</td>\n",
       "      <td>1.0</td>\n",
       "      <td>43500000.0</td>\n",
       "      <td>60.0</td>\n",
       "      <td>6.0</td>\n",
       "      <td>1.0</td>\n",
       "      <td>1</td>\n",
       "    </tr>\n",
       "    <tr>\n",
       "      <th>968750</th>\n",
       "      <td>1319606</td>\n",
       "      <td>173524</td>\n",
       "      <td>1.0</td>\n",
       "      <td>2022-03-22 07:34:32</td>\n",
       "      <td>75000000.0</td>\n",
       "      <td>직장가입자(4대보험O)</td>\n",
       "      <td>정규직</td>\n",
       "      <td>자가</td>\n",
       "      <td>100000000.0</td>\n",
       "      <td>대환대출</td>\n",
       "      <td>1.0</td>\n",
       "      <td>1.0</td>\n",
       "      <td>8.0</td>\n",
       "      <td>200000000.0</td>\n",
       "      <td>40.0</td>\n",
       "      <td>14.0</td>\n",
       "      <td>5.0</td>\n",
       "      <td>3</td>\n",
       "    </tr>\n",
       "    <tr>\n",
       "      <th>968751</th>\n",
       "      <td>1482466</td>\n",
       "      <td>766546</td>\n",
       "      <td>1.0</td>\n",
       "      <td>2022-03-22 22:12:35</td>\n",
       "      <td>50000000.0</td>\n",
       "      <td>직장가입자(4대보험O)</td>\n",
       "      <td>정규직</td>\n",
       "      <td>자가</td>\n",
       "      <td>10000000.0</td>\n",
       "      <td>대환대출</td>\n",
       "      <td>0.0</td>\n",
       "      <td>1.0</td>\n",
       "      <td>10.0</td>\n",
       "      <td>117000000.0</td>\n",
       "      <td>40.0</td>\n",
       "      <td>6.0</td>\n",
       "      <td>6.0</td>\n",
       "      <td>3</td>\n",
       "    </tr>\n",
       "    <tr>\n",
       "      <th>968752</th>\n",
       "      <td>816537</td>\n",
       "      <td>3864</td>\n",
       "      <td>0.0</td>\n",
       "      <td>2022-03-22 08:55:14</td>\n",
       "      <td>35000000.0</td>\n",
       "      <td>프리랜서</td>\n",
       "      <td>기타</td>\n",
       "      <td>자가</td>\n",
       "      <td>20000000.0</td>\n",
       "      <td>생활비</td>\n",
       "      <td>0.0</td>\n",
       "      <td>0.0</td>\n",
       "      <td>0.0</td>\n",
       "      <td>0.0</td>\n",
       "      <td>40.0</td>\n",
       "      <td>12.0</td>\n",
       "      <td>5.0</td>\n",
       "      <td>0</td>\n",
       "    </tr>\n",
       "  </tbody>\n",
       "</table>\n",
       "<p>968753 rows × 18 columns</p>\n",
       "</div>"
      ],
      "text/plain": [
       "        application_id  user_id  gender          insert_time  yearly_income  \\\n",
       "0               954900   553686     1.0  2022-06-07 14:29:03     30000000.0   \n",
       "1               137274    59516     1.0  2022-06-07 21:40:22     30000000.0   \n",
       "2              1570936   167320     1.0  2022-06-07 09:40:27     62000000.0   \n",
       "3               967833    33400     1.0  2022-06-07 08:55:07     36000000.0   \n",
       "4              1614045   860410     1.0  2022-06-07 11:29:05     45000000.0   \n",
       "...                ...      ...     ...                  ...            ...   \n",
       "968748         1864587   489900     1.0  2022-03-22 14:55:32     25000000.0   \n",
       "968749         1327066   151422     1.0  2022-03-22 01:19:24     20000000.0   \n",
       "968750         1319606   173524     1.0  2022-03-22 07:34:32     75000000.0   \n",
       "968751         1482466   766546     1.0  2022-03-22 22:12:35     50000000.0   \n",
       "968752          816537     3864     0.0  2022-03-22 08:55:14     35000000.0   \n",
       "\n",
       "         income_type employment_type houseown_type  desired_amount purpose  \\\n",
       "0              개인사업자             정규직        기타가족소유      30000000.0    대환대출   \n",
       "1               프리랜서              기타        기타가족소유      10000000.0     생활비   \n",
       "2       직장가입자(4대보험O)             정규직            자가       2000000.0     생활비   \n",
       "3       직장가입자(4대보험O)             정규직        기타가족소유       5000000.0     생활비   \n",
       "4               기타소득              기타            자가      15000000.0    대환대출   \n",
       "...              ...             ...           ...             ...     ...   \n",
       "968748          프리랜서              기타        기타가족소유       5000000.0    사업자금   \n",
       "968749          기타소득              기타            자가      50000000.0     생활비   \n",
       "968750  직장가입자(4대보험O)             정규직            자가     100000000.0    대환대출   \n",
       "968751  직장가입자(4대보험O)             정규직            자가      10000000.0    대환대출   \n",
       "968752          프리랜서              기타            자가      20000000.0     생활비   \n",
       "\n",
       "        personal_rehabilitation_yn  personal_rehabilitation_complete_yn  \\\n",
       "0                              0.0                                  1.0   \n",
       "1                              1.0                                  1.0   \n",
       "2                              1.0                                  1.0   \n",
       "3                              0.0                                  0.0   \n",
       "4                              1.0                                  0.0   \n",
       "...                            ...                                  ...   \n",
       "968748                         0.0                                  0.0   \n",
       "968749                         0.0                                  1.0   \n",
       "968750                         1.0                                  1.0   \n",
       "968751                         0.0                                  1.0   \n",
       "968752                         0.0                                  0.0   \n",
       "\n",
       "        existing_loan_cnt  existing_loan_amt  reage  career  credit_grade  \\\n",
       "0                     1.0         27000000.0   50.0    16.0           3.0   \n",
       "1                     5.0         15000000.0   20.0     2.0           5.0   \n",
       "2                     7.0        344000000.0   30.0     6.0           4.0   \n",
       "3                     1.0         16000000.0   20.0     2.0           6.0   \n",
       "4                     1.0         20000000.0   40.0     6.0           7.0   \n",
       "...                   ...                ...    ...     ...           ...   \n",
       "968748                0.0                0.0   20.0     2.0           7.0   \n",
       "968749                1.0         43500000.0   60.0     6.0           1.0   \n",
       "968750                8.0        200000000.0   40.0    14.0           5.0   \n",
       "968751               10.0        117000000.0   40.0     6.0           6.0   \n",
       "968752                0.0                0.0   40.0    12.0           5.0   \n",
       "\n",
       "        Labels  \n",
       "0            1  \n",
       "1            2  \n",
       "2            3  \n",
       "3            2  \n",
       "4            4  \n",
       "...        ...  \n",
       "968748       0  \n",
       "968749       1  \n",
       "968750       3  \n",
       "968751       3  \n",
       "968752       0  \n",
       "\n",
       "[968753 rows x 18 columns]"
      ]
     },
     "execution_count": 4,
     "metadata": {},
     "output_type": "execute_result"
    }
   ],
   "source": [
    "# 데이터 불러오기\n",
    "data = pd.read_csv('/Users/sungahwang/Desktop/BigContest_data/respec_final_clust.csv')\n",
    "data"
   ]
  },
  {
   "cell_type": "code",
   "execution_count": 5,
   "id": "02018996",
   "metadata": {},
   "outputs": [],
   "source": [
    "cluster1 = data[data['Labels']==0]\n",
    "cluster2 = data[data['Labels']==1]\n",
    "cluster3 = data[data['Labels']==2]\n",
    "cluster4 = data[data['Labels']==3]\n",
    "cluster5 = data[data['Labels']==4]\n",
    "cluster6 = data[data['Labels']==5]"
   ]
  },
  {
   "cell_type": "code",
   "execution_count": 6,
   "id": "94d79caf",
   "metadata": {},
   "outputs": [
    {
     "name": "stdout",
     "output_type": "stream",
     "text": [
      "4 250380\n",
      "2 210714\n",
      "1 207102\n",
      "3 150786\n",
      "0 149771\n"
     ]
    },
    {
     "data": {
      "image/png": "[encoded data removed]",
      "text/plain": [
       "<Figure size 640x480 with 1 Axes>"
      ]
     },
     "metadata": {},
     "output_type": "display_data"
    }
   ],
   "source": [
    "ax=sns.countplot(x=data.Labels)\n",
    "for index, row in pd.DataFrame(data['Labels'].value_counts()).iterrows():\n",
    "    ax.text(index,row.values[0], str(round(row.values[0])),color='black', ha=\"center\")\n",
    "    print(index,row.values[0])\n",
    "plt.title('Cluster Count')\n",
    "plt.show()"
   ]
  },
  {
   "cell_type": "code",
   "execution_count": 8,
   "id": "7aeee8dc",
   "metadata": {},
   "outputs": [
    {
     "data": {
      "text/plain": [
       "<AxesSubplot:xlabel='Labels', ylabel='credit_grade'>"
      ]
     },
     "execution_count": 8,
     "metadata": {},
     "output_type": "execute_result"
    },
    {
     "data": {
      "image/png": "[encoded data removed]",
      "text/plain": [
       "<Figure size 640x480 with 1 Axes>"
      ]
     },
     "metadata": {},
     "output_type": "display_data"
    }
   ],
   "source": [
    "sns.boxplot(y=data[\"credit_grade\"], x=data[\"Labels\"])"
   ]
  },
  {
   "cell_type": "code",
   "execution_count": 11,
   "id": "b2d0d3cb",
   "metadata": {},
   "outputs": [
    {
     "name": "stderr",
     "output_type": "stream",
     "text": [
      "/opt/homebrew/lib/python3.9/site-packages/pandas/core/arraylike.py:397: RuntimeWarning: divide by zero encountered in log\n",
      "  result = getattr(ufunc, method)(*inputs, **kwargs)\n"
     ]
    }
   ],
   "source": [
    "data['yearly_income']=np.log(data['yearly_income'])"
   ]
  },
  {
   "cell_type": "code",
   "execution_count": 12,
   "id": "076eda51",
   "metadata": {},
   "outputs": [
    {
     "data": {
      "text/plain": [
       "<AxesSubplot:xlabel='Labels', ylabel='yearly_income'>"
      ]
     },
     "execution_count": 12,
     "metadata": {},
     "output_type": "execute_result"
    },
    {
     "data": {
      "image/png": "[encoded data removed]",
      "text/plain": [
       "<Figure size 640x480 with 1 Axes>"
      ]
     },
     "metadata": {},
     "output_type": "display_data"
    }
   ],
   "source": [
    "sns.boxplot(y=data[\"yearly_income\"], x=data[\"Labels\"])"
   ]
  },
  {
   "cell_type": "code",
   "execution_count": 15,
   "id": "e44bbd6f",
   "metadata": {},
   "outputs": [
    {
     "name": "stderr",
     "output_type": "stream",
     "text": [
      "/opt/homebrew/lib/python3.9/site-packages/pandas/core/arraylike.py:397: RuntimeWarning: divide by zero encountered in log\n",
      "  result = getattr(ufunc, method)(*inputs, **kwargs)\n"
     ]
    }
   ],
   "source": [
    "data['desired_amount']=np.log(data['desired_amount'])"
   ]
  },
  {
   "cell_type": "code",
   "execution_count": 16,
   "id": "daf73328",
   "metadata": {},
   "outputs": [
    {
     "data": {
      "text/plain": [
       "<AxesSubplot:xlabel='Labels', ylabel='desired_amount'>"
      ]
     },
     "execution_count": 16,
     "metadata": {},
     "output_type": "execute_result"
    },
    {
     "data": {
      "image/png": "[encoded data removed]",
      "text/plain": [
       "<Figure size 640x480 with 1 Axes>"
      ]
     },
     "metadata": {},
     "output_type": "display_data"
    }
   ],
   "source": [
    "sns.boxplot(y=data[\"desired_amount\"], x=data[\"Labels\"])"
   ]
  }
 ],
 "metadata": {
  "kernelspec": {
   "display_name": "Python 3 (ipykernel)",
   "language": "python",
   "name": "python3"
  },
  "language_info": {
   "codemirror_mode": {
    "name": "ipython",
    "version": 3
   },
   "file_extension": ".py",
   "mimetype": "text/x-python",
   "name": "python",
   "nbconvert_exporter": "python",
   "pygments_lexer": "ipython3",
   "version": "3.9.12"
  }
 },
 "nbformat": 4,
 "nbformat_minor": 5
}
