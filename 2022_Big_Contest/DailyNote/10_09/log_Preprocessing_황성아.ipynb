{
 "cells": [
  {
   "cell_type": "code",
   "execution_count": 1,
   "id": "405ae005",
   "metadata": {},
   "outputs": [],
   "source": [
    "import numpy as np\n",
    "import pandas as pd \n",
    "import matplotlib.pyplot as plt\n",
    "%matplotlib inline\n",
    "import seaborn as sns"
   ]
  },
  {
   "cell_type": "code",
   "execution_count": 2,
   "id": "91df4c06",
   "metadata": {},
   "outputs": [
    {
     "data": {
      "text/html": [
       "<div>\n",
       "<style scoped>\n",
       "    .dataframe tbody tr th:only-of-type {\n",
       "        vertical-align: middle;\n",
       "    }\n",
       "\n",
       "    .dataframe tbody tr th {\n",
       "        vertical-align: top;\n",
       "    }\n",
       "\n",
       "    .dataframe thead th {\n",
       "        text-align: right;\n",
       "    }\n",
       "</style>\n",
       "<table border=\"1\" class=\"dataframe\">\n",
       "  <thead>\n",
       "    <tr style=\"text-align: right;\">\n",
       "      <th></th>\n",
       "      <th>Unnamed: 0</th>\n",
       "      <th>user_id</th>\n",
       "      <th>timestamp</th>\n",
       "      <th>event</th>\n",
       "      <th>user_id_cnt</th>\n",
       "      <th>user_id_day_cnt</th>\n",
       "      <th>first_event</th>\n",
       "      <th>timeout_sum</th>\n",
       "    </tr>\n",
       "  </thead>\n",
       "  <tbody>\n",
       "    <tr>\n",
       "      <th>0</th>\n",
       "      <td>0</td>\n",
       "      <td>1</td>\n",
       "      <td>2022-05-03 14:52:28</td>\n",
       "      <td>11-11-5-7-11</td>\n",
       "      <td>5</td>\n",
       "      <td>2</td>\n",
       "      <td>GetCreditInfo</td>\n",
       "      <td>0 days 00:00:08</td>\n",
       "    </tr>\n",
       "    <tr>\n",
       "      <th>1</th>\n",
       "      <td>1</td>\n",
       "      <td>7</td>\n",
       "      <td>2022-05-22 16:39:49</td>\n",
       "      <td>11</td>\n",
       "      <td>1</td>\n",
       "      <td>1</td>\n",
       "      <td>GetCreditInfo</td>\n",
       "      <td>0 days 00:00:00</td>\n",
       "    </tr>\n",
       "    <tr>\n",
       "      <th>2</th>\n",
       "      <td>2</td>\n",
       "      <td>9</td>\n",
       "      <td>2022-05-21 23:37:58</td>\n",
       "      <td>11-11-11</td>\n",
       "      <td>3</td>\n",
       "      <td>1</td>\n",
       "      <td>GetCreditInfo</td>\n",
       "      <td>0 days 00:00:00</td>\n",
       "    </tr>\n",
       "    <tr>\n",
       "      <th>3</th>\n",
       "      <td>3</td>\n",
       "      <td>11</td>\n",
       "      <td>2022-03-24 10:53:59</td>\n",
       "      <td>4-11-5-11-6-1-2-8-3-5-5-11-4-11-5-2-8-3-11-5-5...</td>\n",
       "      <td>43</td>\n",
       "      <td>4</td>\n",
       "      <td>EndLoanApply</td>\n",
       "      <td>0 days 00:00:30</td>\n",
       "    </tr>\n",
       "    <tr>\n",
       "      <th>4</th>\n",
       "      <td>4</td>\n",
       "      <td>12</td>\n",
       "      <td>2022-03-14 01:13:11</td>\n",
       "      <td>4-7-1-2-8-3-3-3-4-7-1-2-8-3-3-3-4-7-1-2-8-3-3-...</td>\n",
       "      <td>120</td>\n",
       "      <td>14</td>\n",
       "      <td>EndLoanApply</td>\n",
       "      <td>0 days 00:03:20</td>\n",
       "    </tr>\n",
       "    <tr>\n",
       "      <th>...</th>\n",
       "      <td>...</td>\n",
       "      <td>...</td>\n",
       "      <td>...</td>\n",
       "      <td>...</td>\n",
       "      <td>...</td>\n",
       "      <td>...</td>\n",
       "      <td>...</td>\n",
       "      <td>...</td>\n",
       "    </tr>\n",
       "    <tr>\n",
       "      <th>584631</th>\n",
       "      <td>584631</td>\n",
       "      <td>879693</td>\n",
       "      <td>2022-05-13 11:29:49</td>\n",
       "      <td>1-2-8-3-4-1-3-4-5-11-1-3-4-1-2-8-1-2-8-1-3-3-3...</td>\n",
       "      <td>61</td>\n",
       "      <td>8</td>\n",
       "      <td>EndLoanApply</td>\n",
       "      <td>0 days 00:01:26</td>\n",
       "    </tr>\n",
       "    <tr>\n",
       "      <th>584632</th>\n",
       "      <td>584632</td>\n",
       "      <td>879694</td>\n",
       "      <td>2022-03-31 20:07:23</td>\n",
       "      <td>1-2-8-3-3-3</td>\n",
       "      <td>6</td>\n",
       "      <td>1</td>\n",
       "      <td>EndLoanApply</td>\n",
       "      <td>0 days 00:00:00</td>\n",
       "    </tr>\n",
       "    <tr>\n",
       "      <th>584633</th>\n",
       "      <td>584633</td>\n",
       "      <td>879695</td>\n",
       "      <td>2022-05-27 12:48:32</td>\n",
       "      <td>1-2-8-3</td>\n",
       "      <td>4</td>\n",
       "      <td>1</td>\n",
       "      <td>EndLoanApply</td>\n",
       "      <td>0 days 00:00:00</td>\n",
       "    </tr>\n",
       "    <tr>\n",
       "      <th>584634</th>\n",
       "      <td>584634</td>\n",
       "      <td>879696</td>\n",
       "      <td>2022-03-14 05:35:34</td>\n",
       "      <td>7-5-11-11-5-11-4-7-2-8-3</td>\n",
       "      <td>11</td>\n",
       "      <td>1</td>\n",
       "      <td>EndLoanApply</td>\n",
       "      <td>0 days 00:00:30</td>\n",
       "    </tr>\n",
       "    <tr>\n",
       "      <th>584635</th>\n",
       "      <td>584635</td>\n",
       "      <td>879698</td>\n",
       "      <td>2022-05-24 22:33:24</td>\n",
       "      <td>4-1-2</td>\n",
       "      <td>3</td>\n",
       "      <td>1</td>\n",
       "      <td>NaN</td>\n",
       "      <td>0 days 00:00:08</td>\n",
       "    </tr>\n",
       "  </tbody>\n",
       "</table>\n",
       "<p>584636 rows × 8 columns</p>\n",
       "</div>"
      ],
      "text/plain": [
       "        Unnamed: 0  user_id            timestamp  \\\n",
       "0                0        1  2022-05-03 14:52:28   \n",
       "1                1        7  2022-05-22 16:39:49   \n",
       "2                2        9  2022-05-21 23:37:58   \n",
       "3                3       11  2022-03-24 10:53:59   \n",
       "4                4       12  2022-03-14 01:13:11   \n",
       "...            ...      ...                  ...   \n",
       "584631      584631   879693  2022-05-13 11:29:49   \n",
       "584632      584632   879694  2022-03-31 20:07:23   \n",
       "584633      584633   879695  2022-05-27 12:48:32   \n",
       "584634      584634   879696  2022-03-14 05:35:34   \n",
       "584635      584635   879698  2022-05-24 22:33:24   \n",
       "\n",
       "                                                    event  user_id_cnt  \\\n",
       "0                                            11-11-5-7-11            5   \n",
       "1                                                      11            1   \n",
       "2                                                11-11-11            3   \n",
       "3       4-11-5-11-6-1-2-8-3-5-5-11-4-11-5-2-8-3-11-5-5...           43   \n",
       "4       4-7-1-2-8-3-3-3-4-7-1-2-8-3-3-3-4-7-1-2-8-3-3-...          120   \n",
       "...                                                   ...          ...   \n",
       "584631  1-2-8-3-4-1-3-4-5-11-1-3-4-1-2-8-1-2-8-1-3-3-3...           61   \n",
       "584632                                        1-2-8-3-3-3            6   \n",
       "584633                                            1-2-8-3            4   \n",
       "584634                           7-5-11-11-5-11-4-7-2-8-3           11   \n",
       "584635                                              4-1-2            3   \n",
       "\n",
       "        user_id_day_cnt    first_event      timeout_sum  \n",
       "0                     2  GetCreditInfo  0 days 00:00:08  \n",
       "1                     1  GetCreditInfo  0 days 00:00:00  \n",
       "2                     1  GetCreditInfo  0 days 00:00:00  \n",
       "3                     4   EndLoanApply  0 days 00:00:30  \n",
       "4                    14   EndLoanApply  0 days 00:03:20  \n",
       "...                 ...            ...              ...  \n",
       "584631                8   EndLoanApply  0 days 00:01:26  \n",
       "584632                1   EndLoanApply  0 days 00:00:00  \n",
       "584633                1   EndLoanApply  0 days 00:00:00  \n",
       "584634                1   EndLoanApply  0 days 00:00:30  \n",
       "584635                1            NaN  0 days 00:00:08  \n",
       "\n",
       "[584636 rows x 8 columns]"
      ]
     },
     "execution_count": 2,
     "metadata": {},
     "output_type": "execute_result"
    }
   ],
   "source": [
    "# 데이터 불러오기\n",
    "data = pd.read_csv('/Users/sungahwang/Desktop/BigContest_data/log_Preprocessing.csv')\n",
    "data"
   ]
  },
  {
   "cell_type": "code",
   "execution_count": 3,
   "id": "f347b418",
   "metadata": {},
   "outputs": [],
   "source": [
    "data = data.drop(['Unnamed: 0'], axis = 1)"
   ]
  },
  {
   "cell_type": "markdown",
   "id": "f4b55c2a",
   "metadata": {},
   "source": [
    "# timeout_sum -> timeout_sum(s)"
   ]
  },
  {
   "cell_type": "code",
   "execution_count": 4,
   "id": "251cebce",
   "metadata": {},
   "outputs": [
    {
     "data": {
      "text/plain": [
       "array(['0 days 00:00:08', '0 days 00:00:00', '0 days 00:00:30', ...,\n",
       "       '0 days 00:24:30', '0 days 00:18:40', '0 days 00:20:48'],\n",
       "      dtype=object)"
      ]
     },
     "execution_count": 4,
     "metadata": {},
     "output_type": "execute_result"
    }
   ],
   "source": [
    "data['timeout_sum'].unique()"
   ]
  },
  {
   "cell_type": "code",
   "execution_count": 5,
   "id": "9daf38a4",
   "metadata": {},
   "outputs": [
    {
     "data": {
      "text/html": [
       "<div>\n",
       "<style scoped>\n",
       "    .dataframe tbody tr th:only-of-type {\n",
       "        vertical-align: middle;\n",
       "    }\n",
       "\n",
       "    .dataframe tbody tr th {\n",
       "        vertical-align: top;\n",
       "    }\n",
       "\n",
       "    .dataframe thead th {\n",
       "        text-align: right;\n",
       "    }\n",
       "</style>\n",
       "<table border=\"1\" class=\"dataframe\">\n",
       "  <thead>\n",
       "    <tr style=\"text-align: right;\">\n",
       "      <th></th>\n",
       "      <th>user_id</th>\n",
       "      <th>timestamp</th>\n",
       "      <th>event</th>\n",
       "      <th>user_id_cnt</th>\n",
       "      <th>user_id_day_cnt</th>\n",
       "      <th>first_event</th>\n",
       "      <th>timeout_sum</th>\n",
       "      <th>timeout_sum(s)</th>\n",
       "    </tr>\n",
       "  </thead>\n",
       "  <tbody>\n",
       "    <tr>\n",
       "      <th>0</th>\n",
       "      <td>1</td>\n",
       "      <td>2022-05-03 14:52:28</td>\n",
       "      <td>11-11-5-7-11</td>\n",
       "      <td>5</td>\n",
       "      <td>2</td>\n",
       "      <td>GetCreditInfo</td>\n",
       "      <td>0 days 00:00:08</td>\n",
       "      <td>8.0</td>\n",
       "    </tr>\n",
       "    <tr>\n",
       "      <th>1</th>\n",
       "      <td>7</td>\n",
       "      <td>2022-05-22 16:39:49</td>\n",
       "      <td>11</td>\n",
       "      <td>1</td>\n",
       "      <td>1</td>\n",
       "      <td>GetCreditInfo</td>\n",
       "      <td>0 days 00:00:00</td>\n",
       "      <td>0.0</td>\n",
       "    </tr>\n",
       "    <tr>\n",
       "      <th>2</th>\n",
       "      <td>9</td>\n",
       "      <td>2022-05-21 23:37:58</td>\n",
       "      <td>11-11-11</td>\n",
       "      <td>3</td>\n",
       "      <td>1</td>\n",
       "      <td>GetCreditInfo</td>\n",
       "      <td>0 days 00:00:00</td>\n",
       "      <td>0.0</td>\n",
       "    </tr>\n",
       "  </tbody>\n",
       "</table>\n",
       "</div>"
      ],
      "text/plain": [
       "   user_id            timestamp         event  user_id_cnt  user_id_day_cnt  \\\n",
       "0        1  2022-05-03 14:52:28  11-11-5-7-11            5                2   \n",
       "1        7  2022-05-22 16:39:49            11            1                1   \n",
       "2        9  2022-05-21 23:37:58      11-11-11            3                1   \n",
       "\n",
       "     first_event      timeout_sum  timeout_sum(s)  \n",
       "0  GetCreditInfo  0 days 00:00:08             8.0  \n",
       "1  GetCreditInfo  0 days 00:00:00             0.0  \n",
       "2  GetCreditInfo  0 days 00:00:00             0.0  "
      ]
     },
     "execution_count": 5,
     "metadata": {},
     "output_type": "execute_result"
    }
   ],
   "source": [
    "data['timeout_sum(s)'] = pd.to_timedelta(data['timeout_sum']).view(np.int64) / 1e9\n",
    "data.head(3)"
   ]
  },
  {
   "cell_type": "code",
   "execution_count": 6,
   "id": "b5b26b68",
   "metadata": {},
   "outputs": [],
   "source": [
    "data = data.drop(['timeout_sum'], axis = 1)"
   ]
  },
  {
   "cell_type": "code",
   "execution_count": 7,
   "id": "f1ae2fca",
   "metadata": {},
   "outputs": [
    {
     "data": {
      "text/plain": [
       "array([   8.,    0.,   30., ..., 1470., 1120., 1248.])"
      ]
     },
     "execution_count": 7,
     "metadata": {},
     "output_type": "execute_result"
    }
   ],
   "source": [
    "data['timeout_sum(s)'].unique()"
   ]
  },
  {
   "cell_type": "code",
   "execution_count": 8,
   "id": "7b22bab3",
   "metadata": {},
   "outputs": [
    {
     "data": {
      "text/plain": [
       "15322.0"
      ]
     },
     "execution_count": 8,
     "metadata": {},
     "output_type": "execute_result"
    }
   ],
   "source": [
    "data['timeout_sum(s)'].max()"
   ]
  },
  {
   "cell_type": "markdown",
   "id": "0e5947fc",
   "metadata": {},
   "source": [
    "# rename(user_id_cnt -> action_cnt) : 직관적인 이해 위해"
   ]
  },
  {
   "cell_type": "code",
   "execution_count": 9,
   "id": "4484a609",
   "metadata": {},
   "outputs": [],
   "source": [
    "data.rename(columns={'user_id_cnt': 'action_cnt'}, inplace=True)"
   ]
  },
  {
   "cell_type": "code",
   "execution_count": 10,
   "id": "163dd3f8",
   "metadata": {},
   "outputs": [
    {
     "data": {
      "text/html": [
       "<div>\n",
       "<style scoped>\n",
       "    .dataframe tbody tr th:only-of-type {\n",
       "        vertical-align: middle;\n",
       "    }\n",
       "\n",
       "    .dataframe tbody tr th {\n",
       "        vertical-align: top;\n",
       "    }\n",
       "\n",
       "    .dataframe thead th {\n",
       "        text-align: right;\n",
       "    }\n",
       "</style>\n",
       "<table border=\"1\" class=\"dataframe\">\n",
       "  <thead>\n",
       "    <tr style=\"text-align: right;\">\n",
       "      <th></th>\n",
       "      <th>user_id</th>\n",
       "      <th>timestamp</th>\n",
       "      <th>event</th>\n",
       "      <th>action_cnt</th>\n",
       "      <th>user_id_day_cnt</th>\n",
       "      <th>first_event</th>\n",
       "      <th>timeout_sum(s)</th>\n",
       "    </tr>\n",
       "  </thead>\n",
       "  <tbody>\n",
       "    <tr>\n",
       "      <th>0</th>\n",
       "      <td>1</td>\n",
       "      <td>2022-05-03 14:52:28</td>\n",
       "      <td>11-11-5-7-11</td>\n",
       "      <td>5</td>\n",
       "      <td>2</td>\n",
       "      <td>GetCreditInfo</td>\n",
       "      <td>8.0</td>\n",
       "    </tr>\n",
       "    <tr>\n",
       "      <th>1</th>\n",
       "      <td>7</td>\n",
       "      <td>2022-05-22 16:39:49</td>\n",
       "      <td>11</td>\n",
       "      <td>1</td>\n",
       "      <td>1</td>\n",
       "      <td>GetCreditInfo</td>\n",
       "      <td>0.0</td>\n",
       "    </tr>\n",
       "    <tr>\n",
       "      <th>2</th>\n",
       "      <td>9</td>\n",
       "      <td>2022-05-21 23:37:58</td>\n",
       "      <td>11-11-11</td>\n",
       "      <td>3</td>\n",
       "      <td>1</td>\n",
       "      <td>GetCreditInfo</td>\n",
       "      <td>0.0</td>\n",
       "    </tr>\n",
       "  </tbody>\n",
       "</table>\n",
       "</div>"
      ],
      "text/plain": [
       "   user_id            timestamp         event  action_cnt  user_id_day_cnt  \\\n",
       "0        1  2022-05-03 14:52:28  11-11-5-7-11           5                2   \n",
       "1        7  2022-05-22 16:39:49            11           1                1   \n",
       "2        9  2022-05-21 23:37:58      11-11-11           3                1   \n",
       "\n",
       "     first_event  timeout_sum(s)  \n",
       "0  GetCreditInfo             8.0  \n",
       "1  GetCreditInfo             0.0  \n",
       "2  GetCreditInfo             0.0  "
      ]
     },
     "execution_count": 10,
     "metadata": {},
     "output_type": "execute_result"
    }
   ],
   "source": [
    "data.head(3)"
   ]
  },
  {
   "cell_type": "markdown",
   "id": "d13efbfb",
   "metadata": {},
   "source": [
    "# rename(user_id_day_cnt -> use_day_cnt)"
   ]
  },
  {
   "cell_type": "code",
   "execution_count": 11,
   "id": "941f7969",
   "metadata": {},
   "outputs": [],
   "source": [
    "data.rename(columns={'user_id_day_cnt': 'use_day_cnt'}, inplace=True)"
   ]
  },
  {
   "cell_type": "code",
   "execution_count": 12,
   "id": "18f4b761",
   "metadata": {},
   "outputs": [
    {
     "data": {
      "text/html": [
       "<div>\n",
       "<style scoped>\n",
       "    .dataframe tbody tr th:only-of-type {\n",
       "        vertical-align: middle;\n",
       "    }\n",
       "\n",
       "    .dataframe tbody tr th {\n",
       "        vertical-align: top;\n",
       "    }\n",
       "\n",
       "    .dataframe thead th {\n",
       "        text-align: right;\n",
       "    }\n",
       "</style>\n",
       "<table border=\"1\" class=\"dataframe\">\n",
       "  <thead>\n",
       "    <tr style=\"text-align: right;\">\n",
       "      <th></th>\n",
       "      <th>user_id</th>\n",
       "      <th>timestamp</th>\n",
       "      <th>event</th>\n",
       "      <th>action_cnt</th>\n",
       "      <th>use_day_cnt</th>\n",
       "      <th>first_event</th>\n",
       "      <th>timeout_sum(s)</th>\n",
       "    </tr>\n",
       "  </thead>\n",
       "  <tbody>\n",
       "    <tr>\n",
       "      <th>0</th>\n",
       "      <td>1</td>\n",
       "      <td>2022-05-03 14:52:28</td>\n",
       "      <td>11-11-5-7-11</td>\n",
       "      <td>5</td>\n",
       "      <td>2</td>\n",
       "      <td>GetCreditInfo</td>\n",
       "      <td>8.0</td>\n",
       "    </tr>\n",
       "    <tr>\n",
       "      <th>1</th>\n",
       "      <td>7</td>\n",
       "      <td>2022-05-22 16:39:49</td>\n",
       "      <td>11</td>\n",
       "      <td>1</td>\n",
       "      <td>1</td>\n",
       "      <td>GetCreditInfo</td>\n",
       "      <td>0.0</td>\n",
       "    </tr>\n",
       "    <tr>\n",
       "      <th>2</th>\n",
       "      <td>9</td>\n",
       "      <td>2022-05-21 23:37:58</td>\n",
       "      <td>11-11-11</td>\n",
       "      <td>3</td>\n",
       "      <td>1</td>\n",
       "      <td>GetCreditInfo</td>\n",
       "      <td>0.0</td>\n",
       "    </tr>\n",
       "  </tbody>\n",
       "</table>\n",
       "</div>"
      ],
      "text/plain": [
       "   user_id            timestamp         event  action_cnt  use_day_cnt  \\\n",
       "0        1  2022-05-03 14:52:28  11-11-5-7-11           5            2   \n",
       "1        7  2022-05-22 16:39:49            11           1            1   \n",
       "2        9  2022-05-21 23:37:58      11-11-11           3            1   \n",
       "\n",
       "     first_event  timeout_sum(s)  \n",
       "0  GetCreditInfo             8.0  \n",
       "1  GetCreditInfo             0.0  \n",
       "2  GetCreditInfo             0.0  "
      ]
     },
     "execution_count": 12,
     "metadata": {},
     "output_type": "execute_result"
    }
   ],
   "source": [
    "data.head(3)"
   ]
  },
  {
   "cell_type": "markdown",
   "id": "c6123a25",
   "metadata": {},
   "source": [
    "# first_event 결측값 -> Others"
   ]
  },
  {
   "cell_type": "code",
   "execution_count": 13,
   "id": "c4a32eed",
   "metadata": {},
   "outputs": [
    {
     "data": {
      "text/plain": [
       "user_id               0\n",
       "timestamp             0\n",
       "event                 0\n",
       "action_cnt            0\n",
       "use_day_cnt           0\n",
       "first_event       73932\n",
       "timeout_sum(s)        0\n",
       "dtype: int64"
      ]
     },
     "execution_count": 13,
     "metadata": {},
     "output_type": "execute_result"
    }
   ],
   "source": [
    "data.isnull().sum()"
   ]
  },
  {
   "cell_type": "code",
   "execution_count": 14,
   "id": "17c346fc",
   "metadata": {},
   "outputs": [],
   "source": [
    "data['first_event'] = data['first_event'].fillna('Others')"
   ]
  },
  {
   "cell_type": "code",
   "execution_count": 15,
   "id": "f3e65aad",
   "metadata": {},
   "outputs": [
    {
     "data": {
      "text/plain": [
       "array(['GetCreditInfo', 'EndLoanApply', 'Others', 'UseLoanManage',\n",
       "       'UseDSRCalc'], dtype=object)"
      ]
     },
     "execution_count": 15,
     "metadata": {},
     "output_type": "execute_result"
    }
   ],
   "source": [
    "data['first_event'].unique()"
   ]
  },
  {
   "cell_type": "code",
   "execution_count": 16,
   "id": "0353aa29",
   "metadata": {},
   "outputs": [
    {
     "data": {
      "text/plain": [
       "user_id           0\n",
       "timestamp         0\n",
       "event             0\n",
       "action_cnt        0\n",
       "use_day_cnt       0\n",
       "first_event       0\n",
       "timeout_sum(s)    0\n",
       "dtype: int64"
      ]
     },
     "execution_count": 16,
     "metadata": {},
     "output_type": "execute_result"
    }
   ],
   "source": [
    "data.isnull().sum()"
   ]
  },
  {
   "cell_type": "code",
   "execution_count": 17,
   "id": "956d352c",
   "metadata": {},
   "outputs": [],
   "source": [
    "data.to_csv(\"log_data_final.csv\", index = False)"
   ]
  }
 ],
 "metadata": {
  "kernelspec": {
   "display_name": "Python 3 (ipykernel)",
   "language": "python",
   "name": "python3"
  },
  "language_info": {
   "codemirror_mode": {
    "name": "ipython",
    "version": 3
   },
   "file_extension": ".py",
   "mimetype": "text/x-python",
   "name": "python",
   "nbconvert_exporter": "python",
   "pygments_lexer": "ipython3",
   "version": "3.9.12"
  }
 },
 "nbformat": 4,
 "nbformat_minor": 5
}
