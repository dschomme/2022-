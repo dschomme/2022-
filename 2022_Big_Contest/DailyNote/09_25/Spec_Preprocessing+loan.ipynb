{
  "nbformat": 4,
  "nbformat_minor": 0,
  "metadata": {
    "colab": {
      "provenance": [],
      "collapsed_sections": [
        "mf6vbWbzH6pW"
      ],
      "machine_shape": "hm"
    },
    "kernelspec": {
      "name": "python3",
      "display_name": "Python 3"
    },
    "language_info": {
      "name": "python"
    },
    "accelerator": "GPU"
  },
  "cells": [
    {
      "cell_type": "markdown",
      "source": [
        "# 2022 빅콘테스트_spec+loan\n",
        "## 우 걱정마세요"
      ],
      "metadata": {
        "id": "kb1lqh_Bdzmz"
      }
    },
    {
      "cell_type": "markdown",
      "source": [
        "##1. 라이브러리 및 패키지 불러오기"
      ],
      "metadata": {
        "id": "gA1pSsAQSYU-"
      }
    },
    {
      "cell_type": "code",
      "execution_count": null,
      "metadata": {
        "id": "2xl3abhpSL6k"
      },
      "outputs": [],
      "source": [
        "import numpy as np\n",
        "import pandas as pd \n",
        "import matplotlib.pyplot as plt\n",
        "%matplotlib inline\n",
        "import seaborn as sns"
      ]
    },
    {
      "cell_type": "code",
      "source": [
        "from sklearn.preprocessing import LabelEncoder"
      ],
      "metadata": {
        "id": "uoOb3HXggWKA"
      },
      "execution_count": null,
      "outputs": []
    },
    {
      "cell_type": "code",
      "source": [
        "join = pd.read_csv('/content/drive/MyDrive/2022_Bigcontest/Data/join(respec+loan).csv')"
      ],
      "metadata": {
        "colab": {
          "base_uri": "https://localhost:8080/",
          "height": 403
        },
        "id": "fUF6NVXhv0lE",
        "outputId": "70d5ea97-25d9-4d62-dfb4-6155c61deae1"
      },
      "execution_count": null,
      "outputs": [
        {
          "output_type": "execute_result",
          "data": {
            "text/plain": [
              "   Unnamed: 0  application_id   user_id  gender          insert_time  \\\n",
              "0           0         1748340  430982.0     1.0  2022-06-07 13:05:39   \n",
              "1           1         1748340  430982.0     1.0  2022-06-07 13:05:39   \n",
              "2           2         1748340  430982.0     1.0  2022-06-07 13:05:39   \n",
              "3           3         1748340  430982.0     1.0  2022-06-07 13:05:39   \n",
              "4           4         1748340  430982.0     1.0  2022-06-07 13:05:39   \n",
              "\n",
              "   credit_score  yearly_income  income_type employment_type houseown_type  \\\n",
              "0         620.0     24000000.0          3.0             정규직            자가   \n",
              "1         620.0     24000000.0          3.0             정규직            자가   \n",
              "2         620.0     24000000.0          3.0             정규직            자가   \n",
              "3         620.0     24000000.0          3.0             정규직            자가   \n",
              "4         620.0     24000000.0          3.0             정규직            자가   \n",
              "\n",
              "   ...  existing_loan_cnt existing_loan_amt  reage  career  \\\n",
              "0  ...                2.0        15000000.0   20.0     1.0   \n",
              "1  ...                2.0        15000000.0   20.0     1.0   \n",
              "2  ...                2.0        15000000.0   20.0     1.0   \n",
              "3  ...                2.0        15000000.0   20.0     1.0   \n",
              "4  ...                2.0        15000000.0   20.0     1.0   \n",
              "\n",
              "   loanapply_insert_time  bank_id  product_id  loan_limit loan_rate  \\\n",
              "0    2022-06-07 13:05:41        7         191  42000000.0      13.6   \n",
              "1    2022-06-07 13:05:41       25         169  24000000.0      17.9   \n",
              "2    2022-06-07 13:05:41        2           7  24000000.0      18.5   \n",
              "3    2022-06-07 13:05:41        4         268  29000000.0      10.8   \n",
              "4    2022-06-07 13:05:41       11         118   5000000.0      16.4   \n",
              "\n",
              "   is_applied  \n",
              "0         NaN  \n",
              "1         NaN  \n",
              "2         NaN  \n",
              "3         NaN  \n",
              "4         NaN  \n",
              "\n",
              "[5 rows x 24 columns]"
            ],
            "text/html": [
              "\n",
              "  <div id=\"df-cc5219f7-3ba1-414f-9aad-c5bf48750fd9\">\n",
              "    <div class=\"colab-df-container\">\n",
              "      <div>\n",
              "<style scoped>\n",
              "    .dataframe tbody tr th:only-of-type {\n",
              "        vertical-align: middle;\n",
              "    }\n",
              "\n",
              "    .dataframe tbody tr th {\n",
              "        vertical-align: top;\n",
              "    }\n",
              "\n",
              "    .dataframe thead th {\n",
              "        text-align: right;\n",
              "    }\n",
              "</style>\n",
              "<table border=\"1\" class=\"dataframe\">\n",
              "  <thead>\n",
              "    <tr style=\"text-align: right;\">\n",
              "      <th></th>\n",
              "      <th>Unnamed: 0</th>\n",
              "      <th>application_id</th>\n",
              "      <th>user_id</th>\n",
              "      <th>gender</th>\n",
              "      <th>insert_time</th>\n",
              "      <th>credit_score</th>\n",
              "      <th>yearly_income</th>\n",
              "      <th>income_type</th>\n",
              "      <th>employment_type</th>\n",
              "      <th>houseown_type</th>\n",
              "      <th>...</th>\n",
              "      <th>existing_loan_cnt</th>\n",
              "      <th>existing_loan_amt</th>\n",
              "      <th>reage</th>\n",
              "      <th>career</th>\n",
              "      <th>loanapply_insert_time</th>\n",
              "      <th>bank_id</th>\n",
              "      <th>product_id</th>\n",
              "      <th>loan_limit</th>\n",
              "      <th>loan_rate</th>\n",
              "      <th>is_applied</th>\n",
              "    </tr>\n",
              "  </thead>\n",
              "  <tbody>\n",
              "    <tr>\n",
              "      <th>0</th>\n",
              "      <td>0</td>\n",
              "      <td>1748340</td>\n",
              "      <td>430982.0</td>\n",
              "      <td>1.0</td>\n",
              "      <td>2022-06-07 13:05:39</td>\n",
              "      <td>620.0</td>\n",
              "      <td>24000000.0</td>\n",
              "      <td>3.0</td>\n",
              "      <td>정규직</td>\n",
              "      <td>자가</td>\n",
              "      <td>...</td>\n",
              "      <td>2.0</td>\n",
              "      <td>15000000.0</td>\n",
              "      <td>20.0</td>\n",
              "      <td>1.0</td>\n",
              "      <td>2022-06-07 13:05:41</td>\n",
              "      <td>7</td>\n",
              "      <td>191</td>\n",
              "      <td>42000000.0</td>\n",
              "      <td>13.6</td>\n",
              "      <td>NaN</td>\n",
              "    </tr>\n",
              "    <tr>\n",
              "      <th>1</th>\n",
              "      <td>1</td>\n",
              "      <td>1748340</td>\n",
              "      <td>430982.0</td>\n",
              "      <td>1.0</td>\n",
              "      <td>2022-06-07 13:05:39</td>\n",
              "      <td>620.0</td>\n",
              "      <td>24000000.0</td>\n",
              "      <td>3.0</td>\n",
              "      <td>정규직</td>\n",
              "      <td>자가</td>\n",
              "      <td>...</td>\n",
              "      <td>2.0</td>\n",
              "      <td>15000000.0</td>\n",
              "      <td>20.0</td>\n",
              "      <td>1.0</td>\n",
              "      <td>2022-06-07 13:05:41</td>\n",
              "      <td>25</td>\n",
              "      <td>169</td>\n",
              "      <td>24000000.0</td>\n",
              "      <td>17.9</td>\n",
              "      <td>NaN</td>\n",
              "    </tr>\n",
              "    <tr>\n",
              "      <th>2</th>\n",
              "      <td>2</td>\n",
              "      <td>1748340</td>\n",
              "      <td>430982.0</td>\n",
              "      <td>1.0</td>\n",
              "      <td>2022-06-07 13:05:39</td>\n",
              "      <td>620.0</td>\n",
              "      <td>24000000.0</td>\n",
              "      <td>3.0</td>\n",
              "      <td>정규직</td>\n",
              "      <td>자가</td>\n",
              "      <td>...</td>\n",
              "      <td>2.0</td>\n",
              "      <td>15000000.0</td>\n",
              "      <td>20.0</td>\n",
              "      <td>1.0</td>\n",
              "      <td>2022-06-07 13:05:41</td>\n",
              "      <td>2</td>\n",
              "      <td>7</td>\n",
              "      <td>24000000.0</td>\n",
              "      <td>18.5</td>\n",
              "      <td>NaN</td>\n",
              "    </tr>\n",
              "    <tr>\n",
              "      <th>3</th>\n",
              "      <td>3</td>\n",
              "      <td>1748340</td>\n",
              "      <td>430982.0</td>\n",
              "      <td>1.0</td>\n",
              "      <td>2022-06-07 13:05:39</td>\n",
              "      <td>620.0</td>\n",
              "      <td>24000000.0</td>\n",
              "      <td>3.0</td>\n",
              "      <td>정규직</td>\n",
              "      <td>자가</td>\n",
              "      <td>...</td>\n",
              "      <td>2.0</td>\n",
              "      <td>15000000.0</td>\n",
              "      <td>20.0</td>\n",
              "      <td>1.0</td>\n",
              "      <td>2022-06-07 13:05:41</td>\n",
              "      <td>4</td>\n",
              "      <td>268</td>\n",
              "      <td>29000000.0</td>\n",
              "      <td>10.8</td>\n",
              "      <td>NaN</td>\n",
              "    </tr>\n",
              "    <tr>\n",
              "      <th>4</th>\n",
              "      <td>4</td>\n",
              "      <td>1748340</td>\n",
              "      <td>430982.0</td>\n",
              "      <td>1.0</td>\n",
              "      <td>2022-06-07 13:05:39</td>\n",
              "      <td>620.0</td>\n",
              "      <td>24000000.0</td>\n",
              "      <td>3.0</td>\n",
              "      <td>정규직</td>\n",
              "      <td>자가</td>\n",
              "      <td>...</td>\n",
              "      <td>2.0</td>\n",
              "      <td>15000000.0</td>\n",
              "      <td>20.0</td>\n",
              "      <td>1.0</td>\n",
              "      <td>2022-06-07 13:05:41</td>\n",
              "      <td>11</td>\n",
              "      <td>118</td>\n",
              "      <td>5000000.0</td>\n",
              "      <td>16.4</td>\n",
              "      <td>NaN</td>\n",
              "    </tr>\n",
              "  </tbody>\n",
              "</table>\n",
              "<p>5 rows × 24 columns</p>\n",
              "</div>\n",
              "      <button class=\"colab-df-convert\" onclick=\"convertToInteractive('df-cc5219f7-3ba1-414f-9aad-c5bf48750fd9')\"\n",
              "              title=\"Convert this dataframe to an interactive table.\"\n",
              "              style=\"display:none;\">\n",
              "        \n",
              "  <svg xmlns=\"http://www.w3.org/2000/svg\" height=\"24px\"viewBox=\"0 0 24 24\"\n",
              "       width=\"24px\">\n",
              "    <path d=\"M0 0h24v24H0V0z\" fill=\"none\"/>\n",
              "    <path d=\"M18.56 5.44l.94 2.06.94-2.06 2.06-.94-2.06-.94-.94-2.06-.94 2.06-2.06.94zm-11 1L8.5 8.5l.94-2.06 2.06-.94-2.06-.94L8.5 2.5l-.94 2.06-2.06.94zm10 10l.94 2.06.94-2.06 2.06-.94-2.06-.94-.94-2.06-.94 2.06-2.06.94z\"/><path d=\"M17.41 7.96l-1.37-1.37c-.4-.4-.92-.59-1.43-.59-.52 0-1.04.2-1.43.59L10.3 9.45l-7.72 7.72c-.78.78-.78 2.05 0 2.83L4 21.41c.39.39.9.59 1.41.59.51 0 1.02-.2 1.41-.59l7.78-7.78 2.81-2.81c.8-.78.8-2.07 0-2.86zM5.41 20L4 18.59l7.72-7.72 1.47 1.35L5.41 20z\"/>\n",
              "  </svg>\n",
              "      </button>\n",
              "      \n",
              "  <style>\n",
              "    .colab-df-container {\n",
              "      display:flex;\n",
              "      flex-wrap:wrap;\n",
              "      gap: 12px;\n",
              "    }\n",
              "\n",
              "    .colab-df-convert {\n",
              "      background-color: #E8F0FE;\n",
              "      border: none;\n",
              "      border-radius: 50%;\n",
              "      cursor: pointer;\n",
              "      display: none;\n",
              "      fill: #1967D2;\n",
              "      height: 32px;\n",
              "      padding: 0 0 0 0;\n",
              "      width: 32px;\n",
              "    }\n",
              "\n",
              "    .colab-df-convert:hover {\n",
              "      background-color: #E2EBFA;\n",
              "      box-shadow: 0px 1px 2px rgba(60, 64, 67, 0.3), 0px 1px 3px 1px rgba(60, 64, 67, 0.15);\n",
              "      fill: #174EA6;\n",
              "    }\n",
              "\n",
              "    [theme=dark] .colab-df-convert {\n",
              "      background-color: #3B4455;\n",
              "      fill: #D2E3FC;\n",
              "    }\n",
              "\n",
              "    [theme=dark] .colab-df-convert:hover {\n",
              "      background-color: #434B5C;\n",
              "      box-shadow: 0px 1px 3px 1px rgba(0, 0, 0, 0.15);\n",
              "      filter: drop-shadow(0px 1px 2px rgba(0, 0, 0, 0.3));\n",
              "      fill: #FFFFFF;\n",
              "    }\n",
              "  </style>\n",
              "\n",
              "      <script>\n",
              "        const buttonEl =\n",
              "          document.querySelector('#df-cc5219f7-3ba1-414f-9aad-c5bf48750fd9 button.colab-df-convert');\n",
              "        buttonEl.style.display =\n",
              "          google.colab.kernel.accessAllowed ? 'block' : 'none';\n",
              "\n",
              "        async function convertToInteractive(key) {\n",
              "          const element = document.querySelector('#df-cc5219f7-3ba1-414f-9aad-c5bf48750fd9');\n",
              "          const dataTable =\n",
              "            await google.colab.kernel.invokeFunction('convertToInteractive',\n",
              "                                                     [key], {});\n",
              "          if (!dataTable) return;\n",
              "\n",
              "          const docLinkHtml = 'Like what you see? Visit the ' +\n",
              "            '<a target=\"_blank\" href=https://colab.research.google.com/notebooks/data_table.ipynb>data table notebook</a>'\n",
              "            + ' to learn more about interactive tables.';\n",
              "          element.innerHTML = '';\n",
              "          dataTable['output_type'] = 'display_data';\n",
              "          await google.colab.output.renderOutput(dataTable, element);\n",
              "          const docLink = document.createElement('div');\n",
              "          docLink.innerHTML = docLinkHtml;\n",
              "          element.appendChild(docLink);\n",
              "        }\n",
              "      </script>\n",
              "    </div>\n",
              "  </div>\n",
              "  "
            ]
          },
          "metadata": {},
          "execution_count": 13
        }
      ]
    },
    {
      "cell_type": "code",
      "source": [
        "join = join.drop(['insert_time'], axis = 1)"
      ],
      "metadata": {
        "id": "HhfyRI39Hj5k"
      },
      "execution_count": null,
      "outputs": []
    },
    {
      "cell_type": "code",
      "source": [
        "sample = join[join['user_id'].isnull()]\n",
        "sample['is_applied'].value_counts()"
      ],
      "metadata": {
        "colab": {
          "base_uri": "https://localhost:8080/"
        },
        "id": "7pVK5_rq0Cwi",
        "outputId": "7466435b-9824-430f-d152-f268abc7a50e"
      },
      "execution_count": null,
      "outputs": [
        {
          "output_type": "execute_result",
          "data": {
            "text/plain": [
              "1.0    113\n",
              "Name: is_applied, dtype: int64"
            ]
          },
          "metadata": {},
          "execution_count": 17
        }
      ]
    },
    {
      "cell_type": "markdown",
      "source": [
        "# 2. 군집화"
      ],
      "metadata": {
        "id": "mf6vbWbzH6pW"
      }
    },
    {
      "cell_type": "code",
      "source": [
        "join_c = join[['bank_id','product_id']]\n",
        "join_c.head()"
      ],
      "metadata": {
        "colab": {
          "base_uri": "https://localhost:8080/"
        },
        "id": "vQalu9F5H8zD",
        "outputId": "844ae2aa-f42c-4935-af3b-c42959125bd4"
      },
      "execution_count": null,
      "outputs": [
        {
          "output_type": "execute_result",
          "data": {
            "text/plain": [
              "   bank_id  product_id\n",
              "0        7         191\n",
              "1       25         169\n",
              "2        2           7\n",
              "3        4         268\n",
              "4       11         118"
            ],
            "text/html": [
              "\n",
              "  <div id=\"df-415dfd0d-e885-43c6-84b9-cce9d59ed8b4\">\n",
              "    <div class=\"colab-df-container\">\n",
              "      <div>\n",
              "<style scoped>\n",
              "    .dataframe tbody tr th:only-of-type {\n",
              "        vertical-align: middle;\n",
              "    }\n",
              "\n",
              "    .dataframe tbody tr th {\n",
              "        vertical-align: top;\n",
              "    }\n",
              "\n",
              "    .dataframe thead th {\n",
              "        text-align: right;\n",
              "    }\n",
              "</style>\n",
              "<table border=\"1\" class=\"dataframe\">\n",
              "  <thead>\n",
              "    <tr style=\"text-align: right;\">\n",
              "      <th></th>\n",
              "      <th>bank_id</th>\n",
              "      <th>product_id</th>\n",
              "    </tr>\n",
              "  </thead>\n",
              "  <tbody>\n",
              "    <tr>\n",
              "      <th>0</th>\n",
              "      <td>7</td>\n",
              "      <td>191</td>\n",
              "    </tr>\n",
              "    <tr>\n",
              "      <th>1</th>\n",
              "      <td>25</td>\n",
              "      <td>169</td>\n",
              "    </tr>\n",
              "    <tr>\n",
              "      <th>2</th>\n",
              "      <td>2</td>\n",
              "      <td>7</td>\n",
              "    </tr>\n",
              "    <tr>\n",
              "      <th>3</th>\n",
              "      <td>4</td>\n",
              "      <td>268</td>\n",
              "    </tr>\n",
              "    <tr>\n",
              "      <th>4</th>\n",
              "      <td>11</td>\n",
              "      <td>118</td>\n",
              "    </tr>\n",
              "  </tbody>\n",
              "</table>\n",
              "</div>\n",
              "      <button class=\"colab-df-convert\" onclick=\"convertToInteractive('df-415dfd0d-e885-43c6-84b9-cce9d59ed8b4')\"\n",
              "              title=\"Convert this dataframe to an interactive table.\"\n",
              "              style=\"display:none;\">\n",
              "        \n",
              "  <svg xmlns=\"http://www.w3.org/2000/svg\" height=\"24px\"viewBox=\"0 0 24 24\"\n",
              "       width=\"24px\">\n",
              "    <path d=\"M0 0h24v24H0V0z\" fill=\"none\"/>\n",
              "    <path d=\"M18.56 5.44l.94 2.06.94-2.06 2.06-.94-2.06-.94-.94-2.06-.94 2.06-2.06.94zm-11 1L8.5 8.5l.94-2.06 2.06-.94-2.06-.94L8.5 2.5l-.94 2.06-2.06.94zm10 10l.94 2.06.94-2.06 2.06-.94-2.06-.94-.94-2.06-.94 2.06-2.06.94z\"/><path d=\"M17.41 7.96l-1.37-1.37c-.4-.4-.92-.59-1.43-.59-.52 0-1.04.2-1.43.59L10.3 9.45l-7.72 7.72c-.78.78-.78 2.05 0 2.83L4 21.41c.39.39.9.59 1.41.59.51 0 1.02-.2 1.41-.59l7.78-7.78 2.81-2.81c.8-.78.8-2.07 0-2.86zM5.41 20L4 18.59l7.72-7.72 1.47 1.35L5.41 20z\"/>\n",
              "  </svg>\n",
              "      </button>\n",
              "      \n",
              "  <style>\n",
              "    .colab-df-container {\n",
              "      display:flex;\n",
              "      flex-wrap:wrap;\n",
              "      gap: 12px;\n",
              "    }\n",
              "\n",
              "    .colab-df-convert {\n",
              "      background-color: #E8F0FE;\n",
              "      border: none;\n",
              "      border-radius: 50%;\n",
              "      cursor: pointer;\n",
              "      display: none;\n",
              "      fill: #1967D2;\n",
              "      height: 32px;\n",
              "      padding: 0 0 0 0;\n",
              "      width: 32px;\n",
              "    }\n",
              "\n",
              "    .colab-df-convert:hover {\n",
              "      background-color: #E2EBFA;\n",
              "      box-shadow: 0px 1px 2px rgba(60, 64, 67, 0.3), 0px 1px 3px 1px rgba(60, 64, 67, 0.15);\n",
              "      fill: #174EA6;\n",
              "    }\n",
              "\n",
              "    [theme=dark] .colab-df-convert {\n",
              "      background-color: #3B4455;\n",
              "      fill: #D2E3FC;\n",
              "    }\n",
              "\n",
              "    [theme=dark] .colab-df-convert:hover {\n",
              "      background-color: #434B5C;\n",
              "      box-shadow: 0px 1px 3px 1px rgba(0, 0, 0, 0.15);\n",
              "      filter: drop-shadow(0px 1px 2px rgba(0, 0, 0, 0.3));\n",
              "      fill: #FFFFFF;\n",
              "    }\n",
              "  </style>\n",
              "\n",
              "      <script>\n",
              "        const buttonEl =\n",
              "          document.querySelector('#df-415dfd0d-e885-43c6-84b9-cce9d59ed8b4 button.colab-df-convert');\n",
              "        buttonEl.style.display =\n",
              "          google.colab.kernel.accessAllowed ? 'block' : 'none';\n",
              "\n",
              "        async function convertToInteractive(key) {\n",
              "          const element = document.querySelector('#df-415dfd0d-e885-43c6-84b9-cce9d59ed8b4');\n",
              "          const dataTable =\n",
              "            await google.colab.kernel.invokeFunction('convertToInteractive',\n",
              "                                                     [key], {});\n",
              "          if (!dataTable) return;\n",
              "\n",
              "          const docLinkHtml = 'Like what you see? Visit the ' +\n",
              "            '<a target=\"_blank\" href=https://colab.research.google.com/notebooks/data_table.ipynb>data table notebook</a>'\n",
              "            + ' to learn more about interactive tables.';\n",
              "          element.innerHTML = '';\n",
              "          dataTable['output_type'] = 'display_data';\n",
              "          await google.colab.output.renderOutput(dataTable, element);\n",
              "          const docLink = document.createElement('div');\n",
              "          docLink.innerHTML = docLinkHtml;\n",
              "          element.appendChild(docLink);\n",
              "        }\n",
              "      </script>\n",
              "    </div>\n",
              "  </div>\n",
              "  "
            ]
          },
          "metadata": {},
          "execution_count": 21
        }
      ]
    },
    {
      "cell_type": "code",
      "source": [
        "from sklearn.cluster import KMeans\n",
        "from sklearn.preprocessing import StandardScaler"
      ],
      "metadata": {
        "id": "KbYfi1qXH81n"
      },
      "execution_count": null,
      "outputs": []
    },
    {
      "cell_type": "code",
      "source": [
        "from sklearn.decomposition import PCA"
      ],
      "metadata": {
        "id": "3oItNMWoKfof"
      },
      "execution_count": null,
      "outputs": []
    },
    {
      "cell_type": "code",
      "source": [
        "# 적절한 군집수 찾기\n",
        "# Inertia(군집 내 거리제곱합의 합) value (적정 군집수)\n",
        "\n",
        "ks = range(1,10)\n",
        "inertias = []\n",
        "\n",
        "for k in ks:\n",
        "    model = KMeans(n_clusters=k)\n",
        "    model.fit(join_c)\n",
        "    inertias.append(model.inertia_)\n",
        "\n",
        "# Plot ks vs inertias\n",
        "plt.figure(figsize=(4, 4))\n",
        "\n",
        "plt.plot(ks, inertias, '-o')\n",
        "plt.xlabel('number of clusters, k')\n",
        "plt.ylabel('inertia')\n",
        "plt.xticks(ks)\n",
        "plt.show()"
      ],
      "metadata": {
        "colab": {
          "base_uri": "https://localhost:8080/"
        },
        "id": "RG2TZwUzK-Dz",
        "outputId": "b6f8e0bf-7cd3-4006-f2c3-c8f92e3f3b84"
      },
      "execution_count": null,
      "outputs": [
        {
          "output_type": "display_data",
          "data": {
            "text/plain": [
              "<Figure size 288x288 with 1 Axes>"
            ],
            "image/png": "[encoded data removed]"
          },
          "metadata": {
            "needs_background": "light"
          }
        }
      ]
    },
    {
      "cell_type": "code",
      "source": [
        "# K-Means 모델과 군집 예측값을 생성\n",
        "\n",
        "# 클러스터 모델 생성 파라미터는 원할 경우 추가\n",
        "clust_model = KMeans(n_clusters = 4 # 클러스터 갯수\n",
        "#                      , n_init=10 # initial centroid를 몇번 샘플링한건지, 데이터가 많으면 많이 돌릴수록안정화된 결과가 나옴\n",
        "#                      , max_iter=500 # KMeans를 몇번 반복 수행할건지, K가 큰 경우 1000정도로 높여준다\n",
        "#                      , random_state = 42\n",
        "#                      , algorithm='auto'\n",
        "                    )\n",
        "\n",
        "# 생성한 모델로 데이터를 학습시킴\n",
        "clust_model.fit(join_c) # unsupervised learning \n",
        "\n",
        "# 결과 값을 변수에 저장\n",
        "centers = clust_model.cluster_centers_ # 각 군집의 중심점\n",
        "pred = clust_model.predict(join_c) # 각 예측군집\n",
        "\n",
        "print(pd.DataFrame(centers))\n",
        "print(pred[:10])"
      ],
      "metadata": {
        "colab": {
          "base_uri": "https://localhost:8080/"
        },
        "id": "pLY1qHzcK-GH",
        "outputId": "5addec67-6166-4a60-8be0-01c1d4bc9e3a"
      },
      "execution_count": null,
      "outputs": [
        {
          "output_type": "stream",
          "name": "stdout",
          "text": [
            "           0           1\n",
            "0  28.720294   40.532088\n",
            "1  32.399915  184.171850\n",
            "2  32.842357  125.579710\n",
            "3  36.465783  242.196500\n",
            "[1 1 0 3 2 1 0 3 1 1]\n"
          ]
        }
      ]
    },
    {
      "cell_type": "code",
      "source": [
        "# 원래 데이터에 예측된 군집 붙이기\n",
        "clust_df = join_c.copy()\n",
        "clust_df['clust'] = pred\n",
        "clust_df.head()"
      ],
      "metadata": {
        "colab": {
          "base_uri": "https://localhost:8080/"
        },
        "id": "Nm4d9PZjNtSh",
        "outputId": "91536435-4b16-435e-d7a6-165dcbb385ba"
      },
      "execution_count": null,
      "outputs": [
        {
          "output_type": "execute_result",
          "data": {
            "text/plain": [
              "   bank_id  product_id  clust\n",
              "0        7         191      1\n",
              "1       25         169      1\n",
              "2        2           7      0\n",
              "3        4         268      3\n",
              "4       11         118      2"
            ],
            "text/html": [
              "\n",
              "  <div id=\"df-73b11946-f00e-4150-b079-a64a0972e505\">\n",
              "    <div class=\"colab-df-container\">\n",
              "      <div>\n",
              "<style scoped>\n",
              "    .dataframe tbody tr th:only-of-type {\n",
              "        vertical-align: middle;\n",
              "    }\n",
              "\n",
              "    .dataframe tbody tr th {\n",
              "        vertical-align: top;\n",
              "    }\n",
              "\n",
              "    .dataframe thead th {\n",
              "        text-align: right;\n",
              "    }\n",
              "</style>\n",
              "<table border=\"1\" class=\"dataframe\">\n",
              "  <thead>\n",
              "    <tr style=\"text-align: right;\">\n",
              "      <th></th>\n",
              "      <th>bank_id</th>\n",
              "      <th>product_id</th>\n",
              "      <th>clust</th>\n",
              "    </tr>\n",
              "  </thead>\n",
              "  <tbody>\n",
              "    <tr>\n",
              "      <th>0</th>\n",
              "      <td>7</td>\n",
              "      <td>191</td>\n",
              "      <td>1</td>\n",
              "    </tr>\n",
              "    <tr>\n",
              "      <th>1</th>\n",
              "      <td>25</td>\n",
              "      <td>169</td>\n",
              "      <td>1</td>\n",
              "    </tr>\n",
              "    <tr>\n",
              "      <th>2</th>\n",
              "      <td>2</td>\n",
              "      <td>7</td>\n",
              "      <td>0</td>\n",
              "    </tr>\n",
              "    <tr>\n",
              "      <th>3</th>\n",
              "      <td>4</td>\n",
              "      <td>268</td>\n",
              "      <td>3</td>\n",
              "    </tr>\n",
              "    <tr>\n",
              "      <th>4</th>\n",
              "      <td>11</td>\n",
              "      <td>118</td>\n",
              "      <td>2</td>\n",
              "    </tr>\n",
              "  </tbody>\n",
              "</table>\n",
              "</div>\n",
              "      <button class=\"colab-df-convert\" onclick=\"convertToInteractive('df-73b11946-f00e-4150-b079-a64a0972e505')\"\n",
              "              title=\"Convert this dataframe to an interactive table.\"\n",
              "              style=\"display:none;\">\n",
              "        \n",
              "  <svg xmlns=\"http://www.w3.org/2000/svg\" height=\"24px\"viewBox=\"0 0 24 24\"\n",
              "       width=\"24px\">\n",
              "    <path d=\"M0 0h24v24H0V0z\" fill=\"none\"/>\n",
              "    <path d=\"M18.56 5.44l.94 2.06.94-2.06 2.06-.94-2.06-.94-.94-2.06-.94 2.06-2.06.94zm-11 1L8.5 8.5l.94-2.06 2.06-.94-2.06-.94L8.5 2.5l-.94 2.06-2.06.94zm10 10l.94 2.06.94-2.06 2.06-.94-2.06-.94-.94-2.06-.94 2.06-2.06.94z\"/><path d=\"M17.41 7.96l-1.37-1.37c-.4-.4-.92-.59-1.43-.59-.52 0-1.04.2-1.43.59L10.3 9.45l-7.72 7.72c-.78.78-.78 2.05 0 2.83L4 21.41c.39.39.9.59 1.41.59.51 0 1.02-.2 1.41-.59l7.78-7.78 2.81-2.81c.8-.78.8-2.07 0-2.86zM5.41 20L4 18.59l7.72-7.72 1.47 1.35L5.41 20z\"/>\n",
              "  </svg>\n",
              "      </button>\n",
              "      \n",
              "  <style>\n",
              "    .colab-df-container {\n",
              "      display:flex;\n",
              "      flex-wrap:wrap;\n",
              "      gap: 12px;\n",
              "    }\n",
              "\n",
              "    .colab-df-convert {\n",
              "      background-color: #E8F0FE;\n",
              "      border: none;\n",
              "      border-radius: 50%;\n",
              "      cursor: pointer;\n",
              "      display: none;\n",
              "      fill: #1967D2;\n",
              "      height: 32px;\n",
              "      padding: 0 0 0 0;\n",
              "      width: 32px;\n",
              "    }\n",
              "\n",
              "    .colab-df-convert:hover {\n",
              "      background-color: #E2EBFA;\n",
              "      box-shadow: 0px 1px 2px rgba(60, 64, 67, 0.3), 0px 1px 3px 1px rgba(60, 64, 67, 0.15);\n",
              "      fill: #174EA6;\n",
              "    }\n",
              "\n",
              "    [theme=dark] .colab-df-convert {\n",
              "      background-color: #3B4455;\n",
              "      fill: #D2E3FC;\n",
              "    }\n",
              "\n",
              "    [theme=dark] .colab-df-convert:hover {\n",
              "      background-color: #434B5C;\n",
              "      box-shadow: 0px 1px 3px 1px rgba(0, 0, 0, 0.15);\n",
              "      filter: drop-shadow(0px 1px 2px rgba(0, 0, 0, 0.3));\n",
              "      fill: #FFFFFF;\n",
              "    }\n",
              "  </style>\n",
              "\n",
              "      <script>\n",
              "        const buttonEl =\n",
              "          document.querySelector('#df-73b11946-f00e-4150-b079-a64a0972e505 button.colab-df-convert');\n",
              "        buttonEl.style.display =\n",
              "          google.colab.kernel.accessAllowed ? 'block' : 'none';\n",
              "\n",
              "        async function convertToInteractive(key) {\n",
              "          const element = document.querySelector('#df-73b11946-f00e-4150-b079-a64a0972e505');\n",
              "          const dataTable =\n",
              "            await google.colab.kernel.invokeFunction('convertToInteractive',\n",
              "                                                     [key], {});\n",
              "          if (!dataTable) return;\n",
              "\n",
              "          const docLinkHtml = 'Like what you see? Visit the ' +\n",
              "            '<a target=\"_blank\" href=https://colab.research.google.com/notebooks/data_table.ipynb>data table notebook</a>'\n",
              "            + ' to learn more about interactive tables.';\n",
              "          element.innerHTML = '';\n",
              "          dataTable['output_type'] = 'display_data';\n",
              "          await google.colab.output.renderOutput(dataTable, element);\n",
              "          const docLink = document.createElement('div');\n",
              "          docLink.innerHTML = docLinkHtml;\n",
              "          element.appendChild(docLink);\n",
              "        }\n",
              "      </script>\n",
              "    </div>\n",
              "  </div>\n",
              "  "
            ]
          },
          "metadata": {},
          "execution_count": 26
        }
      ]
    },
    {
      "cell_type": "markdown",
      "source": [
        "# 3. 전처리"
      ],
      "metadata": {
        "id": "x_oiQqk-cFWQ"
      }
    },
    {
      "cell_type": "markdown",
      "source": [
        "## 1) gender"
      ],
      "metadata": {
        "id": "6H2Zn2EgcHJM"
      }
    },
    {
      "cell_type": "code",
      "source": [
        "join['clust'] = clust_df['clust']"
      ],
      "metadata": {
        "id": "xccXs6fBP9jM"
      },
      "execution_count": null,
      "outputs": []
    },
    {
      "cell_type": "code",
      "source": [
        "join.loc[(join['clust']==0) & (join['is_applied']==1) & (join['gender'].isnull()), 'gender'] =  join[(join['clust'] == 0) & (join['is_applied'] == 1)]['gender'].max()\n",
        "join.loc[(join['clust']==1) & (join['gender'].isnull()), 'gender'] = join[(join['clust'] == 1) & (join['is_applied'] == 1)]['gender'].max()\n",
        "join.loc[(join['clust']==2) & (join['gender'].isnull()), 'gender'] = join[(join['clust'] == 2) & (join['is_applied'] == 1)]['gender'].max()\n",
        "join.loc[(join['clust']==3) & (join['gender'].isnull()), 'gender'] = join[(join['clust'] == 3) & (join['is_applied'] == 1)]['gender'].max()"
      ],
      "metadata": {
        "id": "EyMNy1mMaaUa"
      },
      "execution_count": null,
      "outputs": []
    },
    {
      "cell_type": "markdown",
      "source": [
        "##2) credit_score"
      ],
      "metadata": {
        "id": "Hy4P0Fh9cOrz"
      }
    },
    {
      "cell_type": "code",
      "source": [
        "join.loc[(join['clust']==0) & (join['credit_score'].isnull()) & (join['is_applied']==1), 'credit_score'] = join[join['clust'] == 0]['credit_score'].mean()\n",
        "join.loc[(join['clust']==1) & (join['credit_score'].isnull()) & (join['is_applied']==1), 'credit_score'] = join[join['clust'] == 1]['credit_score'].mean()\n",
        "join.loc[(join['clust']==2) & (join['credit_score'].isnull()) & (join['is_applied']==1), 'credit_score'] = join[join['clust'] == 2]['credit_score'].mean()\n",
        "join.loc[(join['clust']==3) & (join['credit_score'].isnull()) & (join['is_applied']==1), 'credit_score'] = join[join['clust'] == 3]['credit_score'].mean()"
      ],
      "metadata": {
        "id": "HsTBKfb9fKz0"
      },
      "execution_count": null,
      "outputs": []
    },
    {
      "cell_type": "markdown",
      "source": [
        "##3) yearly_income "
      ],
      "metadata": {
        "id": "cgEJalQsfTbD"
      }
    },
    {
      "cell_type": "code",
      "source": [
        "join.loc[(join['clust']==0) & (join['yearly_income'].isnull()) & (join['is_applied']==1), 'yearly_income'] = join[join['clust'] == 0]['yearly_income'].mean()\n",
        "join.loc[(join['clust']==1) & (join['yearly_income'].isnull()) & (join['is_applied']==1), 'yearly_income'] = join[join['clust'] == 1]['yearly_income'].mean()\n",
        "join.loc[(join['clust']==2) & (join['yearly_income'].isnull()) & (join['is_applied']==1), 'yearly_income'] = join[join['clust'] == 2]['yearly_income'].mean()\n",
        "join.loc[(join['clust']==3) & (join['yearly_income'].isnull()) & (join['is_applied']==1), 'yearly_income'] = join[join['clust'] == 3]['yearly_income'].mean()"
      ],
      "metadata": {
        "id": "22X8M4Z2fYHM"
      },
      "execution_count": null,
      "outputs": []
    },
    {
      "cell_type": "markdown",
      "source": [
        "##4) income_type  "
      ],
      "metadata": {
        "id": "1HiHYDvqfdtt"
      }
    },
    {
      "cell_type": "code",
      "source": [
        "join.loc[(join['clust']==0) & (join['income_type'].isnull()) & (join['is_applied']==1), 'income_type'] = join[join['clust'] == 0]['income_type'].mean()\n",
        "join.loc[(join['clust']==1) & (join['income_type'].isnull()) & (join['is_applied']==1), 'income_type'] = join[join['clust'] == 1]['income_type'].mean()\n",
        "join.loc[(join['clust']==2) & (join['income_type'].isnull()) & (join['is_applied']==1), 'income_type'] = join[join['clust'] == 2]['income_type'].mean()\n",
        "join.loc[(join['clust']==3) & (join['income_type'].isnull()) & (join['is_applied']==1), 'income_type'] = join[join['clust'] == 3]['income_type'].mean()"
      ],
      "metadata": {
        "id": "DRJZVRDGfscJ"
      },
      "execution_count": null,
      "outputs": []
    },
    {
      "cell_type": "markdown",
      "source": [
        "##5) employment_type"
      ],
      "metadata": {
        "id": "idDjVrO1f1Fq"
      }
    },
    {
      "cell_type": "code",
      "source": [
        "items= join['employment_type']\n",
        "encoder = LabelEncoder()\n",
        "encoder.fit(items)\n",
        "labels = encoder.transform(items)\n",
        "join['employment_type'] = labels"
      ],
      "metadata": {
        "id": "NbXN9zy4gsXM"
      },
      "execution_count": null,
      "outputs": []
    },
    {
      "cell_type": "code",
      "source": [
        "join.loc[(join['clust']==0) & (join['employment_type'].isnull()) & (join['is_applied']==1), 'employment_type'] = join[join['clust'] == 0]['employment_type'].max()\n",
        "join.loc[(join['clust']==1) & (join['employment_type'].isnull()) & (join['is_applied']==1), 'employment_type'] = join[join['clust'] == 1]['employment_type'].max()\n",
        "join.loc[(join['clust']==2) & (join['employment_type'].isnull()) & (join['is_applied']==1), 'employment_type'] = join[join['clust'] == 2]['employment_type'].max()\n",
        "join.loc[(join['clust']==3) & (join['employment_type'].isnull()) & (join['is_applied']==1), 'employment_type'] = join[join['clust'] == 3]['employment_type'].max()"
      ],
      "metadata": {
        "id": "XHxzd5aRg8dT"
      },
      "execution_count": null,
      "outputs": []
    },
    {
      "cell_type": "markdown",
      "source": [
        "##6) houseown_type"
      ],
      "metadata": {
        "id": "n_Heb4NQhCTc"
      }
    },
    {
      "cell_type": "code",
      "source": [
        "items= join['houseown_type']\n",
        "encoder = LabelEncoder()\n",
        "encoder.fit(items)\n",
        "labels = encoder.transform(items)\n",
        "join['houseown_type'] = labels"
      ],
      "metadata": {
        "id": "fZY1G593hPp0"
      },
      "execution_count": null,
      "outputs": []
    },
    {
      "cell_type": "code",
      "source": [
        "join.loc[(join['clust']==0) & (join['houseown_type'].isnull()) & (join['is_applied']==1), 'houseown_type'] = join[join['clust'] == 0]['houseown_type'].max()\n",
        "join.loc[(join['clust']==1) & (join['houseown_type'].isnull()) & (join['is_applied']==1), 'houseown_type'] = join[join['clust'] == 1]['houseown_type'].max()\n",
        "join.loc[(join['clust']==2) & (join['houseown_type'].isnull()) & (join['is_applied']==1), 'houseown_type'] = join[join['clust'] == 2]['houseown_type'].max()\n",
        "join.loc[(join['clust']==3) & (join['houseown_type'].isnull()) & (join['is_applied']==1), 'houseown_type'] = join[join['clust'] == 3]['houseown_type'].max()"
      ],
      "metadata": {
        "id": "jgWOo1qkhPr9"
      },
      "execution_count": null,
      "outputs": []
    },
    {
      "cell_type": "markdown",
      "source": [
        "##7) desired_amount"
      ],
      "metadata": {
        "id": "OfFCPsumhbbD"
      }
    },
    {
      "cell_type": "code",
      "source": [
        "join.loc[(join['clust']==0) & (join['desired_amount'].isnull()) & (join['is_applied']==1), 'desired_amount'] = join[join['clust'] == 0]['desired_amount'].mean()\n",
        "join.loc[(join['clust']==1) & (join['desired_amount'].isnull()) & (join['is_applied']==1), 'desired_amount'] = join[join['clust'] == 1]['desired_amount'].mean()\n",
        "join.loc[(join['clust']==2) & (join['desired_amount'].isnull()) & (join['is_applied']==1), 'desired_amount'] = join[join['clust'] == 2]['desired_amount'].mean()\n",
        "join.loc[(join['clust']==3) & (join['desired_amount'].isnull()) & (join['is_applied']==1), 'desired_amount'] = join[join['clust'] == 3]['desired_amount'].mean()"
      ],
      "metadata": {
        "id": "PDXXcnCvhh4a"
      },
      "execution_count": null,
      "outputs": []
    },
    {
      "cell_type": "markdown",
      "source": [
        "##8) personal_rehabilitation_yn"
      ],
      "metadata": {
        "id": "9fQu5GCzhtNo"
      }
    },
    {
      "cell_type": "code",
      "source": [
        "join.loc[(join['clust']==0) & (join['personal_rehabilitation_yn'].isnull()) & (join['is_applied']==1), 'personal_rehabilitation_yn'] = join[join['clust'] == 0]['personal_rehabilitation_yn'].max()\n",
        "join.loc[(join['clust']==1) & (join['personal_rehabilitation_yn'].isnull()) & (join['is_applied']==1), 'personal_rehabilitation_yn'] = join[join['clust'] == 1]['personal_rehabilitation_yn'].max()\n",
        "join.loc[(join['clust']==2) & (join['personal_rehabilitation_yn'].isnull()) & (join['is_applied']==1), 'personal_rehabilitation_yn'] = join[join['clust'] == 2]['personal_rehabilitation_yn'].max()\n",
        "join.loc[(join['clust']==3) & (join['personal_rehabilitation_yn'].isnull()) & (join['is_applied']==1), 'personal_rehabilitation_yn'] = join[join['clust'] == 3]['personal_rehabilitation_yn'].max()"
      ],
      "metadata": {
        "id": "HyzQURGtlOZK"
      },
      "execution_count": null,
      "outputs": []
    },
    {
      "cell_type": "markdown",
      "source": [
        "##9) purpose"
      ],
      "metadata": {
        "id": "0N6mkDTXlcqc"
      }
    },
    {
      "cell_type": "code",
      "source": [
        "items= join['purpose']\n",
        "encoder = LabelEncoder()\n",
        "encoder.fit(items)\n",
        "labels = encoder.transform(items)\n",
        "join['purpose'] = labels"
      ],
      "metadata": {
        "id": "NcRUzP4rllCm"
      },
      "execution_count": null,
      "outputs": []
    },
    {
      "cell_type": "code",
      "source": [
        "join.loc[(join['clust']==0) & (join['purpose'].isnull()) & (join['is_applied']==1), 'purpose'] = join[join['clust'] == 0]['purpose'].max()\n",
        "join.loc[(join['clust']==1) & (join['purpose'].isnull()) & (join['is_applied']==1), 'purpose'] = join[join['clust'] == 1]['purpose'].max()\n",
        "join.loc[(join['clust']==2) & (join['purpose'].isnull()) & (join['is_applied']==1), 'purpose'] = join[join['clust'] == 2]['purpose'].max()\n",
        "join.loc[(join['clust']==3) & (join['purpose'].isnull()) & (join['is_applied']==1), 'purpose'] = join[join['clust'] == 3]['purpose'].max()"
      ],
      "metadata": {
        "id": "1GEN_CqwllE7"
      },
      "execution_count": null,
      "outputs": []
    },
    {
      "cell_type": "markdown",
      "source": [
        "##10) personal_rehabilitation_complete_yn"
      ],
      "metadata": {
        "id": "xuqmUMRqlyvG"
      }
    },
    {
      "cell_type": "code",
      "source": [
        "join.loc[(join['clust']==0) & (join['personal_rehabilitation_complete_yn'].isnull()) & (join['is_applied']==1), 'personal_rehabilitation_complete_yn'] = join[join['clust'] == 0]['personal_rehabilitation_complete_yn'].max()\n",
        "join.loc[(join['clust']==1) & (join['personal_rehabilitation_complete_yn'].isnull()) & (join['is_applied']==1), 'personal_rehabilitation_complete_yn'] = join[join['clust'] == 1]['personal_rehabilitation_complete_yn'].max()\n",
        "join.loc[(join['clust']==2) & (join['personal_rehabilitation_complete_yn'].isnull()) & (join['is_applied']==1), 'personal_rehabilitation_complete_yn'] = join[join['clust'] == 2]['personal_rehabilitation_complete_yn'].max()\n",
        "join.loc[(join['clust']==3) & (join['personal_rehabilitation_complete_yn'].isnull()) & (join['is_applied']==1), 'personal_rehabilitation_complete_yn'] = join[join['clust'] == 3]['personal_rehabilitation_complete_yn'].max()"
      ],
      "metadata": {
        "id": "xI2MGV7Rl5v_"
      },
      "execution_count": null,
      "outputs": []
    },
    {
      "cell_type": "markdown",
      "source": [
        "##11) existing_loan_cnt"
      ],
      "metadata": {
        "id": "FGwC-w3dl-In"
      }
    },
    {
      "cell_type": "code",
      "source": [
        "join.loc[(join['clust']==0) & (join['existing_loan_cnt'].isnull()) & (join['is_applied']==1), 'existing_loan_cnt'] = join[join['clust'] == 0]['existing_loan_cnt'].max()\n",
        "join.loc[(join['clust']==1) & (join['existing_loan_cnt'].isnull()) & (join['is_applied']==1), 'existing_loan_cnt'] = join[join['clust'] == 1]['existing_loan_cnt'].max()\n",
        "join.loc[(join['clust']==2) & (join['existing_loan_cnt'].isnull()) & (join['is_applied']==1), 'existing_loan_cnt'] = join[join['clust'] == 2]['existing_loan_cnt'].max()\n",
        "join.loc[(join['clust']==3) & (join['existing_loan_cnt'].isnull()) & (join['is_applied']==1), 'existing_loan_cnt'] = join[join['clust'] == 3]['existing_loan_cnt'].max()"
      ],
      "metadata": {
        "id": "qzF3aufjmEZB"
      },
      "execution_count": null,
      "outputs": []
    },
    {
      "cell_type": "markdown",
      "source": [
        "##12) existing_loan_amt"
      ],
      "metadata": {
        "id": "ffCUv1jSmIM3"
      }
    },
    {
      "cell_type": "code",
      "source": [
        "join.loc[(join['clust']==0) & (join['existing_loan_amt'].isnull()) & (join['is_applied']==1), 'existing_loan_amt'] = join[join['clust'] == 0]['existing_loan_amt'].mean()\n",
        "join.loc[(join['clust']==1) & (join['existing_loan_amt'].isnull()) & (join['is_applied']==1), 'existing_loan_amt'] = join[join['clust'] == 1]['existing_loan_amt'].mean()\n",
        "join.loc[(join['clust']==2) & (join['existing_loan_amt'].isnull()) & (join['is_applied']==1), 'existing_loan_amt'] = join[join['clust'] == 2]['existing_loan_amt'].mean()\n",
        "join.loc[(join['clust']==3) & (join['existing_loan_amt'].isnull()) & (join['is_applied']==1), 'existing_loan_amt'] = join[join['clust'] == 3]['existing_loan_amt'].mean()"
      ],
      "metadata": {
        "id": "jHQoctHOmP_M"
      },
      "execution_count": null,
      "outputs": []
    },
    {
      "cell_type": "markdown",
      "source": [
        "##13) reage"
      ],
      "metadata": {
        "id": "kOZ6AVFImXjK"
      }
    },
    {
      "cell_type": "code",
      "source": [
        "join.loc[(join['clust']==0) & (join['reage'].isnull()) & (join['is_applied']==1), 'reage'] = join[join['clust'] == 0]['reage'].mean()\n",
        "join.loc[(join['clust']==1) & (join['reage'].isnull()) & (join['is_applied']==1), 'reage'] = join[join['clust'] == 1]['reage'].mean()\n",
        "join.loc[(join['clust']==2) & (join['reage'].isnull()) & (join['is_applied']==1), 'reage'] = join[join['clust'] == 2]['reage'].mean()\n",
        "join.loc[(join['clust']==3) & (join['reage'].isnull()) & (join['is_applied']==1), 'reage'] = join[join['clust'] == 3]['reage'].mean()"
      ],
      "metadata": {
        "id": "xjwV3AmLma7w"
      },
      "execution_count": null,
      "outputs": []
    },
    {
      "cell_type": "markdown",
      "source": [
        "##14) career"
      ],
      "metadata": {
        "id": "5MNRNkfmmfYe"
      }
    },
    {
      "cell_type": "code",
      "source": [
        "join.loc[(join['clust']==0) & (join['career'].isnull()) & (join['is_applied']==1), 'career'] = join[join['clust'] == 0]['career'].mean()\n",
        "join.loc[(join['clust']==1) & (join['career'].isnull()) & (join['is_applied']==1), 'career'] = join[join['clust'] == 1]['career'].mean()\n",
        "join.loc[(join['clust']==2) & (join['career'].isnull()) & (join['is_applied']==1), 'career'] = join[join['clust'] == 2]['career'].mean()\n",
        "join.loc[(join['clust']==3) & (join['career'].isnull()) & (join['is_applied']==1), 'career'] = join[join['clust'] == 3]['career'].mean()"
      ],
      "metadata": {
        "id": "EVjOM-jomku3"
      },
      "execution_count": null,
      "outputs": []
    },
    {
      "cell_type": "markdown",
      "source": [
        "##14) user_id"
      ],
      "metadata": {
        "id": "yP-6g-7PnA_l"
      }
    },
    {
      "cell_type": "code",
      "source": [
        "join.loc[(join['user_id'].isnull()), 'user_id'] = -1"
      ],
      "metadata": {
        "id": "uwJDnZ_uc0q8"
      },
      "execution_count": null,
      "outputs": []
    },
    {
      "cell_type": "markdown",
      "source": [
        "##15) 저장"
      ],
      "metadata": {
        "id": "MVsqxqR83NIi"
      }
    },
    {
      "cell_type": "code",
      "source": [
        "#join.to_csv('/content/drive/MyDrive/2022_Bigcontest/Data/Preprocessing+loan.csv')"
      ],
      "metadata": {
        "id": "zS6AtPax3PUV"
      },
      "execution_count": null,
      "outputs": []
    }
  ]
}