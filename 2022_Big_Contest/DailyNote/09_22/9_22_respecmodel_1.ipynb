{
  "nbformat": 4,
  "nbformat_minor": 0,
  "metadata": {
    "colab": {
      "provenance": [],
      "collapsed_sections": []
    },
    "kernelspec": {
      "name": "python3",
      "display_name": "Python 3"
    },
    "language_info": {
      "name": "python"
    }
  },
  "cells": [
    {
      "cell_type": "code",
      "execution_count": 189,
      "metadata": {
        "id": "dQ5t1kXrpLZS"
      },
      "outputs": [],
      "source": [
        "# 패키지 설치\n",
        "import numpy as np\n",
        "import pandas as pd \n",
        "import matplotlib.pyplot as plt\n",
        "%matplotlib inline\n",
        "import seaborn as sns\n",
        "from sklearn.linear_model import LinearRegression"
      ]
    },
    {
      "cell_type": "code",
      "source": [
        "from google.colab import drive\n",
        "drive.mount('/content/gdrive')"
      ],
      "metadata": {
        "colab": {
          "base_uri": "https://localhost:8080/"
        },
        "id": "hT7EoE-ippEA",
        "outputId": "372c42c2-c21a-49ec-8360-012b41b0c131"
      },
      "execution_count": 190,
      "outputs": [
        {
          "output_type": "stream",
          "name": "stdout",
          "text": [
            "Drive already mounted at /content/gdrive; to attempt to forcibly remount, call drive.mount(\"/content/gdrive\", force_remount=True).\n"
          ]
        }
      ]
    },
    {
      "cell_type": "code",
      "source": [
        "respec = pd.read_csv('/content/gdrive/MyDrive/dataset/respec.csv')"
      ],
      "metadata": {
        "id": "5YE-L5ENpqVR"
      },
      "execution_count": 191,
      "outputs": []
    },
    {
      "cell_type": "code",
      "source": [
        "respec"
      ],
      "metadata": {
        "colab": {
          "base_uri": "https://localhost:8080/",
          "height": 661
        },
        "id": "O9B-XAF2tYhE",
        "outputId": "5e51e06e-2d58-425a-f949-00b78f31693f"
      },
      "execution_count": 192,
      "outputs": [
        {
          "output_type": "execute_result",
          "data": {
            "text/plain": [
              "         application_id  user_id  gender          insert_time  credit_score  \\\n",
              "0                311143   646289     1.0  2022-06-07 10:17:19         530.0   \n",
              "1               1903409   168234     0.0  2022-06-07 09:43:20         560.0   \n",
              "2               1237618   717213     1.0  2022-06-07 03:26:54         530.0   \n",
              "3                647624   796103     1.0  2022-06-07 23:07:42         520.0   \n",
              "4                223654   325066     0.0  2022-06-07 16:39:55         570.0   \n",
              "...                 ...      ...     ...                  ...           ...   \n",
              "1394126         1864587   489900     1.0  2022-03-22 14:55:32         590.0   \n",
              "1394127         1327066   151422     1.0  2022-03-22 01:19:24         980.0   \n",
              "1394128         1319606   173524     1.0  2022-03-22 07:34:32         750.0   \n",
              "1394129         1482466   766546     1.0  2022-03-22 22:12:35         640.0   \n",
              "1394130          816537     3864     0.0  2022-03-22 08:55:14           NaN   \n",
              "\n",
              "         yearly_income  income_type  company_enter_month employment_type  \\\n",
              "0           28000000.0            3               2022.0             계약직   \n",
              "1           12000000.0            5               2021.0              기타   \n",
              "2           51000000.0            3               2017.0             정규직   \n",
              "3           61000000.0            3               2019.0             정규직   \n",
              "4           26000000.0            3               2020.0             정규직   \n",
              "...                ...          ...                  ...             ...   \n",
              "1394126     25000000.0            2               2021.0              기타   \n",
              "1394127     20000000.0            4               2017.0              기타   \n",
              "1394128     75000000.0            3               2009.0             정규직   \n",
              "1394129     50000000.0            3               2017.0             정규직   \n",
              "1394130     35000000.0            2               2011.0              기타   \n",
              "\n",
              "        houseown_type  desired_amount     purpose  personal_rehabilitation_yn  \\\n",
              "0              기타가족소유       3000000.0      LIVING                         0.0   \n",
              "1              기타가족소유       3000000.0      LIVING                         0.0   \n",
              "2                 전월세       5000000.0      LIVING                         0.0   \n",
              "3                 전월세       5000000.0      LIVING                         0.0   \n",
              "4                 전월세       5000000.0      LIVING                         0.0   \n",
              "...               ...             ...         ...                         ...   \n",
              "1394126        기타가족소유       5000000.0    BUSINESS                         0.0   \n",
              "1394127            자가      50000000.0      LIVING                         1.0   \n",
              "1394128            자가     100000000.0  SWITCHLOAN                         1.0   \n",
              "1394129            자가      10000000.0  SWITCHLOAN                         0.0   \n",
              "1394130            자가      20000000.0      LIVING                         1.0   \n",
              "\n",
              "         personal_rehabilitation_complete_yn  existing_loan_cnt  \\\n",
              "0                                        0.0                5.0   \n",
              "1                                        0.0               10.0   \n",
              "2                                        0.0                0.0   \n",
              "3                                        0.0                7.0   \n",
              "4                                        0.0                5.0   \n",
              "...                                      ...                ...   \n",
              "1394126                                  0.0                0.0   \n",
              "1394127                                  1.0                1.0   \n",
              "1394128                                  1.0                8.0   \n",
              "1394129                                  1.0               10.0   \n",
              "1394130                                  0.0                0.0   \n",
              "\n",
              "         existing_loan_amt  reage  \n",
              "0               19000000.0   20.0  \n",
              "1               23000000.0   30.0  \n",
              "2                      0.0   30.0  \n",
              "3               96000000.0   40.0  \n",
              "4               58000000.0   30.0  \n",
              "...                    ...    ...  \n",
              "1394126                0.0   20.0  \n",
              "1394127         31000000.0   60.0  \n",
              "1394128        200000000.0   40.0  \n",
              "1394129        117000000.0   40.0  \n",
              "1394130                0.0   40.0  \n",
              "\n",
              "[1394131 rows x 17 columns]"
            ],
            "text/html": [
              "\n",
              "  <div id=\"df-1fe11715-99f6-4f44-af1d-f1f1d6924fc6\">\n",
              "    <div class=\"colab-df-container\">\n",
              "      <div>\n",
              "<style scoped>\n",
              "    .dataframe tbody tr th:only-of-type {\n",
              "        vertical-align: middle;\n",
              "    }\n",
              "\n",
              "    .dataframe tbody tr th {\n",
              "        vertical-align: top;\n",
              "    }\n",
              "\n",
              "    .dataframe thead th {\n",
              "        text-align: right;\n",
              "    }\n",
              "</style>\n",
              "<table border=\"1\" class=\"dataframe\">\n",
              "  <thead>\n",
              "    <tr style=\"text-align: right;\">\n",
              "      <th></th>\n",
              "      <th>application_id</th>\n",
              "      <th>user_id</th>\n",
              "      <th>gender</th>\n",
              "      <th>insert_time</th>\n",
              "      <th>credit_score</th>\n",
              "      <th>yearly_income</th>\n",
              "      <th>income_type</th>\n",
              "      <th>company_enter_month</th>\n",
              "      <th>employment_type</th>\n",
              "      <th>houseown_type</th>\n",
              "      <th>desired_amount</th>\n",
              "      <th>purpose</th>\n",
              "      <th>personal_rehabilitation_yn</th>\n",
              "      <th>personal_rehabilitation_complete_yn</th>\n",
              "      <th>existing_loan_cnt</th>\n",
              "      <th>existing_loan_amt</th>\n",
              "      <th>reage</th>\n",
              "    </tr>\n",
              "  </thead>\n",
              "  <tbody>\n",
              "    <tr>\n",
              "      <th>0</th>\n",
              "      <td>311143</td>\n",
              "      <td>646289</td>\n",
              "      <td>1.0</td>\n",
              "      <td>2022-06-07 10:17:19</td>\n",
              "      <td>530.0</td>\n",
              "      <td>28000000.0</td>\n",
              "      <td>3</td>\n",
              "      <td>2022.0</td>\n",
              "      <td>계약직</td>\n",
              "      <td>기타가족소유</td>\n",
              "      <td>3000000.0</td>\n",
              "      <td>LIVING</td>\n",
              "      <td>0.0</td>\n",
              "      <td>0.0</td>\n",
              "      <td>5.0</td>\n",
              "      <td>19000000.0</td>\n",
              "      <td>20.0</td>\n",
              "    </tr>\n",
              "    <tr>\n",
              "      <th>1</th>\n",
              "      <td>1903409</td>\n",
              "      <td>168234</td>\n",
              "      <td>0.0</td>\n",
              "      <td>2022-06-07 09:43:20</td>\n",
              "      <td>560.0</td>\n",
              "      <td>12000000.0</td>\n",
              "      <td>5</td>\n",
              "      <td>2021.0</td>\n",
              "      <td>기타</td>\n",
              "      <td>기타가족소유</td>\n",
              "      <td>3000000.0</td>\n",
              "      <td>LIVING</td>\n",
              "      <td>0.0</td>\n",
              "      <td>0.0</td>\n",
              "      <td>10.0</td>\n",
              "      <td>23000000.0</td>\n",
              "      <td>30.0</td>\n",
              "    </tr>\n",
              "    <tr>\n",
              "      <th>2</th>\n",
              "      <td>1237618</td>\n",
              "      <td>717213</td>\n",
              "      <td>1.0</td>\n",
              "      <td>2022-06-07 03:26:54</td>\n",
              "      <td>530.0</td>\n",
              "      <td>51000000.0</td>\n",
              "      <td>3</td>\n",
              "      <td>2017.0</td>\n",
              "      <td>정규직</td>\n",
              "      <td>전월세</td>\n",
              "      <td>5000000.0</td>\n",
              "      <td>LIVING</td>\n",
              "      <td>0.0</td>\n",
              "      <td>0.0</td>\n",
              "      <td>0.0</td>\n",
              "      <td>0.0</td>\n",
              "      <td>30.0</td>\n",
              "    </tr>\n",
              "    <tr>\n",
              "      <th>3</th>\n",
              "      <td>647624</td>\n",
              "      <td>796103</td>\n",
              "      <td>1.0</td>\n",
              "      <td>2022-06-07 23:07:42</td>\n",
              "      <td>520.0</td>\n",
              "      <td>61000000.0</td>\n",
              "      <td>3</td>\n",
              "      <td>2019.0</td>\n",
              "      <td>정규직</td>\n",
              "      <td>전월세</td>\n",
              "      <td>5000000.0</td>\n",
              "      <td>LIVING</td>\n",
              "      <td>0.0</td>\n",
              "      <td>0.0</td>\n",
              "      <td>7.0</td>\n",
              "      <td>96000000.0</td>\n",
              "      <td>40.0</td>\n",
              "    </tr>\n",
              "    <tr>\n",
              "      <th>4</th>\n",
              "      <td>223654</td>\n",
              "      <td>325066</td>\n",
              "      <td>0.0</td>\n",
              "      <td>2022-06-07 16:39:55</td>\n",
              "      <td>570.0</td>\n",
              "      <td>26000000.0</td>\n",
              "      <td>3</td>\n",
              "      <td>2020.0</td>\n",
              "      <td>정규직</td>\n",
              "      <td>전월세</td>\n",
              "      <td>5000000.0</td>\n",
              "      <td>LIVING</td>\n",
              "      <td>0.0</td>\n",
              "      <td>0.0</td>\n",
              "      <td>5.0</td>\n",
              "      <td>58000000.0</td>\n",
              "      <td>30.0</td>\n",
              "    </tr>\n",
              "    <tr>\n",
              "      <th>...</th>\n",
              "      <td>...</td>\n",
              "      <td>...</td>\n",
              "      <td>...</td>\n",
              "      <td>...</td>\n",
              "      <td>...</td>\n",
              "      <td>...</td>\n",
              "      <td>...</td>\n",
              "      <td>...</td>\n",
              "      <td>...</td>\n",
              "      <td>...</td>\n",
              "      <td>...</td>\n",
              "      <td>...</td>\n",
              "      <td>...</td>\n",
              "      <td>...</td>\n",
              "      <td>...</td>\n",
              "      <td>...</td>\n",
              "      <td>...</td>\n",
              "    </tr>\n",
              "    <tr>\n",
              "      <th>1394126</th>\n",
              "      <td>1864587</td>\n",
              "      <td>489900</td>\n",
              "      <td>1.0</td>\n",
              "      <td>2022-03-22 14:55:32</td>\n",
              "      <td>590.0</td>\n",
              "      <td>25000000.0</td>\n",
              "      <td>2</td>\n",
              "      <td>2021.0</td>\n",
              "      <td>기타</td>\n",
              "      <td>기타가족소유</td>\n",
              "      <td>5000000.0</td>\n",
              "      <td>BUSINESS</td>\n",
              "      <td>0.0</td>\n",
              "      <td>0.0</td>\n",
              "      <td>0.0</td>\n",
              "      <td>0.0</td>\n",
              "      <td>20.0</td>\n",
              "    </tr>\n",
              "    <tr>\n",
              "      <th>1394127</th>\n",
              "      <td>1327066</td>\n",
              "      <td>151422</td>\n",
              "      <td>1.0</td>\n",
              "      <td>2022-03-22 01:19:24</td>\n",
              "      <td>980.0</td>\n",
              "      <td>20000000.0</td>\n",
              "      <td>4</td>\n",
              "      <td>2017.0</td>\n",
              "      <td>기타</td>\n",
              "      <td>자가</td>\n",
              "      <td>50000000.0</td>\n",
              "      <td>LIVING</td>\n",
              "      <td>1.0</td>\n",
              "      <td>1.0</td>\n",
              "      <td>1.0</td>\n",
              "      <td>31000000.0</td>\n",
              "      <td>60.0</td>\n",
              "    </tr>\n",
              "    <tr>\n",
              "      <th>1394128</th>\n",
              "      <td>1319606</td>\n",
              "      <td>173524</td>\n",
              "      <td>1.0</td>\n",
              "      <td>2022-03-22 07:34:32</td>\n",
              "      <td>750.0</td>\n",
              "      <td>75000000.0</td>\n",
              "      <td>3</td>\n",
              "      <td>2009.0</td>\n",
              "      <td>정규직</td>\n",
              "      <td>자가</td>\n",
              "      <td>100000000.0</td>\n",
              "      <td>SWITCHLOAN</td>\n",
              "      <td>1.0</td>\n",
              "      <td>1.0</td>\n",
              "      <td>8.0</td>\n",
              "      <td>200000000.0</td>\n",
              "      <td>40.0</td>\n",
              "    </tr>\n",
              "    <tr>\n",
              "      <th>1394129</th>\n",
              "      <td>1482466</td>\n",
              "      <td>766546</td>\n",
              "      <td>1.0</td>\n",
              "      <td>2022-03-22 22:12:35</td>\n",
              "      <td>640.0</td>\n",
              "      <td>50000000.0</td>\n",
              "      <td>3</td>\n",
              "      <td>2017.0</td>\n",
              "      <td>정규직</td>\n",
              "      <td>자가</td>\n",
              "      <td>10000000.0</td>\n",
              "      <td>SWITCHLOAN</td>\n",
              "      <td>0.0</td>\n",
              "      <td>1.0</td>\n",
              "      <td>10.0</td>\n",
              "      <td>117000000.0</td>\n",
              "      <td>40.0</td>\n",
              "    </tr>\n",
              "    <tr>\n",
              "      <th>1394130</th>\n",
              "      <td>816537</td>\n",
              "      <td>3864</td>\n",
              "      <td>0.0</td>\n",
              "      <td>2022-03-22 08:55:14</td>\n",
              "      <td>NaN</td>\n",
              "      <td>35000000.0</td>\n",
              "      <td>2</td>\n",
              "      <td>2011.0</td>\n",
              "      <td>기타</td>\n",
              "      <td>자가</td>\n",
              "      <td>20000000.0</td>\n",
              "      <td>LIVING</td>\n",
              "      <td>1.0</td>\n",
              "      <td>0.0</td>\n",
              "      <td>0.0</td>\n",
              "      <td>0.0</td>\n",
              "      <td>40.0</td>\n",
              "    </tr>\n",
              "  </tbody>\n",
              "</table>\n",
              "<p>1394131 rows × 17 columns</p>\n",
              "</div>\n",
              "      <button class=\"colab-df-convert\" onclick=\"convertToInteractive('df-1fe11715-99f6-4f44-af1d-f1f1d6924fc6')\"\n",
              "              title=\"Convert this dataframe to an interactive table.\"\n",
              "              style=\"display:none;\">\n",
              "        \n",
              "  <svg xmlns=\"http://www.w3.org/2000/svg\" height=\"24px\"viewBox=\"0 0 24 24\"\n",
              "       width=\"24px\">\n",
              "    <path d=\"M0 0h24v24H0V0z\" fill=\"none\"/>\n",
              "    <path d=\"M18.56 5.44l.94 2.06.94-2.06 2.06-.94-2.06-.94-.94-2.06-.94 2.06-2.06.94zm-11 1L8.5 8.5l.94-2.06 2.06-.94-2.06-.94L8.5 2.5l-.94 2.06-2.06.94zm10 10l.94 2.06.94-2.06 2.06-.94-2.06-.94-.94-2.06-.94 2.06-2.06.94z\"/><path d=\"M17.41 7.96l-1.37-1.37c-.4-.4-.92-.59-1.43-.59-.52 0-1.04.2-1.43.59L10.3 9.45l-7.72 7.72c-.78.78-.78 2.05 0 2.83L4 21.41c.39.39.9.59 1.41.59.51 0 1.02-.2 1.41-.59l7.78-7.78 2.81-2.81c.8-.78.8-2.07 0-2.86zM5.41 20L4 18.59l7.72-7.72 1.47 1.35L5.41 20z\"/>\n",
              "  </svg>\n",
              "      </button>\n",
              "      \n",
              "  <style>\n",
              "    .colab-df-container {\n",
              "      display:flex;\n",
              "      flex-wrap:wrap;\n",
              "      gap: 12px;\n",
              "    }\n",
              "\n",
              "    .colab-df-convert {\n",
              "      background-color: #E8F0FE;\n",
              "      border: none;\n",
              "      border-radius: 50%;\n",
              "      cursor: pointer;\n",
              "      display: none;\n",
              "      fill: #1967D2;\n",
              "      height: 32px;\n",
              "      padding: 0 0 0 0;\n",
              "      width: 32px;\n",
              "    }\n",
              "\n",
              "    .colab-df-convert:hover {\n",
              "      background-color: #E2EBFA;\n",
              "      box-shadow: 0px 1px 2px rgba(60, 64, 67, 0.3), 0px 1px 3px 1px rgba(60, 64, 67, 0.15);\n",
              "      fill: #174EA6;\n",
              "    }\n",
              "\n",
              "    [theme=dark] .colab-df-convert {\n",
              "      background-color: #3B4455;\n",
              "      fill: #D2E3FC;\n",
              "    }\n",
              "\n",
              "    [theme=dark] .colab-df-convert:hover {\n",
              "      background-color: #434B5C;\n",
              "      box-shadow: 0px 1px 3px 1px rgba(0, 0, 0, 0.15);\n",
              "      filter: drop-shadow(0px 1px 2px rgba(0, 0, 0, 0.3));\n",
              "      fill: #FFFFFF;\n",
              "    }\n",
              "  </style>\n",
              "\n",
              "      <script>\n",
              "        const buttonEl =\n",
              "          document.querySelector('#df-1fe11715-99f6-4f44-af1d-f1f1d6924fc6 button.colab-df-convert');\n",
              "        buttonEl.style.display =\n",
              "          google.colab.kernel.accessAllowed ? 'block' : 'none';\n",
              "\n",
              "        async function convertToInteractive(key) {\n",
              "          const element = document.querySelector('#df-1fe11715-99f6-4f44-af1d-f1f1d6924fc6');\n",
              "          const dataTable =\n",
              "            await google.colab.kernel.invokeFunction('convertToInteractive',\n",
              "                                                     [key], {});\n",
              "          if (!dataTable) return;\n",
              "\n",
              "          const docLinkHtml = 'Like what you see? Visit the ' +\n",
              "            '<a target=\"_blank\" href=https://colab.research.google.com/notebooks/data_table.ipynb>data table notebook</a>'\n",
              "            + ' to learn more about interactive tables.';\n",
              "          element.innerHTML = '';\n",
              "          dataTable['output_type'] = 'display_data';\n",
              "          await google.colab.output.renderOutput(dataTable, element);\n",
              "          const docLink = document.createElement('div');\n",
              "          docLink.innerHTML = docLinkHtml;\n",
              "          element.appendChild(docLink);\n",
              "        }\n",
              "      </script>\n",
              "    </div>\n",
              "  </div>\n",
              "  "
            ]
          },
          "metadata": {},
          "execution_count": 192
        }
      ]
    },
    {
      "cell_type": "code",
      "source": [
        "respec.isnull().sum()"
      ],
      "metadata": {
        "colab": {
          "base_uri": "https://localhost:8080/"
        },
        "id": "v1gi-f9xtd9H",
        "outputId": "77248ff4-bd0f-4e67-d423-34fa6e875339"
      },
      "execution_count": 193,
      "outputs": [
        {
          "output_type": "execute_result",
          "data": {
            "text/plain": [
              "application_id                              0\n",
              "user_id                                     0\n",
              "gender                                      0\n",
              "insert_time                                 0\n",
              "credit_score                           105112\n",
              "yearly_income                               0\n",
              "income_type                                 0\n",
              "company_enter_month                         0\n",
              "employment_type                             0\n",
              "houseown_type                               0\n",
              "desired_amount                              0\n",
              "purpose                                     0\n",
              "personal_rehabilitation_yn                  0\n",
              "personal_rehabilitation_complete_yn         0\n",
              "existing_loan_cnt                           0\n",
              "existing_loan_amt                           0\n",
              "reage                                       0\n",
              "dtype: int64"
            ]
          },
          "metadata": {},
          "execution_count": 193
        }
      ]
    },
    {
      "cell_type": "code",
      "source": [
        "respec = respec.drop(\"application_id\", axis=1)"
      ],
      "metadata": {
        "id": "IZoMt1EuyaVc"
      },
      "execution_count": 194,
      "outputs": []
    },
    {
      "cell_type": "code",
      "source": [
        "respec = respec.drop(\"user_id\",axis=1)"
      ],
      "metadata": {
        "id": "UNWOzr42yhXc"
      },
      "execution_count": 195,
      "outputs": []
    },
    {
      "cell_type": "code",
      "source": [
        "respec = respec.drop(\"insert_time\",axis=1)"
      ],
      "metadata": {
        "id": "cgTlj492yhrG"
      },
      "execution_count": 196,
      "outputs": []
    },
    {
      "cell_type": "code",
      "source": [
        "test=respec[respec['credit_score'].isnull()]"
      ],
      "metadata": {
        "id": "yNiOyaPPtikv"
      },
      "execution_count": 197,
      "outputs": []
    },
    {
      "cell_type": "code",
      "source": [
        "train=respec[respec['credit_score'].notnull()]"
      ],
      "metadata": {
        "id": "TCwMJAAftxZd"
      },
      "execution_count": 198,
      "outputs": []
    },
    {
      "cell_type": "code",
      "source": [
        "respec.info()"
      ],
      "metadata": {
        "colab": {
          "base_uri": "https://localhost:8080/"
        },
        "id": "hSnk-YoqyX2k",
        "outputId": "4cfa9d60-b813-4f12-f940-d3f6e569c10e"
      },
      "execution_count": 199,
      "outputs": [
        {
          "output_type": "stream",
          "name": "stdout",
          "text": [
            "<class 'pandas.core.frame.DataFrame'>\n",
            "RangeIndex: 1394131 entries, 0 to 1394130\n",
            "Data columns (total 14 columns):\n",
            " #   Column                               Non-Null Count    Dtype  \n",
            "---  ------                               --------------    -----  \n",
            " 0   gender                               1394131 non-null  float64\n",
            " 1   credit_score                         1289019 non-null  float64\n",
            " 2   yearly_income                        1394131 non-null  float64\n",
            " 3   income_type                          1394131 non-null  int64  \n",
            " 4   company_enter_month                  1394131 non-null  float64\n",
            " 5   employment_type                      1394131 non-null  object \n",
            " 6   houseown_type                        1394131 non-null  object \n",
            " 7   desired_amount                       1394131 non-null  float64\n",
            " 8   purpose                              1394131 non-null  object \n",
            " 9   personal_rehabilitation_yn           1394131 non-null  float64\n",
            " 10  personal_rehabilitation_complete_yn  1394131 non-null  float64\n",
            " 11  existing_loan_cnt                    1394131 non-null  float64\n",
            " 12  existing_loan_amt                    1394131 non-null  float64\n",
            " 13  reage                                1394131 non-null  float64\n",
            "dtypes: float64(10), int64(1), object(3)\n",
            "memory usage: 148.9+ MB\n"
          ]
        }
      ]
    },
    {
      "cell_type": "code",
      "source": [
        "train = pd.get_dummies(train)"
      ],
      "metadata": {
        "id": "cKXeINCS3aA3"
      },
      "execution_count": 200,
      "outputs": []
    },
    {
      "cell_type": "code",
      "source": [
        "train.info()"
      ],
      "metadata": {
        "colab": {
          "base_uri": "https://localhost:8080/"
        },
        "id": "CgQemasr3pah",
        "outputId": "e778bb2b-4979-45a4-f6f5-77a33a2daf47"
      },
      "execution_count": 201,
      "outputs": [
        {
          "output_type": "stream",
          "name": "stdout",
          "text": [
            "<class 'pandas.core.frame.DataFrame'>\n",
            "Int64Index: 1289019 entries, 0 to 1394129\n",
            "Data columns (total 27 columns):\n",
            " #   Column                               Non-Null Count    Dtype  \n",
            "---  ------                               --------------    -----  \n",
            " 0   gender                               1289019 non-null  float64\n",
            " 1   credit_score                         1289019 non-null  float64\n",
            " 2   yearly_income                        1289019 non-null  float64\n",
            " 3   income_type                          1289019 non-null  int64  \n",
            " 4   company_enter_month                  1289019 non-null  float64\n",
            " 5   desired_amount                       1289019 non-null  float64\n",
            " 6   personal_rehabilitation_yn           1289019 non-null  float64\n",
            " 7   personal_rehabilitation_complete_yn  1289019 non-null  float64\n",
            " 8   existing_loan_cnt                    1289019 non-null  float64\n",
            " 9   existing_loan_amt                    1289019 non-null  float64\n",
            " 10  reage                                1289019 non-null  float64\n",
            " 11  employment_type_계약직                  1289019 non-null  uint8  \n",
            " 12  employment_type_기타                   1289019 non-null  uint8  \n",
            " 13  employment_type_일용직                  1289019 non-null  uint8  \n",
            " 14  employment_type_정규직                  1289019 non-null  uint8  \n",
            " 15  houseown_type_기타가족소유                 1289019 non-null  uint8  \n",
            " 16  houseown_type_배우자                    1289019 non-null  uint8  \n",
            " 17  houseown_type_자가                     1289019 non-null  uint8  \n",
            " 18  houseown_type_전월세                    1289019 non-null  uint8  \n",
            " 19  purpose_BUSINESS                     1289019 non-null  uint8  \n",
            " 20  purpose_BUYCAR                       1289019 non-null  uint8  \n",
            " 21  purpose_BUYHOUSE                     1289019 non-null  uint8  \n",
            " 22  purpose_ETC                          1289019 non-null  uint8  \n",
            " 23  purpose_HOUSEDEPOSIT                 1289019 non-null  uint8  \n",
            " 24  purpose_INVEST                       1289019 non-null  uint8  \n",
            " 25  purpose_LIVING                       1289019 non-null  uint8  \n",
            " 26  purpose_SWITCHLOAN                   1289019 non-null  uint8  \n",
            "dtypes: float64(10), int64(1), uint8(16)\n",
            "memory usage: 137.7 MB\n"
          ]
        }
      ]
    },
    {
      "cell_type": "code",
      "source": [
        "test = pd.get_dummies(test)\n",
        "test.info()"
      ],
      "metadata": {
        "colab": {
          "base_uri": "https://localhost:8080/"
        },
        "id": "mbuUoXdU3xNV",
        "outputId": "a27ed529-af25-4746-bb1d-9069489530e1"
      },
      "execution_count": 202,
      "outputs": [
        {
          "output_type": "stream",
          "name": "stdout",
          "text": [
            "<class 'pandas.core.frame.DataFrame'>\n",
            "Int64Index: 105112 entries, 8 to 1394130\n",
            "Data columns (total 27 columns):\n",
            " #   Column                               Non-Null Count   Dtype  \n",
            "---  ------                               --------------   -----  \n",
            " 0   gender                               105112 non-null  float64\n",
            " 1   credit_score                         0 non-null       float64\n",
            " 2   yearly_income                        105112 non-null  float64\n",
            " 3   income_type                          105112 non-null  int64  \n",
            " 4   company_enter_month                  105112 non-null  float64\n",
            " 5   desired_amount                       105112 non-null  float64\n",
            " 6   personal_rehabilitation_yn           105112 non-null  float64\n",
            " 7   personal_rehabilitation_complete_yn  105112 non-null  float64\n",
            " 8   existing_loan_cnt                    105112 non-null  float64\n",
            " 9   existing_loan_amt                    105112 non-null  float64\n",
            " 10  reage                                105112 non-null  float64\n",
            " 11  employment_type_계약직                  105112 non-null  uint8  \n",
            " 12  employment_type_기타                   105112 non-null  uint8  \n",
            " 13  employment_type_일용직                  105112 non-null  uint8  \n",
            " 14  employment_type_정규직                  105112 non-null  uint8  \n",
            " 15  houseown_type_기타가족소유                 105112 non-null  uint8  \n",
            " 16  houseown_type_배우자                    105112 non-null  uint8  \n",
            " 17  houseown_type_자가                     105112 non-null  uint8  \n",
            " 18  houseown_type_전월세                    105112 non-null  uint8  \n",
            " 19  purpose_BUSINESS                     105112 non-null  uint8  \n",
            " 20  purpose_BUYCAR                       105112 non-null  uint8  \n",
            " 21  purpose_BUYHOUSE                     105112 non-null  uint8  \n",
            " 22  purpose_ETC                          105112 non-null  uint8  \n",
            " 23  purpose_HOUSEDEPOSIT                 105112 non-null  uint8  \n",
            " 24  purpose_INVEST                       105112 non-null  uint8  \n",
            " 25  purpose_LIVING                       105112 non-null  uint8  \n",
            " 26  purpose_SWITCHLOAN                   105112 non-null  uint8  \n",
            "dtypes: float64(10), int64(1), uint8(16)\n",
            "memory usage: 11.2 MB\n"
          ]
        }
      ]
    },
    {
      "cell_type": "markdown",
      "source": [
        "# Linear Regression"
      ],
      "metadata": {
        "id": "wiUPtafFzEES"
      }
    },
    {
      "cell_type": "markdown",
      "source": [
        "일단 데이터 셋 변수들을 다 집어놓고 돌려보기\n",
        "- respec : \"appllication id\", \"user_id\", \"insert_time\" 빼고 시작"
      ],
      "metadata": {
        "id": "QbPGzwAJxXIb"
      }
    },
    {
      "cell_type": "code",
      "source": [
        "from sklearn.linear_model import LinearRegression\n",
        "from sklearn.model_selection import train_test_split\n",
        "from sklearn.metrics import mean_squared_error, r2_score"
      ],
      "metadata": {
        "id": "cc-PQWKfuAi8"
      },
      "execution_count": 203,
      "outputs": []
    },
    {
      "cell_type": "code",
      "source": [
        "X_data = train.drop(\"credit_score\",axis=1)\n",
        "y_target = train[['credit_score']]"
      ],
      "metadata": {
        "id": "j44q22W0xbp7"
      },
      "execution_count": 204,
      "outputs": []
    },
    {
      "cell_type": "code",
      "source": [
        "X_train, X_val, y_train, y_val = train_test_split(X_data, y_target, test_size=0.3,\n",
        "                                                   random_state=156)"
      ],
      "metadata": {
        "id": "9RfupyeczCR8"
      },
      "execution_count": 205,
      "outputs": []
    },
    {
      "cell_type": "markdown",
      "source": [
        "- 선형회귀 OLS로 학습/예측/평가 수행\n",
        "- 기본 파라미터 수정 X"
      ],
      "metadata": {
        "id": "JGtj8atpzdLS"
      }
    },
    {
      "cell_type": "code",
      "source": [
        "lr=LinearRegression()\n",
        "res = lr.fit(X_train, y_train)"
      ],
      "metadata": {
        "id": "C4UzzzutzTr1"
      },
      "execution_count": 206,
      "outputs": []
    },
    {
      "cell_type": "code",
      "source": [
        "y_preds = lr.predict(X_val)\n",
        "mse=mean_squared_error(y_val, y_preds)\n",
        "rmse=np.sqrt(mse)\n",
        "\n",
        "print('MSE : {0:.3f}, RMSE : {1:.3F}'.format(mse,rmse))\n",
        "print('Variance score : {0:.3f}'.format(r2_score(y_val,y_preds)))"
      ],
      "metadata": {
        "colab": {
          "base_uri": "https://localhost:8080/"
        },
        "id": "UbtTeUwHzguE",
        "outputId": "322faf90-08d7-4d3c-a890-1dd6fbe83e5e"
      },
      "execution_count": 207,
      "outputs": [
        {
          "output_type": "stream",
          "name": "stdout",
          "text": [
            "MSE : 9823.005, RMSE : 99.111\n",
            "Variance score : 0.372\n"
          ]
        }
      ]
    },
    {
      "cell_type": "code",
      "source": [
        "X_train, X_val, y_train, y_val = train_test_split(X_data, y_target, test_size=0.2,\n",
        "                                                   random_state=156)"
      ],
      "metadata": {
        "id": "dvGWY9JD4Ysx"
      },
      "execution_count": 208,
      "outputs": []
    },
    {
      "cell_type": "code",
      "source": [
        "lr=LinearRegression()\n",
        "res = lr.fit(X_train, y_train)"
      ],
      "metadata": {
        "id": "UCAQizbt5Ai5"
      },
      "execution_count": 209,
      "outputs": []
    },
    {
      "cell_type": "code",
      "source": [
        "y_preds = lr.predict(X_val)\n",
        "mse=mean_squared_error(y_val, y_preds)\n",
        "rmse=np.sqrt(mse)\n",
        "\n",
        "print('MSE : {0:.3f}, RMSE : {1:.3F}'.format(mse,rmse))\n",
        "print('Variance score : {0:.3f}'.format(r2_score(y_val,y_preds)))"
      ],
      "metadata": {
        "colab": {
          "base_uri": "https://localhost:8080/"
        },
        "id": "Z7Bmd5jD5CBy",
        "outputId": "5d28a891-210c-4575-cb26-4e5910652fce"
      },
      "execution_count": 210,
      "outputs": [
        {
          "output_type": "stream",
          "name": "stdout",
          "text": [
            "MSE : 9834.097, RMSE : 99.167\n",
            "Variance score : 0.372\n"
          ]
        }
      ]
    },
    {
      "cell_type": "code",
      "source": [
        "x_train, x_val, y_train, y_val = train_test_split(X_data, y_target, train_size=0.7, test_size=0.3,\n",
        "                                                  random_state=156)"
      ],
      "metadata": {
        "id": "Gg0ba981A124"
      },
      "execution_count": 211,
      "outputs": []
    },
    {
      "cell_type": "code",
      "source": [
        "mlr = LinearRegression()\n",
        "mlr.fit(x_train,y_train)"
      ],
      "metadata": {
        "colab": {
          "base_uri": "https://localhost:8080/"
        },
        "id": "yOG-p4kYBHkY",
        "outputId": "b3b32bf0-cfdc-4f29-fb50-b611e3a9aa12"
      },
      "execution_count": 212,
      "outputs": [
        {
          "output_type": "execute_result",
          "data": {
            "text/plain": [
              "LinearRegression()"
            ]
          },
          "metadata": {},
          "execution_count": 212
        }
      ]
    },
    {
      "cell_type": "code",
      "source": [
        "print(mlr.score(x_train, y_train))"
      ],
      "metadata": {
        "colab": {
          "base_uri": "https://localhost:8080/"
        },
        "id": "5TlmP_YlBM9T",
        "outputId": "6e53c908-fe4e-4994-f181-6cc6dbbafdac"
      },
      "execution_count": 213,
      "outputs": [
        {
          "output_type": "stream",
          "name": "stdout",
          "text": [
            "0.37168283138214975\n"
          ]
        }
      ]
    },
    {
      "cell_type": "markdown",
      "source": [
        "# Robust regression"
      ],
      "metadata": {
        "id": "AsAhRoTa_NW8"
      }
    },
    {
      "cell_type": "code",
      "source": [
        "import statsmodels.api as sm"
      ],
      "metadata": {
        "id": "AveKPPt9_OlQ"
      },
      "execution_count": 214,
      "outputs": []
    },
    {
      "cell_type": "code",
      "source": [
        "y_val"
      ],
      "metadata": {
        "colab": {
          "base_uri": "https://localhost:8080/",
          "height": 424
        },
        "id": "E2eiyXLfAWTt",
        "outputId": "026e1054-38af-4d43-c542-7ad564b64450"
      },
      "execution_count": 215,
      "outputs": [
        {
          "output_type": "execute_result",
          "data": {
            "text/plain": [
              "         credit_score\n",
              "24955           660.0\n",
              "400233          640.0\n",
              "753302          600.0\n",
              "978815          600.0\n",
              "1114030         750.0\n",
              "...               ...\n",
              "1140731        1000.0\n",
              "51396           540.0\n",
              "100797          590.0\n",
              "522822          770.0\n",
              "1275643         930.0\n",
              "\n",
              "[386706 rows x 1 columns]"
            ],
            "text/html": [
              "\n",
              "  <div id=\"df-b2ea9f3c-9084-4b97-baf5-8d7940ecb3ea\">\n",
              "    <div class=\"colab-df-container\">\n",
              "      <div>\n",
              "<style scoped>\n",
              "    .dataframe tbody tr th:only-of-type {\n",
              "        vertical-align: middle;\n",
              "    }\n",
              "\n",
              "    .dataframe tbody tr th {\n",
              "        vertical-align: top;\n",
              "    }\n",
              "\n",
              "    .dataframe thead th {\n",
              "        text-align: right;\n",
              "    }\n",
              "</style>\n",
              "<table border=\"1\" class=\"dataframe\">\n",
              "  <thead>\n",
              "    <tr style=\"text-align: right;\">\n",
              "      <th></th>\n",
              "      <th>credit_score</th>\n",
              "    </tr>\n",
              "  </thead>\n",
              "  <tbody>\n",
              "    <tr>\n",
              "      <th>24955</th>\n",
              "      <td>660.0</td>\n",
              "    </tr>\n",
              "    <tr>\n",
              "      <th>400233</th>\n",
              "      <td>640.0</td>\n",
              "    </tr>\n",
              "    <tr>\n",
              "      <th>753302</th>\n",
              "      <td>600.0</td>\n",
              "    </tr>\n",
              "    <tr>\n",
              "      <th>978815</th>\n",
              "      <td>600.0</td>\n",
              "    </tr>\n",
              "    <tr>\n",
              "      <th>1114030</th>\n",
              "      <td>750.0</td>\n",
              "    </tr>\n",
              "    <tr>\n",
              "      <th>...</th>\n",
              "      <td>...</td>\n",
              "    </tr>\n",
              "    <tr>\n",
              "      <th>1140731</th>\n",
              "      <td>1000.0</td>\n",
              "    </tr>\n",
              "    <tr>\n",
              "      <th>51396</th>\n",
              "      <td>540.0</td>\n",
              "    </tr>\n",
              "    <tr>\n",
              "      <th>100797</th>\n",
              "      <td>590.0</td>\n",
              "    </tr>\n",
              "    <tr>\n",
              "      <th>522822</th>\n",
              "      <td>770.0</td>\n",
              "    </tr>\n",
              "    <tr>\n",
              "      <th>1275643</th>\n",
              "      <td>930.0</td>\n",
              "    </tr>\n",
              "  </tbody>\n",
              "</table>\n",
              "<p>386706 rows × 1 columns</p>\n",
              "</div>\n",
              "      <button class=\"colab-df-convert\" onclick=\"convertToInteractive('df-b2ea9f3c-9084-4b97-baf5-8d7940ecb3ea')\"\n",
              "              title=\"Convert this dataframe to an interactive table.\"\n",
              "              style=\"display:none;\">\n",
              "        \n",
              "  <svg xmlns=\"http://www.w3.org/2000/svg\" height=\"24px\"viewBox=\"0 0 24 24\"\n",
              "       width=\"24px\">\n",
              "    <path d=\"M0 0h24v24H0V0z\" fill=\"none\"/>\n",
              "    <path d=\"M18.56 5.44l.94 2.06.94-2.06 2.06-.94-2.06-.94-.94-2.06-.94 2.06-2.06.94zm-11 1L8.5 8.5l.94-2.06 2.06-.94-2.06-.94L8.5 2.5l-.94 2.06-2.06.94zm10 10l.94 2.06.94-2.06 2.06-.94-2.06-.94-.94-2.06-.94 2.06-2.06.94z\"/><path d=\"M17.41 7.96l-1.37-1.37c-.4-.4-.92-.59-1.43-.59-.52 0-1.04.2-1.43.59L10.3 9.45l-7.72 7.72c-.78.78-.78 2.05 0 2.83L4 21.41c.39.39.9.59 1.41.59.51 0 1.02-.2 1.41-.59l7.78-7.78 2.81-2.81c.8-.78.8-2.07 0-2.86zM5.41 20L4 18.59l7.72-7.72 1.47 1.35L5.41 20z\"/>\n",
              "  </svg>\n",
              "      </button>\n",
              "      \n",
              "  <style>\n",
              "    .colab-df-container {\n",
              "      display:flex;\n",
              "      flex-wrap:wrap;\n",
              "      gap: 12px;\n",
              "    }\n",
              "\n",
              "    .colab-df-convert {\n",
              "      background-color: #E8F0FE;\n",
              "      border: none;\n",
              "      border-radius: 50%;\n",
              "      cursor: pointer;\n",
              "      display: none;\n",
              "      fill: #1967D2;\n",
              "      height: 32px;\n",
              "      padding: 0 0 0 0;\n",
              "      width: 32px;\n",
              "    }\n",
              "\n",
              "    .colab-df-convert:hover {\n",
              "      background-color: #E2EBFA;\n",
              "      box-shadow: 0px 1px 2px rgba(60, 64, 67, 0.3), 0px 1px 3px 1px rgba(60, 64, 67, 0.15);\n",
              "      fill: #174EA6;\n",
              "    }\n",
              "\n",
              "    [theme=dark] .colab-df-convert {\n",
              "      background-color: #3B4455;\n",
              "      fill: #D2E3FC;\n",
              "    }\n",
              "\n",
              "    [theme=dark] .colab-df-convert:hover {\n",
              "      background-color: #434B5C;\n",
              "      box-shadow: 0px 1px 3px 1px rgba(0, 0, 0, 0.15);\n",
              "      filter: drop-shadow(0px 1px 2px rgba(0, 0, 0, 0.3));\n",
              "      fill: #FFFFFF;\n",
              "    }\n",
              "  </style>\n",
              "\n",
              "      <script>\n",
              "        const buttonEl =\n",
              "          document.querySelector('#df-b2ea9f3c-9084-4b97-baf5-8d7940ecb3ea button.colab-df-convert');\n",
              "        buttonEl.style.display =\n",
              "          google.colab.kernel.accessAllowed ? 'block' : 'none';\n",
              "\n",
              "        async function convertToInteractive(key) {\n",
              "          const element = document.querySelector('#df-b2ea9f3c-9084-4b97-baf5-8d7940ecb3ea');\n",
              "          const dataTable =\n",
              "            await google.colab.kernel.invokeFunction('convertToInteractive',\n",
              "                                                     [key], {});\n",
              "          if (!dataTable) return;\n",
              "\n",
              "          const docLinkHtml = 'Like what you see? Visit the ' +\n",
              "            '<a target=\"_blank\" href=https://colab.research.google.com/notebooks/data_table.ipynb>data table notebook</a>'\n",
              "            + ' to learn more about interactive tables.';\n",
              "          element.innerHTML = '';\n",
              "          dataTable['output_type'] = 'display_data';\n",
              "          await google.colab.output.renderOutput(dataTable, element);\n",
              "          const docLink = document.createElement('div');\n",
              "          docLink.innerHTML = docLinkHtml;\n",
              "          element.appendChild(docLink);\n",
              "        }\n",
              "      </script>\n",
              "    </div>\n",
              "  </div>\n",
              "  "
            ]
          },
          "metadata": {},
          "execution_count": 215
        }
      ]
    },
    {
      "cell_type": "markdown",
      "source": [
        "# Ridge Regression"
      ],
      "metadata": {
        "id": "6oM0B6RV8Wgf"
      }
    },
    {
      "cell_type": "code",
      "source": [
        "from sklearn.linear_model import Ridge\n",
        "from sklearn.model_selection import cross_val_score"
      ],
      "metadata": {
        "id": "yvBO_2ny5DOB"
      },
      "execution_count": 216,
      "outputs": []
    },
    {
      "cell_type": "markdown",
      "source": [
        "- alpha:10"
      ],
      "metadata": {
        "id": "L1GVVR3MB2Kj"
      }
    },
    {
      "cell_type": "code",
      "source": [
        "from sklearn.linear_model import Ridge\n",
        "from sklearn.model_selection import cross_val_score\n",
        "\n",
        "#alpha=10으로 설정하여 릿지 회귀 수행\n",
        "ridge = Ridge(alpha=10)\n",
        "neg_mse_scores = cross_val_score(ridge, X_data, y_target, scoring=\"neg_mean_squared_error\",cv=5)\n",
        "rmse_scores = np.sqrt(-1*neg_mse_scores)\n",
        "avg_rmse = np.mean(rmse_scores)\n",
        "\n",
        "print(' 5 folds 의 개별 negative MSE scores:', np.round(neg_mse_scores,3))\n",
        "print(' 5 folds 의 개별 RMSE scores:', np.round(rmse_scores,3))\n",
        "print(' 5 folds 의 평균 RMSE scores:{0:.3f}'.format(avg_rmse))"
      ],
      "metadata": {
        "colab": {
          "base_uri": "https://localhost:8080/"
        },
        "id": "k7trnkBXBdv-",
        "outputId": "88afd6e0-1b9c-4791-c293-ec6705272cea"
      },
      "execution_count": 217,
      "outputs": [
        {
          "output_type": "stream",
          "name": "stderr",
          "text": [
            "/usr/local/lib/python3.7/dist-packages/sklearn/linear_model/_ridge.py:157: LinAlgWarning: Ill-conditioned matrix (rcond=2.61793e-22): result may not be accurate.\n",
            "  return linalg.solve(A, Xy, sym_pos=True, overwrite_a=True).T\n",
            "/usr/local/lib/python3.7/dist-packages/sklearn/linear_model/_ridge.py:157: LinAlgWarning: Ill-conditioned matrix (rcond=2.73646e-22): result may not be accurate.\n",
            "  return linalg.solve(A, Xy, sym_pos=True, overwrite_a=True).T\n",
            "/usr/local/lib/python3.7/dist-packages/sklearn/linear_model/_ridge.py:157: LinAlgWarning: Ill-conditioned matrix (rcond=2.70653e-22): result may not be accurate.\n",
            "  return linalg.solve(A, Xy, sym_pos=True, overwrite_a=True).T\n",
            "/usr/local/lib/python3.7/dist-packages/sklearn/linear_model/_ridge.py:157: LinAlgWarning: Ill-conditioned matrix (rcond=2.6942e-22): result may not be accurate.\n",
            "  return linalg.solve(A, Xy, sym_pos=True, overwrite_a=True).T\n"
          ]
        },
        {
          "output_type": "stream",
          "name": "stdout",
          "text": [
            " 5 folds 의 개별 negative MSE scores: [-11815.599  -9701.143  -9795.265  -9790.489  -9723.203]\n",
            " 5 folds 의 개별 RMSE scores: [108.7    98.494  98.971  98.947  98.606]\n",
            " 5 folds 의 평균 RMSE scores:100.744\n"
          ]
        },
        {
          "output_type": "stream",
          "name": "stderr",
          "text": [
            "/usr/local/lib/python3.7/dist-packages/sklearn/linear_model/_ridge.py:157: LinAlgWarning: Ill-conditioned matrix (rcond=2.70285e-22): result may not be accurate.\n",
            "  return linalg.solve(A, Xy, sym_pos=True, overwrite_a=True).T\n"
          ]
        }
      ]
    },
    {
      "cell_type": "markdown",
      "source": [
        "- alpha : 1 "
      ],
      "metadata": {
        "id": "VqozCZjjCBmb"
      }
    },
    {
      "cell_type": "code",
      "source": [
        "from sklearn.linear_model import Ridge\n",
        "from sklearn.model_selection import cross_val_score\n",
        "\n",
        "#alpha=10으로 설정하여 릿지 회귀 수행\n",
        "ridge = Ridge(alpha=1)\n",
        "neg_mse_scores = cross_val_score(ridge, X_data, y_target, scoring=\"neg_mean_squared_error\",cv=5)\n",
        "rmse_scores = np.sqrt(-1*neg_mse_scores)\n",
        "avg_rmse = np.mean(rmse_scores)\n",
        "\n",
        "print(' 5 folds 의 개별 negative MSE scores:', np.round(neg_mse_scores,3))\n",
        "print(' 5 folds 의 개별 RMSE scores:', np.round(rmse_scores,3))\n",
        "print(' 5 folds 의 평균 RMSE scores:{0:.3f}'.format(avg_rmse))"
      ],
      "metadata": {
        "colab": {
          "base_uri": "https://localhost:8080/"
        },
        "id": "jyMS7KRyBxRb",
        "outputId": "562a96a5-d7b3-46bd-d001-939ad6dff893"
      },
      "execution_count": 218,
      "outputs": [
        {
          "output_type": "stream",
          "name": "stderr",
          "text": [
            "/usr/local/lib/python3.7/dist-packages/sklearn/linear_model/_ridge.py:157: LinAlgWarning: Ill-conditioned matrix (rcond=2.618e-23): result may not be accurate.\n",
            "  return linalg.solve(A, Xy, sym_pos=True, overwrite_a=True).T\n",
            "/usr/local/lib/python3.7/dist-packages/sklearn/linear_model/_ridge.py:157: LinAlgWarning: Ill-conditioned matrix (rcond=2.73654e-23): result may not be accurate.\n",
            "  return linalg.solve(A, Xy, sym_pos=True, overwrite_a=True).T\n",
            "/usr/local/lib/python3.7/dist-packages/sklearn/linear_model/_ridge.py:157: LinAlgWarning: Ill-conditioned matrix (rcond=2.7066e-23): result may not be accurate.\n",
            "  return linalg.solve(A, Xy, sym_pos=True, overwrite_a=True).T\n",
            "/usr/local/lib/python3.7/dist-packages/sklearn/linear_model/_ridge.py:157: LinAlgWarning: Ill-conditioned matrix (rcond=2.69428e-23): result may not be accurate.\n",
            "  return linalg.solve(A, Xy, sym_pos=True, overwrite_a=True).T\n"
          ]
        },
        {
          "output_type": "stream",
          "name": "stdout",
          "text": [
            " 5 folds 의 개별 negative MSE scores: [-11815.917  -9701.112  -9795.238  -9790.454  -9723.171]\n",
            " 5 folds 의 개별 RMSE scores: [108.701  98.494  98.971  98.947  98.606]\n",
            " 5 folds 의 평균 RMSE scores:100.744\n"
          ]
        },
        {
          "output_type": "stream",
          "name": "stderr",
          "text": [
            "/usr/local/lib/python3.7/dist-packages/sklearn/linear_model/_ridge.py:157: LinAlgWarning: Ill-conditioned matrix (rcond=2.70292e-23): result may not be accurate.\n",
            "  return linalg.solve(A, Xy, sym_pos=True, overwrite_a=True).T\n"
          ]
        }
      ]
    },
    {
      "cell_type": "markdown",
      "source": [
        "- alpha:0.5"
      ],
      "metadata": {
        "id": "IPjEXTwxCMaf"
      }
    },
    {
      "cell_type": "code",
      "source": [
        "from sklearn.linear_model import Ridge\n",
        "from sklearn.model_selection import cross_val_score\n",
        "\n",
        "#alpha=10으로 설정하여 릿지 회귀 수행\n",
        "ridge = Ridge(alpha=0.5)\n",
        "neg_mse_scores = cross_val_score(ridge, X_data, y_target, scoring=\"neg_mean_squared_error\",cv=5)\n",
        "rmse_scores = np.sqrt(-1*neg_mse_scores)\n",
        "avg_rmse = np.mean(rmse_scores)\n",
        "\n",
        "print(' 5 folds 의 개별 negative MSE scores:', np.round(neg_mse_scores,3))\n",
        "print(' 5 folds 의 개별 RMSE scores:', np.round(rmse_scores,3))\n",
        "print(' 5 folds 의 평균 RMSE scores:{0:.3f}'.format(avg_rmse))"
      ],
      "metadata": {
        "colab": {
          "base_uri": "https://localhost:8080/"
        },
        "id": "w5hO65rxCGQL",
        "outputId": "cfdfcbd3-c644-4bd8-c099-c47bfc7208a4"
      },
      "execution_count": 219,
      "outputs": [
        {
          "output_type": "stream",
          "name": "stderr",
          "text": [
            "/usr/local/lib/python3.7/dist-packages/sklearn/linear_model/_ridge.py:157: LinAlgWarning: Ill-conditioned matrix (rcond=1.309e-23): result may not be accurate.\n",
            "  return linalg.solve(A, Xy, sym_pos=True, overwrite_a=True).T\n",
            "/usr/local/lib/python3.7/dist-packages/sklearn/linear_model/_ridge.py:157: LinAlgWarning: Ill-conditioned matrix (rcond=1.36827e-23): result may not be accurate.\n",
            "  return linalg.solve(A, Xy, sym_pos=True, overwrite_a=True).T\n",
            "/usr/local/lib/python3.7/dist-packages/sklearn/linear_model/_ridge.py:157: LinAlgWarning: Ill-conditioned matrix (rcond=1.3533e-23): result may not be accurate.\n",
            "  return linalg.solve(A, Xy, sym_pos=True, overwrite_a=True).T\n",
            "/usr/local/lib/python3.7/dist-packages/sklearn/linear_model/_ridge.py:157: LinAlgWarning: Ill-conditioned matrix (rcond=1.34714e-23): result may not be accurate.\n",
            "  return linalg.solve(A, Xy, sym_pos=True, overwrite_a=True).T\n"
          ]
        },
        {
          "output_type": "stream",
          "name": "stdout",
          "text": [
            " 5 folds 의 개별 negative MSE scores: [-11815.934  -9701.111  -9795.237  -9790.452  -9723.17 ]\n",
            " 5 folds 의 개별 RMSE scores: [108.701  98.494  98.971  98.947  98.606]\n",
            " 5 folds 의 평균 RMSE scores:100.744\n"
          ]
        },
        {
          "output_type": "stream",
          "name": "stderr",
          "text": [
            "/usr/local/lib/python3.7/dist-packages/sklearn/linear_model/_ridge.py:157: LinAlgWarning: Ill-conditioned matrix (rcond=1.35146e-23): result may not be accurate.\n",
            "  return linalg.solve(A, Xy, sym_pos=True, overwrite_a=True).T\n"
          ]
        }
      ]
    },
    {
      "cell_type": "markdown",
      "source": [
        "# Lasso Regression"
      ],
      "metadata": {
        "id": "HPWPFQ0rCcK3"
      }
    },
    {
      "cell_type": "code",
      "source": [
        "from sklearn.linear_model import Lasso, ElasticNet\n",
        "\n",
        "def get_linear_reg_eval(model_name, params=None, X_data_n=None, y_target_n=None,\n",
        "                       verbose=True, return_coeff=True):\n",
        "    coeff_df=pd.DataFrame()\n",
        "    if verbose : print('######',model_name,'######')\n",
        "    for param in params:\n",
        "        if model_name =='Ridge':model=Ridge(alpha=param)\n",
        "        elif model_name == 'Lasso':model = Lasso(alpha=param)\n",
        "        elif model_name == 'ElasticNet':model = ElasticNet(alpha=param, l1_ratio=0.7)\n",
        "        neg_mse_scores = cross_val_score(model, X_data_n, y_target_n, scoring=\"neg_mean_squared_error\",cv=5)\n",
        "        avg_rmse = np.mean(np.sqrt(-1*neg_mse_scores))\n",
        "        print(' 5 folds 의 평균 RMSE scores:{0:.3f}'.format(avg_rmse))\n",
        "        \n",
        "        model.fit(X_data_n, y_target_n)\n",
        "        if return_coeff:\n",
        "            coeff = pd.Series(data=model.coef_, index=X_data_n.columns)\n",
        "            colname = 'alpha:'+str(param)\n",
        "            coeff_df[colname]=coeff\n",
        "            \n",
        "    return coeff_df"
      ],
      "metadata": {
        "id": "WxeuiqY0CPfs"
      },
      "execution_count": 220,
      "outputs": []
    },
    {
      "cell_type": "code",
      "source": [
        "lasso_alphas = [0.07, 0.1, 0.5, 1, 3]\n",
        "coeff_lasso_df = get_linear_reg_eval('Lasso', params=lasso_alphas, X_data_n=X_data,y_target_n=y_target)"
      ],
      "metadata": {
        "colab": {
          "base_uri": "https://localhost:8080/"
        },
        "id": "W20kF8PACjOv",
        "outputId": "a61a36e1-0787-4781-fa23-82a545828ce1"
      },
      "execution_count": 221,
      "outputs": [
        {
          "output_type": "stream",
          "name": "stdout",
          "text": [
            "###### Lasso ######\n",
            " 5 folds 의 평균 RMSE scores:100.735\n",
            " 5 folds 의 평균 RMSE scores:100.737\n",
            " 5 folds 의 평균 RMSE scores:101.016\n",
            " 5 folds 의 평균 RMSE scores:101.412\n",
            " 5 folds 의 평균 RMSE scores:102.724\n"
          ]
        }
      ]
    },
    {
      "cell_type": "markdown",
      "source": [
        "# ElasticNet"
      ],
      "metadata": {
        "id": "0751omslJg5-"
      }
    },
    {
      "cell_type": "code",
      "source": [
        "#l1 latio는 0.7로 고정\n",
        "elastic_alphas = [0.7, 0.1,0.5,1,3]\n",
        "coeff_elastic_df=get_linear_reg_eval('ElasticNet',params=elastic_alphas,\n",
        "                                    X_data_n=X_data, y_target_n=y_target)"
      ],
      "metadata": {
        "colab": {
          "base_uri": "https://localhost:8080/"
        },
        "id": "glWnNvhQCj1z",
        "outputId": "1b7d3ff1-1599-4e0a-8152-28684248de37"
      },
      "execution_count": 222,
      "outputs": [
        {
          "output_type": "stream",
          "name": "stdout",
          "text": [
            "###### ElasticNet ######\n",
            " 5 folds 의 평균 RMSE scores:104.716\n",
            " 5 folds 의 평균 RMSE scores:100.986\n",
            " 5 folds 의 평균 RMSE scores:103.362\n",
            " 5 folds 의 평균 RMSE scores:106.577\n",
            " 5 folds 의 평균 RMSE scores:113.586\n"
          ]
        }
      ]
    },
    {
      "cell_type": "markdown",
      "source": [
        "# 정규화 진행 후 위 과정 반복"
      ],
      "metadata": {
        "id": "jNMPq_B0KNmI"
      }
    },
    {
      "cell_type": "markdown",
      "source": [
        "## 정규화 진행 후 선형회귀"
      ],
      "metadata": {
        "id": "ix2lg5ukM684"
      }
    },
    {
      "cell_type": "code",
      "source": [
        "X_data = train.drop(\"credit_score\",axis=1)\n",
        "y_target = train[['credit_score']]"
      ],
      "metadata": {
        "id": "s32KM751Mq2l"
      },
      "execution_count": 223,
      "outputs": []
    },
    {
      "cell_type": "code",
      "source": [
        "X_data = (X_data - X_data.mean())/X_data.std()\n",
        "X_data.head()"
      ],
      "metadata": {
        "colab": {
          "base_uri": "https://localhost:8080/",
          "height": 317
        },
        "id": "ificcs-fSZku",
        "outputId": "25b8cb8d-7b9e-4334-d2fc-8706402f7d6e"
      },
      "execution_count": 224,
      "outputs": [
        {
          "output_type": "execute_result",
          "data": {
            "text/plain": [
              "     gender  yearly_income  income_type  company_enter_month  desired_amount  \\\n",
              "0  0.683432      -0.131931    -0.026737             0.760022       -0.146707   \n",
              "1 -1.463202      -0.271541     2.080152             0.556519       -0.146707   \n",
              "2  0.683432       0.068758    -0.026737            -0.257493       -0.135633   \n",
              "3  0.683432       0.156014    -0.026737             0.149513       -0.135633   \n",
              "4 -1.463202      -0.149382    -0.026737             0.353016       -0.135633   \n",
              "\n",
              "   personal_rehabilitation_yn  personal_rehabilitation_complete_yn  \\\n",
              "0                   -1.205557                            -1.116151   \n",
              "1                   -1.205557                            -1.116151   \n",
              "2                   -1.205557                            -1.116151   \n",
              "3                   -1.205557                            -1.116151   \n",
              "4                   -1.205557                            -1.116151   \n",
              "\n",
              "   existing_loan_cnt  existing_loan_amt     reage  ...  houseown_type_자가  \\\n",
              "0           0.160196          -0.490428 -1.373389  ...         -0.502693   \n",
              "1           1.307875          -0.443207 -0.475854  ...         -0.502693   \n",
              "2          -0.987483          -0.714729 -0.475854  ...         -0.502693   \n",
              "3           0.619267           0.418579  0.421680  ...         -0.502693   \n",
              "4           0.160196          -0.030022 -0.475854  ...         -0.502693   \n",
              "\n",
              "   houseown_type_전월세  purpose_BUSINESS  purpose_BUYCAR  purpose_BUYHOUSE  \\\n",
              "0          -0.922706         -0.211426       -0.048428         -0.106226   \n",
              "1          -0.922706         -0.211426       -0.048428         -0.106226   \n",
              "2           1.083768         -0.211426       -0.048428         -0.106226   \n",
              "3           1.083768         -0.211426       -0.048428         -0.106226   \n",
              "4           1.083768         -0.211426       -0.048428         -0.106226   \n",
              "\n",
              "   purpose_ETC  purpose_HOUSEDEPOSIT  purpose_INVEST  purpose_LIVING  \\\n",
              "0    -0.147557             -0.134851       -0.092455        0.765191   \n",
              "1    -0.147557             -0.134851       -0.092455        0.765191   \n",
              "2    -0.147557             -0.134851       -0.092455        0.765191   \n",
              "3    -0.147557             -0.134851       -0.092455        0.765191   \n",
              "4    -0.147557             -0.134851       -0.092455        0.765191   \n",
              "\n",
              "   purpose_SWITCHLOAN  \n",
              "0           -0.601008  \n",
              "1           -0.601008  \n",
              "2           -0.601008  \n",
              "3           -0.601008  \n",
              "4           -0.601008  \n",
              "\n",
              "[5 rows x 26 columns]"
            ],
            "text/html": [
              "\n",
              "  <div id=\"df-09fc622a-bb0b-460d-854c-f0c6c12cc047\">\n",
              "    <div class=\"colab-df-container\">\n",
              "      <div>\n",
              "<style scoped>\n",
              "    .dataframe tbody tr th:only-of-type {\n",
              "        vertical-align: middle;\n",
              "    }\n",
              "\n",
              "    .dataframe tbody tr th {\n",
              "        vertical-align: top;\n",
              "    }\n",
              "\n",
              "    .dataframe thead th {\n",
              "        text-align: right;\n",
              "    }\n",
              "</style>\n",
              "<table border=\"1\" class=\"dataframe\">\n",
              "  <thead>\n",
              "    <tr style=\"text-align: right;\">\n",
              "      <th></th>\n",
              "      <th>gender</th>\n",
              "      <th>yearly_income</th>\n",
              "      <th>income_type</th>\n",
              "      <th>company_enter_month</th>\n",
              "      <th>desired_amount</th>\n",
              "      <th>personal_rehabilitation_yn</th>\n",
              "      <th>personal_rehabilitation_complete_yn</th>\n",
              "      <th>existing_loan_cnt</th>\n",
              "      <th>existing_loan_amt</th>\n",
              "      <th>reage</th>\n",
              "      <th>...</th>\n",
              "      <th>houseown_type_자가</th>\n",
              "      <th>houseown_type_전월세</th>\n",
              "      <th>purpose_BUSINESS</th>\n",
              "      <th>purpose_BUYCAR</th>\n",
              "      <th>purpose_BUYHOUSE</th>\n",
              "      <th>purpose_ETC</th>\n",
              "      <th>purpose_HOUSEDEPOSIT</th>\n",
              "      <th>purpose_INVEST</th>\n",
              "      <th>purpose_LIVING</th>\n",
              "      <th>purpose_SWITCHLOAN</th>\n",
              "    </tr>\n",
              "  </thead>\n",
              "  <tbody>\n",
              "    <tr>\n",
              "      <th>0</th>\n",
              "      <td>0.683432</td>\n",
              "      <td>-0.131931</td>\n",
              "      <td>-0.026737</td>\n",
              "      <td>0.760022</td>\n",
              "      <td>-0.146707</td>\n",
              "      <td>-1.205557</td>\n",
              "      <td>-1.116151</td>\n",
              "      <td>0.160196</td>\n",
              "      <td>-0.490428</td>\n",
              "      <td>-1.373389</td>\n",
              "      <td>...</td>\n",
              "      <td>-0.502693</td>\n",
              "      <td>-0.922706</td>\n",
              "      <td>-0.211426</td>\n",
              "      <td>-0.048428</td>\n",
              "      <td>-0.106226</td>\n",
              "      <td>-0.147557</td>\n",
              "      <td>-0.134851</td>\n",
              "      <td>-0.092455</td>\n",
              "      <td>0.765191</td>\n",
              "      <td>-0.601008</td>\n",
              "    </tr>\n",
              "    <tr>\n",
              "      <th>1</th>\n",
              "      <td>-1.463202</td>\n",
              "      <td>-0.271541</td>\n",
              "      <td>2.080152</td>\n",
              "      <td>0.556519</td>\n",
              "      <td>-0.146707</td>\n",
              "      <td>-1.205557</td>\n",
              "      <td>-1.116151</td>\n",
              "      <td>1.307875</td>\n",
              "      <td>-0.443207</td>\n",
              "      <td>-0.475854</td>\n",
              "      <td>...</td>\n",
              "      <td>-0.502693</td>\n",
              "      <td>-0.922706</td>\n",
              "      <td>-0.211426</td>\n",
              "      <td>-0.048428</td>\n",
              "      <td>-0.106226</td>\n",
              "      <td>-0.147557</td>\n",
              "      <td>-0.134851</td>\n",
              "      <td>-0.092455</td>\n",
              "      <td>0.765191</td>\n",
              "      <td>-0.601008</td>\n",
              "    </tr>\n",
              "    <tr>\n",
              "      <th>2</th>\n",
              "      <td>0.683432</td>\n",
              "      <td>0.068758</td>\n",
              "      <td>-0.026737</td>\n",
              "      <td>-0.257493</td>\n",
              "      <td>-0.135633</td>\n",
              "      <td>-1.205557</td>\n",
              "      <td>-1.116151</td>\n",
              "      <td>-0.987483</td>\n",
              "      <td>-0.714729</td>\n",
              "      <td>-0.475854</td>\n",
              "      <td>...</td>\n",
              "      <td>-0.502693</td>\n",
              "      <td>1.083768</td>\n",
              "      <td>-0.211426</td>\n",
              "      <td>-0.048428</td>\n",
              "      <td>-0.106226</td>\n",
              "      <td>-0.147557</td>\n",
              "      <td>-0.134851</td>\n",
              "      <td>-0.092455</td>\n",
              "      <td>0.765191</td>\n",
              "      <td>-0.601008</td>\n",
              "    </tr>\n",
              "    <tr>\n",
              "      <th>3</th>\n",
              "      <td>0.683432</td>\n",
              "      <td>0.156014</td>\n",
              "      <td>-0.026737</td>\n",
              "      <td>0.149513</td>\n",
              "      <td>-0.135633</td>\n",
              "      <td>-1.205557</td>\n",
              "      <td>-1.116151</td>\n",
              "      <td>0.619267</td>\n",
              "      <td>0.418579</td>\n",
              "      <td>0.421680</td>\n",
              "      <td>...</td>\n",
              "      <td>-0.502693</td>\n",
              "      <td>1.083768</td>\n",
              "      <td>-0.211426</td>\n",
              "      <td>-0.048428</td>\n",
              "      <td>-0.106226</td>\n",
              "      <td>-0.147557</td>\n",
              "      <td>-0.134851</td>\n",
              "      <td>-0.092455</td>\n",
              "      <td>0.765191</td>\n",
              "      <td>-0.601008</td>\n",
              "    </tr>\n",
              "    <tr>\n",
              "      <th>4</th>\n",
              "      <td>-1.463202</td>\n",
              "      <td>-0.149382</td>\n",
              "      <td>-0.026737</td>\n",
              "      <td>0.353016</td>\n",
              "      <td>-0.135633</td>\n",
              "      <td>-1.205557</td>\n",
              "      <td>-1.116151</td>\n",
              "      <td>0.160196</td>\n",
              "      <td>-0.030022</td>\n",
              "      <td>-0.475854</td>\n",
              "      <td>...</td>\n",
              "      <td>-0.502693</td>\n",
              "      <td>1.083768</td>\n",
              "      <td>-0.211426</td>\n",
              "      <td>-0.048428</td>\n",
              "      <td>-0.106226</td>\n",
              "      <td>-0.147557</td>\n",
              "      <td>-0.134851</td>\n",
              "      <td>-0.092455</td>\n",
              "      <td>0.765191</td>\n",
              "      <td>-0.601008</td>\n",
              "    </tr>\n",
              "  </tbody>\n",
              "</table>\n",
              "<p>5 rows × 26 columns</p>\n",
              "</div>\n",
              "      <button class=\"colab-df-convert\" onclick=\"convertToInteractive('df-09fc622a-bb0b-460d-854c-f0c6c12cc047')\"\n",
              "              title=\"Convert this dataframe to an interactive table.\"\n",
              "              style=\"display:none;\">\n",
              "        \n",
              "  <svg xmlns=\"http://www.w3.org/2000/svg\" height=\"24px\"viewBox=\"0 0 24 24\"\n",
              "       width=\"24px\">\n",
              "    <path d=\"M0 0h24v24H0V0z\" fill=\"none\"/>\n",
              "    <path d=\"M18.56 5.44l.94 2.06.94-2.06 2.06-.94-2.06-.94-.94-2.06-.94 2.06-2.06.94zm-11 1L8.5 8.5l.94-2.06 2.06-.94-2.06-.94L8.5 2.5l-.94 2.06-2.06.94zm10 10l.94 2.06.94-2.06 2.06-.94-2.06-.94-.94-2.06-.94 2.06-2.06.94z\"/><path d=\"M17.41 7.96l-1.37-1.37c-.4-.4-.92-.59-1.43-.59-.52 0-1.04.2-1.43.59L10.3 9.45l-7.72 7.72c-.78.78-.78 2.05 0 2.83L4 21.41c.39.39.9.59 1.41.59.51 0 1.02-.2 1.41-.59l7.78-7.78 2.81-2.81c.8-.78.8-2.07 0-2.86zM5.41 20L4 18.59l7.72-7.72 1.47 1.35L5.41 20z\"/>\n",
              "  </svg>\n",
              "      </button>\n",
              "      \n",
              "  <style>\n",
              "    .colab-df-container {\n",
              "      display:flex;\n",
              "      flex-wrap:wrap;\n",
              "      gap: 12px;\n",
              "    }\n",
              "\n",
              "    .colab-df-convert {\n",
              "      background-color: #E8F0FE;\n",
              "      border: none;\n",
              "      border-radius: 50%;\n",
              "      cursor: pointer;\n",
              "      display: none;\n",
              "      fill: #1967D2;\n",
              "      height: 32px;\n",
              "      padding: 0 0 0 0;\n",
              "      width: 32px;\n",
              "    }\n",
              "\n",
              "    .colab-df-convert:hover {\n",
              "      background-color: #E2EBFA;\n",
              "      box-shadow: 0px 1px 2px rgba(60, 64, 67, 0.3), 0px 1px 3px 1px rgba(60, 64, 67, 0.15);\n",
              "      fill: #174EA6;\n",
              "    }\n",
              "\n",
              "    [theme=dark] .colab-df-convert {\n",
              "      background-color: #3B4455;\n",
              "      fill: #D2E3FC;\n",
              "    }\n",
              "\n",
              "    [theme=dark] .colab-df-convert:hover {\n",
              "      background-color: #434B5C;\n",
              "      box-shadow: 0px 1px 3px 1px rgba(0, 0, 0, 0.15);\n",
              "      filter: drop-shadow(0px 1px 2px rgba(0, 0, 0, 0.3));\n",
              "      fill: #FFFFFF;\n",
              "    }\n",
              "  </style>\n",
              "\n",
              "      <script>\n",
              "        const buttonEl =\n",
              "          document.querySelector('#df-09fc622a-bb0b-460d-854c-f0c6c12cc047 button.colab-df-convert');\n",
              "        buttonEl.style.display =\n",
              "          google.colab.kernel.accessAllowed ? 'block' : 'none';\n",
              "\n",
              "        async function convertToInteractive(key) {\n",
              "          const element = document.querySelector('#df-09fc622a-bb0b-460d-854c-f0c6c12cc047');\n",
              "          const dataTable =\n",
              "            await google.colab.kernel.invokeFunction('convertToInteractive',\n",
              "                                                     [key], {});\n",
              "          if (!dataTable) return;\n",
              "\n",
              "          const docLinkHtml = 'Like what you see? Visit the ' +\n",
              "            '<a target=\"_blank\" href=https://colab.research.google.com/notebooks/data_table.ipynb>data table notebook</a>'\n",
              "            + ' to learn more about interactive tables.';\n",
              "          element.innerHTML = '';\n",
              "          dataTable['output_type'] = 'display_data';\n",
              "          await google.colab.output.renderOutput(dataTable, element);\n",
              "          const docLink = document.createElement('div');\n",
              "          docLink.innerHTML = docLinkHtml;\n",
              "          element.appendChild(docLink);\n",
              "        }\n",
              "      </script>\n",
              "    </div>\n",
              "  </div>\n",
              "  "
            ]
          },
          "metadata": {},
          "execution_count": 224
        }
      ]
    },
    {
      "cell_type": "code",
      "source": [
        "X_train, X_val, y_train, y_val = train_test_split(X_data, y_target, test_size=0.3,\n",
        "                                                   random_state=156)"
      ],
      "metadata": {
        "id": "irXTpM_ZMr-O"
      },
      "execution_count": 225,
      "outputs": []
    },
    {
      "cell_type": "code",
      "source": [
        "lr=LinearRegression()\n",
        "res = lr.fit(X_train, y_train)"
      ],
      "metadata": {
        "id": "RjooMrDjM0-e"
      },
      "execution_count": 226,
      "outputs": []
    },
    {
      "cell_type": "code",
      "source": [
        "y_preds = lr.predict(X_val)\n",
        "mse=mean_squared_error(y_val, y_preds)\n",
        "rmse=np.sqrt(mse)\n",
        "\n",
        "print('MSE : {0:.3f}, RMSE : {1:.3F}'.format(mse,rmse))\n",
        "print('Variance score : {0:.3f}'.format(r2_score(y_val,y_preds)))"
      ],
      "metadata": {
        "colab": {
          "base_uri": "https://localhost:8080/"
        },
        "id": "DAIUjbhGM4dY",
        "outputId": "44bbc188-f6c7-4709-8b15-c3823dc35620"
      },
      "execution_count": 227,
      "outputs": [
        {
          "output_type": "stream",
          "name": "stdout",
          "text": [
            "MSE : 9823.056, RMSE : 99.111\n",
            "Variance score : 0.372\n"
          ]
        }
      ]
    },
    {
      "cell_type": "code",
      "source": [],
      "metadata": {
        "id": "AQ0icfBeNCC_"
      },
      "execution_count": 227,
      "outputs": []
    }
  ]
}