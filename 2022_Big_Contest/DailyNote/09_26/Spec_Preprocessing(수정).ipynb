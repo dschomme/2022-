{
  "nbformat": 4,
  "nbformat_minor": 0,
  "metadata": {
    "colab": {
      "provenance": [],
      "collapsed_sections": []
    },
    "kernelspec": {
      "name": "python3",
      "display_name": "Python 3"
    },
    "language_info": {
      "name": "python"
    }
  },
  "cells": [
    {
      "cell_type": "markdown",
      "source": [
        "# 2022 빅콘테스트_spec 데이터 전처리\n",
        "## 우 걱정마세요"
      ],
      "metadata": {
        "id": "kb1lqh_Bdzmz"
      }
    },
    {
      "cell_type": "markdown",
      "source": [
        "##1. 라이브러리 및 패키지 불러오기"
      ],
      "metadata": {
        "id": "gA1pSsAQSYU-"
      }
    },
    {
      "cell_type": "code",
      "execution_count": 1,
      "metadata": {
        "id": "2xl3abhpSL6k"
      },
      "outputs": [],
      "source": [
        "import numpy as np\n",
        "import pandas as pd \n",
        "import matplotlib.pyplot as plt\n",
        "%matplotlib inline\n",
        "import seaborn as sns"
      ]
    },
    {
      "cell_type": "code",
      "source": [
        "from google.colab import drive\n",
        "drive.mount('/content/gdrive')"
      ],
      "metadata": {
        "colab": {
          "base_uri": "https://localhost:8080/"
        },
        "id": "uvRXAy4Vgpli",
        "outputId": "9266b429-b3fc-4d84-b641-4a7378cbb445"
      },
      "execution_count": 2,
      "outputs": [
        {
          "output_type": "stream",
          "name": "stdout",
          "text": [
            "Drive already mounted at /content/gdrive; to attempt to forcibly remount, call drive.mount(\"/content/gdrive\", force_remount=True).\n"
          ]
        }
      ]
    },
    {
      "cell_type": "code",
      "source": [
        "user_spec = pd.read_csv('/content/gdrive/MyDrive/BigContest_data/user_spec.csv')\n",
        "user_spec.head()"
      ],
      "metadata": {
        "colab": {
          "base_uri": "https://localhost:8080/",
          "height": 357
        },
        "id": "q6BluEspScUW",
        "outputId": "98c9f9b0-06e7-47d6-b2c8-7cae068a3a89"
      },
      "execution_count": 3,
      "outputs": [
        {
          "output_type": "execute_result",
          "data": {
            "text/plain": [
              "   application_id  user_id  birth_year  gender          insert_time  \\\n",
              "0         1249046   118218      1985.0     1.0  2022-06-07 06:28:18   \n",
              "1          954900   553686      1968.0     1.0  2022-06-07 14:29:03   \n",
              "2          137274    59516      1997.0     1.0  2022-06-07 21:40:22   \n",
              "3         1570936   167320      1989.0     1.0  2022-06-07 09:40:27   \n",
              "4          967833    33400      2000.0     1.0  2022-06-07 08:55:07   \n",
              "\n",
              "   credit_score  yearly_income      income_type  company_enter_month  \\\n",
              "0         660.0    108000000.0  PRIVATEBUSINESS           20151101.0   \n",
              "1         870.0     30000000.0  PRIVATEBUSINESS           20070201.0   \n",
              "2         710.0     30000000.0       FREELANCER           20210901.0   \n",
              "3         820.0     62000000.0     EARNEDINCOME           20170101.0   \n",
              "4         630.0     36000000.0     EARNEDINCOME           20210901.0   \n",
              "\n",
              "  employment_type houseown_type  desired_amount purpose  \\\n",
              "0              기타            자가       1000000.0      기타   \n",
              "1             정규직        기타가족소유      30000000.0    대환대출   \n",
              "2              기타        기타가족소유      10000000.0     생활비   \n",
              "3             정규직            자가       2000000.0     생활비   \n",
              "4             정규직        기타가족소유       5000000.0     생활비   \n",
              "\n",
              "   personal_rehabilitation_yn  personal_rehabilitation_complete_yn  \\\n",
              "0                         0.0                                  NaN   \n",
              "1                         0.0                                  NaN   \n",
              "2                         0.0                                  NaN   \n",
              "3                         0.0                                  NaN   \n",
              "4                         0.0                                  0.0   \n",
              "\n",
              "   existing_loan_cnt  existing_loan_amt  \n",
              "0                4.0        162000000.0  \n",
              "1                1.0         27000000.0  \n",
              "2                5.0         15000000.0  \n",
              "3                7.0        344000000.0  \n",
              "4                1.0         16000000.0  "
            ],
            "text/html": [
              "\n",
              "  <div id=\"df-7538cbca-f20b-48cf-97ee-7b09e1298418\">\n",
              "    <div class=\"colab-df-container\">\n",
              "      <div>\n",
              "<style scoped>\n",
              "    .dataframe tbody tr th:only-of-type {\n",
              "        vertical-align: middle;\n",
              "    }\n",
              "\n",
              "    .dataframe tbody tr th {\n",
              "        vertical-align: top;\n",
              "    }\n",
              "\n",
              "    .dataframe thead th {\n",
              "        text-align: right;\n",
              "    }\n",
              "</style>\n",
              "<table border=\"1\" class=\"dataframe\">\n",
              "  <thead>\n",
              "    <tr style=\"text-align: right;\">\n",
              "      <th></th>\n",
              "      <th>application_id</th>\n",
              "      <th>user_id</th>\n",
              "      <th>birth_year</th>\n",
              "      <th>gender</th>\n",
              "      <th>insert_time</th>\n",
              "      <th>credit_score</th>\n",
              "      <th>yearly_income</th>\n",
              "      <th>income_type</th>\n",
              "      <th>company_enter_month</th>\n",
              "      <th>employment_type</th>\n",
              "      <th>houseown_type</th>\n",
              "      <th>desired_amount</th>\n",
              "      <th>purpose</th>\n",
              "      <th>personal_rehabilitation_yn</th>\n",
              "      <th>personal_rehabilitation_complete_yn</th>\n",
              "      <th>existing_loan_cnt</th>\n",
              "      <th>existing_loan_amt</th>\n",
              "    </tr>\n",
              "  </thead>\n",
              "  <tbody>\n",
              "    <tr>\n",
              "      <th>0</th>\n",
              "      <td>1249046</td>\n",
              "      <td>118218</td>\n",
              "      <td>1985.0</td>\n",
              "      <td>1.0</td>\n",
              "      <td>2022-06-07 06:28:18</td>\n",
              "      <td>660.0</td>\n",
              "      <td>108000000.0</td>\n",
              "      <td>PRIVATEBUSINESS</td>\n",
              "      <td>20151101.0</td>\n",
              "      <td>기타</td>\n",
              "      <td>자가</td>\n",
              "      <td>1000000.0</td>\n",
              "      <td>기타</td>\n",
              "      <td>0.0</td>\n",
              "      <td>NaN</td>\n",
              "      <td>4.0</td>\n",
              "      <td>162000000.0</td>\n",
              "    </tr>\n",
              "    <tr>\n",
              "      <th>1</th>\n",
              "      <td>954900</td>\n",
              "      <td>553686</td>\n",
              "      <td>1968.0</td>\n",
              "      <td>1.0</td>\n",
              "      <td>2022-06-07 14:29:03</td>\n",
              "      <td>870.0</td>\n",
              "      <td>30000000.0</td>\n",
              "      <td>PRIVATEBUSINESS</td>\n",
              "      <td>20070201.0</td>\n",
              "      <td>정규직</td>\n",
              "      <td>기타가족소유</td>\n",
              "      <td>30000000.0</td>\n",
              "      <td>대환대출</td>\n",
              "      <td>0.0</td>\n",
              "      <td>NaN</td>\n",
              "      <td>1.0</td>\n",
              "      <td>27000000.0</td>\n",
              "    </tr>\n",
              "    <tr>\n",
              "      <th>2</th>\n",
              "      <td>137274</td>\n",
              "      <td>59516</td>\n",
              "      <td>1997.0</td>\n",
              "      <td>1.0</td>\n",
              "      <td>2022-06-07 21:40:22</td>\n",
              "      <td>710.0</td>\n",
              "      <td>30000000.0</td>\n",
              "      <td>FREELANCER</td>\n",
              "      <td>20210901.0</td>\n",
              "      <td>기타</td>\n",
              "      <td>기타가족소유</td>\n",
              "      <td>10000000.0</td>\n",
              "      <td>생활비</td>\n",
              "      <td>0.0</td>\n",
              "      <td>NaN</td>\n",
              "      <td>5.0</td>\n",
              "      <td>15000000.0</td>\n",
              "    </tr>\n",
              "    <tr>\n",
              "      <th>3</th>\n",
              "      <td>1570936</td>\n",
              "      <td>167320</td>\n",
              "      <td>1989.0</td>\n",
              "      <td>1.0</td>\n",
              "      <td>2022-06-07 09:40:27</td>\n",
              "      <td>820.0</td>\n",
              "      <td>62000000.0</td>\n",
              "      <td>EARNEDINCOME</td>\n",
              "      <td>20170101.0</td>\n",
              "      <td>정규직</td>\n",
              "      <td>자가</td>\n",
              "      <td>2000000.0</td>\n",
              "      <td>생활비</td>\n",
              "      <td>0.0</td>\n",
              "      <td>NaN</td>\n",
              "      <td>7.0</td>\n",
              "      <td>344000000.0</td>\n",
              "    </tr>\n",
              "    <tr>\n",
              "      <th>4</th>\n",
              "      <td>967833</td>\n",
              "      <td>33400</td>\n",
              "      <td>2000.0</td>\n",
              "      <td>1.0</td>\n",
              "      <td>2022-06-07 08:55:07</td>\n",
              "      <td>630.0</td>\n",
              "      <td>36000000.0</td>\n",
              "      <td>EARNEDINCOME</td>\n",
              "      <td>20210901.0</td>\n",
              "      <td>정규직</td>\n",
              "      <td>기타가족소유</td>\n",
              "      <td>5000000.0</td>\n",
              "      <td>생활비</td>\n",
              "      <td>0.0</td>\n",
              "      <td>0.0</td>\n",
              "      <td>1.0</td>\n",
              "      <td>16000000.0</td>\n",
              "    </tr>\n",
              "  </tbody>\n",
              "</table>\n",
              "</div>\n",
              "      <button class=\"colab-df-convert\" onclick=\"convertToInteractive('df-7538cbca-f20b-48cf-97ee-7b09e1298418')\"\n",
              "              title=\"Convert this dataframe to an interactive table.\"\n",
              "              style=\"display:none;\">\n",
              "        \n",
              "  <svg xmlns=\"http://www.w3.org/2000/svg\" height=\"24px\"viewBox=\"0 0 24 24\"\n",
              "       width=\"24px\">\n",
              "    <path d=\"M0 0h24v24H0V0z\" fill=\"none\"/>\n",
              "    <path d=\"M18.56 5.44l.94 2.06.94-2.06 2.06-.94-2.06-.94-.94-2.06-.94 2.06-2.06.94zm-11 1L8.5 8.5l.94-2.06 2.06-.94-2.06-.94L8.5 2.5l-.94 2.06-2.06.94zm10 10l.94 2.06.94-2.06 2.06-.94-2.06-.94-.94-2.06-.94 2.06-2.06.94z\"/><path d=\"M17.41 7.96l-1.37-1.37c-.4-.4-.92-.59-1.43-.59-.52 0-1.04.2-1.43.59L10.3 9.45l-7.72 7.72c-.78.78-.78 2.05 0 2.83L4 21.41c.39.39.9.59 1.41.59.51 0 1.02-.2 1.41-.59l7.78-7.78 2.81-2.81c.8-.78.8-2.07 0-2.86zM5.41 20L4 18.59l7.72-7.72 1.47 1.35L5.41 20z\"/>\n",
              "  </svg>\n",
              "      </button>\n",
              "      \n",
              "  <style>\n",
              "    .colab-df-container {\n",
              "      display:flex;\n",
              "      flex-wrap:wrap;\n",
              "      gap: 12px;\n",
              "    }\n",
              "\n",
              "    .colab-df-convert {\n",
              "      background-color: #E8F0FE;\n",
              "      border: none;\n",
              "      border-radius: 50%;\n",
              "      cursor: pointer;\n",
              "      display: none;\n",
              "      fill: #1967D2;\n",
              "      height: 32px;\n",
              "      padding: 0 0 0 0;\n",
              "      width: 32px;\n",
              "    }\n",
              "\n",
              "    .colab-df-convert:hover {\n",
              "      background-color: #E2EBFA;\n",
              "      box-shadow: 0px 1px 2px rgba(60, 64, 67, 0.3), 0px 1px 3px 1px rgba(60, 64, 67, 0.15);\n",
              "      fill: #174EA6;\n",
              "    }\n",
              "\n",
              "    [theme=dark] .colab-df-convert {\n",
              "      background-color: #3B4455;\n",
              "      fill: #D2E3FC;\n",
              "    }\n",
              "\n",
              "    [theme=dark] .colab-df-convert:hover {\n",
              "      background-color: #434B5C;\n",
              "      box-shadow: 0px 1px 3px 1px rgba(0, 0, 0, 0.15);\n",
              "      filter: drop-shadow(0px 1px 2px rgba(0, 0, 0, 0.3));\n",
              "      fill: #FFFFFF;\n",
              "    }\n",
              "  </style>\n",
              "\n",
              "      <script>\n",
              "        const buttonEl =\n",
              "          document.querySelector('#df-7538cbca-f20b-48cf-97ee-7b09e1298418 button.colab-df-convert');\n",
              "        buttonEl.style.display =\n",
              "          google.colab.kernel.accessAllowed ? 'block' : 'none';\n",
              "\n",
              "        async function convertToInteractive(key) {\n",
              "          const element = document.querySelector('#df-7538cbca-f20b-48cf-97ee-7b09e1298418');\n",
              "          const dataTable =\n",
              "            await google.colab.kernel.invokeFunction('convertToInteractive',\n",
              "                                                     [key], {});\n",
              "          if (!dataTable) return;\n",
              "\n",
              "          const docLinkHtml = 'Like what you see? Visit the ' +\n",
              "            '<a target=\"_blank\" href=https://colab.research.google.com/notebooks/data_table.ipynb>data table notebook</a>'\n",
              "            + ' to learn more about interactive tables.';\n",
              "          element.innerHTML = '';\n",
              "          dataTable['output_type'] = 'display_data';\n",
              "          await google.colab.output.renderOutput(dataTable, element);\n",
              "          const docLink = document.createElement('div');\n",
              "          docLink.innerHTML = docLinkHtml;\n",
              "          element.appendChild(docLink);\n",
              "        }\n",
              "      </script>\n",
              "    </div>\n",
              "  </div>\n",
              "  "
            ]
          },
          "metadata": {},
          "execution_count": 3
        }
      ]
    },
    {
      "cell_type": "code",
      "source": [
        "loan_result = pd.read_csv('/content/gdrive/MyDrive/BigContest_data/loan_result.csv')\n",
        "loan_result"
      ],
      "metadata": {
        "id": "2uhedkMNke58"
      },
      "execution_count": null,
      "outputs": []
    },
    {
      "cell_type": "markdown",
      "source": [
        "##2. 결측값이 9개 이상인 row 제거"
      ],
      "metadata": {
        "id": "dt4ZKN8OSvwJ"
      }
    },
    {
      "cell_type": "code",
      "source": [
        "respec = user_spec\n",
        "drop_application_id = list(set(respec['application_id'])-set(loan_result['application_id']))"
      ],
      "metadata": {
        "id": "MY3oJwpJkPTn"
      },
      "execution_count": null,
      "outputs": []
    },
    {
      "cell_type": "code",
      "source": [
        "respec.drop(respec[respec['application_id'].isin(drop_application_id)].index,inplace=True)"
      ],
      "metadata": {
        "id": "2Vv5Ow6xkvfg"
      },
      "execution_count": null,
      "outputs": []
    },
    {
      "cell_type": "markdown",
      "source": [
        "##3. yearly_income 컬럼"
      ],
      "metadata": {
        "id": "27M-NeIvaMRT"
      }
    },
    {
      "cell_type": "code",
      "source": [
        "respec[respec['yearly_income'].isnull()]"
      ],
      "metadata": {
        "id": "4wSxvgTdceAL"
      },
      "execution_count": null,
      "outputs": []
    },
    {
      "cell_type": "code",
      "source": [
        "respec.loc[respec['yearly_income'].isnull(), 'yearly_income'] = 0"
      ],
      "metadata": {
        "id": "MLWConalZrlu"
      },
      "execution_count": null,
      "outputs": []
    },
    {
      "cell_type": "markdown",
      "source": [
        "## 4. purpose 컬럼"
      ],
      "metadata": {
        "id": "cy14KBCsT9wS"
      }
    },
    {
      "cell_type": "code",
      "source": [
        "respec['purpose'].unique()"
      ],
      "metadata": {
        "id": "0ZKBYv2DT6bz"
      },
      "execution_count": null,
      "outputs": []
    },
    {
      "cell_type": "code",
      "source": [
        "respec['purpose'] = respec['purpose'].replace(\"기타\", 'ETC').replace(\"대환대출\", 'SWITCHLOAN').replace(\"생활비\", 'LIVING').replace(\"사업자금\", \"BUSINESS\").replace(\"주택구입\", 'BUYHOUSE').replace(\"전월세보증금\", 'HOUSEDEPOSIT').replace(\"투자\", 'INVEST').replace(\"자동차구입\", 'BUYCAR')\n"
      ],
      "metadata": {
        "id": "sgxVH6_AUQ4q"
      },
      "execution_count": null,
      "outputs": []
    },
    {
      "cell_type": "code",
      "source": [
        "respec.groupby(['purpose']).mean()"
      ],
      "metadata": {
        "id": "NZrTt2g_WBAj"
      },
      "execution_count": null,
      "outputs": []
    },
    {
      "cell_type": "markdown",
      "source": [
        "##5. birth_year 컬럼\n",
        "* birth_year을 나이로 바꿔주었음.\n",
        "* 나이를 10단위로 바꿔주었고, 70이상의 값은 70으로 처리\n",
        "* yearly_income을 기준으로 null값을 채움"
      ],
      "metadata": {
        "id": "KAFgymLHTPAR"
      }
    },
    {
      "cell_type": "code",
      "source": [
        "# 유저 성별이 다른 신청서에는 있지만 결측치가 있는 유저들 처리\n",
        "gender_null = set(respec[(respec['user_id'].isin(set(respec[respec['gender'].isnull()]['user_id'])))&(respec['gender'].notnull())]['user_id'])"
      ],
      "metadata": {
        "id": "KPC72N30lnsq"
      },
      "execution_count": null,
      "outputs": []
    },
    {
      "cell_type": "code",
      "source": [
        "for i in gender_null:\n",
        "    respec.loc[(respec['user_id']==i)&(respec['birth_year'].isnull()),'birth_year'] = respec[respec['user_id'] == i]['birth_year'].dropna().unique().item()\n",
        "    respec.loc[(respec['user_id']==i)&(respec['gender'].isnull()),'gender'] = respec[respec['user_id'] == i]['gender'].dropna().unique().item()"
      ],
      "metadata": {
        "id": "_junfWLwmOv4"
      },
      "execution_count": null,
      "outputs": []
    },
    {
      "cell_type": "code",
      "source": [
        "plt.figure(figsize=(30,8))\n",
        "sns.distplot(respec['birth_year'])\n",
        "plt.show()"
      ],
      "metadata": {
        "id": "uiVZp-xRTJ0d"
      },
      "execution_count": null,
      "outputs": []
    },
    {
      "cell_type": "code",
      "source": [
        "respec['age'] = 2023 - respec['birth_year']"
      ],
      "metadata": {
        "id": "TJuHf2rCTheD"
      },
      "execution_count": null,
      "outputs": []
    },
    {
      "cell_type": "code",
      "source": [
        "plt.figure(figsize=(30,8))\n",
        "sns.distplot(respec['age'])\n",
        "plt.show()"
      ],
      "metadata": {
        "id": "UDVe3bbSTw-d"
      },
      "execution_count": null,
      "outputs": []
    },
    {
      "cell_type": "code",
      "source": [
        "respec.loc[respec['age'] < 20, 'reage'] = 10\n",
        "respec.loc[(respec['age'] >= 20) & (respec['age'] <30), 'reage'] = 20\n",
        "respec.loc[(respec['age'] >= 30) & (respec['age'] <40), 'reage'] = 30\n",
        "respec.loc[(respec['age'] >= 40) & (respec['age'] <50), 'reage'] = 40\n",
        "respec.loc[(respec['age'] >= 50) & (respec['age'] <60), 'reage'] = 50\n",
        "respec.loc[(respec['age'] >= 60) & (respec['age'] <70), 'reage'] = 60\n",
        "respec.loc[respec['age'] >= 70, 'reage'] = 70"
      ],
      "metadata": {
        "id": "kdPzqWLmTzRA"
      },
      "execution_count": null,
      "outputs": []
    },
    {
      "cell_type": "code",
      "source": [
        "respec_group = respec.groupby(['reage']).mean()\n",
        "respec_group = respec_group.reset_index()"
      ],
      "metadata": {
        "id": "vuduL2HNU_1D"
      },
      "execution_count": null,
      "outputs": []
    },
    {
      "cell_type": "code",
      "source": [
        "respec_group"
      ],
      "metadata": {
        "id": "rKo5PlUewBOe"
      },
      "execution_count": null,
      "outputs": []
    },
    {
      "cell_type": "code",
      "source": [
        "respec.loc[(respec['reage'].isnull()) & (respec['yearly_income'] < respec_group[respec_group['reage'] == 20]['yearly_income'].item()), 'reage'] = 10\n",
        "respec.loc[(respec['reage'].isnull()) & (respec['yearly_income'] >= respec_group[respec_group['reage'] == 20]['yearly_income'].item()) & (respec['yearly_income'] < respec_group[respec_group['reage'] == 70]['yearly_income'].item()), 'reage'] = 20\n",
        "respec.loc[(respec['reage'].isnull()) & (respec['yearly_income'] >= respec_group[respec_group['reage'] == 70]['yearly_income'].item()) & (respec['yearly_income'] < respec_group[respec_group['reage'] == 30]['yearly_income'].item()), 'reage'] = 70\n",
        "respec.loc[(respec['reage'].isnull()) & (respec['yearly_income'] >= respec_group[respec_group['reage'] == 30]['yearly_income'].item()) & (respec['yearly_income'] < respec_group[respec_group['reage'] == 60]['yearly_income'].item()), 'reage'] = 30\n",
        "respec.loc[(respec['reage'].isnull()) & (respec['yearly_income'] >= respec_group[respec_group['reage'] == 60]['yearly_income'].item()) & (respec['yearly_income'] < respec_group[respec_group['reage'] == 40]['yearly_income'].item()\t), 'reage'] = 60\n",
        "respec.loc[(respec['reage'].isnull()) & (respec['yearly_income'] >= respec_group[respec_group['reage'] == 40]['yearly_income'].item()) & (respec['yearly_income'] < respec_group[respec_group['reage'] == 50]['yearly_income'].item()), 'reage'] = 40\n",
        "respec.loc[(respec['reage'].isnull()) & (respec['yearly_income'] >= respec_group[respec_group['reage'] == 50]['yearly_income'].item()) , 'reage'] = 50"
      ],
      "metadata": {
        "id": "j4CtVgpdU_5W"
      },
      "execution_count": null,
      "outputs": []
    },
    {
      "cell_type": "code",
      "source": [
        "respec = respec.drop(['birth_year', 'age'], axis = 1)"
      ],
      "metadata": {
        "id": "IIADbEoXYQUV"
      },
      "execution_count": null,
      "outputs": []
    },
    {
      "cell_type": "markdown",
      "source": [
        "## 6. gender 컬럼"
      ],
      "metadata": {
        "id": "jxIBwWjPd-mS"
      }
    },
    {
      "cell_type": "code",
      "source": [
        "respec['income_type'].unique()"
      ],
      "metadata": {
        "id": "GbbOwOuLeWxX"
      },
      "execution_count": null,
      "outputs": []
    },
    {
      "cell_type": "code",
      "source": [
        "sample1 = respec[(respec['gender'].notnull()) & (respec['income_type'] == 'PRIVATEBUSINESS')]['gender'].value_counts()\n",
        "\n",
        "per_0 = sample1[0] / (sample1[1] + sample1[0])\n",
        "per_0 = (per_0*100).round(0)"
      ],
      "metadata": {
        "id": "rWGqCHtHzomW"
      },
      "execution_count": null,
      "outputs": []
    },
    {
      "cell_type": "code",
      "source": [
        "# income_type == 1\n",
        "rnd_num = np.random.uniform(0, 1, 1)\n",
        "\n",
        "if rnd_num > per_0:\n",
        "  respec.loc[(respec['gender'].isnull()) & (respec['income_type'] == 'PRIVATEBUSINESS'), 'gender'] = 1\n",
        "else:\n",
        "  respec.loc[(respec['gender'].isnull()) & (respec['income_type'] == 'PRIVATEBUSINESS'), 'gender'] = 0"
      ],
      "metadata": {
        "id": "_OrhSjP6ecAh"
      },
      "execution_count": null,
      "outputs": []
    },
    {
      "cell_type": "code",
      "source": [
        "sample1 = respec[(respec['gender'].notnull()) & (respec['income_type'] == 'FREELANCER')]['gender'].value_counts()\n",
        "\n",
        "per_0 = sample1[0] / (sample1[1] + sample1[0])\n",
        "per_0 = (per_0*100).round(0)"
      ],
      "metadata": {
        "id": "2lv8L_lJ1zx5"
      },
      "execution_count": null,
      "outputs": []
    },
    {
      "cell_type": "code",
      "source": [
        "# income_type == 2\n",
        "rnd_num = np.random.uniform(0, 1, 1)\n",
        "\n",
        "if rnd_num > per_0:\n",
        "  respec.loc[(respec['gender'].isnull()) & (respec['income_type'] == 'FREELANCER'), 'gender'] = 1\n",
        "else:\n",
        "  respec.loc[(respec['gender'].isnull()) & (respec['income_type'] == 'FREELANCER'), 'gender'] = 0"
      ],
      "metadata": {
        "id": "bjrOASf1ekTN"
      },
      "execution_count": null,
      "outputs": []
    },
    {
      "cell_type": "code",
      "source": [
        "sample1 = respec[(respec['gender'].notnull()) & (respec['income_type'] == 'EARNEDINCOME')]['gender'].value_counts()\n",
        "\n",
        "per_0 = sample1[0] / (sample1[1] + sample1[0])\n",
        "per_0 = (per_0*100).round(0)"
      ],
      "metadata": {
        "id": "utAObSvG149Q"
      },
      "execution_count": null,
      "outputs": []
    },
    {
      "cell_type": "code",
      "source": [
        "# income_type == 3\n",
        "rnd_num = np.random.uniform(0, 1, 1)\n",
        "\n",
        "if rnd_num > per_0:\n",
        "  respec.loc[(respec['gender'].isnull()) & (respec['income_type'] == 'EARNEDINCOME'), 'gender'] = 1\n",
        "else:\n",
        "  respec.loc[(respec['gender'].isnull()) & (respec['income_type'] == 'EARNEDINCOME'), 'gender'] = 0"
      ],
      "metadata": {
        "id": "jN-wgoZIelR9"
      },
      "execution_count": null,
      "outputs": []
    },
    {
      "cell_type": "code",
      "source": [
        "sample1 = respec[(respec['gender'].notnull()) & (respec['income_type'] == 'OTHERINCOME')]['gender'].value_counts()\n",
        "\n",
        "per_0 = sample1[0] / (sample1[1] + sample1[0])\n",
        "per_0 = (per_0*100).round(0)"
      ],
      "metadata": {
        "id": "WD1jGpjF2AWc"
      },
      "execution_count": null,
      "outputs": []
    },
    {
      "cell_type": "code",
      "source": [
        "# income_type == 4\n",
        "rnd_num = np.random.uniform(0, 1, 1)\n",
        "\n",
        "if rnd_num > per_0:\n",
        "  respec.loc[(respec['gender'].isnull()) & (respec['income_type'] == 'OTHERINCOME'), 'gender'] = 1\n",
        "else:\n",
        "  respec.loc[(respec['gender'].isnull()) & (respec['income_type'] == 'OTHERINCOME'), 'gender'] = 0"
      ],
      "metadata": {
        "id": "-PuvyTp-emLv"
      },
      "execution_count": null,
      "outputs": []
    },
    {
      "cell_type": "code",
      "source": [
        "sample1 = respec[(respec['gender'].notnull()) & (respec['income_type'] == 'EARNEDINCOME2')]['gender'].value_counts()\n",
        "\n",
        "per_0 = sample1[0] / (sample1[1] + sample1[0])\n",
        "per_0 = (per_0*100).round(0)"
      ],
      "metadata": {
        "id": "G5Qki9OA2FBT"
      },
      "execution_count": null,
      "outputs": []
    },
    {
      "cell_type": "code",
      "source": [
        "# income_type == 5\n",
        "rnd_num = np.random.uniform(0, 1, 1)\n",
        "\n",
        "if rnd_num > per_0:\n",
        "  respec.loc[(respec['gender'].isnull()) & (respec['income_type'] == 'EARNEDINCOME2'), 'gender'] = 1\n",
        "else:\n",
        "  respec.loc[(respec['gender'].isnull()) & (respec['income_type'] == 'EARNEDINCOME2'), 'gender'] = 0"
      ],
      "metadata": {
        "id": "ZPaCDJ87enkf"
      },
      "execution_count": null,
      "outputs": []
    },
    {
      "cell_type": "code",
      "source": [
        "sample1 = respec[(respec['gender'].notnull()) & (respec['income_type'] == 'PRACTITIONER')]['gender'].value_counts()\n",
        "\n",
        "per_0 = sample1[0] / (sample1[1] + sample1[0])\n",
        "per_0 = (per_0*100).round(0)"
      ],
      "metadata": {
        "id": "XN_jkUXP2Fhj"
      },
      "execution_count": null,
      "outputs": []
    },
    {
      "cell_type": "code",
      "source": [
        "# income_type == 6\n",
        "rnd_num = np.random.uniform(0, 1, 1)\n",
        "\n",
        "if rnd_num > per_0:\n",
        "  respec.loc[(respec['gender'].isnull()) & (respec['income_type'] == 'PRACTITIONER'), 'gender'] = 1\n",
        "else:\n",
        "  respec.loc[(respec['gender'].isnull()) & (respec['income_type'] == 'PRACTITIONER'), 'gender'] = 0"
      ],
      "metadata": {
        "id": "CsKsx9jNeowy"
      },
      "execution_count": null,
      "outputs": []
    },
    {
      "cell_type": "code",
      "source": [
        "respec['gender'] = respec['gender'].astype(str)"
      ],
      "metadata": {
        "id": "r-DLwxeM0kHA"
      },
      "execution_count": null,
      "outputs": []
    },
    {
      "cell_type": "markdown",
      "source": [
        "## 7. company_enter_month 컬럼"
      ],
      "metadata": {
        "id": "IKU6L5CZe5bn"
      }
    },
    {
      "cell_type": "code",
      "source": [
        "respec.loc[(respec['company_enter_month'] < 10000000),'company_enter_month'] = respec['company_enter_month'] / 100"
      ],
      "metadata": {
        "id": "DGNvZnO1eqLH"
      },
      "execution_count": null,
      "outputs": []
    },
    {
      "cell_type": "code",
      "source": [
        "respec.loc[(respec['company_enter_month'] >= 10000000),'company_enter_month'] = respec['company_enter_month'] / 10000"
      ],
      "metadata": {
        "id": "V3jX9xHHkwEv"
      },
      "execution_count": null,
      "outputs": []
    },
    {
      "cell_type": "code",
      "source": [
        "respec['company_enter_month'] = respec['company_enter_month'].round()"
      ],
      "metadata": {
        "id": "sMorshF-e9mL"
      },
      "execution_count": null,
      "outputs": []
    },
    {
      "cell_type": "code",
      "source": [
        "respec.groupby(['reage'])['company_enter_month'].mean()"
      ],
      "metadata": {
        "id": "DbbQT6PmixFE"
      },
      "execution_count": null,
      "outputs": []
    },
    {
      "cell_type": "code",
      "source": [
        "respec.loc[(respec['company_enter_month'].isnull()) & (respec['reage'] <= 10),'company_enter_month'] = 2020\n",
        "respec.loc[(respec['company_enter_month'].isnull()) & (respec['reage'] > 10) & (respec['reage'] <= 20),'company_enter_month'] = 2021\n",
        "respec.loc[(respec['company_enter_month'].isnull()) & (respec['reage'] > 20) & (respec['reage'] <= 30),'company_enter_month'] = 2020\n",
        "respec.loc[(respec['company_enter_month'].isnull()) & (respec['reage'] > 30) & (respec['reage'] <= 40),'company_enter_month'] = 2017\n",
        "respec.loc[(respec['company_enter_month'].isnull()) & (respec['reage'] > 40) & (respec['reage'] <= 50),'company_enter_month'] = 2016\n",
        "respec.loc[(respec['company_enter_month'].isnull()) & (respec['reage'] > 50) & (respec['reage'] <= 60),'company_enter_month'] = 2017\n",
        "respec.loc[(respec['company_enter_month'].isnull()) & (respec['reage'] > 60),'company_enter_month'] = 2018"
      ],
      "metadata": {
        "id": "VeGbn71Uj4Zz"
      },
      "execution_count": null,
      "outputs": []
    },
    {
      "cell_type": "code",
      "source": [
        "respec['career'] = 2022 - respec['company_enter_month'] + 1"
      ],
      "metadata": {
        "id": "LuKfUiKY2Zyh"
      },
      "execution_count": null,
      "outputs": []
    },
    {
      "cell_type": "code",
      "source": [
        "respec = respec.drop(['company_enter_month'], axis = 1)"
      ],
      "metadata": {
        "id": "pb4RjX8l2wwY"
      },
      "execution_count": null,
      "outputs": []
    },
    {
      "cell_type": "markdown",
      "source": [
        "## 7. existing_loan_cnt"
      ],
      "metadata": {
        "id": "FcAiW54wfH5v"
      }
    },
    {
      "cell_type": "code",
      "source": [
        "respec.loc[respec['existing_loan_cnt'].isnull(), 'existing_loan_cnt'] = 0"
      ],
      "metadata": {
        "id": "LmSTDgyofWBM"
      },
      "execution_count": null,
      "outputs": []
    },
    {
      "cell_type": "markdown",
      "source": [
        "## 8. existing_loan_amt"
      ],
      "metadata": {
        "id": "L3-P6r1yfuSy"
      }
    },
    {
      "cell_type": "code",
      "source": [
        "respec.loc[(respec['existing_loan_amt'].isnull()) & (respec['existing_loan_cnt']==0), 'existing_loan_amt'] = 0"
      ],
      "metadata": {
        "id": "_NHvshJQf3Lk"
      },
      "execution_count": null,
      "outputs": []
    },
    {
      "cell_type": "code",
      "source": [
        "print(respec['existing_loan_amt'].describe())"
      ],
      "metadata": {
        "id": "UW29DLwXgfwz"
      },
      "execution_count": null,
      "outputs": []
    },
    {
      "cell_type": "code",
      "source": [
        "respec.loc[(respec['existing_loan_amt'].isnull()), 'existing_loan_amt'] = (7.700000e+07 + 1.000000e+07) /2"
      ],
      "metadata": {
        "id": "Go46FVzkf5vS"
      },
      "execution_count": null,
      "outputs": []
    },
    {
      "cell_type": "markdown",
      "source": [
        "## 9. personal_rehabilitation_yn"
      ],
      "metadata": {
        "id": "bEXBtk_Svw7w"
      }
    },
    {
      "cell_type": "code",
      "source": [
        "pry_400 =respec[respec['credit_score']<=400]\n",
        "pry_400.head()"
      ],
      "metadata": {
        "id": "M-ApJlogv_3A"
      },
      "execution_count": null,
      "outputs": []
    },
    {
      "cell_type": "code",
      "source": [
        "respec['personal_rehabilitation_yn'] = pry_400['personal_rehabilitation_yn'].fillna(1)"
      ],
      "metadata": {
        "id": "NCihFPYFyrIC"
      },
      "execution_count": null,
      "outputs": []
    },
    {
      "cell_type": "code",
      "source": [
        "respec['personal_rehabilitation_yn'].isnull().sum()"
      ],
      "metadata": {
        "id": "P-AWKwOIzmAO"
      },
      "execution_count": null,
      "outputs": []
    },
    {
      "cell_type": "code",
      "source": [
        "df=respec[respec['personal_rehabilitation_yn'].isnull()]\n",
        "df_sample = df.sample(n=569011, random_state=100)\n",
        "df_sample"
      ],
      "metadata": {
        "id": "pJHdk3AOCeNs"
      },
      "execution_count": null,
      "outputs": []
    },
    {
      "cell_type": "code",
      "source": [
        "respec['personal_rehabilitation_yn'] = df_sample['personal_rehabilitation_yn'].fillna(0)"
      ],
      "metadata": {
        "id": "451ax9mkCvf2"
      },
      "execution_count": null,
      "outputs": []
    },
    {
      "cell_type": "code",
      "source": [
        "respec['personal_rehabilitation_yn'].isnull().sum()"
      ],
      "metadata": {
        "id": "TNl1AIy225Pi"
      },
      "execution_count": null,
      "outputs": []
    },
    {
      "cell_type": "code",
      "source": [
        "respec['personal_rehabilitation_yn'] = respec['personal_rehabilitation_yn'].fillna(1)"
      ],
      "metadata": {
        "id": "gTbeNy4l25co"
      },
      "execution_count": null,
      "outputs": []
    },
    {
      "cell_type": "code",
      "source": [
        "respec['personal_rehabilitation_yn'].isnull().sum()"
      ],
      "metadata": {
        "id": "mcaafnhKCyit"
      },
      "execution_count": null,
      "outputs": []
    },
    {
      "cell_type": "markdown",
      "source": [
        "## 10. personal_rehabilitation_complete_yn"
      ],
      "metadata": {
        "id": "YTiSGBkzx7A5"
      }
    },
    {
      "cell_type": "code",
      "source": [
        "pr_0 = respec['personal_rehabilitation_yn'] == 0\n",
        "prc_0 = respec['personal_rehabilitation_complete_yn'] == 0\n",
        "\n",
        "subset = respec[pr_0 & prc_0]\n",
        "subset"
      ],
      "metadata": {
        "id": "4qgmllMIv_5p"
      },
      "execution_count": null,
      "outputs": []
    },
    {
      "cell_type": "code",
      "source": [
        "subset['personal_rehabilitation_complete_yn'] =subset['personal_rehabilitation_complete_yn'].replace(0, 2)\n",
        "subset"
      ],
      "metadata": {
        "id": "hJs6bjAWnwIj"
      },
      "execution_count": null,
      "outputs": []
    },
    {
      "cell_type": "code",
      "source": [
        "pr_1 = respec['personal_rehabilitation_yn'] != 0\n",
        "prc_1 = respec['personal_rehabilitation_complete_yn'] != 0\n",
        "\n",
        "subset1 = respec[pr_1 | prc_1]"
      ],
      "metadata": {
        "id": "kXypXT48n30_"
      },
      "execution_count": null,
      "outputs": []
    },
    {
      "cell_type": "code",
      "source": [
        "prcy_600 =respec[respec['credit_score']>=600]\n",
        "prcy_600.head()"
      ],
      "metadata": {
        "id": "Z_oJh7IcF9Iu"
      },
      "execution_count": null,
      "outputs": []
    },
    {
      "cell_type": "code",
      "source": [
        "respec['personal_rehabilitation_complete_yn'] = prcy_600['personal_rehabilitation_complete_yn'].fillna(1)"
      ],
      "metadata": {
        "id": "Y7rwYm2eGGXx"
      },
      "execution_count": null,
      "outputs": []
    },
    {
      "cell_type": "code",
      "source": [
        "respec['personal_rehabilitation_complete_yn'].isnull().sum()"
      ],
      "metadata": {
        "id": "u1ZovtzDJV4N"
      },
      "execution_count": null,
      "outputs": []
    },
    {
      "cell_type": "code",
      "source": [
        "respec['personal_rehabilitation_complete_yn'] = respec['personal_rehabilitation_complete_yn'].fillna(0)"
      ],
      "metadata": {
        "id": "_m9JZWX1JvL-"
      },
      "execution_count": null,
      "outputs": []
    },
    {
      "cell_type": "code",
      "source": [
        "respec['personal_rehabilitation_complete_yn'].isnull().sum()"
      ],
      "metadata": {
        "id": "l8AeMqHGJw_6"
      },
      "execution_count": null,
      "outputs": []
    },
    {
      "cell_type": "code",
      "source": [
        "respec.isnull().sum()"
      ],
      "metadata": {
        "id": "HqI9kTE5DAKS"
      },
      "execution_count": null,
      "outputs": []
    },
    {
      "cell_type": "code",
      "source": [
        "respec.to_csv(\"respec.csv\", index = False)"
      ],
      "metadata": {
        "id": "yOBWfXHIBztR"
      },
      "execution_count": null,
      "outputs": []
    }
  ]
}