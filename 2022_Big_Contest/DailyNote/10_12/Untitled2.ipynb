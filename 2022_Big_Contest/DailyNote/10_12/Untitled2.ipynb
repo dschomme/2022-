{
 "cells": [
  {
   "cell_type": "code",
   "execution_count": 32,
   "metadata": {},
   "outputs": [],
   "source": [
    "import numpy as np\n",
    "import pandas as pd\n",
    "import matplotlib.pyplot as plt\n",
    "%matplotlib inline\n",
    "import seaborn as sns\n",
    "import pandas_profiling \n",
    "\n",
    "# 전처리\n",
    "from sklearn.preprocessing import LabelEncoder, StandardScaler\n",
    "\n",
    "# 데이터 분할\n",
    "from sklearn.model_selection import StratifiedKFold, KFold, GridSearchCV\n",
    "\n",
    "# 모델링\n",
    "import xgboost as xgb\n",
    "from sklearn.model_selection import train_test_split\n",
    "from sklearn.metrics import accuracy_score\n",
    "from sklearn.ensemble import RandomForestClassifier\n",
    "from sklearn.neighbors import KNeighborsClassifier\n",
    "import lightgbm as lgbm\n",
    "\n",
    "# 평가지표\n",
    "from sklearn.metrics import accuracy_score, f1_score, mean_squared_error\n",
    "#\n",
    "import warnings"
   ]
  },
  {
   "cell_type": "code",
   "execution_count": 6,
   "metadata": {},
   "outputs": [],
   "source": [
    "from bayes_opt import BayesianOptimization"
   ]
  },
  {
   "cell_type": "code",
   "execution_count": 7,
   "metadata": {},
   "outputs": [],
   "source": [
    "final = pd.read_csv(r'C:\\Users\\KYOBO\\Desktop\\dataset\\final.csv')"
   ]
  },
  {
   "cell_type": "code",
   "execution_count": 8,
   "metadata": {},
   "outputs": [
    {
     "name": "stdout",
     "output_type": "stream",
     "text": [
      "<class 'pandas.core.frame.DataFrame'>\n",
      "RangeIndex: 13141813 entries, 0 to 13141812\n",
      "Data columns (total 34 columns):\n",
      " #   Column                               Dtype  \n",
      "---  ------                               -----  \n",
      " 0   user_id                              float64\n",
      " 1   sum_applied                          float64\n",
      " 2   application_id                       int64  \n",
      " 3   gender                               float64\n",
      " 4   insert_time                          object \n",
      " 5   yearly_income                        float64\n",
      " 6   income_type                          object \n",
      " 7   employment_type                      object \n",
      " 8   houseown_type                        object \n",
      " 9   desired_amount                       float64\n",
      " 10  purpose                              object \n",
      " 11  personal_rehabilitation_yn           float64\n",
      " 12  personal_rehabilitation_complete_yn  float64\n",
      " 13  existing_loan_cnt                    float64\n",
      " 14  existing_loan_amt                    float64\n",
      " 15  reage                                float64\n",
      " 16  career                               float64\n",
      " 17  credit_grade                         float64\n",
      " 18  spec_clust                           float64\n",
      " 19  loanapply_insert_time                object \n",
      " 20  bank_id                              int64  \n",
      " 21  product_id                           int64  \n",
      " 22  loan_limit                           float64\n",
      " 23  loan_rate                            float64\n",
      " 24  is_applied                           float64\n",
      " 25  weekday                              int64  \n",
      " 26  loanapply_insert_hour                int64  \n",
      " 27  bank_apply_rate                      float64\n",
      " 28  product_apply_rate                   float64\n",
      " 29  cluster2                             int64  \n",
      " 30  action_cnt                           float64\n",
      " 31  use_day_cnt                          float64\n",
      " 32  first_event                          object \n",
      " 33  timeout_sum(s)                       float64\n",
      "dtypes: float64(21), int64(6), object(7)\n",
      "memory usage: 3.3+ GB\n"
     ]
    }
   ],
   "source": [
    "final.info()"
   ]
  },
  {
   "cell_type": "code",
   "execution_count": 9,
   "metadata": {},
   "outputs": [],
   "source": [
    "final = final.drop(['user_id', 'application_id', 'insert_time', 'loanapply_insert_time','loanapply_insert_hour'], axis = 1)"
   ]
  },
  {
   "cell_type": "code",
   "execution_count": 10,
   "metadata": {},
   "outputs": [],
   "source": [
    "final['income_type'] = final['income_type'].astype('category')\n",
    "final['employment_type'] = final['employment_type'].astype('category')\n",
    "final['houseown_type'] = final['houseown_type'].astype('category')\n",
    "final['purpose'] = final['purpose'].astype('category')\n",
    "final['first_event'] = final['first_event'].astype('category')\n",
    "final['weekday'] = final['weekday'].astype('category')"
   ]
  },
  {
   "cell_type": "code",
   "execution_count": 11,
   "metadata": {
    "scrolled": true
   },
   "outputs": [
    {
     "name": "stdout",
     "output_type": "stream",
     "text": [
      "<class 'pandas.core.frame.DataFrame'>\n",
      "RangeIndex: 13141813 entries, 0 to 13141812\n",
      "Data columns (total 29 columns):\n",
      " #   Column                               Dtype   \n",
      "---  ------                               -----   \n",
      " 0   sum_applied                          float64 \n",
      " 1   gender                               float64 \n",
      " 2   yearly_income                        float64 \n",
      " 3   income_type                          category\n",
      " 4   employment_type                      category\n",
      " 5   houseown_type                        category\n",
      " 6   desired_amount                       float64 \n",
      " 7   purpose                              category\n",
      " 8   personal_rehabilitation_yn           float64 \n",
      " 9   personal_rehabilitation_complete_yn  float64 \n",
      " 10  existing_loan_cnt                    float64 \n",
      " 11  existing_loan_amt                    float64 \n",
      " 12  reage                                float64 \n",
      " 13  career                               float64 \n",
      " 14  credit_grade                         float64 \n",
      " 15  spec_clust                           float64 \n",
      " 16  bank_id                              int64   \n",
      " 17  product_id                           int64   \n",
      " 18  loan_limit                           float64 \n",
      " 19  loan_rate                            float64 \n",
      " 20  is_applied                           float64 \n",
      " 21  weekday                              category\n",
      " 22  bank_apply_rate                      float64 \n",
      " 23  product_apply_rate                   float64 \n",
      " 24  cluster2                             int64   \n",
      " 25  action_cnt                           float64 \n",
      " 26  use_day_cnt                          float64 \n",
      " 27  first_event                          category\n",
      " 28  timeout_sum(s)                       float64 \n",
      "dtypes: category(6), float64(20), int64(3)\n",
      "memory usage: 2.3 GB\n"
     ]
    }
   ],
   "source": [
    "final.info()"
   ]
  },
  {
   "cell_type": "code",
   "execution_count": 12,
   "metadata": {},
   "outputs": [],
   "source": [
    "final = pd.get_dummies(final, columns = ['income_type', 'employment_type', 'houseown_type',\n",
    "                                        'purpose','weekday','first_event'])"
   ]
  },
  {
   "cell_type": "code",
   "execution_count": 13,
   "metadata": {},
   "outputs": [
    {
     "name": "stdout",
     "output_type": "stream",
     "text": [
      "<class 'pandas.core.frame.DataFrame'>\n",
      "RangeIndex: 13141813 entries, 0 to 13141812\n",
      "Data columns (total 57 columns):\n",
      " #   Column                               Dtype  \n",
      "---  ------                               -----  \n",
      " 0   sum_applied                          float64\n",
      " 1   gender                               float64\n",
      " 2   yearly_income                        float64\n",
      " 3   desired_amount                       float64\n",
      " 4   personal_rehabilitation_yn           float64\n",
      " 5   personal_rehabilitation_complete_yn  float64\n",
      " 6   existing_loan_cnt                    float64\n",
      " 7   existing_loan_amt                    float64\n",
      " 8   reage                                float64\n",
      " 9   career                               float64\n",
      " 10  credit_grade                         float64\n",
      " 11  spec_clust                           float64\n",
      " 12  bank_id                              int64  \n",
      " 13  product_id                           int64  \n",
      " 14  loan_limit                           float64\n",
      " 15  loan_rate                            float64\n",
      " 16  is_applied                           float64\n",
      " 17  bank_apply_rate                      float64\n",
      " 18  product_apply_rate                   float64\n",
      " 19  cluster2                             int64  \n",
      " 20  action_cnt                           float64\n",
      " 21  use_day_cnt                          float64\n",
      " 22  timeout_sum(s)                       float64\n",
      " 23  income_type_개인사업자                    uint8  \n",
      " 24  income_type_기타소득                     uint8  \n",
      " 25  income_type_전문직                      uint8  \n",
      " 26  income_type_직장가입자(4대보험O)             uint8  \n",
      " 27  income_type_직장가입자(4대보험X)             uint8  \n",
      " 28  income_type_프리랜서                     uint8  \n",
      " 29  employment_type_계약직                  uint8  \n",
      " 30  employment_type_기타                   uint8  \n",
      " 31  employment_type_일용직                  uint8  \n",
      " 32  employment_type_정규직                  uint8  \n",
      " 33  houseown_type_기타가족소유                 uint8  \n",
      " 34  houseown_type_배우자                    uint8  \n",
      " 35  houseown_type_자가                     uint8  \n",
      " 36  houseown_type_전월세                    uint8  \n",
      " 37  purpose_기타                           uint8  \n",
      " 38  purpose_대환대출                         uint8  \n",
      " 39  purpose_사업자금                         uint8  \n",
      " 40  purpose_생활비                          uint8  \n",
      " 41  purpose_자동차구입                        uint8  \n",
      " 42  purpose_전월세보증금                       uint8  \n",
      " 43  purpose_주택구입                         uint8  \n",
      " 44  purpose_투자                           uint8  \n",
      " 45  weekday_0                            uint8  \n",
      " 46  weekday_1                            uint8  \n",
      " 47  weekday_2                            uint8  \n",
      " 48  weekday_3                            uint8  \n",
      " 49  weekday_4                            uint8  \n",
      " 50  weekday_5                            uint8  \n",
      " 51  weekday_6                            uint8  \n",
      " 52  first_event_CompleteIDCertification  uint8  \n",
      " 53  first_event_EndLoanApply             uint8  \n",
      " 54  first_event_GetCreditInfo            uint8  \n",
      " 55  first_event_StartLoanApply           uint8  \n",
      " 56  first_event_others                   uint8  \n",
      "dtypes: float64(20), int64(3), uint8(34)\n",
      "memory usage: 2.7 GB\n"
     ]
    }
   ],
   "source": [
    "final.info()"
   ]
  },
  {
   "cell_type": "code",
   "execution_count": 14,
   "metadata": {},
   "outputs": [],
   "source": [
    "from imblearn.under_sampling import RandomUnderSampler\n",
    "from collections import Counter"
   ]
  },
  {
   "cell_type": "code",
   "execution_count": 15,
   "metadata": {},
   "outputs": [],
   "source": [
    "final_train = final[final['is_applied'].notnull()]\n",
    "final_test = final[final['is_applied'].isnull()]"
   ]
  },
  {
   "cell_type": "code",
   "execution_count": 16,
   "metadata": {},
   "outputs": [],
   "source": [
    "data = final_train.drop('is_applied',axis=1)\n",
    "target = final_train['is_applied']"
   ]
  },
  {
   "cell_type": "code",
   "execution_count": 17,
   "metadata": {},
   "outputs": [
    {
     "name": "stdout",
     "output_type": "stream",
     "text": [
      "Counter({0.0: 560336, 1.0: 560336})\n"
     ]
    }
   ],
   "source": [
    "undersample = RandomUnderSampler(sampling_strategy='majority')\n",
    "data_under, target_under = undersample.fit_resample(data, target)\n",
    "print(Counter(target_under))"
   ]
  },
  {
   "cell_type": "code",
   "execution_count": 20,
   "metadata": {},
   "outputs": [],
   "source": [
    "from sklearn.model_selection import train_test_split\n",
    "X_train, X_val, y_train, y_val = train_test_split(data_under, target_under, test_size=0.3, random_state=0)"
   ]
  },
  {
   "cell_type": "code",
   "execution_count": 29,
   "metadata": {
    "scrolled": true
   },
   "outputs": [
    {
     "name": "stdout",
     "output_type": "stream",
     "text": [
      "[0]\tvalidation_0-aucpr:0.81412\n",
      "[1]\tvalidation_0-aucpr:0.82547\n",
      "[2]\tvalidation_0-aucpr:0.83213\n",
      "[3]\tvalidation_0-aucpr:0.83788\n",
      "[4]\tvalidation_0-aucpr:0.84129\n",
      "[5]\tvalidation_0-aucpr:0.84559\n",
      "[6]\tvalidation_0-aucpr:0.84798\n",
      "[7]\tvalidation_0-aucpr:0.85048\n",
      "[8]\tvalidation_0-aucpr:0.85227\n",
      "[9]\tvalidation_0-aucpr:0.85431\n",
      "[10]\tvalidation_0-aucpr:0.85626\n",
      "[11]\tvalidation_0-aucpr:0.85795\n",
      "[12]\tvalidation_0-aucpr:0.85898\n",
      "[13]\tvalidation_0-aucpr:0.85983\n",
      "[14]\tvalidation_0-aucpr:0.86115\n",
      "[15]\tvalidation_0-aucpr:0.86193\n",
      "[16]\tvalidation_0-aucpr:0.86302\n",
      "[17]\tvalidation_0-aucpr:0.86378\n",
      "[18]\tvalidation_0-aucpr:0.86429\n",
      "[19]\tvalidation_0-aucpr:0.86506\n",
      "[20]\tvalidation_0-aucpr:0.86566\n",
      "[21]\tvalidation_0-aucpr:0.86601\n",
      "[22]\tvalidation_0-aucpr:0.86651\n",
      "[23]\tvalidation_0-aucpr:0.86702\n",
      "[24]\tvalidation_0-aucpr:0.86753\n",
      "[25]\tvalidation_0-aucpr:0.86819\n",
      "[26]\tvalidation_0-aucpr:0.86867\n",
      "[27]\tvalidation_0-aucpr:0.86925\n",
      "[28]\tvalidation_0-aucpr:0.86956\n",
      "[29]\tvalidation_0-aucpr:0.86975\n",
      "[30]\tvalidation_0-aucpr:0.87033\n",
      "[31]\tvalidation_0-aucpr:0.87074\n",
      "[32]\tvalidation_0-aucpr:0.87103\n",
      "[33]\tvalidation_0-aucpr:0.87117\n",
      "[34]\tvalidation_0-aucpr:0.87136\n",
      "[35]\tvalidation_0-aucpr:0.87165\n",
      "[36]\tvalidation_0-aucpr:0.87189\n",
      "[37]\tvalidation_0-aucpr:0.87211\n",
      "[38]\tvalidation_0-aucpr:0.87222\n",
      "[39]\tvalidation_0-aucpr:0.87234\n",
      "[40]\tvalidation_0-aucpr:0.87243\n",
      "[41]\tvalidation_0-aucpr:0.87279\n",
      "[42]\tvalidation_0-aucpr:0.87309\n",
      "[43]\tvalidation_0-aucpr:0.87379\n",
      "[44]\tvalidation_0-aucpr:0.87395\n",
      "[45]\tvalidation_0-aucpr:0.87411\n",
      "[46]\tvalidation_0-aucpr:0.87414\n",
      "[47]\tvalidation_0-aucpr:0.87425\n",
      "[48]\tvalidation_0-aucpr:0.87468\n",
      "[49]\tvalidation_0-aucpr:0.87487\n",
      "[50]\tvalidation_0-aucpr:0.87494\n",
      "[51]\tvalidation_0-aucpr:0.87502\n",
      "[52]\tvalidation_0-aucpr:0.87526\n",
      "[53]\tvalidation_0-aucpr:0.87543\n",
      "[54]\tvalidation_0-aucpr:0.87558\n",
      "[55]\tvalidation_0-aucpr:0.87576\n",
      "[56]\tvalidation_0-aucpr:0.87588\n",
      "[57]\tvalidation_0-aucpr:0.87591\n",
      "[58]\tvalidation_0-aucpr:0.87632\n",
      "[59]\tvalidation_0-aucpr:0.87644\n",
      "[60]\tvalidation_0-aucpr:0.87657\n",
      "[61]\tvalidation_0-aucpr:0.87662\n",
      "[62]\tvalidation_0-aucpr:0.87671\n",
      "[63]\tvalidation_0-aucpr:0.87685\n",
      "[64]\tvalidation_0-aucpr:0.87699\n",
      "[65]\tvalidation_0-aucpr:0.87720\n",
      "[66]\tvalidation_0-aucpr:0.87726\n",
      "[67]\tvalidation_0-aucpr:0.87741\n",
      "[68]\tvalidation_0-aucpr:0.87753\n",
      "[69]\tvalidation_0-aucpr:0.87754\n",
      "[70]\tvalidation_0-aucpr:0.87762\n",
      "[71]\tvalidation_0-aucpr:0.87768\n",
      "[72]\tvalidation_0-aucpr:0.87778\n",
      "[73]\tvalidation_0-aucpr:0.87784\n",
      "[74]\tvalidation_0-aucpr:0.87797\n",
      "[75]\tvalidation_0-aucpr:0.87801\n",
      "[76]\tvalidation_0-aucpr:0.87818\n",
      "[77]\tvalidation_0-aucpr:0.87844\n",
      "[78]\tvalidation_0-aucpr:0.87864\n",
      "[79]\tvalidation_0-aucpr:0.87876\n",
      "[80]\tvalidation_0-aucpr:0.87882\n",
      "[81]\tvalidation_0-aucpr:0.87886\n",
      "[82]\tvalidation_0-aucpr:0.87897\n",
      "[83]\tvalidation_0-aucpr:0.87917\n",
      "[84]\tvalidation_0-aucpr:0.87923\n",
      "[85]\tvalidation_0-aucpr:0.87928\n",
      "[86]\tvalidation_0-aucpr:0.87939\n",
      "[87]\tvalidation_0-aucpr:0.87956\n",
      "[88]\tvalidation_0-aucpr:0.87958\n",
      "[89]\tvalidation_0-aucpr:0.87962\n",
      "[90]\tvalidation_0-aucpr:0.87964\n",
      "[91]\tvalidation_0-aucpr:0.87969\n",
      "[92]\tvalidation_0-aucpr:0.87986\n",
      "[93]\tvalidation_0-aucpr:0.87998\n",
      "[94]\tvalidation_0-aucpr:0.88022\n",
      "[95]\tvalidation_0-aucpr:0.88043\n",
      "[96]\tvalidation_0-aucpr:0.88049\n",
      "[97]\tvalidation_0-aucpr:0.88063\n",
      "[98]\tvalidation_0-aucpr:0.88075\n",
      "[99]\tvalidation_0-aucpr:0.88078\n"
     ]
    },
    {
     "data": {
      "text/plain": [
       "XGBClassifier(base_score=0.5, booster='gbtree', colsample_bylevel=1,\n",
       "              colsample_bynode=1, colsample_bytree=1, gamma=0, gpu_id=-1,\n",
       "              importance_type='gain', interaction_constraints='',\n",
       "              learning_rate=0.300000012, max_delta_step=0, max_depth=6,\n",
       "              min_child_weight=1, missing=nan, monotone_constraints='()',\n",
       "              n_estimators=100, n_jobs=4, num_parallel_tree=1, random_state=0,\n",
       "              reg_alpha=0, reg_lambda=1, scale_pos_weight=1, subsample=1,\n",
       "              tree_method='exact', validate_parameters=1, verbosity=None)"
      ]
     },
     "execution_count": 29,
     "metadata": {},
     "output_type": "execute_result"
    }
   ],
   "source": [
    "model1_xgb = xgb.XGBClassifier()\n",
    "model1_xgb.fit(X_train,\n",
    "              y_train,\n",
    "              verbose=True,\n",
    "              early_stopping_rounds=10,\n",
    "              eval_metric='aucpr',\n",
    "              eval_set=[(X_val,y_val)])"
   ]
  },
  {
   "cell_type": "code",
   "execution_count": 30,
   "metadata": {},
   "outputs": [],
   "source": [
    "y_pred = model1_xgb.predict(X_val)"
   ]
  },
  {
   "cell_type": "code",
   "execution_count": 28,
   "metadata": {},
   "outputs": [],
   "source": [
    "from sklearn.metrics import confusion_matrix\n",
    "from sklearn.metrics import plot_confusion_matrix"
   ]
  },
  {
   "cell_type": "code",
   "execution_count": 33,
   "metadata": {},
   "outputs": [
    {
     "name": "stdout",
     "output_type": "stream",
     "text": [
      "f1 score : 0.8308\n"
     ]
    }
   ],
   "source": [
    "#f1 score\n",
    "print('f1 score : {:0.4f}'.format(f1_score(y_val,y_pred)))"
   ]
  },
  {
   "cell_type": "code",
   "execution_count": 25,
   "metadata": {},
   "outputs": [
    {
     "ename": "XGBoostError",
     "evalue": "[16:42:17] c:\\users\\administrator\\workspace\\xgboost-win64_release_1.4.0\\src\\c_api\\c_api_utils.h:161: Invalid missing value: null",
     "output_type": "error",
     "traceback": [
      "\u001b[1;31m---------------------------------------------------------------------------\u001b[0m",
      "\u001b[1;31mXGBoostError\u001b[0m                              Traceback (most recent call last)",
      "\u001b[1;32m<ipython-input-25-0455029ece05>\u001b[0m in \u001b[0;36m<module>\u001b[1;34m\u001b[0m\n\u001b[0;32m      3\u001b[0m                      \u001b[0my_val\u001b[0m\u001b[1;33m,\u001b[0m\u001b[1;33m\u001b[0m\u001b[1;33m\u001b[0m\u001b[0m\n\u001b[0;32m      4\u001b[0m                      \u001b[0mvalues_format\u001b[0m\u001b[1;33m=\u001b[0m\u001b[1;34m'd'\u001b[0m\u001b[1;33m,\u001b[0m\u001b[1;33m\u001b[0m\u001b[1;33m\u001b[0m\u001b[0m\n\u001b[1;32m----> 5\u001b[1;33m                      display_labels=[\"0\",\"1\"])\n\u001b[0m",
      "\u001b[1;32m~\\anaconda3\\lib\\site-packages\\sklearn\\utils\\validation.py\u001b[0m in \u001b[0;36minner_f\u001b[1;34m(*args, **kwargs)\u001b[0m\n\u001b[0;32m     61\u001b[0m             \u001b[0mextra_args\u001b[0m \u001b[1;33m=\u001b[0m \u001b[0mlen\u001b[0m\u001b[1;33m(\u001b[0m\u001b[0margs\u001b[0m\u001b[1;33m)\u001b[0m \u001b[1;33m-\u001b[0m \u001b[0mlen\u001b[0m\u001b[1;33m(\u001b[0m\u001b[0mall_args\u001b[0m\u001b[1;33m)\u001b[0m\u001b[1;33m\u001b[0m\u001b[1;33m\u001b[0m\u001b[0m\n\u001b[0;32m     62\u001b[0m             \u001b[1;32mif\u001b[0m \u001b[0mextra_args\u001b[0m \u001b[1;33m<=\u001b[0m \u001b[1;36m0\u001b[0m\u001b[1;33m:\u001b[0m\u001b[1;33m\u001b[0m\u001b[1;33m\u001b[0m\u001b[0m\n\u001b[1;32m---> 63\u001b[1;33m                 \u001b[1;32mreturn\u001b[0m \u001b[0mf\u001b[0m\u001b[1;33m(\u001b[0m\u001b[1;33m*\u001b[0m\u001b[0margs\u001b[0m\u001b[1;33m,\u001b[0m \u001b[1;33m**\u001b[0m\u001b[0mkwargs\u001b[0m\u001b[1;33m)\u001b[0m\u001b[1;33m\u001b[0m\u001b[1;33m\u001b[0m\u001b[0m\n\u001b[0m\u001b[0;32m     64\u001b[0m \u001b[1;33m\u001b[0m\u001b[0m\n\u001b[0;32m     65\u001b[0m             \u001b[1;31m# extra_args > 0\u001b[0m\u001b[1;33m\u001b[0m\u001b[1;33m\u001b[0m\u001b[1;33m\u001b[0m\u001b[0m\n",
      "\u001b[1;32m~\\anaconda3\\lib\\site-packages\\sklearn\\metrics\\_plot\\confusion_matrix.py\u001b[0m in \u001b[0;36mplot_confusion_matrix\u001b[1;34m(estimator, X, y_true, labels, sample_weight, normalize, display_labels, include_values, xticks_rotation, values_format, cmap, ax, colorbar)\u001b[0m\n\u001b[0;32m    261\u001b[0m         \u001b[1;32mraise\u001b[0m \u001b[0mValueError\u001b[0m\u001b[1;33m(\u001b[0m\u001b[1;34m\"plot_confusion_matrix only supports classifiers\"\u001b[0m\u001b[1;33m)\u001b[0m\u001b[1;33m\u001b[0m\u001b[1;33m\u001b[0m\u001b[0m\n\u001b[0;32m    262\u001b[0m \u001b[1;33m\u001b[0m\u001b[0m\n\u001b[1;32m--> 263\u001b[1;33m     \u001b[0my_pred\u001b[0m \u001b[1;33m=\u001b[0m \u001b[0mestimator\u001b[0m\u001b[1;33m.\u001b[0m\u001b[0mpredict\u001b[0m\u001b[1;33m(\u001b[0m\u001b[0mX\u001b[0m\u001b[1;33m)\u001b[0m\u001b[1;33m\u001b[0m\u001b[1;33m\u001b[0m\u001b[0m\n\u001b[0m\u001b[0;32m    264\u001b[0m     cm = confusion_matrix(y_true, y_pred, sample_weight=sample_weight,\n\u001b[0;32m    265\u001b[0m                           labels=labels, normalize=normalize)\n",
      "\u001b[1;32m~\\anaconda3\\lib\\site-packages\\xgboost\\sklearn.py\u001b[0m in \u001b[0;36mpredict\u001b[1;34m(self, X, output_margin, ntree_limit, validate_features, base_margin, iteration_range)\u001b[0m\n\u001b[0;32m   1213\u001b[0m             \u001b[0mvalidate_features\u001b[0m\u001b[1;33m=\u001b[0m\u001b[0mvalidate_features\u001b[0m\u001b[1;33m,\u001b[0m\u001b[1;33m\u001b[0m\u001b[1;33m\u001b[0m\u001b[0m\n\u001b[0;32m   1214\u001b[0m             \u001b[0mbase_margin\u001b[0m\u001b[1;33m=\u001b[0m\u001b[0mbase_margin\u001b[0m\u001b[1;33m,\u001b[0m\u001b[1;33m\u001b[0m\u001b[1;33m\u001b[0m\u001b[0m\n\u001b[1;32m-> 1215\u001b[1;33m             \u001b[0miteration_range\u001b[0m\u001b[1;33m=\u001b[0m\u001b[0miteration_range\u001b[0m\u001b[1;33m,\u001b[0m\u001b[1;33m\u001b[0m\u001b[1;33m\u001b[0m\u001b[0m\n\u001b[0m\u001b[0;32m   1216\u001b[0m         )\n\u001b[0;32m   1217\u001b[0m         \u001b[1;32mif\u001b[0m \u001b[0moutput_margin\u001b[0m\u001b[1;33m:\u001b[0m\u001b[1;33m\u001b[0m\u001b[1;33m\u001b[0m\u001b[0m\n",
      "\u001b[1;32m~\\anaconda3\\lib\\site-packages\\xgboost\\sklearn.py\u001b[0m in \u001b[0;36mpredict\u001b[1;34m(self, X, output_margin, ntree_limit, validate_features, base_margin, iteration_range)\u001b[0m\n\u001b[0;32m    824\u001b[0m                     \u001b[0mmissing\u001b[0m\u001b[1;33m=\u001b[0m\u001b[0mself\u001b[0m\u001b[1;33m.\u001b[0m\u001b[0mmissing\u001b[0m\u001b[1;33m,\u001b[0m\u001b[1;33m\u001b[0m\u001b[1;33m\u001b[0m\u001b[0m\n\u001b[0;32m    825\u001b[0m                     \u001b[0mbase_margin\u001b[0m\u001b[1;33m=\u001b[0m\u001b[0mbase_margin\u001b[0m\u001b[1;33m,\u001b[0m\u001b[1;33m\u001b[0m\u001b[1;33m\u001b[0m\u001b[0m\n\u001b[1;32m--> 826\u001b[1;33m                     \u001b[0mvalidate_features\u001b[0m\u001b[1;33m=\u001b[0m\u001b[0mvalidate_features\u001b[0m\u001b[1;33m,\u001b[0m\u001b[1;33m\u001b[0m\u001b[1;33m\u001b[0m\u001b[0m\n\u001b[0m\u001b[0;32m    827\u001b[0m                 )\n\u001b[0;32m    828\u001b[0m                 \u001b[1;32mif\u001b[0m \u001b[0m_is_cupy_array\u001b[0m\u001b[1;33m(\u001b[0m\u001b[0mpredts\u001b[0m\u001b[1;33m)\u001b[0m\u001b[1;33m:\u001b[0m\u001b[1;33m\u001b[0m\u001b[1;33m\u001b[0m\u001b[0m\n",
      "\u001b[1;32m~\\anaconda3\\lib\\site-packages\\xgboost\\core.py\u001b[0m in \u001b[0;36minplace_predict\u001b[1;34m(self, data, iteration_range, predict_type, missing, validate_features, base_margin, strict_shape)\u001b[0m\n\u001b[0;32m   1855\u001b[0m                     \u001b[0mctypes\u001b[0m\u001b[1;33m.\u001b[0m\u001b[0mbyref\u001b[0m\u001b[1;33m(\u001b[0m\u001b[0mshape\u001b[0m\u001b[1;33m)\u001b[0m\u001b[1;33m,\u001b[0m\u001b[1;33m\u001b[0m\u001b[1;33m\u001b[0m\u001b[0m\n\u001b[0;32m   1856\u001b[0m                     \u001b[0mctypes\u001b[0m\u001b[1;33m.\u001b[0m\u001b[0mbyref\u001b[0m\u001b[1;33m(\u001b[0m\u001b[0mdims\u001b[0m\u001b[1;33m)\u001b[0m\u001b[1;33m,\u001b[0m\u001b[1;33m\u001b[0m\u001b[1;33m\u001b[0m\u001b[0m\n\u001b[1;32m-> 1857\u001b[1;33m                     \u001b[0mctypes\u001b[0m\u001b[1;33m.\u001b[0m\u001b[0mbyref\u001b[0m\u001b[1;33m(\u001b[0m\u001b[0mpreds\u001b[0m\u001b[1;33m)\u001b[0m\u001b[1;33m,\u001b[0m\u001b[1;33m\u001b[0m\u001b[1;33m\u001b[0m\u001b[0m\n\u001b[0m\u001b[0;32m   1858\u001b[0m                 )\n\u001b[0;32m   1859\u001b[0m             )\n",
      "\u001b[1;32m~\\anaconda3\\lib\\site-packages\\xgboost\\core.py\u001b[0m in \u001b[0;36m_check_call\u001b[1;34m(ret)\u001b[0m\n\u001b[0;32m    208\u001b[0m     \"\"\"\n\u001b[0;32m    209\u001b[0m     \u001b[1;32mif\u001b[0m \u001b[0mret\u001b[0m \u001b[1;33m!=\u001b[0m \u001b[1;36m0\u001b[0m\u001b[1;33m:\u001b[0m\u001b[1;33m\u001b[0m\u001b[1;33m\u001b[0m\u001b[0m\n\u001b[1;32m--> 210\u001b[1;33m         \u001b[1;32mraise\u001b[0m \u001b[0mXGBoostError\u001b[0m\u001b[1;33m(\u001b[0m\u001b[0mpy_str\u001b[0m\u001b[1;33m(\u001b[0m\u001b[0m_LIB\u001b[0m\u001b[1;33m.\u001b[0m\u001b[0mXGBGetLastError\u001b[0m\u001b[1;33m(\u001b[0m\u001b[1;33m)\u001b[0m\u001b[1;33m)\u001b[0m\u001b[1;33m)\u001b[0m\u001b[1;33m\u001b[0m\u001b[1;33m\u001b[0m\u001b[0m\n\u001b[0m\u001b[0;32m    211\u001b[0m \u001b[1;33m\u001b[0m\u001b[0m\n\u001b[0;32m    212\u001b[0m \u001b[1;33m\u001b[0m\u001b[0m\n",
      "\u001b[1;31mXGBoostError\u001b[0m: [16:42:17] c:\\users\\administrator\\workspace\\xgboost-win64_release_1.4.0\\src\\c_api\\c_api_utils.h:161: Invalid missing value: null"
     ]
    }
   ],
   "source": [
    "plot_confusion_matrix(model1_xgb,\n",
    "                     X_val,\n",
    "                     y_val,\n",
    "                     values_format='d',\n",
    "                     display_labels=[\"0\",\"1\"])"
   ]
  },
  {
   "cell_type": "code",
   "execution_count": null,
   "metadata": {},
   "outputs": [],
   "source": [
    "eval_metric=F1_eval"
   ]
  },
  {
   "cell_type": "code",
   "execution_count": null,
   "metadata": {},
   "outputs": [],
   "source": []
  },
  {
   "cell_type": "code",
   "execution_count": null,
   "metadata": {},
   "outputs": [],
   "source": []
  }
 ],
 "metadata": {
  "kernelspec": {
   "display_name": "Python 3",
   "language": "python",
   "name": "python3"
  },
  "language_info": {
   "codemirror_mode": {
    "name": "ipython",
    "version": 3
   },
   "file_extension": ".py",
   "mimetype": "text/x-python",
   "name": "python",
   "nbconvert_exporter": "python",
   "pygments_lexer": "ipython3",
   "version": "3.7.6"
  }
 },
 "nbformat": 4,
 "nbformat_minor": 4
}
