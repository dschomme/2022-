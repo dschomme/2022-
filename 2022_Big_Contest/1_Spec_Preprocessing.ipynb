{
 "cells": [
  {
   "cell_type": "markdown",
   "metadata": {
    "id": "kb1lqh_Bdzmz"
   },
   "source": [
    "# 2022 빅콘테스트_spec 데이터 전처리\n",
    "## 우 걱정마세요"
   ]
  },
  {
   "cell_type": "markdown",
   "metadata": {
    "id": "gA1pSsAQSYU-"
   },
   "source": [
    "## 1. 라이브러리 및 패키지 불러오기"
   ]
  },
  {
   "cell_type": "code",
   "execution_count": 1,
   "metadata": {
    "id": "2xl3abhpSL6k"
   },
   "outputs": [],
   "source": [
    "import numpy as np\n",
    "import pandas as pd \n",
    "import matplotlib.pyplot as plt\n",
    "%matplotlib inline\n",
    "import seaborn as sns"
   ]
  },
  {
   "cell_type": "code",
   "execution_count": 2,
   "metadata": {
    "colab": {
     "base_uri": "https://localhost:8080/",
     "height": 357
    },
    "id": "q6BluEspScUW",
    "outputId": "85b325d8-6210-4bad-cac7-03c1bb2641a8"
   },
   "outputs": [
    {
     "data": {
      "text/html": [
       "<div>\n",
       "<style scoped>\n",
       "    .dataframe tbody tr th:only-of-type {\n",
       "        vertical-align: middle;\n",
       "    }\n",
       "\n",
       "    .dataframe tbody tr th {\n",
       "        vertical-align: top;\n",
       "    }\n",
       "\n",
       "    .dataframe thead th {\n",
       "        text-align: right;\n",
       "    }\n",
       "</style>\n",
       "<table border=\"1\" class=\"dataframe\">\n",
       "  <thead>\n",
       "    <tr style=\"text-align: right;\">\n",
       "      <th></th>\n",
       "      <th>application_id</th>\n",
       "      <th>user_id</th>\n",
       "      <th>birth_year</th>\n",
       "      <th>gender</th>\n",
       "      <th>insert_time</th>\n",
       "      <th>credit_score</th>\n",
       "      <th>yearly_income</th>\n",
       "      <th>income_type</th>\n",
       "      <th>company_enter_month</th>\n",
       "      <th>employment_type</th>\n",
       "      <th>houseown_type</th>\n",
       "      <th>desired_amount</th>\n",
       "      <th>purpose</th>\n",
       "      <th>personal_rehabilitation_yn</th>\n",
       "      <th>personal_rehabilitation_complete_yn</th>\n",
       "      <th>existing_loan_cnt</th>\n",
       "      <th>existing_loan_amt</th>\n",
       "    </tr>\n",
       "  </thead>\n",
       "  <tbody>\n",
       "    <tr>\n",
       "      <th>0</th>\n",
       "      <td>1249046</td>\n",
       "      <td>118218</td>\n",
       "      <td>1985.0</td>\n",
       "      <td>1.0</td>\n",
       "      <td>2022-06-07 06:28:18</td>\n",
       "      <td>660.0</td>\n",
       "      <td>108000000.0</td>\n",
       "      <td>PRIVATEBUSINESS</td>\n",
       "      <td>20151101.0</td>\n",
       "      <td>기타</td>\n",
       "      <td>자가</td>\n",
       "      <td>1000000.0</td>\n",
       "      <td>기타</td>\n",
       "      <td>0.0</td>\n",
       "      <td>NaN</td>\n",
       "      <td>4.0</td>\n",
       "      <td>162000000.0</td>\n",
       "    </tr>\n",
       "    <tr>\n",
       "      <th>1</th>\n",
       "      <td>954900</td>\n",
       "      <td>553686</td>\n",
       "      <td>1968.0</td>\n",
       "      <td>1.0</td>\n",
       "      <td>2022-06-07 14:29:03</td>\n",
       "      <td>870.0</td>\n",
       "      <td>30000000.0</td>\n",
       "      <td>PRIVATEBUSINESS</td>\n",
       "      <td>20070201.0</td>\n",
       "      <td>정규직</td>\n",
       "      <td>기타가족소유</td>\n",
       "      <td>30000000.0</td>\n",
       "      <td>대환대출</td>\n",
       "      <td>0.0</td>\n",
       "      <td>NaN</td>\n",
       "      <td>1.0</td>\n",
       "      <td>27000000.0</td>\n",
       "    </tr>\n",
       "    <tr>\n",
       "      <th>2</th>\n",
       "      <td>137274</td>\n",
       "      <td>59516</td>\n",
       "      <td>1997.0</td>\n",
       "      <td>1.0</td>\n",
       "      <td>2022-06-07 21:40:22</td>\n",
       "      <td>710.0</td>\n",
       "      <td>30000000.0</td>\n",
       "      <td>FREELANCER</td>\n",
       "      <td>20210901.0</td>\n",
       "      <td>기타</td>\n",
       "      <td>기타가족소유</td>\n",
       "      <td>10000000.0</td>\n",
       "      <td>생활비</td>\n",
       "      <td>0.0</td>\n",
       "      <td>NaN</td>\n",
       "      <td>5.0</td>\n",
       "      <td>15000000.0</td>\n",
       "    </tr>\n",
       "    <tr>\n",
       "      <th>3</th>\n",
       "      <td>1570936</td>\n",
       "      <td>167320</td>\n",
       "      <td>1989.0</td>\n",
       "      <td>1.0</td>\n",
       "      <td>2022-06-07 09:40:27</td>\n",
       "      <td>820.0</td>\n",
       "      <td>62000000.0</td>\n",
       "      <td>EARNEDINCOME</td>\n",
       "      <td>20170101.0</td>\n",
       "      <td>정규직</td>\n",
       "      <td>자가</td>\n",
       "      <td>2000000.0</td>\n",
       "      <td>생활비</td>\n",
       "      <td>0.0</td>\n",
       "      <td>NaN</td>\n",
       "      <td>7.0</td>\n",
       "      <td>344000000.0</td>\n",
       "    </tr>\n",
       "    <tr>\n",
       "      <th>4</th>\n",
       "      <td>967833</td>\n",
       "      <td>33400</td>\n",
       "      <td>2000.0</td>\n",
       "      <td>1.0</td>\n",
       "      <td>2022-06-07 08:55:07</td>\n",
       "      <td>630.0</td>\n",
       "      <td>36000000.0</td>\n",
       "      <td>EARNEDINCOME</td>\n",
       "      <td>20210901.0</td>\n",
       "      <td>정규직</td>\n",
       "      <td>기타가족소유</td>\n",
       "      <td>5000000.0</td>\n",
       "      <td>생활비</td>\n",
       "      <td>0.0</td>\n",
       "      <td>0.0</td>\n",
       "      <td>1.0</td>\n",
       "      <td>16000000.0</td>\n",
       "    </tr>\n",
       "  </tbody>\n",
       "</table>\n",
       "</div>"
      ],
      "text/plain": [
       "   application_id  user_id  birth_year  gender          insert_time  \\\n",
       "0         1249046   118218      1985.0     1.0  2022-06-07 06:28:18   \n",
       "1          954900   553686      1968.0     1.0  2022-06-07 14:29:03   \n",
       "2          137274    59516      1997.0     1.0  2022-06-07 21:40:22   \n",
       "3         1570936   167320      1989.0     1.0  2022-06-07 09:40:27   \n",
       "4          967833    33400      2000.0     1.0  2022-06-07 08:55:07   \n",
       "\n",
       "   credit_score  yearly_income      income_type  company_enter_month  \\\n",
       "0         660.0    108000000.0  PRIVATEBUSINESS           20151101.0   \n",
       "1         870.0     30000000.0  PRIVATEBUSINESS           20070201.0   \n",
       "2         710.0     30000000.0       FREELANCER           20210901.0   \n",
       "3         820.0     62000000.0     EARNEDINCOME           20170101.0   \n",
       "4         630.0     36000000.0     EARNEDINCOME           20210901.0   \n",
       "\n",
       "  employment_type houseown_type  desired_amount purpose  \\\n",
       "0              기타            자가       1000000.0      기타   \n",
       "1             정규직        기타가족소유      30000000.0    대환대출   \n",
       "2              기타        기타가족소유      10000000.0     생활비   \n",
       "3             정규직            자가       2000000.0     생활비   \n",
       "4             정규직        기타가족소유       5000000.0     생활비   \n",
       "\n",
       "   personal_rehabilitation_yn  personal_rehabilitation_complete_yn  \\\n",
       "0                         0.0                                  NaN   \n",
       "1                         0.0                                  NaN   \n",
       "2                         0.0                                  NaN   \n",
       "3                         0.0                                  NaN   \n",
       "4                         0.0                                  0.0   \n",
       "\n",
       "   existing_loan_cnt  existing_loan_amt  \n",
       "0                4.0        162000000.0  \n",
       "1                1.0         27000000.0  \n",
       "2                5.0         15000000.0  \n",
       "3                7.0        344000000.0  \n",
       "4                1.0         16000000.0  "
      ]
     },
     "execution_count": 2,
     "metadata": {},
     "output_type": "execute_result"
    }
   ],
   "source": [
    "user_spec = pd.read_csv('/Users/sungahwang/Desktop/BC_data/user_spec.csv')\n",
    "user_spec.head()"
   ]
  },
  {
   "cell_type": "code",
   "execution_count": 3,
   "metadata": {
    "colab": {
     "base_uri": "https://localhost:8080/",
     "height": 206
    },
    "id": "2uhedkMNke58",
    "outputId": "6620f540-a458-4223-bffb-30bc81e53414"
   },
   "outputs": [
    {
     "data": {
      "text/html": [
       "<div>\n",
       "<style scoped>\n",
       "    .dataframe tbody tr th:only-of-type {\n",
       "        vertical-align: middle;\n",
       "    }\n",
       "\n",
       "    .dataframe tbody tr th {\n",
       "        vertical-align: top;\n",
       "    }\n",
       "\n",
       "    .dataframe thead th {\n",
       "        text-align: right;\n",
       "    }\n",
       "</style>\n",
       "<table border=\"1\" class=\"dataframe\">\n",
       "  <thead>\n",
       "    <tr style=\"text-align: right;\">\n",
       "      <th></th>\n",
       "      <th>application_id</th>\n",
       "      <th>loanapply_insert_time</th>\n",
       "      <th>bank_id</th>\n",
       "      <th>product_id</th>\n",
       "      <th>loan_limit</th>\n",
       "      <th>loan_rate</th>\n",
       "      <th>is_applied</th>\n",
       "    </tr>\n",
       "  </thead>\n",
       "  <tbody>\n",
       "    <tr>\n",
       "      <th>0</th>\n",
       "      <td>1748340</td>\n",
       "      <td>2022-06-07 13:05:41</td>\n",
       "      <td>7</td>\n",
       "      <td>191</td>\n",
       "      <td>42000000.0</td>\n",
       "      <td>13.6</td>\n",
       "      <td>NaN</td>\n",
       "    </tr>\n",
       "    <tr>\n",
       "      <th>1</th>\n",
       "      <td>1748340</td>\n",
       "      <td>2022-06-07 13:05:41</td>\n",
       "      <td>25</td>\n",
       "      <td>169</td>\n",
       "      <td>24000000.0</td>\n",
       "      <td>17.9</td>\n",
       "      <td>NaN</td>\n",
       "    </tr>\n",
       "    <tr>\n",
       "      <th>2</th>\n",
       "      <td>1748340</td>\n",
       "      <td>2022-06-07 13:05:41</td>\n",
       "      <td>2</td>\n",
       "      <td>7</td>\n",
       "      <td>24000000.0</td>\n",
       "      <td>18.5</td>\n",
       "      <td>NaN</td>\n",
       "    </tr>\n",
       "    <tr>\n",
       "      <th>3</th>\n",
       "      <td>1748340</td>\n",
       "      <td>2022-06-07 13:05:41</td>\n",
       "      <td>4</td>\n",
       "      <td>268</td>\n",
       "      <td>29000000.0</td>\n",
       "      <td>10.8</td>\n",
       "      <td>NaN</td>\n",
       "    </tr>\n",
       "    <tr>\n",
       "      <th>4</th>\n",
       "      <td>1748340</td>\n",
       "      <td>2022-06-07 13:05:41</td>\n",
       "      <td>11</td>\n",
       "      <td>118</td>\n",
       "      <td>5000000.0</td>\n",
       "      <td>16.4</td>\n",
       "      <td>NaN</td>\n",
       "    </tr>\n",
       "  </tbody>\n",
       "</table>\n",
       "</div>"
      ],
      "text/plain": [
       "   application_id loanapply_insert_time  bank_id  product_id  loan_limit  \\\n",
       "0         1748340   2022-06-07 13:05:41        7         191  42000000.0   \n",
       "1         1748340   2022-06-07 13:05:41       25         169  24000000.0   \n",
       "2         1748340   2022-06-07 13:05:41        2           7  24000000.0   \n",
       "3         1748340   2022-06-07 13:05:41        4         268  29000000.0   \n",
       "4         1748340   2022-06-07 13:05:41       11         118   5000000.0   \n",
       "\n",
       "   loan_rate  is_applied  \n",
       "0       13.6         NaN  \n",
       "1       17.9         NaN  \n",
       "2       18.5         NaN  \n",
       "3       10.8         NaN  \n",
       "4       16.4         NaN  "
      ]
     },
     "execution_count": 3,
     "metadata": {},
     "output_type": "execute_result"
    }
   ],
   "source": [
    "loan_result = pd.read_csv('/Users/sungahwang/Desktop/BC_data/loan_result.csv')\n",
    "loan_result.head()"
   ]
  },
  {
   "cell_type": "markdown",
   "metadata": {
    "id": "dt4ZKN8OSvwJ"
   },
   "source": [
    "## 2. Loan_result에 없는 id 제거"
   ]
  },
  {
   "cell_type": "code",
   "execution_count": 4,
   "metadata": {
    "colab": {
     "base_uri": "https://localhost:8080/"
    },
    "id": "j09tuWbcPpHj",
    "outputId": "e9111b5c-fb00-4d9f-cc28-ab5bc6236136"
   },
   "outputs": [
    {
     "data": {
      "text/plain": [
       "application_id                               0\n",
       "user_id                                      0\n",
       "birth_year                               12961\n",
       "gender                                   12961\n",
       "insert_time                                  0\n",
       "credit_score                            105115\n",
       "yearly_income                               90\n",
       "income_type                                 85\n",
       "company_enter_month                     171760\n",
       "employment_type                             85\n",
       "houseown_type                               85\n",
       "desired_amount                              85\n",
       "purpose                                     85\n",
       "personal_rehabilitation_yn              587461\n",
       "personal_rehabilitation_complete_yn    1203354\n",
       "existing_loan_cnt                       198556\n",
       "existing_loan_amt                       313774\n",
       "dtype: int64"
      ]
     },
     "execution_count": 4,
     "metadata": {},
     "output_type": "execute_result"
    }
   ],
   "source": [
    "# user_spec 데이터의 현재 결측값 확인\n",
    "user_spec.isnull().sum()"
   ]
  },
  {
   "cell_type": "code",
   "execution_count": 5,
   "metadata": {
    "id": "MY3oJwpJkPTn"
   },
   "outputs": [],
   "source": [
    "respec = user_spec\n",
    "drop_application_id = list(set(respec['application_id'])-set(loan_result['application_id']))"
   ]
  },
  {
   "cell_type": "code",
   "execution_count": 6,
   "metadata": {
    "id": "2Vv5Ow6xkvfg"
   },
   "outputs": [],
   "source": [
    "respec.drop(respec[respec['application_id'].isin(drop_application_id)].index,inplace=True)"
   ]
  },
  {
   "cell_type": "code",
   "execution_count": 7,
   "metadata": {
    "colab": {
     "base_uri": "https://localhost:8080/"
    },
    "id": "yz34DLfpPvYV",
    "outputId": "ace02987-bbb9-46c8-c9f4-5f03c18be8a8"
   },
   "outputs": [
    {
     "data": {
      "text/plain": [
       "application_id                              0\n",
       "user_id                                     0\n",
       "birth_year                               8593\n",
       "gender                                   8593\n",
       "insert_time                                 0\n",
       "credit_score                            81769\n",
       "yearly_income                               1\n",
       "income_type                                 0\n",
       "company_enter_month                     92314\n",
       "employment_type                             0\n",
       "houseown_type                               0\n",
       "desired_amount                              0\n",
       "purpose                                     0\n",
       "personal_rehabilitation_yn             417763\n",
       "personal_rehabilitation_complete_yn    843993\n",
       "existing_loan_cnt                      146290\n",
       "existing_loan_amt                      225046\n",
       "dtype: int64"
      ]
     },
     "execution_count": 7,
     "metadata": {},
     "output_type": "execute_result"
    }
   ],
   "source": [
    "# 결측값이 잘 채워졌는지 확인\n",
    "respec.isnull().sum()"
   ]
  },
  {
   "cell_type": "markdown",
   "metadata": {
    "id": "27M-NeIvaMRT"
   },
   "source": [
    "## 3. yearly_income 컬럼"
   ]
  },
  {
   "cell_type": "code",
   "execution_count": 8,
   "metadata": {
    "id": "MLWConalZrlu"
   },
   "outputs": [],
   "source": [
    "# yaerly_income 컬럼의 1개의 결측값은 무직이라는 판단하에 0으로 결측값을 채워줌.\n",
    "respec.loc[respec['yearly_income'].isnull(), 'yearly_income'] = 0"
   ]
  },
  {
   "cell_type": "markdown",
   "metadata": {
    "id": "cy14KBCsT9wS"
   },
   "source": [
    "## 4. purpose 컬럼"
   ]
  },
  {
   "cell_type": "code",
   "execution_count": 9,
   "metadata": {
    "colab": {
     "base_uri": "https://localhost:8080/"
    },
    "id": "0ZKBYv2DT6bz",
    "outputId": "5f297a42-ab0e-4175-a57f-bafaffae1a3c"
   },
   "outputs": [
    {
     "data": {
      "text/plain": [
       "array(['대환대출', '생활비', '사업자금', '주택구입', '기타', '전월세보증금', '투자', 'LIVING',\n",
       "       'SWITCHLOAN', 'INVEST', 'ETC', '자동차구입', 'BUSINESS', 'BUYCAR',\n",
       "       'BUYHOUSE', 'HOUSEDEPOSIT'], dtype=object)"
      ]
     },
     "execution_count": 9,
     "metadata": {},
     "output_type": "execute_result"
    }
   ],
   "source": [
    "respec['purpose'].unique()"
   ]
  },
  {
   "cell_type": "code",
   "execution_count": 10,
   "metadata": {
    "id": "sgxVH6_AUQ4q"
   },
   "outputs": [],
   "source": [
    "# 영어와 한글을 통일\n",
    "respec['purpose'] = respec['purpose'].replace(\"ETC\", '기타').replace(\"SWITCHLOAN\", '대환대출').replace(\"LIVING\", '생활비').replace(\"BUSINESS\", \"사업자금\").replace(\"BUYHOUSE\", '주택구입').replace(\"HOUSEDEPOSIT\", '전월세보증금').replace(\"INVEST\", '투자').replace(\"BUYCAR\", '자동차구입')\n"
   ]
  },
  {
   "cell_type": "code",
   "execution_count": 11,
   "metadata": {
    "colab": {
     "base_uri": "https://localhost:8080/",
     "height": 430
    },
    "id": "NZrTt2g_WBAj",
    "outputId": "68b206de-136c-4a01-be5f-a70317b6e1bf"
   },
   "outputs": [
    {
     "data": {
      "text/html": [
       "<div>\n",
       "<style scoped>\n",
       "    .dataframe tbody tr th:only-of-type {\n",
       "        vertical-align: middle;\n",
       "    }\n",
       "\n",
       "    .dataframe tbody tr th {\n",
       "        vertical-align: top;\n",
       "    }\n",
       "\n",
       "    .dataframe thead th {\n",
       "        text-align: right;\n",
       "    }\n",
       "</style>\n",
       "<table border=\"1\" class=\"dataframe\">\n",
       "  <thead>\n",
       "    <tr style=\"text-align: right;\">\n",
       "      <th></th>\n",
       "      <th>application_id</th>\n",
       "      <th>user_id</th>\n",
       "      <th>birth_year</th>\n",
       "      <th>gender</th>\n",
       "      <th>credit_score</th>\n",
       "      <th>yearly_income</th>\n",
       "      <th>company_enter_month</th>\n",
       "      <th>desired_amount</th>\n",
       "      <th>personal_rehabilitation_yn</th>\n",
       "      <th>personal_rehabilitation_complete_yn</th>\n",
       "      <th>existing_loan_cnt</th>\n",
       "      <th>existing_loan_amt</th>\n",
       "    </tr>\n",
       "    <tr>\n",
       "      <th>purpose</th>\n",
       "      <th></th>\n",
       "      <th></th>\n",
       "      <th></th>\n",
       "      <th></th>\n",
       "      <th></th>\n",
       "      <th></th>\n",
       "      <th></th>\n",
       "      <th></th>\n",
       "      <th></th>\n",
       "      <th></th>\n",
       "      <th></th>\n",
       "      <th></th>\n",
       "    </tr>\n",
       "  </thead>\n",
       "  <tbody>\n",
       "    <tr>\n",
       "      <th>기타</th>\n",
       "      <td>1.078635e+06</td>\n",
       "      <td>441458.278679</td>\n",
       "      <td>1981.941380</td>\n",
       "      <td>0.676602</td>\n",
       "      <td>718.921435</td>\n",
       "      <td>4.672088e+07</td>\n",
       "      <td>4.869104e+06</td>\n",
       "      <td>5.021406e+07</td>\n",
       "      <td>0.011778</td>\n",
       "      <td>0.006936</td>\n",
       "      <td>3.812549</td>\n",
       "      <td>7.705330e+07</td>\n",
       "    </tr>\n",
       "    <tr>\n",
       "      <th>대환대출</th>\n",
       "      <td>1.083758e+06</td>\n",
       "      <td>439494.098394</td>\n",
       "      <td>1983.112895</td>\n",
       "      <td>0.673657</td>\n",
       "      <td>666.737587</td>\n",
       "      <td>4.441556e+07</td>\n",
       "      <td>4.981218e+06</td>\n",
       "      <td>4.237108e+07</td>\n",
       "      <td>0.005316</td>\n",
       "      <td>0.003735</td>\n",
       "      <td>4.372232</td>\n",
       "      <td>7.644610e+07</td>\n",
       "    </tr>\n",
       "    <tr>\n",
       "      <th>사업자금</th>\n",
       "      <td>1.082040e+06</td>\n",
       "      <td>436080.991736</td>\n",
       "      <td>1980.804398</td>\n",
       "      <td>0.698343</td>\n",
       "      <td>736.734092</td>\n",
       "      <td>7.175506e+07</td>\n",
       "      <td>4.864794e+06</td>\n",
       "      <td>5.192758e+07</td>\n",
       "      <td>0.008103</td>\n",
       "      <td>0.008750</td>\n",
       "      <td>3.337271</td>\n",
       "      <td>8.653888e+07</td>\n",
       "    </tr>\n",
       "    <tr>\n",
       "      <th>생활비</th>\n",
       "      <td>1.083702e+06</td>\n",
       "      <td>440931.625044</td>\n",
       "      <td>1982.620231</td>\n",
       "      <td>0.672816</td>\n",
       "      <td>661.737925</td>\n",
       "      <td>4.230887e+07</td>\n",
       "      <td>4.854741e+06</td>\n",
       "      <td>2.419012e+07</td>\n",
       "      <td>0.010372</td>\n",
       "      <td>0.005346</td>\n",
       "      <td>4.803647</td>\n",
       "      <td>7.547312e+07</td>\n",
       "    </tr>\n",
       "    <tr>\n",
       "      <th>자동차구입</th>\n",
       "      <td>1.075803e+06</td>\n",
       "      <td>440826.914857</td>\n",
       "      <td>1986.361140</td>\n",
       "      <td>0.816823</td>\n",
       "      <td>718.368679</td>\n",
       "      <td>5.349948e+07</td>\n",
       "      <td>1.173165e+06</td>\n",
       "      <td>3.026715e+07</td>\n",
       "      <td>0.021277</td>\n",
       "      <td>0.009009</td>\n",
       "      <td>2.936728</td>\n",
       "      <td>6.913847e+07</td>\n",
       "    </tr>\n",
       "    <tr>\n",
       "      <th>전월세보증금</th>\n",
       "      <td>1.087113e+06</td>\n",
       "      <td>439804.523258</td>\n",
       "      <td>1986.078409</td>\n",
       "      <td>0.623285</td>\n",
       "      <td>765.769168</td>\n",
       "      <td>4.378604e+07</td>\n",
       "      <td>4.938312e+06</td>\n",
       "      <td>8.817148e+07</td>\n",
       "      <td>0.013667</td>\n",
       "      <td>0.005598</td>\n",
       "      <td>2.613261</td>\n",
       "      <td>5.937304e+07</td>\n",
       "    </tr>\n",
       "    <tr>\n",
       "      <th>주택구입</th>\n",
       "      <td>1.082496e+06</td>\n",
       "      <td>437198.403768</td>\n",
       "      <td>1983.689622</td>\n",
       "      <td>0.686889</td>\n",
       "      <td>839.353564</td>\n",
       "      <td>5.486352e+07</td>\n",
       "      <td>4.879441e+06</td>\n",
       "      <td>1.733751e+08</td>\n",
       "      <td>0.006312</td>\n",
       "      <td>0.006021</td>\n",
       "      <td>2.457088</td>\n",
       "      <td>9.179131e+07</td>\n",
       "    </tr>\n",
       "    <tr>\n",
       "      <th>투자</th>\n",
       "      <td>1.091563e+06</td>\n",
       "      <td>438642.723577</td>\n",
       "      <td>1985.219961</td>\n",
       "      <td>0.863343</td>\n",
       "      <td>795.127562</td>\n",
       "      <td>5.700133e+07</td>\n",
       "      <td>4.870698e+06</td>\n",
       "      <td>7.308763e+07</td>\n",
       "      <td>0.003909</td>\n",
       "      <td>0.006652</td>\n",
       "      <td>3.415646</td>\n",
       "      <td>1.008581e+08</td>\n",
       "    </tr>\n",
       "  </tbody>\n",
       "</table>\n",
       "</div>"
      ],
      "text/plain": [
       "         application_id        user_id   birth_year    gender  credit_score  \\\n",
       "purpose                                                                       \n",
       "기타         1.078635e+06  441458.278679  1981.941380  0.676602    718.921435   \n",
       "대환대출       1.083758e+06  439494.098394  1983.112895  0.673657    666.737587   \n",
       "사업자금       1.082040e+06  436080.991736  1980.804398  0.698343    736.734092   \n",
       "생활비        1.083702e+06  440931.625044  1982.620231  0.672816    661.737925   \n",
       "자동차구입      1.075803e+06  440826.914857  1986.361140  0.816823    718.368679   \n",
       "전월세보증금     1.087113e+06  439804.523258  1986.078409  0.623285    765.769168   \n",
       "주택구입       1.082496e+06  437198.403768  1983.689622  0.686889    839.353564   \n",
       "투자         1.091563e+06  438642.723577  1985.219961  0.863343    795.127562   \n",
       "\n",
       "         yearly_income  company_enter_month  desired_amount  \\\n",
       "purpose                                                       \n",
       "기타        4.672088e+07         4.869104e+06    5.021406e+07   \n",
       "대환대출      4.441556e+07         4.981218e+06    4.237108e+07   \n",
       "사업자금      7.175506e+07         4.864794e+06    5.192758e+07   \n",
       "생활비       4.230887e+07         4.854741e+06    2.419012e+07   \n",
       "자동차구입     5.349948e+07         1.173165e+06    3.026715e+07   \n",
       "전월세보증금    4.378604e+07         4.938312e+06    8.817148e+07   \n",
       "주택구입      5.486352e+07         4.879441e+06    1.733751e+08   \n",
       "투자        5.700133e+07         4.870698e+06    7.308763e+07   \n",
       "\n",
       "         personal_rehabilitation_yn  personal_rehabilitation_complete_yn  \\\n",
       "purpose                                                                    \n",
       "기타                         0.011778                             0.006936   \n",
       "대환대출                       0.005316                             0.003735   \n",
       "사업자금                       0.008103                             0.008750   \n",
       "생활비                        0.010372                             0.005346   \n",
       "자동차구입                      0.021277                             0.009009   \n",
       "전월세보증금                     0.013667                             0.005598   \n",
       "주택구입                       0.006312                             0.006021   \n",
       "투자                         0.003909                             0.006652   \n",
       "\n",
       "         existing_loan_cnt  existing_loan_amt  \n",
       "purpose                                        \n",
       "기타                3.812549       7.705330e+07  \n",
       "대환대출              4.372232       7.644610e+07  \n",
       "사업자금              3.337271       8.653888e+07  \n",
       "생활비               4.803647       7.547312e+07  \n",
       "자동차구입             2.936728       6.913847e+07  \n",
       "전월세보증금            2.613261       5.937304e+07  \n",
       "주택구입              2.457088       9.179131e+07  \n",
       "투자                3.415646       1.008581e+08  "
      ]
     },
     "execution_count": 11,
     "metadata": {},
     "output_type": "execute_result"
    }
   ],
   "source": [
    "respec.groupby(['purpose']).mean()"
   ]
  },
  {
   "cell_type": "markdown",
   "metadata": {
    "id": "KAFgymLHTPAR"
   },
   "source": [
    "## 5. birth_year 컬럼\n",
    "* birth_year을 나이 파생 변수를 만들어 대체\n",
    "* 나이를 10단위로 바꿔주었고, 70이상의 값은 70으로 처리\n",
    "* yearly_income을 기준으로 null값을 채움"
   ]
  },
  {
   "cell_type": "code",
   "execution_count": 12,
   "metadata": {
    "id": "KPC72N30lnsq"
   },
   "outputs": [],
   "source": [
    "# 성별이 다른 신청서에는 있지만 결측치가 있는 유저들 처리\n",
    "gender_null = set(respec[(respec['user_id'].isin(set(respec[respec['gender'].isnull()]['user_id'])))&(respec['gender'].notnull())]['user_id'])"
   ]
  },
  {
   "cell_type": "code",
   "execution_count": 13,
   "metadata": {
    "id": "_junfWLwmOv4"
   },
   "outputs": [],
   "source": [
    "for i in gender_null:\n",
    "    respec.loc[(respec['user_id']==i)&(respec['birth_year'].isnull()),'birth_year'] = respec[respec['user_id'] == i]['birth_year'].dropna().unique().item()\n",
    "    respec.loc[(respec['user_id']==i)&(respec['gender'].isnull()),'gender'] = respec[respec['user_id'] == i]['gender'].dropna().unique().item()"
   ]
  },
  {
   "cell_type": "code",
   "execution_count": 14,
   "metadata": {
    "id": "TJuHf2rCTheD"
   },
   "outputs": [],
   "source": [
    "# 나이 파생변수 추가\n",
    "respec['age'] = 2023 - respec['birth_year']"
   ]
  },
  {
   "cell_type": "code",
   "execution_count": 15,
   "metadata": {
    "id": "kdPzqWLmTzRA"
   },
   "outputs": [],
   "source": [
    "# 나이를 10단위로 바꿔주고, 70이상의 값은 70으로 처리\n",
    "respec.loc[respec['age'] < 20, 'reage'] = 10\n",
    "respec.loc[(respec['age'] >= 20) & (respec['age'] <30), 'reage'] = 20\n",
    "respec.loc[(respec['age'] >= 30) & (respec['age'] <40), 'reage'] = 30\n",
    "respec.loc[(respec['age'] >= 40) & (respec['age'] <50), 'reage'] = 40\n",
    "respec.loc[(respec['age'] >= 50) & (respec['age'] <60), 'reage'] = 50\n",
    "respec.loc[(respec['age'] >= 60) & (respec['age'] <70), 'reage'] = 60\n",
    "respec.loc[respec['age'] >= 70, 'reage'] = 70"
   ]
  },
  {
   "cell_type": "code",
   "execution_count": 16,
   "metadata": {
    "id": "vuduL2HNU_1D"
   },
   "outputs": [],
   "source": [
    "# 나이에 따른 평균 값들 확인\n",
    "respec_group = respec.groupby(['reage']).mean()\n",
    "respec_group = respec_group.reset_index()"
   ]
  },
  {
   "cell_type": "code",
   "execution_count": 17,
   "metadata": {
    "colab": {
     "base_uri": "https://localhost:8080/",
     "height": 302
    },
    "id": "rKo5PlUewBOe",
    "outputId": "51cae273-7d94-4676-ecb1-ab5b0a8a9f09"
   },
   "outputs": [
    {
     "data": {
      "text/html": [
       "<div>\n",
       "<style scoped>\n",
       "    .dataframe tbody tr th:only-of-type {\n",
       "        vertical-align: middle;\n",
       "    }\n",
       "\n",
       "    .dataframe tbody tr th {\n",
       "        vertical-align: top;\n",
       "    }\n",
       "\n",
       "    .dataframe thead th {\n",
       "        text-align: right;\n",
       "    }\n",
       "</style>\n",
       "<table border=\"1\" class=\"dataframe\">\n",
       "  <thead>\n",
       "    <tr style=\"text-align: right;\">\n",
       "      <th></th>\n",
       "      <th>reage</th>\n",
       "      <th>application_id</th>\n",
       "      <th>user_id</th>\n",
       "      <th>birth_year</th>\n",
       "      <th>gender</th>\n",
       "      <th>credit_score</th>\n",
       "      <th>yearly_income</th>\n",
       "      <th>company_enter_month</th>\n",
       "      <th>desired_amount</th>\n",
       "      <th>personal_rehabilitation_yn</th>\n",
       "      <th>personal_rehabilitation_complete_yn</th>\n",
       "      <th>existing_loan_cnt</th>\n",
       "      <th>existing_loan_amt</th>\n",
       "      <th>age</th>\n",
       "    </tr>\n",
       "  </thead>\n",
       "  <tbody>\n",
       "    <tr>\n",
       "      <th>0</th>\n",
       "      <td>20.0</td>\n",
       "      <td>1.083651e+06</td>\n",
       "      <td>440805.330399</td>\n",
       "      <td>1996.585710</td>\n",
       "      <td>0.697107</td>\n",
       "      <td>659.406853</td>\n",
       "      <td>2.987041e+07</td>\n",
       "      <td>5.010945e+06</td>\n",
       "      <td>2.391264e+07</td>\n",
       "      <td>0.005605</td>\n",
       "      <td>0.001343</td>\n",
       "      <td>3.541547</td>\n",
       "      <td>3.490063e+07</td>\n",
       "      <td>26.414290</td>\n",
       "    </tr>\n",
       "    <tr>\n",
       "      <th>1</th>\n",
       "      <td>30.0</td>\n",
       "      <td>1.084868e+06</td>\n",
       "      <td>442264.064696</td>\n",
       "      <td>1988.608223</td>\n",
       "      <td>0.698099</td>\n",
       "      <td>678.562302</td>\n",
       "      <td>4.132548e+07</td>\n",
       "      <td>4.900269e+06</td>\n",
       "      <td>3.755334e+07</td>\n",
       "      <td>0.007445</td>\n",
       "      <td>0.004797</td>\n",
       "      <td>4.370370</td>\n",
       "      <td>7.209901e+07</td>\n",
       "      <td>34.391777</td>\n",
       "    </tr>\n",
       "    <tr>\n",
       "      <th>2</th>\n",
       "      <td>40.0</td>\n",
       "      <td>1.081521e+06</td>\n",
       "      <td>437538.707302</td>\n",
       "      <td>1979.051834</td>\n",
       "      <td>0.659310</td>\n",
       "      <td>676.406702</td>\n",
       "      <td>5.027102e+07</td>\n",
       "      <td>4.813463e+06</td>\n",
       "      <td>3.833640e+07</td>\n",
       "      <td>0.010219</td>\n",
       "      <td>0.009421</td>\n",
       "      <td>4.873379</td>\n",
       "      <td>9.474327e+07</td>\n",
       "      <td>43.948166</td>\n",
       "    </tr>\n",
       "    <tr>\n",
       "      <th>3</th>\n",
       "      <td>50.0</td>\n",
       "      <td>1.084982e+06</td>\n",
       "      <td>440780.961920</td>\n",
       "      <td>1969.437196</td>\n",
       "      <td>0.659148</td>\n",
       "      <td>672.597414</td>\n",
       "      <td>5.942931e+07</td>\n",
       "      <td>4.795204e+06</td>\n",
       "      <td>3.983855e+07</td>\n",
       "      <td>0.012185</td>\n",
       "      <td>0.017363</td>\n",
       "      <td>4.953073</td>\n",
       "      <td>9.210063e+07</td>\n",
       "      <td>53.562804</td>\n",
       "    </tr>\n",
       "    <tr>\n",
       "      <th>4</th>\n",
       "      <td>60.0</td>\n",
       "      <td>1.083795e+06</td>\n",
       "      <td>437324.421057</td>\n",
       "      <td>1959.672892</td>\n",
       "      <td>0.617716</td>\n",
       "      <td>677.869317</td>\n",
       "      <td>4.667257e+07</td>\n",
       "      <td>4.895073e+06</td>\n",
       "      <td>3.666523e+07</td>\n",
       "      <td>0.011416</td>\n",
       "      <td>0.027592</td>\n",
       "      <td>4.722829</td>\n",
       "      <td>6.853000e+07</td>\n",
       "      <td>63.327108</td>\n",
       "    </tr>\n",
       "    <tr>\n",
       "      <th>5</th>\n",
       "      <td>70.0</td>\n",
       "      <td>1.094280e+06</td>\n",
       "      <td>447915.803977</td>\n",
       "      <td>1949.029403</td>\n",
       "      <td>0.533665</td>\n",
       "      <td>697.099452</td>\n",
       "      <td>3.630668e+07</td>\n",
       "      <td>5.611722e+06</td>\n",
       "      <td>2.287173e+07</td>\n",
       "      <td>0.006098</td>\n",
       "      <td>0.014493</td>\n",
       "      <td>5.118890</td>\n",
       "      <td>6.087817e+07</td>\n",
       "      <td>73.970597</td>\n",
       "    </tr>\n",
       "  </tbody>\n",
       "</table>\n",
       "</div>"
      ],
      "text/plain": [
       "   reage  application_id        user_id   birth_year    gender  credit_score  \\\n",
       "0   20.0    1.083651e+06  440805.330399  1996.585710  0.697107    659.406853   \n",
       "1   30.0    1.084868e+06  442264.064696  1988.608223  0.698099    678.562302   \n",
       "2   40.0    1.081521e+06  437538.707302  1979.051834  0.659310    676.406702   \n",
       "3   50.0    1.084982e+06  440780.961920  1969.437196  0.659148    672.597414   \n",
       "4   60.0    1.083795e+06  437324.421057  1959.672892  0.617716    677.869317   \n",
       "5   70.0    1.094280e+06  447915.803977  1949.029403  0.533665    697.099452   \n",
       "\n",
       "   yearly_income  company_enter_month  desired_amount  \\\n",
       "0   2.987041e+07         5.010945e+06    2.391264e+07   \n",
       "1   4.132548e+07         4.900269e+06    3.755334e+07   \n",
       "2   5.027102e+07         4.813463e+06    3.833640e+07   \n",
       "3   5.942931e+07         4.795204e+06    3.983855e+07   \n",
       "4   4.667257e+07         4.895073e+06    3.666523e+07   \n",
       "5   3.630668e+07         5.611722e+06    2.287173e+07   \n",
       "\n",
       "   personal_rehabilitation_yn  personal_rehabilitation_complete_yn  \\\n",
       "0                    0.005605                             0.001343   \n",
       "1                    0.007445                             0.004797   \n",
       "2                    0.010219                             0.009421   \n",
       "3                    0.012185                             0.017363   \n",
       "4                    0.011416                             0.027592   \n",
       "5                    0.006098                             0.014493   \n",
       "\n",
       "   existing_loan_cnt  existing_loan_amt        age  \n",
       "0           3.541547       3.490063e+07  26.414290  \n",
       "1           4.370370       7.209901e+07  34.391777  \n",
       "2           4.873379       9.474327e+07  43.948166  \n",
       "3           4.953073       9.210063e+07  53.562804  \n",
       "4           4.722829       6.853000e+07  63.327108  \n",
       "5           5.118890       6.087817e+07  73.970597  "
      ]
     },
     "execution_count": 17,
     "metadata": {},
     "output_type": "execute_result"
    }
   ],
   "source": [
    "respec_group"
   ]
  },
  {
   "cell_type": "code",
   "execution_count": 18,
   "metadata": {
    "id": "j4CtVgpdU_5W"
   },
   "outputs": [],
   "source": [
    "#나이에 따라 소득이 다르다는 판단하에 나이의 결측값을 소득이 속하는 평균으로 채워줌.\n",
    "respec.loc[(respec['reage'].isnull()) & (respec['yearly_income'] < respec_group[respec_group['reage'] == 20]['yearly_income'].item()), 'reage'] = 10\n",
    "respec.loc[(respec['reage'].isnull()) & (respec['yearly_income'] >= respec_group[respec_group['reage'] == 20]['yearly_income'].item()) & (respec['yearly_income'] < respec_group[respec_group['reage'] == 70]['yearly_income'].item()), 'reage'] = 20\n",
    "respec.loc[(respec['reage'].isnull()) & (respec['yearly_income'] >= respec_group[respec_group['reage'] == 70]['yearly_income'].item()) & (respec['yearly_income'] < respec_group[respec_group['reage'] == 30]['yearly_income'].item()), 'reage'] = 70\n",
    "respec.loc[(respec['reage'].isnull()) & (respec['yearly_income'] >= respec_group[respec_group['reage'] == 30]['yearly_income'].item()) & (respec['yearly_income'] < respec_group[respec_group['reage'] == 60]['yearly_income'].item()), 'reage'] = 30\n",
    "respec.loc[(respec['reage'].isnull()) & (respec['yearly_income'] >= respec_group[respec_group['reage'] == 60]['yearly_income'].item()) & (respec['yearly_income'] < respec_group[respec_group['reage'] == 40]['yearly_income'].item()\t), 'reage'] = 60\n",
    "respec.loc[(respec['reage'].isnull()) & (respec['yearly_income'] >= respec_group[respec_group['reage'] == 40]['yearly_income'].item()) & (respec['yearly_income'] < respec_group[respec_group['reage'] == 50]['yearly_income'].item()), 'reage'] = 40\n",
    "respec.loc[(respec['reage'].isnull()) & (respec['yearly_income'] >= respec_group[respec_group['reage'] == 50]['yearly_income'].item()) , 'reage'] = 50"
   ]
  },
  {
   "cell_type": "code",
   "execution_count": 19,
   "metadata": {
    "id": "IIADbEoXYQUV"
   },
   "outputs": [],
   "source": [
    "respec = respec.drop(['birth_year', 'age'], axis = 1)"
   ]
  },
  {
   "cell_type": "markdown",
   "metadata": {
    "id": "jxIBwWjPd-mS"
   },
   "source": [
    "## 6. gender 컬럼\n",
    "- income_type별 gender의 비율을 구하여 비율에 맞춰 결측값을 채워줌"
   ]
  },
  {
   "cell_type": "code",
   "execution_count": 20,
   "metadata": {
    "colab": {
     "base_uri": "https://localhost:8080/"
    },
    "id": "GbbOwOuLeWxX",
    "outputId": "17696803-1b88-45b6-fc8e-a434c92373b6"
   },
   "outputs": [
    {
     "data": {
      "text/plain": [
       "array(['PRIVATEBUSINESS', 'FREELANCER', 'EARNEDINCOME', 'OTHERINCOME',\n",
       "       'EARNEDINCOME2', 'PRACTITIONER'], dtype=object)"
      ]
     },
     "execution_count": 20,
     "metadata": {},
     "output_type": "execute_result"
    }
   ],
   "source": [
    "respec['income_type'].unique()"
   ]
  },
  {
   "cell_type": "code",
   "execution_count": 21,
   "metadata": {
    "id": "KYBOHVETeYl-"
   },
   "outputs": [],
   "source": [
    "respec['income_type'] = respec['income_type'].replace(\"PRIVATEBUSINESS\", 1).replace(\"FREELANCER\", 2).replace(\"EARNEDINCOME\", 3).replace(\"OTHERINCOME\", 4).replace(\"EARNEDINCOME2\", 5).replace(\"PRACTITIONER\", 6)"
   ]
  },
  {
   "cell_type": "code",
   "execution_count": 22,
   "metadata": {
    "id": "rWGqCHtHzomW"
   },
   "outputs": [],
   "source": [
    "sample1 = respec[(respec['gender'].notnull()) & (respec['income_type'] == 1)]['gender'].value_counts()\n",
    "\n",
    "per_0 = sample1[0] / (sample1[1] + sample1[0])\n",
    "per_0 = (per_0*100).round(0)"
   ]
  },
  {
   "cell_type": "code",
   "execution_count": 23,
   "metadata": {
    "id": "_OrhSjP6ecAh"
   },
   "outputs": [],
   "source": [
    "# income_type == 1\n",
    "rnd_num = np.random.uniform(0, 1, 1)\n",
    "\n",
    "if rnd_num > per_0:\n",
    "  respec.loc[(respec['gender'].isnull()) & (respec['income_type'] == 1), 'gender'] = 1\n",
    "else:\n",
    "  respec.loc[(respec['gender'].isnull()) & (respec['income_type'] == 1), 'gender'] = 0"
   ]
  },
  {
   "cell_type": "code",
   "execution_count": 24,
   "metadata": {
    "id": "2lv8L_lJ1zx5"
   },
   "outputs": [],
   "source": [
    "sample1 = respec[(respec['gender'].notnull()) & (respec['income_type'] == 2)]['gender'].value_counts()\n",
    "\n",
    "per_0 = sample1[0] / (sample1[1] + sample1[0])\n",
    "per_0 = (per_0*100).round(0)"
   ]
  },
  {
   "cell_type": "code",
   "execution_count": 25,
   "metadata": {
    "id": "bjrOASf1ekTN"
   },
   "outputs": [],
   "source": [
    "# income_type == 2\n",
    "rnd_num = np.random.uniform(0, 1, 1)\n",
    "\n",
    "if rnd_num > per_0:\n",
    "  respec.loc[(respec['gender'].isnull()) & (respec['income_type'] == 2), 'gender'] = 1\n",
    "else:\n",
    "  respec.loc[(respec['gender'].isnull()) & (respec['income_type'] == 2), 'gender'] = 0"
   ]
  },
  {
   "cell_type": "code",
   "execution_count": 26,
   "metadata": {
    "id": "utAObSvG149Q"
   },
   "outputs": [],
   "source": [
    "sample1 = respec[(respec['gender'].notnull()) & (respec['income_type'] == 3)]['gender'].value_counts()\n",
    "\n",
    "per_0 = sample1[0] / (sample1[1] + sample1[0])\n",
    "per_0 = (per_0*100).round(0)"
   ]
  },
  {
   "cell_type": "code",
   "execution_count": 27,
   "metadata": {
    "id": "jN-wgoZIelR9"
   },
   "outputs": [],
   "source": [
    "# income_type == 3\n",
    "rnd_num = np.random.uniform(0, 1, 1)\n",
    "\n",
    "if rnd_num > per_0:\n",
    "  respec.loc[(respec['gender'].isnull()) & (respec['income_type'] == 3), 'gender'] = 1\n",
    "else:\n",
    "  respec.loc[(respec['gender'].isnull()) & (respec['income_type'] == 3), 'gender'] = 0"
   ]
  },
  {
   "cell_type": "code",
   "execution_count": 28,
   "metadata": {
    "id": "WD1jGpjF2AWc"
   },
   "outputs": [],
   "source": [
    "sample1 = respec[(respec['gender'].notnull()) & (respec['income_type'] == 4)]['gender'].value_counts()\n",
    "\n",
    "per_0 = sample1[0] / (sample1[1] + sample1[0])\n",
    "per_0 = (per_0*100).round(0)"
   ]
  },
  {
   "cell_type": "code",
   "execution_count": 29,
   "metadata": {
    "id": "-PuvyTp-emLv"
   },
   "outputs": [],
   "source": [
    "# income_type == 4\n",
    "rnd_num = np.random.uniform(0, 1, 1)\n",
    "\n",
    "if rnd_num > per_0:\n",
    "  respec.loc[(respec['gender'].isnull()) & (respec['income_type'] == 4), 'gender'] = 1\n",
    "else:\n",
    "  respec.loc[(respec['gender'].isnull()) & (respec['income_type'] == 4), 'gender'] = 0"
   ]
  },
  {
   "cell_type": "code",
   "execution_count": 30,
   "metadata": {
    "id": "G5Qki9OA2FBT"
   },
   "outputs": [],
   "source": [
    "sample1 = respec[(respec['gender'].notnull()) & (respec['income_type'] == 5)]['gender'].value_counts()\n",
    "\n",
    "per_0 = sample1[0] / (sample1[1] + sample1[0])\n",
    "per_0 = (per_0*100).round(0)"
   ]
  },
  {
   "cell_type": "code",
   "execution_count": 31,
   "metadata": {
    "id": "ZPaCDJ87enkf"
   },
   "outputs": [],
   "source": [
    "# income_type == 5\n",
    "rnd_num = np.random.uniform(0, 1, 1)\n",
    "\n",
    "if rnd_num > per_0:\n",
    "  respec.loc[(respec['gender'].isnull()) & (respec['income_type'] == 5), 'gender'] = 1\n",
    "else:\n",
    "  respec.loc[(respec['gender'].isnull()) & (respec['income_type'] == 5), 'gender'] = 0"
   ]
  },
  {
   "cell_type": "code",
   "execution_count": 32,
   "metadata": {
    "id": "XN_jkUXP2Fhj"
   },
   "outputs": [],
   "source": [
    "sample1 = respec[(respec['gender'].notnull()) & (respec['income_type'] == 6)]['gender'].value_counts()\n",
    "\n",
    "per_0 = sample1[0] / (sample1[1] + sample1[0])\n",
    "per_0 = (per_0*100).round(0)"
   ]
  },
  {
   "cell_type": "code",
   "execution_count": 33,
   "metadata": {
    "id": "CsKsx9jNeowy"
   },
   "outputs": [],
   "source": [
    "# income_type == 6\n",
    "rnd_num = np.random.uniform(0, 1, 1)\n",
    "\n",
    "if rnd_num > per_0:\n",
    "  respec.loc[(respec['gender'].isnull()) & (respec['income_type'] == 6), 'gender'] = 1\n",
    "else:\n",
    "  respec.loc[(respec['gender'].isnull()) & (respec['income_type'] == 6), 'gender'] = 0"
   ]
  },
  {
   "cell_type": "markdown",
   "metadata": {
    "id": "IKU6L5CZe5bn"
   },
   "source": [
    "## 7. company_enter_month 컬럼\n",
    "- 년도를 쓰는 기준이 다른것을 통일해줌(2022년을 2022,22라고 표기되어 있음)\n"
   ]
  },
  {
   "cell_type": "code",
   "execution_count": 34,
   "metadata": {
    "id": "DGNvZnO1eqLH"
   },
   "outputs": [],
   "source": [
    "# 표기 방법 통일\n",
    "respec.loc[(respec['company_enter_month'] < 10000000),'company_enter_month'] = respec['company_enter_month'] / 100"
   ]
  },
  {
   "cell_type": "code",
   "execution_count": 35,
   "metadata": {
    "id": "V3jX9xHHkwEv"
   },
   "outputs": [],
   "source": [
    "respec.loc[(respec['company_enter_month'] >= 10000000),'company_enter_month'] = respec['company_enter_month'] / 10000"
   ]
  },
  {
   "cell_type": "code",
   "execution_count": 36,
   "metadata": {
    "id": "sMorshF-e9mL"
   },
   "outputs": [],
   "source": [
    "respec['company_enter_month'] = respec['company_enter_month'].round()"
   ]
  },
  {
   "cell_type": "code",
   "execution_count": 37,
   "metadata": {
    "id": "NThy95AcGhdU"
   },
   "outputs": [],
   "source": [
    "sample = respec[respec['company_enter_month']<0]"
   ]
  },
  {
   "cell_type": "code",
   "execution_count": 38,
   "metadata": {
    "colab": {
     "base_uri": "https://localhost:8080/"
    },
    "id": "DbbQT6PmixFE",
    "outputId": "895fabae-3576-4ef3-d4c3-da8ed4738ac9"
   },
   "outputs": [
    {
     "data": {
      "text/plain": [
       "reage\n",
       "10.0    2019.929857\n",
       "20.0    2020.741026\n",
       "30.0    2019.102214\n",
       "40.0    2016.921633\n",
       "50.0    2015.491140\n",
       "60.0    2016.749222\n",
       "70.0    2017.085093\n",
       "Name: company_enter_month, dtype: float64"
      ]
     },
     "execution_count": 38,
     "metadata": {},
     "output_type": "execute_result"
    }
   ],
   "source": [
    "respec.groupby(['reage'])['company_enter_month'].mean()"
   ]
  },
  {
   "cell_type": "code",
   "execution_count": 39,
   "metadata": {
    "id": "VeGbn71Uj4Zz"
   },
   "outputs": [],
   "source": [
    "# 입사년도의 결측값을 나이를 기준으로 채워줌.\n",
    "respec.loc[(respec['company_enter_month'].isnull()) & (respec['reage'] <= 10),'company_enter_month'] = 2020\n",
    "respec.loc[(respec['company_enter_month'].isnull()) & (respec['reage'] > 10) & (respec['reage'] <= 20),'company_enter_month'] = 2021\n",
    "respec.loc[(respec['company_enter_month'].isnull()) & (respec['reage'] > 20) & (respec['reage'] <= 30),'company_enter_month'] = 2020\n",
    "respec.loc[(respec['company_enter_month'].isnull()) & (respec['reage'] > 30) & (respec['reage'] <= 40),'company_enter_month'] = 2017\n",
    "respec.loc[(respec['company_enter_month'].isnull()) & (respec['reage'] > 40) & (respec['reage'] <= 50),'company_enter_month'] = 2016\n",
    "respec.loc[(respec['company_enter_month'].isnull()) & (respec['reage'] > 50) & (respec['reage'] <= 60),'company_enter_month'] = 2017\n",
    "respec.loc[(respec['company_enter_month'].isnull()) & (respec['reage'] > 60),'company_enter_month'] = 2018"
   ]
  },
  {
   "cell_type": "code",
   "execution_count": 40,
   "metadata": {
    "id": "LuKfUiKY2Zyh"
   },
   "outputs": [],
   "source": [
    "# 입사년으로 커리어 파생 변수 생성\n",
    "respec['career'] = 2022 - respec['company_enter_month'] + 1"
   ]
  },
  {
   "cell_type": "code",
   "execution_count": 41,
   "metadata": {
    "id": "pb4RjX8l2wwY"
   },
   "outputs": [],
   "source": [
    "respec = respec.drop(['company_enter_month'], axis = 1)"
   ]
  },
  {
   "cell_type": "markdown",
   "metadata": {
    "id": "FcAiW54wfH5v"
   },
   "source": [
    "## 8. existing_loan_cnt"
   ]
  },
  {
   "cell_type": "code",
   "execution_count": 42,
   "metadata": {
    "id": "LmSTDgyofWBM"
   },
   "outputs": [],
   "source": [
    "# 데이터 셋 내에 기대출수가 0인 사람이 없으므로, NULL 값인 user의 기대출수는 0일 것이라 판단\n",
    "respec.loc[respec['existing_loan_cnt'].isnull(), 'existing_loan_cnt'] = 0"
   ]
  },
  {
   "cell_type": "markdown",
   "metadata": {
    "id": "L3-P6r1yfuSy"
   },
   "source": [
    "## 9. existing_loan_amt"
   ]
  },
  {
   "cell_type": "code",
   "execution_count": 43,
   "metadata": {
    "id": "z4QV6V9h8fXS"
   },
   "outputs": [],
   "source": [
    "# 기 대출수가 0이면 기대출 금액도 0(오류 처리)\n",
    "respec.loc[(respec['existing_loan_amt'].isnull()) & (respec['existing_loan_cnt']==0), 'existing_loan_amt'] = 0"
   ]
  },
  {
   "cell_type": "code",
   "execution_count": 44,
   "metadata": {
    "colab": {
     "base_uri": "https://localhost:8080/"
    },
    "id": "UW29DLwXgfwz",
    "outputId": "ddda1314-65ac-41ea-c149-328d772ca8b6"
   },
   "outputs": [
    {
     "name": "stdout",
     "output_type": "stream",
     "text": [
      "count    8.899970e+05\n",
      "mean     6.385665e+07\n",
      "std      9.303608e+07\n",
      "min      0.000000e+00\n",
      "25%      1.000000e+07\n",
      "50%      3.700000e+07\n",
      "75%      7.700000e+07\n",
      "max      7.512000e+09\n",
      "Name: existing_loan_amt, dtype: float64\n"
     ]
    }
   ],
   "source": [
    "print(respec['existing_loan_amt'].describe())"
   ]
  },
  {
   "cell_type": "code",
   "execution_count": 45,
   "metadata": {
    "id": "Go46FVzkf5vS"
   },
   "outputs": [],
   "source": [
    "# 1사분면 ~ 3사분면까지의 값의 평규능로 기대출금액의 결측값을 채워줌\n",
    "respec.loc[(respec['existing_loan_amt'].isnull()), 'existing_loan_amt'] = (7.700000e+07 + 1.000000e+07) /2"
   ]
  },
  {
   "cell_type": "markdown",
   "metadata": {
    "id": "bEXBtk_Svw7w"
   },
   "source": [
    "## 10. personal_rehabilitation_yn"
   ]
  },
  {
   "cell_type": "code",
   "execution_count": 46,
   "metadata": {
    "colab": {
     "base_uri": "https://localhost:8080/",
     "height": 357
    },
    "id": "M-ApJlogv_3A",
    "outputId": "273a11a6-69f5-4f37-9161-6541325a798d"
   },
   "outputs": [
    {
     "data": {
      "text/html": [
       "<div>\n",
       "<style scoped>\n",
       "    .dataframe tbody tr th:only-of-type {\n",
       "        vertical-align: middle;\n",
       "    }\n",
       "\n",
       "    .dataframe tbody tr th {\n",
       "        vertical-align: top;\n",
       "    }\n",
       "\n",
       "    .dataframe thead th {\n",
       "        text-align: right;\n",
       "    }\n",
       "</style>\n",
       "<table border=\"1\" class=\"dataframe\">\n",
       "  <thead>\n",
       "    <tr style=\"text-align: right;\">\n",
       "      <th></th>\n",
       "      <th>application_id</th>\n",
       "      <th>user_id</th>\n",
       "      <th>gender</th>\n",
       "      <th>insert_time</th>\n",
       "      <th>credit_score</th>\n",
       "      <th>yearly_income</th>\n",
       "      <th>income_type</th>\n",
       "      <th>employment_type</th>\n",
       "      <th>houseown_type</th>\n",
       "      <th>desired_amount</th>\n",
       "      <th>purpose</th>\n",
       "      <th>personal_rehabilitation_yn</th>\n",
       "      <th>personal_rehabilitation_complete_yn</th>\n",
       "      <th>existing_loan_cnt</th>\n",
       "      <th>existing_loan_amt</th>\n",
       "      <th>reage</th>\n",
       "      <th>career</th>\n",
       "    </tr>\n",
       "  </thead>\n",
       "  <tbody>\n",
       "    <tr>\n",
       "      <th>392</th>\n",
       "      <td>479935</td>\n",
       "      <td>761774</td>\n",
       "      <td>0.0</td>\n",
       "      <td>2022-03-06 20:09:13</td>\n",
       "      <td>100.0</td>\n",
       "      <td>24000000.0</td>\n",
       "      <td>3</td>\n",
       "      <td>정규직</td>\n",
       "      <td>기타가족소유</td>\n",
       "      <td>20000000.0</td>\n",
       "      <td>대환대출</td>\n",
       "      <td>NaN</td>\n",
       "      <td>NaN</td>\n",
       "      <td>2.0</td>\n",
       "      <td>42000000.0</td>\n",
       "      <td>50.0</td>\n",
       "      <td>3.0</td>\n",
       "    </tr>\n",
       "    <tr>\n",
       "      <th>703</th>\n",
       "      <td>305601</td>\n",
       "      <td>619588</td>\n",
       "      <td>1.0</td>\n",
       "      <td>2022-03-19 15:53:49</td>\n",
       "      <td>250.0</td>\n",
       "      <td>20000000.0</td>\n",
       "      <td>3</td>\n",
       "      <td>계약직</td>\n",
       "      <td>전월세</td>\n",
       "      <td>10000000.0</td>\n",
       "      <td>생활비</td>\n",
       "      <td>NaN</td>\n",
       "      <td>NaN</td>\n",
       "      <td>1.0</td>\n",
       "      <td>15000000.0</td>\n",
       "      <td>40.0</td>\n",
       "      <td>2.0</td>\n",
       "    </tr>\n",
       "    <tr>\n",
       "      <th>2761</th>\n",
       "      <td>1984793</td>\n",
       "      <td>829044</td>\n",
       "      <td>0.0</td>\n",
       "      <td>2022-03-30 16:35:13</td>\n",
       "      <td>380.0</td>\n",
       "      <td>24000000.0</td>\n",
       "      <td>3</td>\n",
       "      <td>정규직</td>\n",
       "      <td>전월세</td>\n",
       "      <td>20000000.0</td>\n",
       "      <td>생활비</td>\n",
       "      <td>NaN</td>\n",
       "      <td>NaN</td>\n",
       "      <td>0.0</td>\n",
       "      <td>0.0</td>\n",
       "      <td>30.0</td>\n",
       "      <td>3.0</td>\n",
       "    </tr>\n",
       "    <tr>\n",
       "      <th>3885</th>\n",
       "      <td>1682821</td>\n",
       "      <td>363307</td>\n",
       "      <td>1.0</td>\n",
       "      <td>2022-06-07 16:49:01</td>\n",
       "      <td>100.0</td>\n",
       "      <td>30000000.0</td>\n",
       "      <td>3</td>\n",
       "      <td>정규직</td>\n",
       "      <td>전월세</td>\n",
       "      <td>10000000.0</td>\n",
       "      <td>생활비</td>\n",
       "      <td>0.0</td>\n",
       "      <td>NaN</td>\n",
       "      <td>1.0</td>\n",
       "      <td>43500000.0</td>\n",
       "      <td>30.0</td>\n",
       "      <td>3.0</td>\n",
       "    </tr>\n",
       "    <tr>\n",
       "      <th>6132</th>\n",
       "      <td>387229</td>\n",
       "      <td>622235</td>\n",
       "      <td>1.0</td>\n",
       "      <td>2022-03-10 12:05:15</td>\n",
       "      <td>100.0</td>\n",
       "      <td>39000000.0</td>\n",
       "      <td>3</td>\n",
       "      <td>정규직</td>\n",
       "      <td>기타가족소유</td>\n",
       "      <td>3000000.0</td>\n",
       "      <td>생활비</td>\n",
       "      <td>NaN</td>\n",
       "      <td>NaN</td>\n",
       "      <td>3.0</td>\n",
       "      <td>15000000.0</td>\n",
       "      <td>30.0</td>\n",
       "      <td>2.0</td>\n",
       "    </tr>\n",
       "  </tbody>\n",
       "</table>\n",
       "</div>"
      ],
      "text/plain": [
       "      application_id  user_id  gender          insert_time  credit_score  \\\n",
       "392           479935   761774     0.0  2022-03-06 20:09:13         100.0   \n",
       "703           305601   619588     1.0  2022-03-19 15:53:49         250.0   \n",
       "2761         1984793   829044     0.0  2022-03-30 16:35:13         380.0   \n",
       "3885         1682821   363307     1.0  2022-06-07 16:49:01         100.0   \n",
       "6132          387229   622235     1.0  2022-03-10 12:05:15         100.0   \n",
       "\n",
       "      yearly_income  income_type employment_type houseown_type  \\\n",
       "392      24000000.0            3             정규직        기타가족소유   \n",
       "703      20000000.0            3             계약직           전월세   \n",
       "2761     24000000.0            3             정규직           전월세   \n",
       "3885     30000000.0            3             정규직           전월세   \n",
       "6132     39000000.0            3             정규직        기타가족소유   \n",
       "\n",
       "      desired_amount purpose  personal_rehabilitation_yn  \\\n",
       "392       20000000.0    대환대출                         NaN   \n",
       "703       10000000.0     생활비                         NaN   \n",
       "2761      20000000.0     생활비                         NaN   \n",
       "3885      10000000.0     생활비                         0.0   \n",
       "6132       3000000.0     생활비                         NaN   \n",
       "\n",
       "      personal_rehabilitation_complete_yn  existing_loan_cnt  \\\n",
       "392                                   NaN                2.0   \n",
       "703                                   NaN                1.0   \n",
       "2761                                  NaN                0.0   \n",
       "3885                                  NaN                1.0   \n",
       "6132                                  NaN                3.0   \n",
       "\n",
       "      existing_loan_amt  reage  career  \n",
       "392          42000000.0   50.0     3.0  \n",
       "703          15000000.0   40.0     2.0  \n",
       "2761                0.0   30.0     3.0  \n",
       "3885         43500000.0   30.0     3.0  \n",
       "6132         15000000.0   30.0     2.0  "
      ]
     },
     "execution_count": 46,
     "metadata": {},
     "output_type": "execute_result"
    }
   ],
   "source": [
    "pry_400 =respec[respec['credit_score']<=400]\n",
    "pry_400.head()"
   ]
  },
  {
   "cell_type": "code",
   "execution_count": 47,
   "metadata": {
    "id": "NCihFPYFyrIC"
   },
   "outputs": [],
   "source": [
    "respec['personal_rehabilitation_yn'] = pry_400['personal_rehabilitation_yn'].fillna(1)"
   ]
  },
  {
   "cell_type": "code",
   "execution_count": 48,
   "metadata": {
    "colab": {
     "base_uri": "https://localhost:8080/"
    },
    "id": "P-AWKwOIzmAO",
    "outputId": "a9bf5d62-cf71-4d9b-d87b-cf2b2314f36d"
   },
   "outputs": [
    {
     "data": {
      "text/plain": [
       "967268"
      ]
     },
     "execution_count": 48,
     "metadata": {},
     "output_type": "execute_result"
    }
   ],
   "source": [
    "respec['personal_rehabilitation_yn'].isnull().sum()"
   ]
  },
  {
   "cell_type": "code",
   "execution_count": 49,
   "metadata": {
    "colab": {
     "base_uri": "https://localhost:8080/",
     "height": 661
    },
    "id": "pJHdk3AOCeNs",
    "outputId": "2bdab5c9-0b60-4b54-b607-e32b1a776ac3"
   },
   "outputs": [
    {
     "data": {
      "text/html": [
       "<div>\n",
       "<style scoped>\n",
       "    .dataframe tbody tr th:only-of-type {\n",
       "        vertical-align: middle;\n",
       "    }\n",
       "\n",
       "    .dataframe tbody tr th {\n",
       "        vertical-align: top;\n",
       "    }\n",
       "\n",
       "    .dataframe thead th {\n",
       "        text-align: right;\n",
       "    }\n",
       "</style>\n",
       "<table border=\"1\" class=\"dataframe\">\n",
       "  <thead>\n",
       "    <tr style=\"text-align: right;\">\n",
       "      <th></th>\n",
       "      <th>application_id</th>\n",
       "      <th>user_id</th>\n",
       "      <th>gender</th>\n",
       "      <th>insert_time</th>\n",
       "      <th>credit_score</th>\n",
       "      <th>yearly_income</th>\n",
       "      <th>income_type</th>\n",
       "      <th>employment_type</th>\n",
       "      <th>houseown_type</th>\n",
       "      <th>desired_amount</th>\n",
       "      <th>purpose</th>\n",
       "      <th>personal_rehabilitation_yn</th>\n",
       "      <th>personal_rehabilitation_complete_yn</th>\n",
       "      <th>existing_loan_cnt</th>\n",
       "      <th>existing_loan_amt</th>\n",
       "      <th>reage</th>\n",
       "      <th>career</th>\n",
       "    </tr>\n",
       "  </thead>\n",
       "  <tbody>\n",
       "    <tr>\n",
       "      <th>723586</th>\n",
       "      <td>663275</td>\n",
       "      <td>759637</td>\n",
       "      <td>1.0</td>\n",
       "      <td>2022-05-30 18:29:37</td>\n",
       "      <td>630.0</td>\n",
       "      <td>60000000.0</td>\n",
       "      <td>3</td>\n",
       "      <td>정규직</td>\n",
       "      <td>자가</td>\n",
       "      <td>40000000.0</td>\n",
       "      <td>대환대출</td>\n",
       "      <td>NaN</td>\n",
       "      <td>NaN</td>\n",
       "      <td>5.0</td>\n",
       "      <td>177000000.0</td>\n",
       "      <td>50.0</td>\n",
       "      <td>23.0</td>\n",
       "    </tr>\n",
       "    <tr>\n",
       "      <th>305647</th>\n",
       "      <td>1851112</td>\n",
       "      <td>17579</td>\n",
       "      <td>1.0</td>\n",
       "      <td>2022-04-22 13:46:35</td>\n",
       "      <td>NaN</td>\n",
       "      <td>30000000.0</td>\n",
       "      <td>4</td>\n",
       "      <td>기타</td>\n",
       "      <td>기타가족소유</td>\n",
       "      <td>8000000.0</td>\n",
       "      <td>사업자금</td>\n",
       "      <td>NaN</td>\n",
       "      <td>0.0</td>\n",
       "      <td>0.0</td>\n",
       "      <td>0.0</td>\n",
       "      <td>20.0</td>\n",
       "      <td>2.0</td>\n",
       "    </tr>\n",
       "    <tr>\n",
       "      <th>1077225</th>\n",
       "      <td>570183</td>\n",
       "      <td>766927</td>\n",
       "      <td>0.0</td>\n",
       "      <td>2022-06-09 06:03:48</td>\n",
       "      <td>560.0</td>\n",
       "      <td>27000000.0</td>\n",
       "      <td>3</td>\n",
       "      <td>정규직</td>\n",
       "      <td>기타가족소유</td>\n",
       "      <td>3000000.0</td>\n",
       "      <td>생활비</td>\n",
       "      <td>NaN</td>\n",
       "      <td>0.0</td>\n",
       "      <td>3.0</td>\n",
       "      <td>19000000.0</td>\n",
       "      <td>30.0</td>\n",
       "      <td>1.0</td>\n",
       "    </tr>\n",
       "    <tr>\n",
       "      <th>240126</th>\n",
       "      <td>1350577</td>\n",
       "      <td>643191</td>\n",
       "      <td>0.0</td>\n",
       "      <td>2022-04-21 00:49:19</td>\n",
       "      <td>720.0</td>\n",
       "      <td>30000000.0</td>\n",
       "      <td>4</td>\n",
       "      <td>기타</td>\n",
       "      <td>자가</td>\n",
       "      <td>10000000.0</td>\n",
       "      <td>생활비</td>\n",
       "      <td>NaN</td>\n",
       "      <td>NaN</td>\n",
       "      <td>2.0</td>\n",
       "      <td>35000000.0</td>\n",
       "      <td>40.0</td>\n",
       "      <td>6.0</td>\n",
       "    </tr>\n",
       "    <tr>\n",
       "      <th>798986</th>\n",
       "      <td>1044117</td>\n",
       "      <td>137140</td>\n",
       "      <td>1.0</td>\n",
       "      <td>2022-03-14 09:09:08</td>\n",
       "      <td>NaN</td>\n",
       "      <td>30000000.0</td>\n",
       "      <td>3</td>\n",
       "      <td>정규직</td>\n",
       "      <td>전월세</td>\n",
       "      <td>70000000.0</td>\n",
       "      <td>대환대출</td>\n",
       "      <td>NaN</td>\n",
       "      <td>NaN</td>\n",
       "      <td>0.0</td>\n",
       "      <td>0.0</td>\n",
       "      <td>30.0</td>\n",
       "      <td>3.0</td>\n",
       "    </tr>\n",
       "    <tr>\n",
       "      <th>...</th>\n",
       "      <td>...</td>\n",
       "      <td>...</td>\n",
       "      <td>...</td>\n",
       "      <td>...</td>\n",
       "      <td>...</td>\n",
       "      <td>...</td>\n",
       "      <td>...</td>\n",
       "      <td>...</td>\n",
       "      <td>...</td>\n",
       "      <td>...</td>\n",
       "      <td>...</td>\n",
       "      <td>...</td>\n",
       "      <td>...</td>\n",
       "      <td>...</td>\n",
       "      <td>...</td>\n",
       "      <td>...</td>\n",
       "      <td>...</td>\n",
       "    </tr>\n",
       "    <tr>\n",
       "      <th>285645</th>\n",
       "      <td>495264</td>\n",
       "      <td>764580</td>\n",
       "      <td>1.0</td>\n",
       "      <td>2022-03-20 20:31:12</td>\n",
       "      <td>620.0</td>\n",
       "      <td>32000000.0</td>\n",
       "      <td>3</td>\n",
       "      <td>정규직</td>\n",
       "      <td>전월세</td>\n",
       "      <td>32000000.0</td>\n",
       "      <td>생활비</td>\n",
       "      <td>NaN</td>\n",
       "      <td>NaN</td>\n",
       "      <td>12.0</td>\n",
       "      <td>49000000.0</td>\n",
       "      <td>40.0</td>\n",
       "      <td>7.0</td>\n",
       "    </tr>\n",
       "    <tr>\n",
       "      <th>897171</th>\n",
       "      <td>828019</td>\n",
       "      <td>714248</td>\n",
       "      <td>0.0</td>\n",
       "      <td>2022-03-04 20:14:40</td>\n",
       "      <td>NaN</td>\n",
       "      <td>26000000.0</td>\n",
       "      <td>3</td>\n",
       "      <td>정규직</td>\n",
       "      <td>기타가족소유</td>\n",
       "      <td>50000000.0</td>\n",
       "      <td>생활비</td>\n",
       "      <td>NaN</td>\n",
       "      <td>NaN</td>\n",
       "      <td>1.0</td>\n",
       "      <td>43500000.0</td>\n",
       "      <td>30.0</td>\n",
       "      <td>2.0</td>\n",
       "    </tr>\n",
       "    <tr>\n",
       "      <th>322668</th>\n",
       "      <td>2013048</td>\n",
       "      <td>551143</td>\n",
       "      <td>1.0</td>\n",
       "      <td>2022-05-10 11:53:02</td>\n",
       "      <td>570.0</td>\n",
       "      <td>33000000.0</td>\n",
       "      <td>3</td>\n",
       "      <td>정규직</td>\n",
       "      <td>기타가족소유</td>\n",
       "      <td>3000000.0</td>\n",
       "      <td>생활비</td>\n",
       "      <td>NaN</td>\n",
       "      <td>NaN</td>\n",
       "      <td>3.0</td>\n",
       "      <td>17000000.0</td>\n",
       "      <td>30.0</td>\n",
       "      <td>1.0</td>\n",
       "    </tr>\n",
       "    <tr>\n",
       "      <th>567628</th>\n",
       "      <td>878167</td>\n",
       "      <td>578898</td>\n",
       "      <td>1.0</td>\n",
       "      <td>2022-03-06 08:03:16</td>\n",
       "      <td>700.0</td>\n",
       "      <td>37000000.0</td>\n",
       "      <td>3</td>\n",
       "      <td>정규직</td>\n",
       "      <td>기타가족소유</td>\n",
       "      <td>50000000.0</td>\n",
       "      <td>생활비</td>\n",
       "      <td>NaN</td>\n",
       "      <td>NaN</td>\n",
       "      <td>4.0</td>\n",
       "      <td>128000000.0</td>\n",
       "      <td>40.0</td>\n",
       "      <td>4.0</td>\n",
       "    </tr>\n",
       "    <tr>\n",
       "      <th>853679</th>\n",
       "      <td>1821986</td>\n",
       "      <td>406923</td>\n",
       "      <td>1.0</td>\n",
       "      <td>2022-03-18 21:54:42</td>\n",
       "      <td>620.0</td>\n",
       "      <td>28000000.0</td>\n",
       "      <td>5</td>\n",
       "      <td>정규직</td>\n",
       "      <td>전월세</td>\n",
       "      <td>10000000.0</td>\n",
       "      <td>대환대출</td>\n",
       "      <td>NaN</td>\n",
       "      <td>NaN</td>\n",
       "      <td>1.0</td>\n",
       "      <td>5000000.0</td>\n",
       "      <td>20.0</td>\n",
       "      <td>2.0</td>\n",
       "    </tr>\n",
       "  </tbody>\n",
       "</table>\n",
       "<p>569011 rows × 17 columns</p>\n",
       "</div>"
      ],
      "text/plain": [
       "         application_id  user_id  gender          insert_time  credit_score  \\\n",
       "723586           663275   759637     1.0  2022-05-30 18:29:37         630.0   \n",
       "305647          1851112    17579     1.0  2022-04-22 13:46:35           NaN   \n",
       "1077225          570183   766927     0.0  2022-06-09 06:03:48         560.0   \n",
       "240126          1350577   643191     0.0  2022-04-21 00:49:19         720.0   \n",
       "798986          1044117   137140     1.0  2022-03-14 09:09:08           NaN   \n",
       "...                 ...      ...     ...                  ...           ...   \n",
       "285645           495264   764580     1.0  2022-03-20 20:31:12         620.0   \n",
       "897171           828019   714248     0.0  2022-03-04 20:14:40           NaN   \n",
       "322668          2013048   551143     1.0  2022-05-10 11:53:02         570.0   \n",
       "567628           878167   578898     1.0  2022-03-06 08:03:16         700.0   \n",
       "853679          1821986   406923     1.0  2022-03-18 21:54:42         620.0   \n",
       "\n",
       "         yearly_income  income_type employment_type houseown_type  \\\n",
       "723586      60000000.0            3             정규직            자가   \n",
       "305647      30000000.0            4              기타        기타가족소유   \n",
       "1077225     27000000.0            3             정규직        기타가족소유   \n",
       "240126      30000000.0            4              기타            자가   \n",
       "798986      30000000.0            3             정규직           전월세   \n",
       "...                ...          ...             ...           ...   \n",
       "285645      32000000.0            3             정규직           전월세   \n",
       "897171      26000000.0            3             정규직        기타가족소유   \n",
       "322668      33000000.0            3             정규직        기타가족소유   \n",
       "567628      37000000.0            3             정규직        기타가족소유   \n",
       "853679      28000000.0            5             정규직           전월세   \n",
       "\n",
       "         desired_amount purpose  personal_rehabilitation_yn  \\\n",
       "723586       40000000.0    대환대출                         NaN   \n",
       "305647        8000000.0    사업자금                         NaN   \n",
       "1077225       3000000.0     생활비                         NaN   \n",
       "240126       10000000.0     생활비                         NaN   \n",
       "798986       70000000.0    대환대출                         NaN   \n",
       "...                 ...     ...                         ...   \n",
       "285645       32000000.0     생활비                         NaN   \n",
       "897171       50000000.0     생활비                         NaN   \n",
       "322668        3000000.0     생활비                         NaN   \n",
       "567628       50000000.0     생활비                         NaN   \n",
       "853679       10000000.0    대환대출                         NaN   \n",
       "\n",
       "         personal_rehabilitation_complete_yn  existing_loan_cnt  \\\n",
       "723586                                   NaN                5.0   \n",
       "305647                                   0.0                0.0   \n",
       "1077225                                  0.0                3.0   \n",
       "240126                                   NaN                2.0   \n",
       "798986                                   NaN                0.0   \n",
       "...                                      ...                ...   \n",
       "285645                                   NaN               12.0   \n",
       "897171                                   NaN                1.0   \n",
       "322668                                   NaN                3.0   \n",
       "567628                                   NaN                4.0   \n",
       "853679                                   NaN                1.0   \n",
       "\n",
       "         existing_loan_amt  reage  career  \n",
       "723586         177000000.0   50.0    23.0  \n",
       "305647                 0.0   20.0     2.0  \n",
       "1077225         19000000.0   30.0     1.0  \n",
       "240126          35000000.0   40.0     6.0  \n",
       "798986                 0.0   30.0     3.0  \n",
       "...                    ...    ...     ...  \n",
       "285645          49000000.0   40.0     7.0  \n",
       "897171          43500000.0   30.0     2.0  \n",
       "322668          17000000.0   30.0     1.0  \n",
       "567628         128000000.0   40.0     4.0  \n",
       "853679           5000000.0   20.0     2.0  \n",
       "\n",
       "[569011 rows x 17 columns]"
      ]
     },
     "execution_count": 49,
     "metadata": {},
     "output_type": "execute_result"
    }
   ],
   "source": [
    "df=respec[respec['personal_rehabilitation_yn'].isnull()]\n",
    "df_sample = df.sample(n=569011, random_state=100)\n",
    "df_sample"
   ]
  },
  {
   "cell_type": "code",
   "execution_count": 50,
   "metadata": {
    "id": "451ax9mkCvf2"
   },
   "outputs": [],
   "source": [
    "respec['personal_rehabilitation_yn'] = df_sample['personal_rehabilitation_yn'].fillna(0)"
   ]
  },
  {
   "cell_type": "code",
   "execution_count": 51,
   "metadata": {
    "colab": {
     "base_uri": "https://localhost:8080/"
    },
    "id": "TNl1AIy225Pi",
    "outputId": "3f63ec1d-f7ee-4f49-af02-e33f6bfe1cec"
   },
   "outputs": [
    {
     "data": {
      "text/plain": [
       "399742"
      ]
     },
     "execution_count": 51,
     "metadata": {},
     "output_type": "execute_result"
    }
   ],
   "source": [
    "respec['personal_rehabilitation_yn'].isnull().sum()"
   ]
  },
  {
   "cell_type": "code",
   "execution_count": 52,
   "metadata": {
    "id": "gTbeNy4l25co"
   },
   "outputs": [],
   "source": [
    "respec['personal_rehabilitation_yn'] = respec['personal_rehabilitation_yn'].fillna(1)"
   ]
  },
  {
   "cell_type": "code",
   "execution_count": 53,
   "metadata": {
    "colab": {
     "base_uri": "https://localhost:8080/"
    },
    "id": "mcaafnhKCyit",
    "outputId": "fe6526c5-c8fb-45e2-b0cd-aa2b79b09baf"
   },
   "outputs": [
    {
     "data": {
      "text/plain": [
       "0"
      ]
     },
     "execution_count": 53,
     "metadata": {},
     "output_type": "execute_result"
    }
   ],
   "source": [
    "respec['personal_rehabilitation_yn'].isnull().sum()"
   ]
  },
  {
   "cell_type": "markdown",
   "metadata": {
    "id": "YTiSGBkzx7A5"
   },
   "source": [
    "## 11. personal_rehabilitation_complete_yn"
   ]
  },
  {
   "cell_type": "code",
   "execution_count": 54,
   "metadata": {
    "colab": {
     "base_uri": "https://localhost:8080/",
     "height": 661
    },
    "id": "4qgmllMIv_5p",
    "outputId": "39b71173-8bbf-4953-c9a4-5054d986cae8"
   },
   "outputs": [
    {
     "data": {
      "text/html": [
       "<div>\n",
       "<style scoped>\n",
       "    .dataframe tbody tr th:only-of-type {\n",
       "        vertical-align: middle;\n",
       "    }\n",
       "\n",
       "    .dataframe tbody tr th {\n",
       "        vertical-align: top;\n",
       "    }\n",
       "\n",
       "    .dataframe thead th {\n",
       "        text-align: right;\n",
       "    }\n",
       "</style>\n",
       "<table border=\"1\" class=\"dataframe\">\n",
       "  <thead>\n",
       "    <tr style=\"text-align: right;\">\n",
       "      <th></th>\n",
       "      <th>application_id</th>\n",
       "      <th>user_id</th>\n",
       "      <th>gender</th>\n",
       "      <th>insert_time</th>\n",
       "      <th>credit_score</th>\n",
       "      <th>yearly_income</th>\n",
       "      <th>income_type</th>\n",
       "      <th>employment_type</th>\n",
       "      <th>houseown_type</th>\n",
       "      <th>desired_amount</th>\n",
       "      <th>purpose</th>\n",
       "      <th>personal_rehabilitation_yn</th>\n",
       "      <th>personal_rehabilitation_complete_yn</th>\n",
       "      <th>existing_loan_cnt</th>\n",
       "      <th>existing_loan_amt</th>\n",
       "      <th>reage</th>\n",
       "      <th>career</th>\n",
       "    </tr>\n",
       "  </thead>\n",
       "  <tbody>\n",
       "    <tr>\n",
       "      <th>4</th>\n",
       "      <td>967833</td>\n",
       "      <td>33400</td>\n",
       "      <td>1.0</td>\n",
       "      <td>2022-06-07 08:55:07</td>\n",
       "      <td>630.0</td>\n",
       "      <td>36000000.0</td>\n",
       "      <td>3</td>\n",
       "      <td>정규직</td>\n",
       "      <td>기타가족소유</td>\n",
       "      <td>5000000.0</td>\n",
       "      <td>생활비</td>\n",
       "      <td>0.0</td>\n",
       "      <td>0.0</td>\n",
       "      <td>1.0</td>\n",
       "      <td>16000000.0</td>\n",
       "      <td>20.0</td>\n",
       "      <td>2.0</td>\n",
       "    </tr>\n",
       "    <tr>\n",
       "      <th>9</th>\n",
       "      <td>311143</td>\n",
       "      <td>646289</td>\n",
       "      <td>1.0</td>\n",
       "      <td>2022-06-07 10:17:19</td>\n",
       "      <td>530.0</td>\n",
       "      <td>28000000.0</td>\n",
       "      <td>3</td>\n",
       "      <td>계약직</td>\n",
       "      <td>기타가족소유</td>\n",
       "      <td>3000000.0</td>\n",
       "      <td>생활비</td>\n",
       "      <td>0.0</td>\n",
       "      <td>0.0</td>\n",
       "      <td>5.0</td>\n",
       "      <td>19000000.0</td>\n",
       "      <td>20.0</td>\n",
       "      <td>1.0</td>\n",
       "    </tr>\n",
       "    <tr>\n",
       "      <th>18</th>\n",
       "      <td>1903409</td>\n",
       "      <td>168234</td>\n",
       "      <td>0.0</td>\n",
       "      <td>2022-06-07 09:43:20</td>\n",
       "      <td>560.0</td>\n",
       "      <td>12000000.0</td>\n",
       "      <td>5</td>\n",
       "      <td>기타</td>\n",
       "      <td>기타가족소유</td>\n",
       "      <td>3000000.0</td>\n",
       "      <td>생활비</td>\n",
       "      <td>0.0</td>\n",
       "      <td>0.0</td>\n",
       "      <td>10.0</td>\n",
       "      <td>23000000.0</td>\n",
       "      <td>30.0</td>\n",
       "      <td>2.0</td>\n",
       "    </tr>\n",
       "    <tr>\n",
       "      <th>38</th>\n",
       "      <td>1563352</td>\n",
       "      <td>706772</td>\n",
       "      <td>0.0</td>\n",
       "      <td>2022-06-07 23:09:52</td>\n",
       "      <td>640.0</td>\n",
       "      <td>31000000.0</td>\n",
       "      <td>3</td>\n",
       "      <td>정규직</td>\n",
       "      <td>전월세</td>\n",
       "      <td>46000000.0</td>\n",
       "      <td>대환대출</td>\n",
       "      <td>0.0</td>\n",
       "      <td>0.0</td>\n",
       "      <td>4.0</td>\n",
       "      <td>49000000.0</td>\n",
       "      <td>30.0</td>\n",
       "      <td>3.0</td>\n",
       "    </tr>\n",
       "    <tr>\n",
       "      <th>61</th>\n",
       "      <td>1810425</td>\n",
       "      <td>317528</td>\n",
       "      <td>1.0</td>\n",
       "      <td>2022-06-07 10:19:28</td>\n",
       "      <td>620.0</td>\n",
       "      <td>38000000.0</td>\n",
       "      <td>3</td>\n",
       "      <td>정규직</td>\n",
       "      <td>전월세</td>\n",
       "      <td>30000000.0</td>\n",
       "      <td>대환대출</td>\n",
       "      <td>0.0</td>\n",
       "      <td>0.0</td>\n",
       "      <td>7.0</td>\n",
       "      <td>98000000.0</td>\n",
       "      <td>30.0</td>\n",
       "      <td>5.0</td>\n",
       "    </tr>\n",
       "    <tr>\n",
       "      <th>...</th>\n",
       "      <td>...</td>\n",
       "      <td>...</td>\n",
       "      <td>...</td>\n",
       "      <td>...</td>\n",
       "      <td>...</td>\n",
       "      <td>...</td>\n",
       "      <td>...</td>\n",
       "      <td>...</td>\n",
       "      <td>...</td>\n",
       "      <td>...</td>\n",
       "      <td>...</td>\n",
       "      <td>...</td>\n",
       "      <td>...</td>\n",
       "      <td>...</td>\n",
       "      <td>...</td>\n",
       "      <td>...</td>\n",
       "      <td>...</td>\n",
       "    </tr>\n",
       "    <tr>\n",
       "      <th>1394047</th>\n",
       "      <td>95446</td>\n",
       "      <td>285641</td>\n",
       "      <td>1.0</td>\n",
       "      <td>2022-06-21 09:00:14</td>\n",
       "      <td>720.0</td>\n",
       "      <td>33000000.0</td>\n",
       "      <td>3</td>\n",
       "      <td>정규직</td>\n",
       "      <td>전월세</td>\n",
       "      <td>10000000.0</td>\n",
       "      <td>생활비</td>\n",
       "      <td>0.0</td>\n",
       "      <td>0.0</td>\n",
       "      <td>12.0</td>\n",
       "      <td>125000000.0</td>\n",
       "      <td>30.0</td>\n",
       "      <td>2.0</td>\n",
       "    </tr>\n",
       "    <tr>\n",
       "      <th>1394052</th>\n",
       "      <td>90345</td>\n",
       "      <td>230032</td>\n",
       "      <td>0.0</td>\n",
       "      <td>2022-06-21 15:18:25</td>\n",
       "      <td>620.0</td>\n",
       "      <td>40000000.0</td>\n",
       "      <td>3</td>\n",
       "      <td>계약직</td>\n",
       "      <td>전월세</td>\n",
       "      <td>30000000.0</td>\n",
       "      <td>주택구입</td>\n",
       "      <td>0.0</td>\n",
       "      <td>0.0</td>\n",
       "      <td>6.0</td>\n",
       "      <td>51000000.0</td>\n",
       "      <td>30.0</td>\n",
       "      <td>12.0</td>\n",
       "    </tr>\n",
       "    <tr>\n",
       "      <th>1394065</th>\n",
       "      <td>222649</td>\n",
       "      <td>848692</td>\n",
       "      <td>1.0</td>\n",
       "      <td>2022-06-21 16:46:00</td>\n",
       "      <td>650.0</td>\n",
       "      <td>50000000.0</td>\n",
       "      <td>3</td>\n",
       "      <td>정규직</td>\n",
       "      <td>자가</td>\n",
       "      <td>5000000.0</td>\n",
       "      <td>생활비</td>\n",
       "      <td>0.0</td>\n",
       "      <td>0.0</td>\n",
       "      <td>8.0</td>\n",
       "      <td>400000000.0</td>\n",
       "      <td>40.0</td>\n",
       "      <td>8.0</td>\n",
       "    </tr>\n",
       "    <tr>\n",
       "      <th>1394073</th>\n",
       "      <td>1485272</td>\n",
       "      <td>688352</td>\n",
       "      <td>1.0</td>\n",
       "      <td>2022-06-21 15:21:22</td>\n",
       "      <td>610.0</td>\n",
       "      <td>25000000.0</td>\n",
       "      <td>3</td>\n",
       "      <td>정규직</td>\n",
       "      <td>전월세</td>\n",
       "      <td>20000000.0</td>\n",
       "      <td>대환대출</td>\n",
       "      <td>0.0</td>\n",
       "      <td>0.0</td>\n",
       "      <td>1.0</td>\n",
       "      <td>43500000.0</td>\n",
       "      <td>30.0</td>\n",
       "      <td>6.0</td>\n",
       "    </tr>\n",
       "    <tr>\n",
       "      <th>1394076</th>\n",
       "      <td>1238468</td>\n",
       "      <td>479009</td>\n",
       "      <td>1.0</td>\n",
       "      <td>2022-06-21 20:37:44</td>\n",
       "      <td>540.0</td>\n",
       "      <td>36000000.0</td>\n",
       "      <td>3</td>\n",
       "      <td>정규직</td>\n",
       "      <td>기타가족소유</td>\n",
       "      <td>3000000.0</td>\n",
       "      <td>생활비</td>\n",
       "      <td>0.0</td>\n",
       "      <td>0.0</td>\n",
       "      <td>4.0</td>\n",
       "      <td>60000000.0</td>\n",
       "      <td>30.0</td>\n",
       "      <td>2.0</td>\n",
       "    </tr>\n",
       "  </tbody>\n",
       "</table>\n",
       "<p>72581 rows × 17 columns</p>\n",
       "</div>"
      ],
      "text/plain": [
       "         application_id  user_id  gender          insert_time  credit_score  \\\n",
       "4                967833    33400     1.0  2022-06-07 08:55:07         630.0   \n",
       "9                311143   646289     1.0  2022-06-07 10:17:19         530.0   \n",
       "18              1903409   168234     0.0  2022-06-07 09:43:20         560.0   \n",
       "38              1563352   706772     0.0  2022-06-07 23:09:52         640.0   \n",
       "61              1810425   317528     1.0  2022-06-07 10:19:28         620.0   \n",
       "...                 ...      ...     ...                  ...           ...   \n",
       "1394047           95446   285641     1.0  2022-06-21 09:00:14         720.0   \n",
       "1394052           90345   230032     0.0  2022-06-21 15:18:25         620.0   \n",
       "1394065          222649   848692     1.0  2022-06-21 16:46:00         650.0   \n",
       "1394073         1485272   688352     1.0  2022-06-21 15:21:22         610.0   \n",
       "1394076         1238468   479009     1.0  2022-06-21 20:37:44         540.0   \n",
       "\n",
       "         yearly_income  income_type employment_type houseown_type  \\\n",
       "4           36000000.0            3             정규직        기타가족소유   \n",
       "9           28000000.0            3             계약직        기타가족소유   \n",
       "18          12000000.0            5              기타        기타가족소유   \n",
       "38          31000000.0            3             정규직           전월세   \n",
       "61          38000000.0            3             정규직           전월세   \n",
       "...                ...          ...             ...           ...   \n",
       "1394047     33000000.0            3             정규직           전월세   \n",
       "1394052     40000000.0            3             계약직           전월세   \n",
       "1394065     50000000.0            3             정규직            자가   \n",
       "1394073     25000000.0            3             정규직           전월세   \n",
       "1394076     36000000.0            3             정규직        기타가족소유   \n",
       "\n",
       "         desired_amount purpose  personal_rehabilitation_yn  \\\n",
       "4             5000000.0     생활비                         0.0   \n",
       "9             3000000.0     생활비                         0.0   \n",
       "18            3000000.0     생활비                         0.0   \n",
       "38           46000000.0    대환대출                         0.0   \n",
       "61           30000000.0    대환대출                         0.0   \n",
       "...                 ...     ...                         ...   \n",
       "1394047      10000000.0     생활비                         0.0   \n",
       "1394052      30000000.0    주택구입                         0.0   \n",
       "1394065       5000000.0     생활비                         0.0   \n",
       "1394073      20000000.0    대환대출                         0.0   \n",
       "1394076       3000000.0     생활비                         0.0   \n",
       "\n",
       "         personal_rehabilitation_complete_yn  existing_loan_cnt  \\\n",
       "4                                        0.0                1.0   \n",
       "9                                        0.0                5.0   \n",
       "18                                       0.0               10.0   \n",
       "38                                       0.0                4.0   \n",
       "61                                       0.0                7.0   \n",
       "...                                      ...                ...   \n",
       "1394047                                  0.0               12.0   \n",
       "1394052                                  0.0                6.0   \n",
       "1394065                                  0.0                8.0   \n",
       "1394073                                  0.0                1.0   \n",
       "1394076                                  0.0                4.0   \n",
       "\n",
       "         existing_loan_amt  reage  career  \n",
       "4               16000000.0   20.0     2.0  \n",
       "9               19000000.0   20.0     1.0  \n",
       "18              23000000.0   30.0     2.0  \n",
       "38              49000000.0   30.0     3.0  \n",
       "61              98000000.0   30.0     5.0  \n",
       "...                    ...    ...     ...  \n",
       "1394047        125000000.0   30.0     2.0  \n",
       "1394052         51000000.0   30.0    12.0  \n",
       "1394065        400000000.0   40.0     8.0  \n",
       "1394073         43500000.0   30.0     6.0  \n",
       "1394076         60000000.0   30.0     2.0  \n",
       "\n",
       "[72581 rows x 17 columns]"
      ]
     },
     "execution_count": 54,
     "metadata": {},
     "output_type": "execute_result"
    }
   ],
   "source": [
    "pr_0 = respec['personal_rehabilitation_yn'] == 0\n",
    "prc_0 = respec['personal_rehabilitation_complete_yn'] == 0\n",
    "\n",
    "subset = respec[pr_0 & prc_0]\n",
    "subset"
   ]
  },
  {
   "cell_type": "code",
   "execution_count": 55,
   "metadata": {
    "colab": {
     "base_uri": "https://localhost:8080/",
     "height": 771
    },
    "id": "hJs6bjAWnwIj",
    "outputId": "bf3324a2-eb99-4f7e-aa63-b02b987a64d0"
   },
   "outputs": [
    {
     "name": "stderr",
     "output_type": "stream",
     "text": [
      "/var/folders/8s/_473l8ss1hx20zy1txdh03x40000gn/T/ipykernel_79543/1399243682.py:1: SettingWithCopyWarning: \n",
      "A value is trying to be set on a copy of a slice from a DataFrame.\n",
      "Try using .loc[row_indexer,col_indexer] = value instead\n",
      "\n",
      "See the caveats in the documentation: https://pandas.pydata.org/pandas-docs/stable/user_guide/indexing.html#returning-a-view-versus-a-copy\n",
      "  subset['personal_rehabilitation_complete_yn'] =subset['personal_rehabilitation_complete_yn'].replace(0, 2)\n"
     ]
    },
    {
     "data": {
      "text/html": [
       "<div>\n",
       "<style scoped>\n",
       "    .dataframe tbody tr th:only-of-type {\n",
       "        vertical-align: middle;\n",
       "    }\n",
       "\n",
       "    .dataframe tbody tr th {\n",
       "        vertical-align: top;\n",
       "    }\n",
       "\n",
       "    .dataframe thead th {\n",
       "        text-align: right;\n",
       "    }\n",
       "</style>\n",
       "<table border=\"1\" class=\"dataframe\">\n",
       "  <thead>\n",
       "    <tr style=\"text-align: right;\">\n",
       "      <th></th>\n",
       "      <th>application_id</th>\n",
       "      <th>user_id</th>\n",
       "      <th>gender</th>\n",
       "      <th>insert_time</th>\n",
       "      <th>credit_score</th>\n",
       "      <th>yearly_income</th>\n",
       "      <th>income_type</th>\n",
       "      <th>employment_type</th>\n",
       "      <th>houseown_type</th>\n",
       "      <th>desired_amount</th>\n",
       "      <th>purpose</th>\n",
       "      <th>personal_rehabilitation_yn</th>\n",
       "      <th>personal_rehabilitation_complete_yn</th>\n",
       "      <th>existing_loan_cnt</th>\n",
       "      <th>existing_loan_amt</th>\n",
       "      <th>reage</th>\n",
       "      <th>career</th>\n",
       "    </tr>\n",
       "  </thead>\n",
       "  <tbody>\n",
       "    <tr>\n",
       "      <th>4</th>\n",
       "      <td>967833</td>\n",
       "      <td>33400</td>\n",
       "      <td>1.0</td>\n",
       "      <td>2022-06-07 08:55:07</td>\n",
       "      <td>630.0</td>\n",
       "      <td>36000000.0</td>\n",
       "      <td>3</td>\n",
       "      <td>정규직</td>\n",
       "      <td>기타가족소유</td>\n",
       "      <td>5000000.0</td>\n",
       "      <td>생활비</td>\n",
       "      <td>0.0</td>\n",
       "      <td>2.0</td>\n",
       "      <td>1.0</td>\n",
       "      <td>16000000.0</td>\n",
       "      <td>20.0</td>\n",
       "      <td>2.0</td>\n",
       "    </tr>\n",
       "    <tr>\n",
       "      <th>9</th>\n",
       "      <td>311143</td>\n",
       "      <td>646289</td>\n",
       "      <td>1.0</td>\n",
       "      <td>2022-06-07 10:17:19</td>\n",
       "      <td>530.0</td>\n",
       "      <td>28000000.0</td>\n",
       "      <td>3</td>\n",
       "      <td>계약직</td>\n",
       "      <td>기타가족소유</td>\n",
       "      <td>3000000.0</td>\n",
       "      <td>생활비</td>\n",
       "      <td>0.0</td>\n",
       "      <td>2.0</td>\n",
       "      <td>5.0</td>\n",
       "      <td>19000000.0</td>\n",
       "      <td>20.0</td>\n",
       "      <td>1.0</td>\n",
       "    </tr>\n",
       "    <tr>\n",
       "      <th>18</th>\n",
       "      <td>1903409</td>\n",
       "      <td>168234</td>\n",
       "      <td>0.0</td>\n",
       "      <td>2022-06-07 09:43:20</td>\n",
       "      <td>560.0</td>\n",
       "      <td>12000000.0</td>\n",
       "      <td>5</td>\n",
       "      <td>기타</td>\n",
       "      <td>기타가족소유</td>\n",
       "      <td>3000000.0</td>\n",
       "      <td>생활비</td>\n",
       "      <td>0.0</td>\n",
       "      <td>2.0</td>\n",
       "      <td>10.0</td>\n",
       "      <td>23000000.0</td>\n",
       "      <td>30.0</td>\n",
       "      <td>2.0</td>\n",
       "    </tr>\n",
       "    <tr>\n",
       "      <th>38</th>\n",
       "      <td>1563352</td>\n",
       "      <td>706772</td>\n",
       "      <td>0.0</td>\n",
       "      <td>2022-06-07 23:09:52</td>\n",
       "      <td>640.0</td>\n",
       "      <td>31000000.0</td>\n",
       "      <td>3</td>\n",
       "      <td>정규직</td>\n",
       "      <td>전월세</td>\n",
       "      <td>46000000.0</td>\n",
       "      <td>대환대출</td>\n",
       "      <td>0.0</td>\n",
       "      <td>2.0</td>\n",
       "      <td>4.0</td>\n",
       "      <td>49000000.0</td>\n",
       "      <td>30.0</td>\n",
       "      <td>3.0</td>\n",
       "    </tr>\n",
       "    <tr>\n",
       "      <th>61</th>\n",
       "      <td>1810425</td>\n",
       "      <td>317528</td>\n",
       "      <td>1.0</td>\n",
       "      <td>2022-06-07 10:19:28</td>\n",
       "      <td>620.0</td>\n",
       "      <td>38000000.0</td>\n",
       "      <td>3</td>\n",
       "      <td>정규직</td>\n",
       "      <td>전월세</td>\n",
       "      <td>30000000.0</td>\n",
       "      <td>대환대출</td>\n",
       "      <td>0.0</td>\n",
       "      <td>2.0</td>\n",
       "      <td>7.0</td>\n",
       "      <td>98000000.0</td>\n",
       "      <td>30.0</td>\n",
       "      <td>5.0</td>\n",
       "    </tr>\n",
       "    <tr>\n",
       "      <th>...</th>\n",
       "      <td>...</td>\n",
       "      <td>...</td>\n",
       "      <td>...</td>\n",
       "      <td>...</td>\n",
       "      <td>...</td>\n",
       "      <td>...</td>\n",
       "      <td>...</td>\n",
       "      <td>...</td>\n",
       "      <td>...</td>\n",
       "      <td>...</td>\n",
       "      <td>...</td>\n",
       "      <td>...</td>\n",
       "      <td>...</td>\n",
       "      <td>...</td>\n",
       "      <td>...</td>\n",
       "      <td>...</td>\n",
       "      <td>...</td>\n",
       "    </tr>\n",
       "    <tr>\n",
       "      <th>1394047</th>\n",
       "      <td>95446</td>\n",
       "      <td>285641</td>\n",
       "      <td>1.0</td>\n",
       "      <td>2022-06-21 09:00:14</td>\n",
       "      <td>720.0</td>\n",
       "      <td>33000000.0</td>\n",
       "      <td>3</td>\n",
       "      <td>정규직</td>\n",
       "      <td>전월세</td>\n",
       "      <td>10000000.0</td>\n",
       "      <td>생활비</td>\n",
       "      <td>0.0</td>\n",
       "      <td>2.0</td>\n",
       "      <td>12.0</td>\n",
       "      <td>125000000.0</td>\n",
       "      <td>30.0</td>\n",
       "      <td>2.0</td>\n",
       "    </tr>\n",
       "    <tr>\n",
       "      <th>1394052</th>\n",
       "      <td>90345</td>\n",
       "      <td>230032</td>\n",
       "      <td>0.0</td>\n",
       "      <td>2022-06-21 15:18:25</td>\n",
       "      <td>620.0</td>\n",
       "      <td>40000000.0</td>\n",
       "      <td>3</td>\n",
       "      <td>계약직</td>\n",
       "      <td>전월세</td>\n",
       "      <td>30000000.0</td>\n",
       "      <td>주택구입</td>\n",
       "      <td>0.0</td>\n",
       "      <td>2.0</td>\n",
       "      <td>6.0</td>\n",
       "      <td>51000000.0</td>\n",
       "      <td>30.0</td>\n",
       "      <td>12.0</td>\n",
       "    </tr>\n",
       "    <tr>\n",
       "      <th>1394065</th>\n",
       "      <td>222649</td>\n",
       "      <td>848692</td>\n",
       "      <td>1.0</td>\n",
       "      <td>2022-06-21 16:46:00</td>\n",
       "      <td>650.0</td>\n",
       "      <td>50000000.0</td>\n",
       "      <td>3</td>\n",
       "      <td>정규직</td>\n",
       "      <td>자가</td>\n",
       "      <td>5000000.0</td>\n",
       "      <td>생활비</td>\n",
       "      <td>0.0</td>\n",
       "      <td>2.0</td>\n",
       "      <td>8.0</td>\n",
       "      <td>400000000.0</td>\n",
       "      <td>40.0</td>\n",
       "      <td>8.0</td>\n",
       "    </tr>\n",
       "    <tr>\n",
       "      <th>1394073</th>\n",
       "      <td>1485272</td>\n",
       "      <td>688352</td>\n",
       "      <td>1.0</td>\n",
       "      <td>2022-06-21 15:21:22</td>\n",
       "      <td>610.0</td>\n",
       "      <td>25000000.0</td>\n",
       "      <td>3</td>\n",
       "      <td>정규직</td>\n",
       "      <td>전월세</td>\n",
       "      <td>20000000.0</td>\n",
       "      <td>대환대출</td>\n",
       "      <td>0.0</td>\n",
       "      <td>2.0</td>\n",
       "      <td>1.0</td>\n",
       "      <td>43500000.0</td>\n",
       "      <td>30.0</td>\n",
       "      <td>6.0</td>\n",
       "    </tr>\n",
       "    <tr>\n",
       "      <th>1394076</th>\n",
       "      <td>1238468</td>\n",
       "      <td>479009</td>\n",
       "      <td>1.0</td>\n",
       "      <td>2022-06-21 20:37:44</td>\n",
       "      <td>540.0</td>\n",
       "      <td>36000000.0</td>\n",
       "      <td>3</td>\n",
       "      <td>정규직</td>\n",
       "      <td>기타가족소유</td>\n",
       "      <td>3000000.0</td>\n",
       "      <td>생활비</td>\n",
       "      <td>0.0</td>\n",
       "      <td>2.0</td>\n",
       "      <td>4.0</td>\n",
       "      <td>60000000.0</td>\n",
       "      <td>30.0</td>\n",
       "      <td>2.0</td>\n",
       "    </tr>\n",
       "  </tbody>\n",
       "</table>\n",
       "<p>72581 rows × 17 columns</p>\n",
       "</div>"
      ],
      "text/plain": [
       "         application_id  user_id  gender          insert_time  credit_score  \\\n",
       "4                967833    33400     1.0  2022-06-07 08:55:07         630.0   \n",
       "9                311143   646289     1.0  2022-06-07 10:17:19         530.0   \n",
       "18              1903409   168234     0.0  2022-06-07 09:43:20         560.0   \n",
       "38              1563352   706772     0.0  2022-06-07 23:09:52         640.0   \n",
       "61              1810425   317528     1.0  2022-06-07 10:19:28         620.0   \n",
       "...                 ...      ...     ...                  ...           ...   \n",
       "1394047           95446   285641     1.0  2022-06-21 09:00:14         720.0   \n",
       "1394052           90345   230032     0.0  2022-06-21 15:18:25         620.0   \n",
       "1394065          222649   848692     1.0  2022-06-21 16:46:00         650.0   \n",
       "1394073         1485272   688352     1.0  2022-06-21 15:21:22         610.0   \n",
       "1394076         1238468   479009     1.0  2022-06-21 20:37:44         540.0   \n",
       "\n",
       "         yearly_income  income_type employment_type houseown_type  \\\n",
       "4           36000000.0            3             정규직        기타가족소유   \n",
       "9           28000000.0            3             계약직        기타가족소유   \n",
       "18          12000000.0            5              기타        기타가족소유   \n",
       "38          31000000.0            3             정규직           전월세   \n",
       "61          38000000.0            3             정규직           전월세   \n",
       "...                ...          ...             ...           ...   \n",
       "1394047     33000000.0            3             정규직           전월세   \n",
       "1394052     40000000.0            3             계약직           전월세   \n",
       "1394065     50000000.0            3             정규직            자가   \n",
       "1394073     25000000.0            3             정규직           전월세   \n",
       "1394076     36000000.0            3             정규직        기타가족소유   \n",
       "\n",
       "         desired_amount purpose  personal_rehabilitation_yn  \\\n",
       "4             5000000.0     생활비                         0.0   \n",
       "9             3000000.0     생활비                         0.0   \n",
       "18            3000000.0     생활비                         0.0   \n",
       "38           46000000.0    대환대출                         0.0   \n",
       "61           30000000.0    대환대출                         0.0   \n",
       "...                 ...     ...                         ...   \n",
       "1394047      10000000.0     생활비                         0.0   \n",
       "1394052      30000000.0    주택구입                         0.0   \n",
       "1394065       5000000.0     생활비                         0.0   \n",
       "1394073      20000000.0    대환대출                         0.0   \n",
       "1394076       3000000.0     생활비                         0.0   \n",
       "\n",
       "         personal_rehabilitation_complete_yn  existing_loan_cnt  \\\n",
       "4                                        2.0                1.0   \n",
       "9                                        2.0                5.0   \n",
       "18                                       2.0               10.0   \n",
       "38                                       2.0                4.0   \n",
       "61                                       2.0                7.0   \n",
       "...                                      ...                ...   \n",
       "1394047                                  2.0               12.0   \n",
       "1394052                                  2.0                6.0   \n",
       "1394065                                  2.0                8.0   \n",
       "1394073                                  2.0                1.0   \n",
       "1394076                                  2.0                4.0   \n",
       "\n",
       "         existing_loan_amt  reage  career  \n",
       "4               16000000.0   20.0     2.0  \n",
       "9               19000000.0   20.0     1.0  \n",
       "18              23000000.0   30.0     2.0  \n",
       "38              49000000.0   30.0     3.0  \n",
       "61              98000000.0   30.0     5.0  \n",
       "...                    ...    ...     ...  \n",
       "1394047        125000000.0   30.0     2.0  \n",
       "1394052         51000000.0   30.0    12.0  \n",
       "1394065        400000000.0   40.0     8.0  \n",
       "1394073         43500000.0   30.0     6.0  \n",
       "1394076         60000000.0   30.0     2.0  \n",
       "\n",
       "[72581 rows x 17 columns]"
      ]
     },
     "execution_count": 55,
     "metadata": {},
     "output_type": "execute_result"
    }
   ],
   "source": [
    "subset['personal_rehabilitation_complete_yn'] =subset['personal_rehabilitation_complete_yn'].replace(0, 2)\n",
    "subset"
   ]
  },
  {
   "cell_type": "code",
   "execution_count": 56,
   "metadata": {
    "id": "kXypXT48n30_"
   },
   "outputs": [],
   "source": [
    "pr_1 = respec['personal_rehabilitation_yn'] != 0\n",
    "prc_1 = respec['personal_rehabilitation_complete_yn'] != 0\n",
    "\n",
    "subset1 = respec[pr_1 | prc_1]"
   ]
  },
  {
   "cell_type": "code",
   "execution_count": 57,
   "metadata": {
    "colab": {
     "base_uri": "https://localhost:8080/",
     "height": 357
    },
    "id": "Z_oJh7IcF9Iu",
    "outputId": "03c606c0-e281-468b-d931-1e95595e901a"
   },
   "outputs": [
    {
     "data": {
      "text/html": [
       "<div>\n",
       "<style scoped>\n",
       "    .dataframe tbody tr th:only-of-type {\n",
       "        vertical-align: middle;\n",
       "    }\n",
       "\n",
       "    .dataframe tbody tr th {\n",
       "        vertical-align: top;\n",
       "    }\n",
       "\n",
       "    .dataframe thead th {\n",
       "        text-align: right;\n",
       "    }\n",
       "</style>\n",
       "<table border=\"1\" class=\"dataframe\">\n",
       "  <thead>\n",
       "    <tr style=\"text-align: right;\">\n",
       "      <th></th>\n",
       "      <th>application_id</th>\n",
       "      <th>user_id</th>\n",
       "      <th>gender</th>\n",
       "      <th>insert_time</th>\n",
       "      <th>credit_score</th>\n",
       "      <th>yearly_income</th>\n",
       "      <th>income_type</th>\n",
       "      <th>employment_type</th>\n",
       "      <th>houseown_type</th>\n",
       "      <th>desired_amount</th>\n",
       "      <th>purpose</th>\n",
       "      <th>personal_rehabilitation_yn</th>\n",
       "      <th>personal_rehabilitation_complete_yn</th>\n",
       "      <th>existing_loan_cnt</th>\n",
       "      <th>existing_loan_amt</th>\n",
       "      <th>reage</th>\n",
       "      <th>career</th>\n",
       "    </tr>\n",
       "  </thead>\n",
       "  <tbody>\n",
       "    <tr>\n",
       "      <th>1</th>\n",
       "      <td>954900</td>\n",
       "      <td>553686</td>\n",
       "      <td>1.0</td>\n",
       "      <td>2022-06-07 14:29:03</td>\n",
       "      <td>870.0</td>\n",
       "      <td>30000000.0</td>\n",
       "      <td>1</td>\n",
       "      <td>정규직</td>\n",
       "      <td>기타가족소유</td>\n",
       "      <td>30000000.0</td>\n",
       "      <td>대환대출</td>\n",
       "      <td>0.0</td>\n",
       "      <td>NaN</td>\n",
       "      <td>1.0</td>\n",
       "      <td>27000000.0</td>\n",
       "      <td>50.0</td>\n",
       "      <td>16.0</td>\n",
       "    </tr>\n",
       "    <tr>\n",
       "      <th>2</th>\n",
       "      <td>137274</td>\n",
       "      <td>59516</td>\n",
       "      <td>1.0</td>\n",
       "      <td>2022-06-07 21:40:22</td>\n",
       "      <td>710.0</td>\n",
       "      <td>30000000.0</td>\n",
       "      <td>2</td>\n",
       "      <td>기타</td>\n",
       "      <td>기타가족소유</td>\n",
       "      <td>10000000.0</td>\n",
       "      <td>생활비</td>\n",
       "      <td>1.0</td>\n",
       "      <td>NaN</td>\n",
       "      <td>5.0</td>\n",
       "      <td>15000000.0</td>\n",
       "      <td>20.0</td>\n",
       "      <td>2.0</td>\n",
       "    </tr>\n",
       "    <tr>\n",
       "      <th>3</th>\n",
       "      <td>1570936</td>\n",
       "      <td>167320</td>\n",
       "      <td>1.0</td>\n",
       "      <td>2022-06-07 09:40:27</td>\n",
       "      <td>820.0</td>\n",
       "      <td>62000000.0</td>\n",
       "      <td>3</td>\n",
       "      <td>정규직</td>\n",
       "      <td>자가</td>\n",
       "      <td>2000000.0</td>\n",
       "      <td>생활비</td>\n",
       "      <td>1.0</td>\n",
       "      <td>NaN</td>\n",
       "      <td>7.0</td>\n",
       "      <td>344000000.0</td>\n",
       "      <td>30.0</td>\n",
       "      <td>6.0</td>\n",
       "    </tr>\n",
       "    <tr>\n",
       "      <th>4</th>\n",
       "      <td>967833</td>\n",
       "      <td>33400</td>\n",
       "      <td>1.0</td>\n",
       "      <td>2022-06-07 08:55:07</td>\n",
       "      <td>630.0</td>\n",
       "      <td>36000000.0</td>\n",
       "      <td>3</td>\n",
       "      <td>정규직</td>\n",
       "      <td>기타가족소유</td>\n",
       "      <td>5000000.0</td>\n",
       "      <td>생활비</td>\n",
       "      <td>0.0</td>\n",
       "      <td>0.0</td>\n",
       "      <td>1.0</td>\n",
       "      <td>16000000.0</td>\n",
       "      <td>20.0</td>\n",
       "      <td>2.0</td>\n",
       "    </tr>\n",
       "    <tr>\n",
       "      <th>7</th>\n",
       "      <td>1146166</td>\n",
       "      <td>588743</td>\n",
       "      <td>0.0</td>\n",
       "      <td>2022-06-07 17:19:33</td>\n",
       "      <td>750.0</td>\n",
       "      <td>46000000.0</td>\n",
       "      <td>3</td>\n",
       "      <td>정규직</td>\n",
       "      <td>기타가족소유</td>\n",
       "      <td>6000000.0</td>\n",
       "      <td>생활비</td>\n",
       "      <td>1.0</td>\n",
       "      <td>0.0</td>\n",
       "      <td>0.0</td>\n",
       "      <td>0.0</td>\n",
       "      <td>30.0</td>\n",
       "      <td>8.0</td>\n",
       "    </tr>\n",
       "  </tbody>\n",
       "</table>\n",
       "</div>"
      ],
      "text/plain": [
       "   application_id  user_id  gender          insert_time  credit_score  \\\n",
       "1          954900   553686     1.0  2022-06-07 14:29:03         870.0   \n",
       "2          137274    59516     1.0  2022-06-07 21:40:22         710.0   \n",
       "3         1570936   167320     1.0  2022-06-07 09:40:27         820.0   \n",
       "4          967833    33400     1.0  2022-06-07 08:55:07         630.0   \n",
       "7         1146166   588743     0.0  2022-06-07 17:19:33         750.0   \n",
       "\n",
       "   yearly_income  income_type employment_type houseown_type  desired_amount  \\\n",
       "1     30000000.0            1             정규직        기타가족소유      30000000.0   \n",
       "2     30000000.0            2              기타        기타가족소유      10000000.0   \n",
       "3     62000000.0            3             정규직            자가       2000000.0   \n",
       "4     36000000.0            3             정규직        기타가족소유       5000000.0   \n",
       "7     46000000.0            3             정규직        기타가족소유       6000000.0   \n",
       "\n",
       "  purpose  personal_rehabilitation_yn  personal_rehabilitation_complete_yn  \\\n",
       "1    대환대출                         0.0                                  NaN   \n",
       "2     생활비                         1.0                                  NaN   \n",
       "3     생활비                         1.0                                  NaN   \n",
       "4     생활비                         0.0                                  0.0   \n",
       "7     생활비                         1.0                                  0.0   \n",
       "\n",
       "   existing_loan_cnt  existing_loan_amt  reage  career  \n",
       "1                1.0         27000000.0   50.0    16.0  \n",
       "2                5.0         15000000.0   20.0     2.0  \n",
       "3                7.0        344000000.0   30.0     6.0  \n",
       "4                1.0         16000000.0   20.0     2.0  \n",
       "7                0.0                0.0   30.0     8.0  "
      ]
     },
     "execution_count": 57,
     "metadata": {},
     "output_type": "execute_result"
    }
   ],
   "source": [
    "prcy_600 =respec[respec['credit_score']>=600]\n",
    "prcy_600.head()"
   ]
  },
  {
   "cell_type": "code",
   "execution_count": 58,
   "metadata": {
    "id": "Y7rwYm2eGGXx"
   },
   "outputs": [],
   "source": [
    "respec['personal_rehabilitation_complete_yn'] = prcy_600['personal_rehabilitation_complete_yn'].fillna(1)"
   ]
  },
  {
   "cell_type": "code",
   "execution_count": 59,
   "metadata": {
    "id": "_m9JZWX1JvL-"
   },
   "outputs": [],
   "source": [
    "respec['personal_rehabilitation_complete_yn'] = respec['personal_rehabilitation_complete_yn'].fillna(0)"
   ]
  },
  {
   "cell_type": "code",
   "execution_count": 60,
   "metadata": {
    "id": "YSIfsQdwYufc"
   },
   "outputs": [],
   "source": [
    "respec['income_type'] = respec['income_type'].replace(1, '개인사업자').replace(2, '프리랜서').replace(3, '직장가입자(4대보험O)').replace(4, '기타소득').replace(5, '직장가입자(4대보험X)').replace(6, '전문직')"
   ]
  },
  {
   "cell_type": "code",
   "execution_count": 61,
   "metadata": {
    "colab": {
     "base_uri": "https://localhost:8080/",
     "height": 357
    },
    "id": "sFXcv2SxZVXq",
    "outputId": "ea0a0223-82d4-445b-8b48-b08cf23cb819"
   },
   "outputs": [
    {
     "data": {
      "text/html": [
       "<div>\n",
       "<style scoped>\n",
       "    .dataframe tbody tr th:only-of-type {\n",
       "        vertical-align: middle;\n",
       "    }\n",
       "\n",
       "    .dataframe tbody tr th {\n",
       "        vertical-align: top;\n",
       "    }\n",
       "\n",
       "    .dataframe thead th {\n",
       "        text-align: right;\n",
       "    }\n",
       "</style>\n",
       "<table border=\"1\" class=\"dataframe\">\n",
       "  <thead>\n",
       "    <tr style=\"text-align: right;\">\n",
       "      <th></th>\n",
       "      <th>application_id</th>\n",
       "      <th>user_id</th>\n",
       "      <th>gender</th>\n",
       "      <th>insert_time</th>\n",
       "      <th>credit_score</th>\n",
       "      <th>yearly_income</th>\n",
       "      <th>income_type</th>\n",
       "      <th>employment_type</th>\n",
       "      <th>houseown_type</th>\n",
       "      <th>desired_amount</th>\n",
       "      <th>purpose</th>\n",
       "      <th>personal_rehabilitation_yn</th>\n",
       "      <th>personal_rehabilitation_complete_yn</th>\n",
       "      <th>existing_loan_cnt</th>\n",
       "      <th>existing_loan_amt</th>\n",
       "      <th>reage</th>\n",
       "      <th>career</th>\n",
       "    </tr>\n",
       "  </thead>\n",
       "  <tbody>\n",
       "    <tr>\n",
       "      <th>1</th>\n",
       "      <td>954900</td>\n",
       "      <td>553686</td>\n",
       "      <td>1.0</td>\n",
       "      <td>2022-06-07 14:29:03</td>\n",
       "      <td>870.0</td>\n",
       "      <td>30000000.0</td>\n",
       "      <td>개인사업자</td>\n",
       "      <td>정규직</td>\n",
       "      <td>기타가족소유</td>\n",
       "      <td>30000000.0</td>\n",
       "      <td>대환대출</td>\n",
       "      <td>0.0</td>\n",
       "      <td>1.0</td>\n",
       "      <td>1.0</td>\n",
       "      <td>27000000.0</td>\n",
       "      <td>50.0</td>\n",
       "      <td>16.0</td>\n",
       "    </tr>\n",
       "    <tr>\n",
       "      <th>2</th>\n",
       "      <td>137274</td>\n",
       "      <td>59516</td>\n",
       "      <td>1.0</td>\n",
       "      <td>2022-06-07 21:40:22</td>\n",
       "      <td>710.0</td>\n",
       "      <td>30000000.0</td>\n",
       "      <td>프리랜서</td>\n",
       "      <td>기타</td>\n",
       "      <td>기타가족소유</td>\n",
       "      <td>10000000.0</td>\n",
       "      <td>생활비</td>\n",
       "      <td>1.0</td>\n",
       "      <td>1.0</td>\n",
       "      <td>5.0</td>\n",
       "      <td>15000000.0</td>\n",
       "      <td>20.0</td>\n",
       "      <td>2.0</td>\n",
       "    </tr>\n",
       "    <tr>\n",
       "      <th>3</th>\n",
       "      <td>1570936</td>\n",
       "      <td>167320</td>\n",
       "      <td>1.0</td>\n",
       "      <td>2022-06-07 09:40:27</td>\n",
       "      <td>820.0</td>\n",
       "      <td>62000000.0</td>\n",
       "      <td>직장가입자(4대보험O)</td>\n",
       "      <td>정규직</td>\n",
       "      <td>자가</td>\n",
       "      <td>2000000.0</td>\n",
       "      <td>생활비</td>\n",
       "      <td>1.0</td>\n",
       "      <td>1.0</td>\n",
       "      <td>7.0</td>\n",
       "      <td>344000000.0</td>\n",
       "      <td>30.0</td>\n",
       "      <td>6.0</td>\n",
       "    </tr>\n",
       "    <tr>\n",
       "      <th>4</th>\n",
       "      <td>967833</td>\n",
       "      <td>33400</td>\n",
       "      <td>1.0</td>\n",
       "      <td>2022-06-07 08:55:07</td>\n",
       "      <td>630.0</td>\n",
       "      <td>36000000.0</td>\n",
       "      <td>직장가입자(4대보험O)</td>\n",
       "      <td>정규직</td>\n",
       "      <td>기타가족소유</td>\n",
       "      <td>5000000.0</td>\n",
       "      <td>생활비</td>\n",
       "      <td>0.0</td>\n",
       "      <td>0.0</td>\n",
       "      <td>1.0</td>\n",
       "      <td>16000000.0</td>\n",
       "      <td>20.0</td>\n",
       "      <td>2.0</td>\n",
       "    </tr>\n",
       "    <tr>\n",
       "      <th>6</th>\n",
       "      <td>1614045</td>\n",
       "      <td>860410</td>\n",
       "      <td>1.0</td>\n",
       "      <td>2022-06-07 11:29:05</td>\n",
       "      <td>590.0</td>\n",
       "      <td>45000000.0</td>\n",
       "      <td>기타소득</td>\n",
       "      <td>기타</td>\n",
       "      <td>자가</td>\n",
       "      <td>15000000.0</td>\n",
       "      <td>대환대출</td>\n",
       "      <td>1.0</td>\n",
       "      <td>0.0</td>\n",
       "      <td>1.0</td>\n",
       "      <td>20000000.0</td>\n",
       "      <td>40.0</td>\n",
       "      <td>6.0</td>\n",
       "    </tr>\n",
       "  </tbody>\n",
       "</table>\n",
       "</div>"
      ],
      "text/plain": [
       "   application_id  user_id  gender          insert_time  credit_score  \\\n",
       "1          954900   553686     1.0  2022-06-07 14:29:03         870.0   \n",
       "2          137274    59516     1.0  2022-06-07 21:40:22         710.0   \n",
       "3         1570936   167320     1.0  2022-06-07 09:40:27         820.0   \n",
       "4          967833    33400     1.0  2022-06-07 08:55:07         630.0   \n",
       "6         1614045   860410     1.0  2022-06-07 11:29:05         590.0   \n",
       "\n",
       "   yearly_income   income_type employment_type houseown_type  desired_amount  \\\n",
       "1     30000000.0         개인사업자             정규직        기타가족소유      30000000.0   \n",
       "2     30000000.0          프리랜서              기타        기타가족소유      10000000.0   \n",
       "3     62000000.0  직장가입자(4대보험O)             정규직            자가       2000000.0   \n",
       "4     36000000.0  직장가입자(4대보험O)             정규직        기타가족소유       5000000.0   \n",
       "6     45000000.0          기타소득              기타            자가      15000000.0   \n",
       "\n",
       "  purpose  personal_rehabilitation_yn  personal_rehabilitation_complete_yn  \\\n",
       "1    대환대출                         0.0                                  1.0   \n",
       "2     생활비                         1.0                                  1.0   \n",
       "3     생활비                         1.0                                  1.0   \n",
       "4     생활비                         0.0                                  0.0   \n",
       "6    대환대출                         1.0                                  0.0   \n",
       "\n",
       "   existing_loan_cnt  existing_loan_amt  reage  career  \n",
       "1                1.0         27000000.0   50.0    16.0  \n",
       "2                5.0         15000000.0   20.0     2.0  \n",
       "3                7.0        344000000.0   30.0     6.0  \n",
       "4                1.0         16000000.0   20.0     2.0  \n",
       "6                1.0         20000000.0   40.0     6.0  "
      ]
     },
     "execution_count": 61,
     "metadata": {},
     "output_type": "execute_result"
    }
   ],
   "source": [
    "respec.head()"
   ]
  },
  {
   "cell_type": "markdown",
   "metadata": {
    "id": "W2OwnU84ryJz"
   },
   "source": [
    "## 12. 모델링"
   ]
  },
  {
   "cell_type": "code",
   "execution_count": 62,
   "metadata": {
    "id": "OX6cZQSgsBbM"
   },
   "outputs": [],
   "source": [
    "from sklearn.preprocessing import LabelEncoder # 라벨 인코더\n",
    "from sklearn.model_selection import train_test_split\n",
    "from sklearn.model_selection import cross_val_score\n",
    "from sklearn.metrics import roc_auc_score, roc_curve, precision_recall_curve, precision_score, recall_score, auc\n",
    "from sklearn.metrics import confusion_matrix, plot_confusion_matrix\n",
    "from sklearn.metrics import classification_report, accuracy_score, f1_score\n",
    "from sklearn.metrics import mean_squared_error, r2_score\n",
    "from sklearn.preprocessing import StandardScaler"
   ]
  },
  {
   "cell_type": "code",
   "execution_count": 63,
   "metadata": {
    "id": "6f0EBMWqsBdu"
   },
   "outputs": [],
   "source": [
    "respec1 = respec.drop(['application_id', 'user_id', 'insert_time'], axis = 1)"
   ]
  },
  {
   "cell_type": "code",
   "execution_count": 64,
   "metadata": {
    "id": "ZfeatboosBgM"
   },
   "outputs": [],
   "source": [
    "respec_train = respec1[respec1['credit_score'].notnull()]\n",
    "respec_test = respec1[respec1['credit_score'].isnull()]"
   ]
  },
  {
   "cell_type": "code",
   "execution_count": 65,
   "metadata": {
    "id": "kHoVCJtSsKLW"
   },
   "outputs": [],
   "source": [
    "# 인코딩\n",
    "respec_train = pd.get_dummies(respec_train)\n",
    "respec_test= pd.get_dummies(respec_test)"
   ]
  },
  {
   "cell_type": "code",
   "execution_count": 66,
   "metadata": {
    "id": "1StVOkmtsKNf"
   },
   "outputs": [],
   "source": [
    "train_columns = respec_train.columns\n",
    "test_columns = respec_test.columns"
   ]
  },
  {
   "cell_type": "code",
   "execution_count": 67,
   "metadata": {
    "id": "Fif3EBLfsKP1"
   },
   "outputs": [],
   "source": [
    "respec_train = respec_train.values.astype(float)\n",
    "respec_test = respec_test.values.astype(float)"
   ]
  },
  {
   "cell_type": "code",
   "execution_count": 68,
   "metadata": {
    "id": "BmuW0WsxsKSX"
   },
   "outputs": [],
   "source": [
    "respec_train = pd.DataFrame(respec_train, columns = train_columns)\n",
    "respec_test = pd.DataFrame(respec_test, columns = test_columns)"
   ]
  },
  {
   "cell_type": "code",
   "execution_count": 69,
   "metadata": {
    "id": "0fNRXA9JsKUa"
   },
   "outputs": [],
   "source": [
    "data = respec_train.drop('credit_score',axis=1)\n",
    "target = respec_train['credit_score']"
   ]
  },
  {
   "cell_type": "code",
   "execution_count": 70,
   "metadata": {
    "colab": {
     "base_uri": "https://localhost:8080/"
    },
    "id": "DDR6CTKxsN5h",
    "outputId": "8fdb55ae-b49f-43ce-824d-32f0f33fbbd5"
   },
   "outputs": [
    {
     "name": "stdout",
     "output_type": "stream",
     "text": [
      "StandardScaler()\n"
     ]
    }
   ],
   "source": [
    "standardScaler = StandardScaler()\n",
    "print(standardScaler.fit(data))\n",
    "data_scaled = standardScaler.transform(data)"
   ]
  },
  {
   "cell_type": "code",
   "execution_count": 71,
   "metadata": {
    "id": "y4m62iU0sN7w"
   },
   "outputs": [],
   "source": [
    "from sklearn.model_selection import train_test_split\n",
    "X_train, X_val, y_train, y_val = train_test_split(data_scaled, target, test_size=0.3, random_state=0)"
   ]
  },
  {
   "cell_type": "markdown",
   "metadata": {
    "id": "XSuwYO-psQp4"
   },
   "source": [
    "### 테스트"
   ]
  },
  {
   "cell_type": "code",
   "execution_count": 72,
   "metadata": {
    "id": "dx7SSvy6sN-B"
   },
   "outputs": [],
   "source": [
    "test_data = respec_test.drop('credit_score',axis=1)\n",
    "target = respec_test['credit_score']"
   ]
  },
  {
   "cell_type": "code",
   "execution_count": 73,
   "metadata": {
    "colab": {
     "base_uri": "https://localhost:8080/"
    },
    "id": "dQkdkW89sOAd",
    "outputId": "00b5f507-d4ff-4d1f-e857-0ebf994cc6bc"
   },
   "outputs": [
    {
     "name": "stdout",
     "output_type": "stream",
     "text": [
      "StandardScaler()\n"
     ]
    }
   ],
   "source": [
    "standardScaler = StandardScaler()\n",
    "print(standardScaler.fit(test_data))\n",
    "data_scaled = standardScaler.transform(test_data)"
   ]
  },
  {
   "cell_type": "markdown",
   "metadata": {
    "id": "3NEvUcSnsWFZ"
   },
   "source": [
    "### XGB"
   ]
  },
  {
   "cell_type": "code",
   "execution_count": 74,
   "metadata": {
    "colab": {
     "base_uri": "https://localhost:8080/"
    },
    "id": "2EoibBN1sOC1",
    "outputId": "e6f5804e-e4d0-47c2-faef-14ebbc0f4f93"
   },
   "outputs": [
    {
     "data": {
      "text/plain": [
       "XGBRegressor(base_score=0.5, booster='gbtree', callbacks=None,\n",
       "             colsample_bylevel=1, colsample_bynode=1, colsample_bytree=0.75,\n",
       "             early_stopping_rounds=None, enable_categorical=False,\n",
       "             eval_metric=None, gamma=0, gpu_id=-1, grow_policy='depthwise',\n",
       "             importance_type=None, interaction_constraints='',\n",
       "             learning_rate=0.2, max_bin=256, max_cat_to_onehot=4,\n",
       "             max_delta_step=0, max_depth=14, max_leaves=0, min_child_weight=0.5,\n",
       "             missing=nan, monotone_constraints='()', n_estimators=1000,\n",
       "             n_jobs=0, num_parallel_tree=1, predictor='auto', random_state=2022,\n",
       "             reg_alpha=0, reg_lambda=1, ...)"
      ]
     },
     "execution_count": 74,
     "metadata": {},
     "output_type": "execute_result"
    }
   ],
   "source": [
    "import xgboost\n",
    "\n",
    "model = xgboost.XGBRegressor(n_estimators=1000, learning_rate=0.2, max_depth=14, random_state = 2022, colsample_bytree = 0.75, min_child_weight = 0.5)\n",
    "model.fit(X_train, y_train)"
   ]
  },
  {
   "cell_type": "code",
   "execution_count": 75,
   "metadata": {
    "colab": {
     "base_uri": "https://localhost:8080/"
    },
    "id": "n6CyCHjAscsv",
    "outputId": "73f6855e-f897-4b20-8160-0b04b1db0278"
   },
   "outputs": [
    {
     "name": "stdout",
     "output_type": "stream",
     "text": [
      "MSE : 4544.099, RMSE : 67.410\n",
      "Variance score : 0.652\n"
     ]
    }
   ],
   "source": [
    "y_pred = model.predict(X_val)\n",
    "\n",
    "mse = mean_squared_error(y_val, y_pred)\n",
    "rmse = np.sqrt(mse)\n",
    "print('MSE : {0:.3f}, RMSE : {1:.3F}'.format(mse , rmse))\n",
    "print('Variance score : {0:.3f}'.format(r2_score(y_val,y_pred)))"
   ]
  },
  {
   "cell_type": "code",
   "execution_count": 76,
   "metadata": {
    "id": "cKu23sU3scvG"
   },
   "outputs": [],
   "source": [
    "xbg_preds_test = model.predict(test_data.to_numpy())"
   ]
  },
  {
   "cell_type": "code",
   "execution_count": 77,
   "metadata": {
    "id": "nsCcm8U5scxO"
   },
   "outputs": [],
   "source": [
    "respec.loc[(respec['credit_score'].isnull()), 'credit_score'] = xbg_preds_test.round()"
   ]
  },
  {
   "cell_type": "markdown",
   "metadata": {
    "id": "m4axM7WnuD7j"
   },
   "source": [
    "### 전처리 및 EDA\n"
   ]
  },
  {
   "cell_type": "code",
   "execution_count": 78,
   "metadata": {
    "id": "jiUY2OV8sgTD"
   },
   "outputs": [],
   "source": [
    "# KCB 신용등급 점수표 기준\n",
    "respec.loc[(respec['credit_score'] >= 942) & (respec['credit_score'] <= 1000),'credit_grade'] = 1\n",
    "respec.loc[(respec['credit_score'] >= 891) & (respec['credit_score'] <= 941),'credit_grade'] = 2\n",
    "respec.loc[(respec['credit_score'] >= 832) & (respec['credit_score'] <= 890),'credit_grade'] = 3\n",
    "respec.loc[(respec['credit_score'] >= 768) & (respec['credit_score'] <= 831),'credit_grade'] = 4\n",
    "respec.loc[(respec['credit_score'] >= 698) & (respec['credit_score'] <= 767),'credit_grade'] = 5\n",
    "respec.loc[(respec['credit_score'] >= 630) & (respec['credit_score'] <= 697),'credit_grade'] = 6\n",
    "respec.loc[(respec['credit_score'] >= 530) & (respec['credit_score'] <= 629),'credit_grade'] = 7\n",
    "respec.loc[(respec['credit_score'] >= 454) & (respec['credit_score'] <= 529),'credit_grade'] = 8\n",
    "respec.loc[(respec['credit_score'] >= 335) & (respec['credit_score'] <= 453),'credit_grade'] = 9\n",
    "respec.loc[(respec['credit_score'] >= 0) & (respec['credit_score'] <= 334),'credit_grade'] = 10\n",
    "\n",
    "respec = respec.drop(['credit_score'], axis = 1)"
   ]
  },
  {
   "cell_type": "code",
   "execution_count": 79,
   "metadata": {
    "colab": {
     "base_uri": "https://localhost:8080/"
    },
    "id": "eTMVbgUn5Uml",
    "outputId": "d1e3f7c0-08f5-463d-eff3-805c1695c749"
   },
   "outputs": [
    {
     "data": {
      "text/plain": [
       "application_id                         0\n",
       "user_id                                0\n",
       "gender                                 0\n",
       "insert_time                            0\n",
       "yearly_income                          0\n",
       "income_type                            0\n",
       "employment_type                        0\n",
       "houseown_type                          0\n",
       "desired_amount                         0\n",
       "purpose                                0\n",
       "personal_rehabilitation_yn             0\n",
       "personal_rehabilitation_complete_yn    0\n",
       "existing_loan_cnt                      0\n",
       "existing_loan_amt                      0\n",
       "reage                                  0\n",
       "career                                 0\n",
       "credit_grade                           0\n",
       "dtype: int64"
      ]
     },
     "execution_count": 79,
     "metadata": {},
     "output_type": "execute_result"
    }
   ],
   "source": [
    "respec.isnull().sum()"
   ]
  },
  {
   "cell_type": "markdown",
   "metadata": {
    "id": "5NhoO8BS8PII"
   },
   "source": [
    "## 13. 전처리한 spec데이터 군집화(Cluster:5)"
   ]
  },
  {
   "cell_type": "code",
   "execution_count": 80,
   "metadata": {
    "id": "EcFkiUnf9Dk_"
   },
   "outputs": [],
   "source": [
    "from sklearn.preprocessing import PowerTransformer\n",
    "from kmodes.kprototypes import KPrototypes"
   ]
  },
  {
   "cell_type": "code",
   "execution_count": 81,
   "metadata": {
    "id": "24Ij-jLI9SCW"
   },
   "outputs": [],
   "source": [
    "data = respec.drop(columns=['application_id','user_id','insert_time'])"
   ]
  },
  {
   "cell_type": "code",
   "execution_count": 82,
   "metadata": {
    "id": "OaZfsXPqRlSI"
   },
   "outputs": [],
   "source": [
    "kproto = KPrototypes(n_clusters = 5, init='Huang',n_jobs=-1,n_init=1,verbose=True)\n",
    "kproto.fit(data, categorical=[0,2,3,4,6,7,8])\n",
    "centroids = kproto.cluster_centroids_\n",
    "labels  = kproto.labels_"
   ]
  },
  {
   "cell_type": "code",
   "execution_count": 83,
   "metadata": {
    "id": "2Vs-FvyE9z4n"
   },
   "outputs": [],
   "source": [
    "respec['spec_clust'] = labels"
   ]
  },
  {
   "cell_type": "code",
   "execution_count": 84,
   "metadata": {
    "id": "RVuMUxip-CUX"
   },
   "outputs": [
    {
     "name": "stdout",
     "output_type": "stream",
     "text": [
      "Init: initializing centroids\n",
      "Init: initializing clusters\n",
      "Init: initializing centroids\n",
      "Init: initializing clusters\n",
      "Starting iterations...\n",
      "Run: 1, iteration: 1/100, moves: 262038, ncost: 2.6042052559718616e+22\n",
      "Run: 1, iteration: 2/100, moves: 54177, ncost: 2.4417060865389103e+22\n",
      "Run: 1, iteration: 3/100, moves: 23051, ncost: 2.372861761862177e+22\n",
      "Run: 1, iteration: 4/100, moves: 18938, ncost: 2.3367707810540487e+22\n",
      "Run: 1, iteration: 5/100, moves: 17043, ncost: 2.306451655705843e+22\n",
      "Run: 1, iteration: 6/100, moves: 15184, ncost: 2.2862542797752997e+22\n",
      "Run: 1, iteration: 7/100, moves: 12863, ncost: 2.281229167077396e+22\n",
      "Run: 1, iteration: 8/100, moves: 12274, ncost: 2.2705707722088238e+22\n",
      "Run: 1, iteration: 9/100, moves: 15822, ncost: 2.1997069236982814e+22\n",
      "Run: 1, iteration: 10/100, moves: 18604, ncost: 1.7918339745784003e+22\n",
      "Run: 1, iteration: 11/100, moves: 11552, ncost: 1.466822887356714e+22\n",
      "Run: 1, iteration: 12/100, moves: 4005, ncost: 1.4296392581648138e+22\n",
      "Run: 1, iteration: 13/100, moves: 1244, ncost: 1.4289940547748607e+22\n",
      "Run: 1, iteration: 14/100, moves: 319, ncost: 1.4289830597351753e+22\n",
      "Run: 1, iteration: 15/100, moves: 161, ncost: 1.4289827200897504e+22\n",
      "Run: 1, iteration: 16/100, moves: 73, ncost: 1.4289826156197576e+22\n",
      "Run: 1, iteration: 17/100, moves: 17, ncost: 1.4289826087640205e+22\n",
      "Run: 1, iteration: 18/100, moves: 2, ncost: 1.4289826086914928e+22\n",
      "Run: 1, iteration: 19/100, moves: 0, ncost: 1.4289826086914928e+22\n"
     ]
    }
   ],
   "source": [
    "respec.to_csv(\"/Users/sungahwang/Desktop/BC_data/respec_final.csv\", index = False)"
   ]
  }
 ],
 "metadata": {
  "colab": {
   "collapsed_sections": [],
   "machine_shape": "hm",
   "provenance": []
  },
  "kernelspec": {
   "display_name": "Python 3 (ipykernel)",
   "language": "python",
   "name": "python3"
  },
  "language_info": {
   "codemirror_mode": {
    "name": "ipython",
    "version": 3
   },
   "file_extension": ".py",
   "mimetype": "text/x-python",
   "name": "python",
   "nbconvert_exporter": "python",
   "pygments_lexer": "ipython3",
   "version": "3.9.12"
  }
 },
 "nbformat": 4,
 "nbformat_minor": 1
}
