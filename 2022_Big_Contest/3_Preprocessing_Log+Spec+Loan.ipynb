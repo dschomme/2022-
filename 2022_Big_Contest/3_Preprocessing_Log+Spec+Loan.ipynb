{
 "cells": [
  {
   "cell_type": "markdown",
   "metadata": {
    "id": "VBRWloYpMhAn"
   },
   "source": [
    "# 1. 라이브러리 및 패키지 불러오기"
   ]
  },
  {
   "cell_type": "code",
   "execution_count": 1,
   "metadata": {
    "id": "_Tb9RsUqMWOv"
   },
   "outputs": [],
   "source": [
    "import numpy as np\n",
    "import pandas as pd\n",
    "import matplotlib.pyplot as plt\n",
    "%matplotlib inline\n",
    "import seaborn as sns"
   ]
  },
  {
   "cell_type": "markdown",
   "metadata": {
    "id": "ThDJrAL8MyfO"
   },
   "source": [
    "# 2. 데이터 불러오기"
   ]
  },
  {
   "cell_type": "code",
   "execution_count": 2,
   "metadata": {
    "id": "KFhuySSRMxv8"
   },
   "outputs": [],
   "source": [
    "log_data = pd.read_csv('/Users/sungahwang/Desktop/BC_data/log_data.csv')"
   ]
  },
  {
   "cell_type": "code",
   "execution_count": 3,
   "metadata": {
    "id": "Q4rr1NS55Rok"
   },
   "outputs": [],
   "source": [
    "relog = pd.read_csv('/Users/sungahwang/Desktop/BC_data/relog.csv')"
   ]
  },
  {
   "cell_type": "code",
   "execution_count": 4,
   "metadata": {
    "id": "MwWbu2B86h_w"
   },
   "outputs": [],
   "source": [
    "relog = relog.drop(['Unnamed: 0'], axis = 1)"
   ]
  },
  {
   "cell_type": "markdown",
   "metadata": {
    "id": "q3g_wN6PQTEs"
   },
   "source": [
    "# 3. 전처리"
   ]
  },
  {
   "cell_type": "markdown",
   "metadata": {
    "id": "-6m2Zub8agVs"
   },
   "source": [
    "##1) mp_os\n",
    "- android os는 getcreditinfo행동밖에 없고, Android os는 getcreditinfo만 없으므로 합쳐주는게 맞다고 판단 android -> Android로 변환\n",
    "\n",
    "- 애플 제품에는 login이 없음 / 아이패드에는 여윳돈 계산 기능이 없는것인지 하지 않은 것인지 암튼 없음"
   ]
  },
  {
   "cell_type": "code",
   "execution_count": 5,
   "metadata": {
    "id": "iMTkJOS6QGvf"
   },
   "outputs": [],
   "source": [
    "log_data.loc[list(log_data[log_data['mp_os']=='android'].index),'mp_os'] = 'Android'"
   ]
  },
  {
   "cell_type": "code",
   "execution_count": 6,
   "metadata": {
    "id": "eB9xpaZZQo-N"
   },
   "outputs": [],
   "source": [
    "log_data.loc[list(log_data[log_data['mp_os']=='iPadOS'].index),'mp_os'] = 'iOS'"
   ]
  },
  {
   "cell_type": "code",
   "execution_count": 7,
   "metadata": {
    "id": "ApjwfiAph6h9"
   },
   "outputs": [],
   "source": [
    "# mp_os가 결측값이면 mp_app_version도 결측값임을 확인"
   ]
  },
  {
   "cell_type": "markdown",
   "metadata": {
    "id": "DIGphtVGycXY"
   },
   "source": [
    "# 4. 파생변수 추가"
   ]
  },
  {
   "cell_type": "markdown",
   "metadata": {
    "id": "Ty9c1BPMygcM"
   },
   "source": [
    "## 1) 각 유저가 하루에 행동을 얼마나 했는가?"
   ]
  },
  {
   "cell_type": "code",
   "execution_count": 8,
   "metadata": {
    "id": "5jd2XyQaFE3P"
   },
   "outputs": [],
   "source": [
    "log = log_data"
   ]
  },
  {
   "cell_type": "code",
   "execution_count": 9,
   "metadata": {
    "id": "mQTWdrftL9U3"
   },
   "outputs": [],
   "source": [
    "grouped = log.groupby(['user_id', 'date_cd'])['user_id'].count()\n",
    "df_grouped = pd.DataFrame(grouped)"
   ]
  },
  {
   "cell_type": "code",
   "execution_count": 10,
   "metadata": {
    "id": "qQR4WNuCy9Uv"
   },
   "outputs": [],
   "source": [
    "df_grouped.rename(columns = {'user_id' : 'user_id_cnt'}, inplace = True)"
   ]
  },
  {
   "cell_type": "code",
   "execution_count": 11,
   "metadata": {
    "id": "GaFPmLRZy9RS"
   },
   "outputs": [],
   "source": [
    "df_grouped_new = df_grouped.reset_index('date_cd')\n",
    "df_grouped_new = df_grouped_new.reset_index('user_id')"
   ]
  },
  {
   "cell_type": "code",
   "execution_count": 12,
   "metadata": {
    "colab": {
     "base_uri": "https://localhost:8080/",
     "height": 206
    },
    "id": "i89WlyLhzn_4",
    "outputId": "b53665ad-9be6-43d9-a46f-eb6835cbf8e9"
   },
   "outputs": [
    {
     "data": {
      "text/html": [
       "<div>\n",
       "<style scoped>\n",
       "    .dataframe tbody tr th:only-of-type {\n",
       "        vertical-align: middle;\n",
       "    }\n",
       "\n",
       "    .dataframe tbody tr th {\n",
       "        vertical-align: top;\n",
       "    }\n",
       "\n",
       "    .dataframe thead th {\n",
       "        text-align: right;\n",
       "    }\n",
       "</style>\n",
       "<table border=\"1\" class=\"dataframe\">\n",
       "  <thead>\n",
       "    <tr style=\"text-align: right;\">\n",
       "      <th></th>\n",
       "      <th>user_id</th>\n",
       "      <th>date_cd</th>\n",
       "      <th>user_id_cnt</th>\n",
       "    </tr>\n",
       "  </thead>\n",
       "  <tbody>\n",
       "    <tr>\n",
       "      <th>0</th>\n",
       "      <td>1</td>\n",
       "      <td>2022-05-03</td>\n",
       "      <td>2</td>\n",
       "    </tr>\n",
       "    <tr>\n",
       "      <th>1</th>\n",
       "      <td>1</td>\n",
       "      <td>2022-06-16</td>\n",
       "      <td>3</td>\n",
       "    </tr>\n",
       "    <tr>\n",
       "      <th>2</th>\n",
       "      <td>7</td>\n",
       "      <td>2022-05-22</td>\n",
       "      <td>1</td>\n",
       "    </tr>\n",
       "    <tr>\n",
       "      <th>3</th>\n",
       "      <td>9</td>\n",
       "      <td>2022-05-21</td>\n",
       "      <td>3</td>\n",
       "    </tr>\n",
       "    <tr>\n",
       "      <th>4</th>\n",
       "      <td>11</td>\n",
       "      <td>2022-03-24</td>\n",
       "      <td>12</td>\n",
       "    </tr>\n",
       "  </tbody>\n",
       "</table>\n",
       "</div>"
      ],
      "text/plain": [
       "   user_id     date_cd  user_id_cnt\n",
       "0        1  2022-05-03            2\n",
       "1        1  2022-06-16            3\n",
       "2        7  2022-05-22            1\n",
       "3        9  2022-05-21            3\n",
       "4       11  2022-03-24           12"
      ]
     },
     "execution_count": 12,
     "metadata": {},
     "output_type": "execute_result"
    }
   ],
   "source": [
    "df_grouped_new.head()"
   ]
  },
  {
   "cell_type": "markdown",
   "metadata": {
    "id": "Vuh1taAizrR3"
   },
   "source": [
    "## 2) 유저가 했던 행동을 총합해서 하나의 컬럼으로 추출"
   ]
  },
  {
   "cell_type": "code",
   "execution_count": 13,
   "metadata": {
    "id": "tAWBBnf4L9ZK"
   },
   "outputs": [],
   "source": [
    "sample = pd.DataFrame(df_grouped_new['user_id_cnt'].groupby(df_grouped_new['user_id']).sum())"
   ]
  },
  {
   "cell_type": "code",
   "execution_count": 14,
   "metadata": {
    "colab": {
     "base_uri": "https://localhost:8080/",
     "height": 424
    },
    "id": "iuVeV8qiL9cu",
    "outputId": "610a5882-603f-45be-dfd6-2db2677cefda"
   },
   "outputs": [
    {
     "data": {
      "text/html": [
       "<div>\n",
       "<style scoped>\n",
       "    .dataframe tbody tr th:only-of-type {\n",
       "        vertical-align: middle;\n",
       "    }\n",
       "\n",
       "    .dataframe tbody tr th {\n",
       "        vertical-align: top;\n",
       "    }\n",
       "\n",
       "    .dataframe thead th {\n",
       "        text-align: right;\n",
       "    }\n",
       "</style>\n",
       "<table border=\"1\" class=\"dataframe\">\n",
       "  <thead>\n",
       "    <tr style=\"text-align: right;\">\n",
       "      <th></th>\n",
       "      <th>user_id</th>\n",
       "      <th>timestamp</th>\n",
       "      <th>event</th>\n",
       "      <th>user_id_cnt</th>\n",
       "    </tr>\n",
       "  </thead>\n",
       "  <tbody>\n",
       "    <tr>\n",
       "      <th>0</th>\n",
       "      <td>1</td>\n",
       "      <td>2022-05-03 14:52:28</td>\n",
       "      <td>11-11-5-7-11</td>\n",
       "      <td>5</td>\n",
       "    </tr>\n",
       "    <tr>\n",
       "      <th>1</th>\n",
       "      <td>7</td>\n",
       "      <td>2022-05-22 16:39:49</td>\n",
       "      <td>11</td>\n",
       "      <td>1</td>\n",
       "    </tr>\n",
       "    <tr>\n",
       "      <th>2</th>\n",
       "      <td>9</td>\n",
       "      <td>2022-05-21 23:37:58</td>\n",
       "      <td>11-11-11</td>\n",
       "      <td>3</td>\n",
       "    </tr>\n",
       "    <tr>\n",
       "      <th>3</th>\n",
       "      <td>11</td>\n",
       "      <td>2022-03-24 10:53:59</td>\n",
       "      <td>4-11-5-11-6-1-2-8-3-5-5-11-4-11-5-2-8-3-11-5-5...</td>\n",
       "      <td>43</td>\n",
       "    </tr>\n",
       "    <tr>\n",
       "      <th>4</th>\n",
       "      <td>12</td>\n",
       "      <td>2022-03-14 01:13:11</td>\n",
       "      <td>4-7-1-2-8-3-3-3-4-7-1-2-8-3-3-3-4-7-1-2-8-3-3-...</td>\n",
       "      <td>120</td>\n",
       "    </tr>\n",
       "    <tr>\n",
       "      <th>...</th>\n",
       "      <td>...</td>\n",
       "      <td>...</td>\n",
       "      <td>...</td>\n",
       "      <td>...</td>\n",
       "    </tr>\n",
       "    <tr>\n",
       "      <th>584631</th>\n",
       "      <td>879693</td>\n",
       "      <td>2022-05-13 11:29:49</td>\n",
       "      <td>1-2-8-3-4-1-3-4-5-11-1-3-4-1-2-8-1-2-8-1-3-3-3...</td>\n",
       "      <td>61</td>\n",
       "    </tr>\n",
       "    <tr>\n",
       "      <th>584632</th>\n",
       "      <td>879694</td>\n",
       "      <td>2022-03-31 20:07:23</td>\n",
       "      <td>1-2-8-3-3-3</td>\n",
       "      <td>6</td>\n",
       "    </tr>\n",
       "    <tr>\n",
       "      <th>584633</th>\n",
       "      <td>879695</td>\n",
       "      <td>2022-05-27 12:48:32</td>\n",
       "      <td>1-2-8-3</td>\n",
       "      <td>4</td>\n",
       "    </tr>\n",
       "    <tr>\n",
       "      <th>584634</th>\n",
       "      <td>879696</td>\n",
       "      <td>2022-03-14 05:35:34</td>\n",
       "      <td>7-5-11-11-5-11-4-7-2-8-3</td>\n",
       "      <td>11</td>\n",
       "    </tr>\n",
       "    <tr>\n",
       "      <th>584635</th>\n",
       "      <td>879698</td>\n",
       "      <td>2022-05-24 22:33:24</td>\n",
       "      <td>4-1-2</td>\n",
       "      <td>3</td>\n",
       "    </tr>\n",
       "  </tbody>\n",
       "</table>\n",
       "<p>584636 rows × 4 columns</p>\n",
       "</div>"
      ],
      "text/plain": [
       "        user_id            timestamp  \\\n",
       "0             1  2022-05-03 14:52:28   \n",
       "1             7  2022-05-22 16:39:49   \n",
       "2             9  2022-05-21 23:37:58   \n",
       "3            11  2022-03-24 10:53:59   \n",
       "4            12  2022-03-14 01:13:11   \n",
       "...         ...                  ...   \n",
       "584631   879693  2022-05-13 11:29:49   \n",
       "584632   879694  2022-03-31 20:07:23   \n",
       "584633   879695  2022-05-27 12:48:32   \n",
       "584634   879696  2022-03-14 05:35:34   \n",
       "584635   879698  2022-05-24 22:33:24   \n",
       "\n",
       "                                                    event  user_id_cnt  \n",
       "0                                            11-11-5-7-11            5  \n",
       "1                                                      11            1  \n",
       "2                                                11-11-11            3  \n",
       "3       4-11-5-11-6-1-2-8-3-5-5-11-4-11-5-2-8-3-11-5-5...           43  \n",
       "4       4-7-1-2-8-3-3-3-4-7-1-2-8-3-3-3-4-7-1-2-8-3-3-...          120  \n",
       "...                                                   ...          ...  \n",
       "584631  1-2-8-3-4-1-3-4-5-11-1-3-4-1-2-8-1-2-8-1-3-3-3...           61  \n",
       "584632                                        1-2-8-3-3-3            6  \n",
       "584633                                            1-2-8-3            4  \n",
       "584634                           7-5-11-11-5-11-4-7-2-8-3           11  \n",
       "584635                                              4-1-2            3  \n",
       "\n",
       "[584636 rows x 4 columns]"
      ]
     },
     "execution_count": 14,
     "metadata": {},
     "output_type": "execute_result"
    }
   ],
   "source": [
    "log = pd.merge(relog , sample,\n",
    "                 how = 'left',\n",
    "                 on = 'user_id')\n",
    "log"
   ]
  },
  {
   "cell_type": "markdown",
   "metadata": {
    "id": "ebvjkoRy6qe-"
   },
   "source": [
    "## 3) 유저가 기간동안 총 몇일 접속했는지"
   ]
  },
  {
   "cell_type": "code",
   "execution_count": 15,
   "metadata": {
    "id": "yv1uISb26N4q"
   },
   "outputs": [],
   "source": [
    "grouped = log_data.groupby(['user_id', 'date_cd'])['user_id'].count()\n",
    "df_grouped = pd.DataFrame(grouped)"
   ]
  },
  {
   "cell_type": "code",
   "execution_count": 16,
   "metadata": {
    "colab": {
     "base_uri": "https://localhost:8080/",
     "height": 206
    },
    "id": "DlDcE26N7B55",
    "outputId": "fcddd09c-2f1e-4b97-b879-a38bd4d6ad4f"
   },
   "outputs": [
    {
     "data": {
      "text/html": [
       "<div>\n",
       "<style scoped>\n",
       "    .dataframe tbody tr th:only-of-type {\n",
       "        vertical-align: middle;\n",
       "    }\n",
       "\n",
       "    .dataframe tbody tr th {\n",
       "        vertical-align: top;\n",
       "    }\n",
       "\n",
       "    .dataframe thead th {\n",
       "        text-align: right;\n",
       "    }\n",
       "</style>\n",
       "<table border=\"1\" class=\"dataframe\">\n",
       "  <thead>\n",
       "    <tr style=\"text-align: right;\">\n",
       "      <th></th>\n",
       "      <th>user_id</th>\n",
       "      <th>date_cd</th>\n",
       "      <th>user_id_day_cnt</th>\n",
       "    </tr>\n",
       "  </thead>\n",
       "  <tbody>\n",
       "    <tr>\n",
       "      <th>0</th>\n",
       "      <td>1</td>\n",
       "      <td>2022-05-03</td>\n",
       "      <td>2</td>\n",
       "    </tr>\n",
       "    <tr>\n",
       "      <th>1</th>\n",
       "      <td>1</td>\n",
       "      <td>2022-06-16</td>\n",
       "      <td>3</td>\n",
       "    </tr>\n",
       "    <tr>\n",
       "      <th>2</th>\n",
       "      <td>7</td>\n",
       "      <td>2022-05-22</td>\n",
       "      <td>1</td>\n",
       "    </tr>\n",
       "    <tr>\n",
       "      <th>3</th>\n",
       "      <td>9</td>\n",
       "      <td>2022-05-21</td>\n",
       "      <td>3</td>\n",
       "    </tr>\n",
       "    <tr>\n",
       "      <th>4</th>\n",
       "      <td>11</td>\n",
       "      <td>2022-03-24</td>\n",
       "      <td>12</td>\n",
       "    </tr>\n",
       "  </tbody>\n",
       "</table>\n",
       "</div>"
      ],
      "text/plain": [
       "   user_id     date_cd  user_id_day_cnt\n",
       "0        1  2022-05-03                2\n",
       "1        1  2022-06-16                3\n",
       "2        7  2022-05-22                1\n",
       "3        9  2022-05-21                3\n",
       "4       11  2022-03-24               12"
      ]
     },
     "execution_count": 16,
     "metadata": {},
     "output_type": "execute_result"
    }
   ],
   "source": [
    "df_grouped.rename(columns = {'user_id' : 'user_id_day_cnt'}, inplace = True)\n",
    "df_grouped_new = df_grouped.reset_index('date_cd')\n",
    "df_grouped_new = df_grouped_new.reset_index('user_id')\n",
    "df_grouped_new.head()"
   ]
  },
  {
   "cell_type": "code",
   "execution_count": 17,
   "metadata": {
    "colab": {
     "base_uri": "https://localhost:8080/"
    },
    "id": "9-csosFG7GBi",
    "outputId": "e80dfdca-a29f-40a1-f305-d93d6b86be93"
   },
   "outputs": [
    {
     "data": {
      "text/plain": [
       "user_id\n",
       "1          2\n",
       "7          1\n",
       "9          1\n",
       "11         4\n",
       "12        14\n",
       "          ..\n",
       "879693     8\n",
       "879694     1\n",
       "879695     1\n",
       "879696     1\n",
       "879698     1\n",
       "Name: user_id_day_cnt, Length: 584636, dtype: int64"
      ]
     },
     "execution_count": 17,
     "metadata": {},
     "output_type": "execute_result"
    }
   ],
   "source": [
    "df_grouped_new['user_id_day_cnt'].groupby(df_grouped_new['user_id']).count()"
   ]
  },
  {
   "cell_type": "code",
   "execution_count": 18,
   "metadata": {
    "colab": {
     "base_uri": "https://localhost:8080/",
     "height": 238
    },
    "id": "Ydv9Wl5L7IP7",
    "outputId": "474e7d9e-6152-413a-aa9d-7674b63aacf9"
   },
   "outputs": [
    {
     "data": {
      "text/html": [
       "<div>\n",
       "<style scoped>\n",
       "    .dataframe tbody tr th:only-of-type {\n",
       "        vertical-align: middle;\n",
       "    }\n",
       "\n",
       "    .dataframe tbody tr th {\n",
       "        vertical-align: top;\n",
       "    }\n",
       "\n",
       "    .dataframe thead th {\n",
       "        text-align: right;\n",
       "    }\n",
       "</style>\n",
       "<table border=\"1\" class=\"dataframe\">\n",
       "  <thead>\n",
       "    <tr style=\"text-align: right;\">\n",
       "      <th></th>\n",
       "      <th>user_id_day_cnt</th>\n",
       "    </tr>\n",
       "    <tr>\n",
       "      <th>user_id</th>\n",
       "      <th></th>\n",
       "    </tr>\n",
       "  </thead>\n",
       "  <tbody>\n",
       "    <tr>\n",
       "      <th>1</th>\n",
       "      <td>2</td>\n",
       "    </tr>\n",
       "    <tr>\n",
       "      <th>7</th>\n",
       "      <td>1</td>\n",
       "    </tr>\n",
       "    <tr>\n",
       "      <th>9</th>\n",
       "      <td>1</td>\n",
       "    </tr>\n",
       "    <tr>\n",
       "      <th>11</th>\n",
       "      <td>4</td>\n",
       "    </tr>\n",
       "    <tr>\n",
       "      <th>12</th>\n",
       "      <td>14</td>\n",
       "    </tr>\n",
       "  </tbody>\n",
       "</table>\n",
       "</div>"
      ],
      "text/plain": [
       "         user_id_day_cnt\n",
       "user_id                 \n",
       "1                      2\n",
       "7                      1\n",
       "9                      1\n",
       "11                     4\n",
       "12                    14"
      ]
     },
     "execution_count": 18,
     "metadata": {},
     "output_type": "execute_result"
    }
   ],
   "source": [
    "sample1=pd.DataFrame(df_grouped_new['user_id_day_cnt'].groupby(df_grouped_new['user_id']).count())\n",
    "sample1.head()"
   ]
  },
  {
   "cell_type": "code",
   "execution_count": 19,
   "metadata": {
    "colab": {
     "base_uri": "https://localhost:8080/",
     "height": 206
    },
    "id": "1VxYfUa-7Kdz",
    "outputId": "b12938a8-d39f-46d2-d953-ca67e546e97f"
   },
   "outputs": [
    {
     "data": {
      "text/html": [
       "<div>\n",
       "<style scoped>\n",
       "    .dataframe tbody tr th:only-of-type {\n",
       "        vertical-align: middle;\n",
       "    }\n",
       "\n",
       "    .dataframe tbody tr th {\n",
       "        vertical-align: top;\n",
       "    }\n",
       "\n",
       "    .dataframe thead th {\n",
       "        text-align: right;\n",
       "    }\n",
       "</style>\n",
       "<table border=\"1\" class=\"dataframe\">\n",
       "  <thead>\n",
       "    <tr style=\"text-align: right;\">\n",
       "      <th></th>\n",
       "      <th>user_id</th>\n",
       "      <th>timestamp</th>\n",
       "      <th>event</th>\n",
       "      <th>user_id_cnt</th>\n",
       "      <th>user_id_day_cnt</th>\n",
       "    </tr>\n",
       "  </thead>\n",
       "  <tbody>\n",
       "    <tr>\n",
       "      <th>0</th>\n",
       "      <td>1</td>\n",
       "      <td>2022-05-03 14:52:28</td>\n",
       "      <td>11-11-5-7-11</td>\n",
       "      <td>5</td>\n",
       "      <td>2</td>\n",
       "    </tr>\n",
       "    <tr>\n",
       "      <th>1</th>\n",
       "      <td>7</td>\n",
       "      <td>2022-05-22 16:39:49</td>\n",
       "      <td>11</td>\n",
       "      <td>1</td>\n",
       "      <td>1</td>\n",
       "    </tr>\n",
       "    <tr>\n",
       "      <th>2</th>\n",
       "      <td>9</td>\n",
       "      <td>2022-05-21 23:37:58</td>\n",
       "      <td>11-11-11</td>\n",
       "      <td>3</td>\n",
       "      <td>1</td>\n",
       "    </tr>\n",
       "    <tr>\n",
       "      <th>3</th>\n",
       "      <td>11</td>\n",
       "      <td>2022-03-24 10:53:59</td>\n",
       "      <td>4-11-5-11-6-1-2-8-3-5-5-11-4-11-5-2-8-3-11-5-5...</td>\n",
       "      <td>43</td>\n",
       "      <td>4</td>\n",
       "    </tr>\n",
       "    <tr>\n",
       "      <th>4</th>\n",
       "      <td>12</td>\n",
       "      <td>2022-03-14 01:13:11</td>\n",
       "      <td>4-7-1-2-8-3-3-3-4-7-1-2-8-3-3-3-4-7-1-2-8-3-3-...</td>\n",
       "      <td>120</td>\n",
       "      <td>14</td>\n",
       "    </tr>\n",
       "  </tbody>\n",
       "</table>\n",
       "</div>"
      ],
      "text/plain": [
       "   user_id            timestamp  \\\n",
       "0        1  2022-05-03 14:52:28   \n",
       "1        7  2022-05-22 16:39:49   \n",
       "2        9  2022-05-21 23:37:58   \n",
       "3       11  2022-03-24 10:53:59   \n",
       "4       12  2022-03-14 01:13:11   \n",
       "\n",
       "                                               event  user_id_cnt  \\\n",
       "0                                       11-11-5-7-11            5   \n",
       "1                                                 11            1   \n",
       "2                                           11-11-11            3   \n",
       "3  4-11-5-11-6-1-2-8-3-5-5-11-4-11-5-2-8-3-11-5-5...           43   \n",
       "4  4-7-1-2-8-3-3-3-4-7-1-2-8-3-3-3-4-7-1-2-8-3-3-...          120   \n",
       "\n",
       "   user_id_day_cnt  \n",
       "0                2  \n",
       "1                1  \n",
       "2                1  \n",
       "3                4  \n",
       "4               14  "
      ]
     },
     "execution_count": 19,
     "metadata": {},
     "output_type": "execute_result"
    }
   ],
   "source": [
    "log = pd.merge(log , sample1,\n",
    "                 how = 'left',\n",
    "                 on = 'user_id')\n",
    "log.head()"
   ]
  },
  {
   "cell_type": "markdown",
   "metadata": {
    "id": "rcv8FO2r8JgU"
   },
   "source": [
    "## 4) 한도 조회, 신용 정보 조회, 대출 관리 서비스 이용, 여윳돈 계산기 서비스 이용, DSR 계산기 서비스 이용 중 어떤 것을 먼저 이용한 사람인가에 따른 차이점"
   ]
  },
  {
   "cell_type": "code",
   "execution_count": 20,
   "metadata": {},
   "outputs": [],
   "source": [
    "log1 = log_data"
   ]
  },
  {
   "cell_type": "code",
   "execution_count": 21,
   "metadata": {
    "id": "jNNyMjWp7f1l"
   },
   "outputs": [],
   "source": [
    "group = log1.groupby(['user_id', 'event'])['timestamp'].min()\n",
    "df_group = pd.DataFrame(group)"
   ]
  },
  {
   "cell_type": "code",
   "execution_count": 22,
   "metadata": {
    "id": "vikDjg-r8OYo"
   },
   "outputs": [],
   "source": [
    "df_group_new = df_group.reset_index()\n",
    "df_final = df_group_new.drop_duplicates(['user_id'], keep = 'first')"
   ]
  },
  {
   "cell_type": "code",
   "execution_count": 23,
   "metadata": {
    "id": "H2ZRsm3E8ilS"
   },
   "outputs": [
    {
     "data": {
      "text/plain": [
       "array(['GetCreditInfo', 'CompleteIDCertification', 'EndLoanApply',\n",
       "       'Login', 'OpenApp', 'ViewLoanApplyIntro', 'StartLoanApply',\n",
       "       'UseLoanManage', 'SignUp'], dtype=object)"
      ]
     },
     "execution_count": 23,
     "metadata": {},
     "output_type": "execute_result"
    }
   ],
   "source": [
    "df_final['event'].unique()"
   ]
  },
  {
   "cell_type": "code",
   "execution_count": 24,
   "metadata": {
    "id": "HmSayfC60X2Q"
   },
   "outputs": [],
   "source": [
    "df_final.loc[(df_final['event'] != 'GetCreditInfo') & (df_final['event'] != 'EndLoanApply')& \n",
    "             (df_final['event'] != 'UseLoanManage') & (df_final['event'] != 'ViewLoanApplyIntro')&\n",
    "             (df_final['event'] != 'StartLoanApply') & (df_final['event'] != 'CompleteIDCertification'), 'event'] = 'others'"
   ]
  },
  {
   "cell_type": "code",
   "execution_count": 25,
   "metadata": {
    "id": "bFgjQKFQ3ECi"
   },
   "outputs": [
    {
     "data": {
      "text/html": [
       "<div>\n",
       "<style scoped>\n",
       "    .dataframe tbody tr th:only-of-type {\n",
       "        vertical-align: middle;\n",
       "    }\n",
       "\n",
       "    .dataframe tbody tr th {\n",
       "        vertical-align: top;\n",
       "    }\n",
       "\n",
       "    .dataframe thead th {\n",
       "        text-align: right;\n",
       "    }\n",
       "</style>\n",
       "<table border=\"1\" class=\"dataframe\">\n",
       "  <thead>\n",
       "    <tr style=\"text-align: right;\">\n",
       "      <th></th>\n",
       "      <th>user_id</th>\n",
       "      <th>first_event</th>\n",
       "      <th>timestamp</th>\n",
       "    </tr>\n",
       "  </thead>\n",
       "  <tbody>\n",
       "    <tr>\n",
       "      <th>0</th>\n",
       "      <td>1</td>\n",
       "      <td>GetCreditInfo</td>\n",
       "      <td>2022-05-03 14:52:28</td>\n",
       "    </tr>\n",
       "    <tr>\n",
       "      <th>3</th>\n",
       "      <td>7</td>\n",
       "      <td>GetCreditInfo</td>\n",
       "      <td>2022-05-22 16:39:49</td>\n",
       "    </tr>\n",
       "    <tr>\n",
       "      <th>4</th>\n",
       "      <td>9</td>\n",
       "      <td>GetCreditInfo</td>\n",
       "      <td>2022-05-21 23:37:58</td>\n",
       "    </tr>\n",
       "    <tr>\n",
       "      <th>5</th>\n",
       "      <td>11</td>\n",
       "      <td>CompleteIDCertification</td>\n",
       "      <td>2022-03-24 10:56:26</td>\n",
       "    </tr>\n",
       "    <tr>\n",
       "      <th>13</th>\n",
       "      <td>12</td>\n",
       "      <td>CompleteIDCertification</td>\n",
       "      <td>2022-03-14 01:13:46</td>\n",
       "    </tr>\n",
       "    <tr>\n",
       "      <th>...</th>\n",
       "      <td>...</td>\n",
       "      <td>...</td>\n",
       "      <td>...</td>\n",
       "    </tr>\n",
       "    <tr>\n",
       "      <th>2860102</th>\n",
       "      <td>879693</td>\n",
       "      <td>CompleteIDCertification</td>\n",
       "      <td>2022-05-13 11:30:06</td>\n",
       "    </tr>\n",
       "    <tr>\n",
       "      <th>2860109</th>\n",
       "      <td>879694</td>\n",
       "      <td>CompleteIDCertification</td>\n",
       "      <td>2022-03-31 20:07:42</td>\n",
       "    </tr>\n",
       "    <tr>\n",
       "      <th>2860113</th>\n",
       "      <td>879695</td>\n",
       "      <td>CompleteIDCertification</td>\n",
       "      <td>2022-05-27 12:48:51</td>\n",
       "    </tr>\n",
       "    <tr>\n",
       "      <th>2860117</th>\n",
       "      <td>879696</td>\n",
       "      <td>CompleteIDCertification</td>\n",
       "      <td>2022-03-14 05:38:16</td>\n",
       "    </tr>\n",
       "    <tr>\n",
       "      <th>2860124</th>\n",
       "      <td>879698</td>\n",
       "      <td>others</td>\n",
       "      <td>2022-05-24 22:33:24</td>\n",
       "    </tr>\n",
       "  </tbody>\n",
       "</table>\n",
       "<p>584636 rows × 3 columns</p>\n",
       "</div>"
      ],
      "text/plain": [
       "         user_id              first_event            timestamp\n",
       "0              1            GetCreditInfo  2022-05-03 14:52:28\n",
       "3              7            GetCreditInfo  2022-05-22 16:39:49\n",
       "4              9            GetCreditInfo  2022-05-21 23:37:58\n",
       "5             11  CompleteIDCertification  2022-03-24 10:56:26\n",
       "13            12  CompleteIDCertification  2022-03-14 01:13:46\n",
       "...          ...                      ...                  ...\n",
       "2860102   879693  CompleteIDCertification  2022-05-13 11:30:06\n",
       "2860109   879694  CompleteIDCertification  2022-03-31 20:07:42\n",
       "2860113   879695  CompleteIDCertification  2022-05-27 12:48:51\n",
       "2860117   879696  CompleteIDCertification  2022-03-14 05:38:16\n",
       "2860124   879698                   others  2022-05-24 22:33:24\n",
       "\n",
       "[584636 rows x 3 columns]"
      ]
     },
     "execution_count": 25,
     "metadata": {},
     "output_type": "execute_result"
    }
   ],
   "source": [
    "df_final = df_final.rename({'event':'first_event'}, axis = 1)\n",
    "df_final"
   ]
  },
  {
   "cell_type": "code",
   "execution_count": 26,
   "metadata": {},
   "outputs": [],
   "source": [
    "df_final = df_final.drop(['timestamp'], axis = 1)"
   ]
  },
  {
   "cell_type": "code",
   "execution_count": 27,
   "metadata": {},
   "outputs": [
    {
     "data": {
      "text/html": [
       "<div>\n",
       "<style scoped>\n",
       "    .dataframe tbody tr th:only-of-type {\n",
       "        vertical-align: middle;\n",
       "    }\n",
       "\n",
       "    .dataframe tbody tr th {\n",
       "        vertical-align: top;\n",
       "    }\n",
       "\n",
       "    .dataframe thead th {\n",
       "        text-align: right;\n",
       "    }\n",
       "</style>\n",
       "<table border=\"1\" class=\"dataframe\">\n",
       "  <thead>\n",
       "    <tr style=\"text-align: right;\">\n",
       "      <th></th>\n",
       "      <th>user_id</th>\n",
       "      <th>timestamp</th>\n",
       "      <th>event</th>\n",
       "      <th>user_id_cnt</th>\n",
       "      <th>user_id_day_cnt</th>\n",
       "      <th>first_event</th>\n",
       "    </tr>\n",
       "  </thead>\n",
       "  <tbody>\n",
       "    <tr>\n",
       "      <th>0</th>\n",
       "      <td>1</td>\n",
       "      <td>2022-05-03 14:52:28</td>\n",
       "      <td>11-11-5-7-11</td>\n",
       "      <td>5</td>\n",
       "      <td>2</td>\n",
       "      <td>GetCreditInfo</td>\n",
       "    </tr>\n",
       "    <tr>\n",
       "      <th>1</th>\n",
       "      <td>7</td>\n",
       "      <td>2022-05-22 16:39:49</td>\n",
       "      <td>11</td>\n",
       "      <td>1</td>\n",
       "      <td>1</td>\n",
       "      <td>GetCreditInfo</td>\n",
       "    </tr>\n",
       "    <tr>\n",
       "      <th>2</th>\n",
       "      <td>9</td>\n",
       "      <td>2022-05-21 23:37:58</td>\n",
       "      <td>11-11-11</td>\n",
       "      <td>3</td>\n",
       "      <td>1</td>\n",
       "      <td>GetCreditInfo</td>\n",
       "    </tr>\n",
       "    <tr>\n",
       "      <th>3</th>\n",
       "      <td>11</td>\n",
       "      <td>2022-03-24 10:53:59</td>\n",
       "      <td>4-11-5-11-6-1-2-8-3-5-5-11-4-11-5-2-8-3-11-5-5...</td>\n",
       "      <td>43</td>\n",
       "      <td>4</td>\n",
       "      <td>CompleteIDCertification</td>\n",
       "    </tr>\n",
       "    <tr>\n",
       "      <th>4</th>\n",
       "      <td>12</td>\n",
       "      <td>2022-03-14 01:13:11</td>\n",
       "      <td>4-7-1-2-8-3-3-3-4-7-1-2-8-3-3-3-4-7-1-2-8-3-3-...</td>\n",
       "      <td>120</td>\n",
       "      <td>14</td>\n",
       "      <td>CompleteIDCertification</td>\n",
       "    </tr>\n",
       "  </tbody>\n",
       "</table>\n",
       "</div>"
      ],
      "text/plain": [
       "   user_id            timestamp  \\\n",
       "0        1  2022-05-03 14:52:28   \n",
       "1        7  2022-05-22 16:39:49   \n",
       "2        9  2022-05-21 23:37:58   \n",
       "3       11  2022-03-24 10:53:59   \n",
       "4       12  2022-03-14 01:13:11   \n",
       "\n",
       "                                               event  user_id_cnt  \\\n",
       "0                                       11-11-5-7-11            5   \n",
       "1                                                 11            1   \n",
       "2                                           11-11-11            3   \n",
       "3  4-11-5-11-6-1-2-8-3-5-5-11-4-11-5-2-8-3-11-5-5...           43   \n",
       "4  4-7-1-2-8-3-3-3-4-7-1-2-8-3-3-3-4-7-1-2-8-3-3-...          120   \n",
       "\n",
       "   user_id_day_cnt              first_event  \n",
       "0                2            GetCreditInfo  \n",
       "1                1            GetCreditInfo  \n",
       "2                1            GetCreditInfo  \n",
       "3                4  CompleteIDCertification  \n",
       "4               14  CompleteIDCertification  "
      ]
     },
     "execution_count": 27,
     "metadata": {},
     "output_type": "execute_result"
    }
   ],
   "source": [
    "log = pd.merge(log , df_final,\n",
    "                 how = 'left',\n",
    "                 on = 'user_id')\n",
    "log.head()"
   ]
  },
  {
   "cell_type": "markdown",
   "metadata": {
    "id": "MHuWOgE39DyV"
   },
   "source": [
    "# 5. Timeout 10분을 기준으로 세션 나누기"
   ]
  },
  {
   "cell_type": "code",
   "execution_count": 28,
   "metadata": {
    "id": "7LGDkRBm8_rh"
   },
   "outputs": [],
   "source": [
    "log2 = log_data\n",
    "log2 = log2.sort_values([\"user_id\", \"timestamp\"], ascending= True)"
   ]
  },
  {
   "cell_type": "code",
   "execution_count": 29,
   "metadata": {
    "id": "osOJbDf3Hkrp"
   },
   "outputs": [
    {
     "data": {
      "text/html": [
       "<div>\n",
       "<style scoped>\n",
       "    .dataframe tbody tr th:only-of-type {\n",
       "        vertical-align: middle;\n",
       "    }\n",
       "\n",
       "    .dataframe tbody tr th {\n",
       "        vertical-align: top;\n",
       "    }\n",
       "\n",
       "    .dataframe thead th {\n",
       "        text-align: right;\n",
       "    }\n",
       "</style>\n",
       "<table border=\"1\" class=\"dataframe\">\n",
       "  <thead>\n",
       "    <tr style=\"text-align: right;\">\n",
       "      <th></th>\n",
       "      <th>user_id</th>\n",
       "      <th>event</th>\n",
       "      <th>timestamp</th>\n",
       "      <th>mp_os</th>\n",
       "      <th>mp_app_version</th>\n",
       "      <th>date_cd</th>\n",
       "    </tr>\n",
       "  </thead>\n",
       "  <tbody>\n",
       "    <tr>\n",
       "      <th>11709372</th>\n",
       "      <td>1</td>\n",
       "      <td>GetCreditInfo</td>\n",
       "      <td>2022-05-03 14:52:28</td>\n",
       "      <td>Android</td>\n",
       "      <td>464</td>\n",
       "      <td>2022-05-03</td>\n",
       "    </tr>\n",
       "    <tr>\n",
       "      <th>11709374</th>\n",
       "      <td>1</td>\n",
       "      <td>GetCreditInfo</td>\n",
       "      <td>2022-05-03 14:52:35</td>\n",
       "      <td>Android</td>\n",
       "      <td>464</td>\n",
       "      <td>2022-05-03</td>\n",
       "    </tr>\n",
       "    <tr>\n",
       "      <th>2451691</th>\n",
       "      <td>1</td>\n",
       "      <td>UseLoanManage</td>\n",
       "      <td>2022-06-16 23:58:41</td>\n",
       "      <td>Android</td>\n",
       "      <td>3.12.1</td>\n",
       "      <td>2022-06-16</td>\n",
       "    </tr>\n",
       "    <tr>\n",
       "      <th>2451693</th>\n",
       "      <td>1</td>\n",
       "      <td>Login</td>\n",
       "      <td>2022-06-16 23:58:41</td>\n",
       "      <td>Android</td>\n",
       "      <td>3.12.1</td>\n",
       "      <td>2022-06-16</td>\n",
       "    </tr>\n",
       "    <tr>\n",
       "      <th>7071607</th>\n",
       "      <td>1</td>\n",
       "      <td>GetCreditInfo</td>\n",
       "      <td>2022-06-16 23:58:42</td>\n",
       "      <td>Android</td>\n",
       "      <td>464</td>\n",
       "      <td>2022-06-16</td>\n",
       "    </tr>\n",
       "  </tbody>\n",
       "</table>\n",
       "</div>"
      ],
      "text/plain": [
       "          user_id          event           timestamp    mp_os mp_app_version  \\\n",
       "11709372        1  GetCreditInfo 2022-05-03 14:52:28  Android            464   \n",
       "11709374        1  GetCreditInfo 2022-05-03 14:52:35  Android            464   \n",
       "2451691         1  UseLoanManage 2022-06-16 23:58:41  Android         3.12.1   \n",
       "2451693         1          Login 2022-06-16 23:58:41  Android         3.12.1   \n",
       "7071607         1  GetCreditInfo 2022-06-16 23:58:42  Android            464   \n",
       "\n",
       "             date_cd  \n",
       "11709372  2022-05-03  \n",
       "11709374  2022-05-03  \n",
       "2451691   2022-06-16  \n",
       "2451693   2022-06-16  \n",
       "7071607   2022-06-16  "
      ]
     },
     "execution_count": 29,
     "metadata": {},
     "output_type": "execute_result"
    }
   ],
   "source": [
    "log2['timestamp'] = pd.to_datetime(log2['timestamp'])\n",
    "log2.head()"
   ]
  },
  {
   "cell_type": "code",
   "execution_count": 30,
   "metadata": {
    "id": "H5gAiQQPdcMh"
   },
   "outputs": [],
   "source": [
    "log2 = log2.drop(['mp_os', 'mp_app_version', 'date_cd'], axis = 1)"
   ]
  },
  {
   "cell_type": "code",
   "execution_count": 31,
   "metadata": {
    "id": "8p4NF501gCi2"
   },
   "outputs": [
    {
     "data": {
      "text/html": [
       "<div>\n",
       "<style scoped>\n",
       "    .dataframe tbody tr th:only-of-type {\n",
       "        vertical-align: middle;\n",
       "    }\n",
       "\n",
       "    .dataframe tbody tr th {\n",
       "        vertical-align: top;\n",
       "    }\n",
       "\n",
       "    .dataframe thead th {\n",
       "        text-align: right;\n",
       "    }\n",
       "</style>\n",
       "<table border=\"1\" class=\"dataframe\">\n",
       "  <thead>\n",
       "    <tr style=\"text-align: right;\">\n",
       "      <th></th>\n",
       "      <th>user_id</th>\n",
       "      <th>event</th>\n",
       "      <th>timestamp</th>\n",
       "      <th>timeout</th>\n",
       "    </tr>\n",
       "  </thead>\n",
       "  <tbody>\n",
       "    <tr>\n",
       "      <th>11709372</th>\n",
       "      <td>1</td>\n",
       "      <td>GetCreditInfo</td>\n",
       "      <td>2022-05-03 14:52:28</td>\n",
       "      <td>NaT</td>\n",
       "    </tr>\n",
       "    <tr>\n",
       "      <th>11709374</th>\n",
       "      <td>1</td>\n",
       "      <td>GetCreditInfo</td>\n",
       "      <td>2022-05-03 14:52:35</td>\n",
       "      <td>0 days 00:00:07</td>\n",
       "    </tr>\n",
       "    <tr>\n",
       "      <th>2451691</th>\n",
       "      <td>1</td>\n",
       "      <td>UseLoanManage</td>\n",
       "      <td>2022-06-16 23:58:41</td>\n",
       "      <td>44 days 09:06:06</td>\n",
       "    </tr>\n",
       "    <tr>\n",
       "      <th>2451693</th>\n",
       "      <td>1</td>\n",
       "      <td>Login</td>\n",
       "      <td>2022-06-16 23:58:41</td>\n",
       "      <td>0 days 00:00:00</td>\n",
       "    </tr>\n",
       "    <tr>\n",
       "      <th>7071607</th>\n",
       "      <td>1</td>\n",
       "      <td>GetCreditInfo</td>\n",
       "      <td>2022-06-16 23:58:42</td>\n",
       "      <td>0 days 00:00:01</td>\n",
       "    </tr>\n",
       "  </tbody>\n",
       "</table>\n",
       "</div>"
      ],
      "text/plain": [
       "          user_id          event           timestamp          timeout\n",
       "11709372        1  GetCreditInfo 2022-05-03 14:52:28              NaT\n",
       "11709374        1  GetCreditInfo 2022-05-03 14:52:35  0 days 00:00:07\n",
       "2451691         1  UseLoanManage 2022-06-16 23:58:41 44 days 09:06:06\n",
       "2451693         1          Login 2022-06-16 23:58:41  0 days 00:00:00\n",
       "7071607         1  GetCreditInfo 2022-06-16 23:58:42  0 days 00:00:01"
      ]
     },
     "execution_count": 31,
     "metadata": {},
     "output_type": "execute_result"
    }
   ],
   "source": [
    "log2['timeout'] = log2.timestamp - log2.timestamp.shift()\n",
    "log2.head()"
   ]
  },
  {
   "cell_type": "code",
   "execution_count": 32,
   "metadata": {
    "id": "xNOZjMlfjQOO"
   },
   "outputs": [],
   "source": [
    "pastid = 0\n",
    "userid = 0\n",
    "\n",
    "# timeout의 기준을 10으로 함.\n",
    "for i in range(len(log2)):\n",
    "  userid = log2['user_id'].values[i]\n",
    "  if userid != pastid:\n",
    "    log2['timeout'].values[i] = 0\n",
    "  if  log2['timeout'].values[i] > 10000000000:\n",
    "    log2['timeout'].values[i] = 0\n",
    "  pastid = userid"
   ]
  },
  {
   "cell_type": "code",
   "execution_count": 33,
   "metadata": {
    "id": "v-QYkyEHjdZX"
   },
   "outputs": [
    {
     "data": {
      "text/html": [
       "<div>\n",
       "<style scoped>\n",
       "    .dataframe tbody tr th:only-of-type {\n",
       "        vertical-align: middle;\n",
       "    }\n",
       "\n",
       "    .dataframe tbody tr th {\n",
       "        vertical-align: top;\n",
       "    }\n",
       "\n",
       "    .dataframe thead th {\n",
       "        text-align: right;\n",
       "    }\n",
       "</style>\n",
       "<table border=\"1\" class=\"dataframe\">\n",
       "  <thead>\n",
       "    <tr style=\"text-align: right;\">\n",
       "      <th></th>\n",
       "      <th>user_id</th>\n",
       "      <th>event</th>\n",
       "      <th>timestamp</th>\n",
       "      <th>timeout</th>\n",
       "    </tr>\n",
       "  </thead>\n",
       "  <tbody>\n",
       "    <tr>\n",
       "      <th>11709372</th>\n",
       "      <td>1</td>\n",
       "      <td>GetCreditInfo</td>\n",
       "      <td>2022-05-03 14:52:28</td>\n",
       "      <td>0 days 00:00:00</td>\n",
       "    </tr>\n",
       "    <tr>\n",
       "      <th>11709374</th>\n",
       "      <td>1</td>\n",
       "      <td>GetCreditInfo</td>\n",
       "      <td>2022-05-03 14:52:35</td>\n",
       "      <td>0 days 00:00:07</td>\n",
       "    </tr>\n",
       "    <tr>\n",
       "      <th>2451691</th>\n",
       "      <td>1</td>\n",
       "      <td>UseLoanManage</td>\n",
       "      <td>2022-06-16 23:58:41</td>\n",
       "      <td>0 days 00:00:00</td>\n",
       "    </tr>\n",
       "    <tr>\n",
       "      <th>2451693</th>\n",
       "      <td>1</td>\n",
       "      <td>Login</td>\n",
       "      <td>2022-06-16 23:58:41</td>\n",
       "      <td>0 days 00:00:00</td>\n",
       "    </tr>\n",
       "    <tr>\n",
       "      <th>7071607</th>\n",
       "      <td>1</td>\n",
       "      <td>GetCreditInfo</td>\n",
       "      <td>2022-06-16 23:58:42</td>\n",
       "      <td>0 days 00:00:01</td>\n",
       "    </tr>\n",
       "    <tr>\n",
       "      <th>10428909</th>\n",
       "      <td>7</td>\n",
       "      <td>GetCreditInfo</td>\n",
       "      <td>2022-05-22 16:39:49</td>\n",
       "      <td>0 days 00:00:00</td>\n",
       "    </tr>\n",
       "    <tr>\n",
       "      <th>9627339</th>\n",
       "      <td>9</td>\n",
       "      <td>GetCreditInfo</td>\n",
       "      <td>2022-05-21 23:37:58</td>\n",
       "      <td>0 days 00:00:00</td>\n",
       "    </tr>\n",
       "    <tr>\n",
       "      <th>9627368</th>\n",
       "      <td>9</td>\n",
       "      <td>GetCreditInfo</td>\n",
       "      <td>2022-05-21 23:43:33</td>\n",
       "      <td>0 days 00:00:00</td>\n",
       "    </tr>\n",
       "  </tbody>\n",
       "</table>\n",
       "</div>"
      ],
      "text/plain": [
       "          user_id          event           timestamp         timeout\n",
       "11709372        1  GetCreditInfo 2022-05-03 14:52:28 0 days 00:00:00\n",
       "11709374        1  GetCreditInfo 2022-05-03 14:52:35 0 days 00:00:07\n",
       "2451691         1  UseLoanManage 2022-06-16 23:58:41 0 days 00:00:00\n",
       "2451693         1          Login 2022-06-16 23:58:41 0 days 00:00:00\n",
       "7071607         1  GetCreditInfo 2022-06-16 23:58:42 0 days 00:00:01\n",
       "10428909        7  GetCreditInfo 2022-05-22 16:39:49 0 days 00:00:00\n",
       "9627339         9  GetCreditInfo 2022-05-21 23:37:58 0 days 00:00:00\n",
       "9627368         9  GetCreditInfo 2022-05-21 23:43:33 0 days 00:00:00"
      ]
     },
     "execution_count": 33,
     "metadata": {},
     "output_type": "execute_result"
    }
   ],
   "source": [
    "log2.head(8)"
   ]
  },
  {
   "cell_type": "code",
   "execution_count": 34,
   "metadata": {
    "id": "pDNIAqgfjehm"
   },
   "outputs": [],
   "source": [
    "grouped = log2.groupby(['user_id'])['timeout'].sum()\n",
    "df_grouped = pd.DataFrame(grouped)"
   ]
  },
  {
   "cell_type": "code",
   "execution_count": 35,
   "metadata": {
    "id": "oXKHAdFymgIM"
   },
   "outputs": [
    {
     "data": {
      "text/html": [
       "<div>\n",
       "<style scoped>\n",
       "    .dataframe tbody tr th:only-of-type {\n",
       "        vertical-align: middle;\n",
       "    }\n",
       "\n",
       "    .dataframe tbody tr th {\n",
       "        vertical-align: top;\n",
       "    }\n",
       "\n",
       "    .dataframe thead th {\n",
       "        text-align: right;\n",
       "    }\n",
       "</style>\n",
       "<table border=\"1\" class=\"dataframe\">\n",
       "  <thead>\n",
       "    <tr style=\"text-align: right;\">\n",
       "      <th></th>\n",
       "      <th>timeout</th>\n",
       "    </tr>\n",
       "    <tr>\n",
       "      <th>user_id</th>\n",
       "      <th></th>\n",
       "    </tr>\n",
       "  </thead>\n",
       "  <tbody>\n",
       "    <tr>\n",
       "      <th>1</th>\n",
       "      <td>0 days 00:00:08</td>\n",
       "    </tr>\n",
       "    <tr>\n",
       "      <th>7</th>\n",
       "      <td>0 days 00:00:00</td>\n",
       "    </tr>\n",
       "    <tr>\n",
       "      <th>9</th>\n",
       "      <td>0 days 00:00:00</td>\n",
       "    </tr>\n",
       "    <tr>\n",
       "      <th>11</th>\n",
       "      <td>0 days 00:00:30</td>\n",
       "    </tr>\n",
       "    <tr>\n",
       "      <th>12</th>\n",
       "      <td>0 days 00:03:20</td>\n",
       "    </tr>\n",
       "    <tr>\n",
       "      <th>...</th>\n",
       "      <td>...</td>\n",
       "    </tr>\n",
       "    <tr>\n",
       "      <th>879693</th>\n",
       "      <td>0 days 00:01:26</td>\n",
       "    </tr>\n",
       "    <tr>\n",
       "      <th>879694</th>\n",
       "      <td>0 days 00:00:00</td>\n",
       "    </tr>\n",
       "    <tr>\n",
       "      <th>879695</th>\n",
       "      <td>0 days 00:00:00</td>\n",
       "    </tr>\n",
       "    <tr>\n",
       "      <th>879696</th>\n",
       "      <td>0 days 00:00:30</td>\n",
       "    </tr>\n",
       "    <tr>\n",
       "      <th>879698</th>\n",
       "      <td>0 days 00:00:08</td>\n",
       "    </tr>\n",
       "  </tbody>\n",
       "</table>\n",
       "<p>584636 rows × 1 columns</p>\n",
       "</div>"
      ],
      "text/plain": [
       "                timeout\n",
       "user_id                \n",
       "1       0 days 00:00:08\n",
       "7       0 days 00:00:00\n",
       "9       0 days 00:00:00\n",
       "11      0 days 00:00:30\n",
       "12      0 days 00:03:20\n",
       "...                 ...\n",
       "879693  0 days 00:01:26\n",
       "879694  0 days 00:00:00\n",
       "879695  0 days 00:00:00\n",
       "879696  0 days 00:00:30\n",
       "879698  0 days 00:00:08\n",
       "\n",
       "[584636 rows x 1 columns]"
      ]
     },
     "execution_count": 35,
     "metadata": {},
     "output_type": "execute_result"
    }
   ],
   "source": [
    "df_grouped"
   ]
  },
  {
   "cell_type": "code",
   "execution_count": 36,
   "metadata": {
    "id": "sULZqmCFmZr6"
   },
   "outputs": [],
   "source": [
    "df_grouped.rename(columns = {'timeout' : 'timeout_sum'}, inplace = True)"
   ]
  },
  {
   "cell_type": "code",
   "execution_count": 37,
   "metadata": {
    "id": "hxbt_UOEnQSk"
   },
   "outputs": [
    {
     "data": {
      "text/html": [
       "<div>\n",
       "<style scoped>\n",
       "    .dataframe tbody tr th:only-of-type {\n",
       "        vertical-align: middle;\n",
       "    }\n",
       "\n",
       "    .dataframe tbody tr th {\n",
       "        vertical-align: top;\n",
       "    }\n",
       "\n",
       "    .dataframe thead th {\n",
       "        text-align: right;\n",
       "    }\n",
       "</style>\n",
       "<table border=\"1\" class=\"dataframe\">\n",
       "  <thead>\n",
       "    <tr style=\"text-align: right;\">\n",
       "      <th></th>\n",
       "      <th>user_id</th>\n",
       "      <th>timestamp</th>\n",
       "      <th>event</th>\n",
       "      <th>user_id_cnt</th>\n",
       "      <th>user_id_day_cnt</th>\n",
       "      <th>first_event</th>\n",
       "      <th>timeout_sum</th>\n",
       "    </tr>\n",
       "  </thead>\n",
       "  <tbody>\n",
       "    <tr>\n",
       "      <th>0</th>\n",
       "      <td>1</td>\n",
       "      <td>2022-05-03 14:52:28</td>\n",
       "      <td>11-11-5-7-11</td>\n",
       "      <td>5</td>\n",
       "      <td>2</td>\n",
       "      <td>GetCreditInfo</td>\n",
       "      <td>0 days 00:00:08</td>\n",
       "    </tr>\n",
       "    <tr>\n",
       "      <th>1</th>\n",
       "      <td>7</td>\n",
       "      <td>2022-05-22 16:39:49</td>\n",
       "      <td>11</td>\n",
       "      <td>1</td>\n",
       "      <td>1</td>\n",
       "      <td>GetCreditInfo</td>\n",
       "      <td>0 days 00:00:00</td>\n",
       "    </tr>\n",
       "    <tr>\n",
       "      <th>2</th>\n",
       "      <td>9</td>\n",
       "      <td>2022-05-21 23:37:58</td>\n",
       "      <td>11-11-11</td>\n",
       "      <td>3</td>\n",
       "      <td>1</td>\n",
       "      <td>GetCreditInfo</td>\n",
       "      <td>0 days 00:00:00</td>\n",
       "    </tr>\n",
       "    <tr>\n",
       "      <th>3</th>\n",
       "      <td>11</td>\n",
       "      <td>2022-03-24 10:53:59</td>\n",
       "      <td>4-11-5-11-6-1-2-8-3-5-5-11-4-11-5-2-8-3-11-5-5...</td>\n",
       "      <td>43</td>\n",
       "      <td>4</td>\n",
       "      <td>CompleteIDCertification</td>\n",
       "      <td>0 days 00:00:30</td>\n",
       "    </tr>\n",
       "    <tr>\n",
       "      <th>4</th>\n",
       "      <td>12</td>\n",
       "      <td>2022-03-14 01:13:11</td>\n",
       "      <td>4-7-1-2-8-3-3-3-4-7-1-2-8-3-3-3-4-7-1-2-8-3-3-...</td>\n",
       "      <td>120</td>\n",
       "      <td>14</td>\n",
       "      <td>CompleteIDCertification</td>\n",
       "      <td>0 days 00:03:20</td>\n",
       "    </tr>\n",
       "  </tbody>\n",
       "</table>\n",
       "</div>"
      ],
      "text/plain": [
       "   user_id            timestamp  \\\n",
       "0        1  2022-05-03 14:52:28   \n",
       "1        7  2022-05-22 16:39:49   \n",
       "2        9  2022-05-21 23:37:58   \n",
       "3       11  2022-03-24 10:53:59   \n",
       "4       12  2022-03-14 01:13:11   \n",
       "\n",
       "                                               event  user_id_cnt  \\\n",
       "0                                       11-11-5-7-11            5   \n",
       "1                                                 11            1   \n",
       "2                                           11-11-11            3   \n",
       "3  4-11-5-11-6-1-2-8-3-5-5-11-4-11-5-2-8-3-11-5-5...           43   \n",
       "4  4-7-1-2-8-3-3-3-4-7-1-2-8-3-3-3-4-7-1-2-8-3-3-...          120   \n",
       "\n",
       "   user_id_day_cnt              first_event     timeout_sum  \n",
       "0                2            GetCreditInfo 0 days 00:00:08  \n",
       "1                1            GetCreditInfo 0 days 00:00:00  \n",
       "2                1            GetCreditInfo 0 days 00:00:00  \n",
       "3                4  CompleteIDCertification 0 days 00:00:30  \n",
       "4               14  CompleteIDCertification 0 days 00:03:20  "
      ]
     },
     "execution_count": 37,
     "metadata": {},
     "output_type": "execute_result"
    }
   ],
   "source": [
    "log = pd.merge(log , df_grouped,\n",
    "                 how = 'left',\n",
    "                 on = 'user_id')\n",
    "log.head()"
   ]
  },
  {
   "cell_type": "markdown",
   "metadata": {
    "id": "gGMgPbtL1CSw"
   },
   "source": [
    "## timeout 초 단위"
   ]
  },
  {
   "cell_type": "code",
   "execution_count": 38,
   "metadata": {
    "id": "9QZnU3Z21Bwp"
   },
   "outputs": [],
   "source": [
    "log['timeout_sum(s)'] = pd.to_timedelta(log['timeout_sum']).view(np.int64) / 1e9\n",
    "log = log.drop(['timeout_sum'], axis = 1)"
   ]
  },
  {
   "cell_type": "code",
   "execution_count": 39,
   "metadata": {
    "id": "ghLys5NI1Nn4"
   },
   "outputs": [
    {
     "data": {
      "text/html": [
       "<div>\n",
       "<style scoped>\n",
       "    .dataframe tbody tr th:only-of-type {\n",
       "        vertical-align: middle;\n",
       "    }\n",
       "\n",
       "    .dataframe tbody tr th {\n",
       "        vertical-align: top;\n",
       "    }\n",
       "\n",
       "    .dataframe thead th {\n",
       "        text-align: right;\n",
       "    }\n",
       "</style>\n",
       "<table border=\"1\" class=\"dataframe\">\n",
       "  <thead>\n",
       "    <tr style=\"text-align: right;\">\n",
       "      <th></th>\n",
       "      <th>user_id</th>\n",
       "      <th>timestamp</th>\n",
       "      <th>event</th>\n",
       "      <th>user_id_cnt</th>\n",
       "      <th>user_id_day_cnt</th>\n",
       "      <th>first_event</th>\n",
       "      <th>timeout_sum(s)</th>\n",
       "    </tr>\n",
       "  </thead>\n",
       "  <tbody>\n",
       "    <tr>\n",
       "      <th>0</th>\n",
       "      <td>1</td>\n",
       "      <td>2022-05-03 14:52:28</td>\n",
       "      <td>11-11-5-7-11</td>\n",
       "      <td>5</td>\n",
       "      <td>2</td>\n",
       "      <td>GetCreditInfo</td>\n",
       "      <td>8.0</td>\n",
       "    </tr>\n",
       "    <tr>\n",
       "      <th>1</th>\n",
       "      <td>7</td>\n",
       "      <td>2022-05-22 16:39:49</td>\n",
       "      <td>11</td>\n",
       "      <td>1</td>\n",
       "      <td>1</td>\n",
       "      <td>GetCreditInfo</td>\n",
       "      <td>0.0</td>\n",
       "    </tr>\n",
       "    <tr>\n",
       "      <th>2</th>\n",
       "      <td>9</td>\n",
       "      <td>2022-05-21 23:37:58</td>\n",
       "      <td>11-11-11</td>\n",
       "      <td>3</td>\n",
       "      <td>1</td>\n",
       "      <td>GetCreditInfo</td>\n",
       "      <td>0.0</td>\n",
       "    </tr>\n",
       "    <tr>\n",
       "      <th>3</th>\n",
       "      <td>11</td>\n",
       "      <td>2022-03-24 10:53:59</td>\n",
       "      <td>4-11-5-11-6-1-2-8-3-5-5-11-4-11-5-2-8-3-11-5-5...</td>\n",
       "      <td>43</td>\n",
       "      <td>4</td>\n",
       "      <td>CompleteIDCertification</td>\n",
       "      <td>30.0</td>\n",
       "    </tr>\n",
       "    <tr>\n",
       "      <th>4</th>\n",
       "      <td>12</td>\n",
       "      <td>2022-03-14 01:13:11</td>\n",
       "      <td>4-7-1-2-8-3-3-3-4-7-1-2-8-3-3-3-4-7-1-2-8-3-3-...</td>\n",
       "      <td>120</td>\n",
       "      <td>14</td>\n",
       "      <td>CompleteIDCertification</td>\n",
       "      <td>200.0</td>\n",
       "    </tr>\n",
       "    <tr>\n",
       "      <th>...</th>\n",
       "      <td>...</td>\n",
       "      <td>...</td>\n",
       "      <td>...</td>\n",
       "      <td>...</td>\n",
       "      <td>...</td>\n",
       "      <td>...</td>\n",
       "      <td>...</td>\n",
       "    </tr>\n",
       "    <tr>\n",
       "      <th>584631</th>\n",
       "      <td>879693</td>\n",
       "      <td>2022-05-13 11:29:49</td>\n",
       "      <td>1-2-8-3-4-1-3-4-5-11-1-3-4-1-2-8-1-2-8-1-3-3-3...</td>\n",
       "      <td>61</td>\n",
       "      <td>8</td>\n",
       "      <td>CompleteIDCertification</td>\n",
       "      <td>86.0</td>\n",
       "    </tr>\n",
       "    <tr>\n",
       "      <th>584632</th>\n",
       "      <td>879694</td>\n",
       "      <td>2022-03-31 20:07:23</td>\n",
       "      <td>1-2-8-3-3-3</td>\n",
       "      <td>6</td>\n",
       "      <td>1</td>\n",
       "      <td>CompleteIDCertification</td>\n",
       "      <td>0.0</td>\n",
       "    </tr>\n",
       "    <tr>\n",
       "      <th>584633</th>\n",
       "      <td>879695</td>\n",
       "      <td>2022-05-27 12:48:32</td>\n",
       "      <td>1-2-8-3</td>\n",
       "      <td>4</td>\n",
       "      <td>1</td>\n",
       "      <td>CompleteIDCertification</td>\n",
       "      <td>0.0</td>\n",
       "    </tr>\n",
       "    <tr>\n",
       "      <th>584634</th>\n",
       "      <td>879696</td>\n",
       "      <td>2022-03-14 05:35:34</td>\n",
       "      <td>7-5-11-11-5-11-4-7-2-8-3</td>\n",
       "      <td>11</td>\n",
       "      <td>1</td>\n",
       "      <td>CompleteIDCertification</td>\n",
       "      <td>30.0</td>\n",
       "    </tr>\n",
       "    <tr>\n",
       "      <th>584635</th>\n",
       "      <td>879698</td>\n",
       "      <td>2022-05-24 22:33:24</td>\n",
       "      <td>4-1-2</td>\n",
       "      <td>3</td>\n",
       "      <td>1</td>\n",
       "      <td>others</td>\n",
       "      <td>8.0</td>\n",
       "    </tr>\n",
       "  </tbody>\n",
       "</table>\n",
       "<p>584636 rows × 7 columns</p>\n",
       "</div>"
      ],
      "text/plain": [
       "        user_id            timestamp  \\\n",
       "0             1  2022-05-03 14:52:28   \n",
       "1             7  2022-05-22 16:39:49   \n",
       "2             9  2022-05-21 23:37:58   \n",
       "3            11  2022-03-24 10:53:59   \n",
       "4            12  2022-03-14 01:13:11   \n",
       "...         ...                  ...   \n",
       "584631   879693  2022-05-13 11:29:49   \n",
       "584632   879694  2022-03-31 20:07:23   \n",
       "584633   879695  2022-05-27 12:48:32   \n",
       "584634   879696  2022-03-14 05:35:34   \n",
       "584635   879698  2022-05-24 22:33:24   \n",
       "\n",
       "                                                    event  user_id_cnt  \\\n",
       "0                                            11-11-5-7-11            5   \n",
       "1                                                      11            1   \n",
       "2                                                11-11-11            3   \n",
       "3       4-11-5-11-6-1-2-8-3-5-5-11-4-11-5-2-8-3-11-5-5...           43   \n",
       "4       4-7-1-2-8-3-3-3-4-7-1-2-8-3-3-3-4-7-1-2-8-3-3-...          120   \n",
       "...                                                   ...          ...   \n",
       "584631  1-2-8-3-4-1-3-4-5-11-1-3-4-1-2-8-1-2-8-1-3-3-3...           61   \n",
       "584632                                        1-2-8-3-3-3            6   \n",
       "584633                                            1-2-8-3            4   \n",
       "584634                           7-5-11-11-5-11-4-7-2-8-3           11   \n",
       "584635                                              4-1-2            3   \n",
       "\n",
       "        user_id_day_cnt              first_event  timeout_sum(s)  \n",
       "0                     2            GetCreditInfo             8.0  \n",
       "1                     1            GetCreditInfo             0.0  \n",
       "2                     1            GetCreditInfo             0.0  \n",
       "3                     4  CompleteIDCertification            30.0  \n",
       "4                    14  CompleteIDCertification           200.0  \n",
       "...                 ...                      ...             ...  \n",
       "584631                8  CompleteIDCertification            86.0  \n",
       "584632                1  CompleteIDCertification             0.0  \n",
       "584633                1  CompleteIDCertification             0.0  \n",
       "584634                1  CompleteIDCertification            30.0  \n",
       "584635                1                   others             8.0  \n",
       "\n",
       "[584636 rows x 7 columns]"
      ]
     },
     "execution_count": 39,
     "metadata": {},
     "output_type": "execute_result"
    }
   ],
   "source": [
    "log"
   ]
  },
  {
   "cell_type": "markdown",
   "metadata": {
    "id": "ap4X_LYwNn1A"
   },
   "source": [
    "## 7. Log+Spec+Loan"
   ]
  },
  {
   "cell_type": "code",
   "execution_count": 40,
   "metadata": {
    "id": "148-tJ_qQl15"
   },
   "outputs": [],
   "source": [
    "join = pd.read_csv('/Users/sungahwang/Desktop/BC_data/Preprocessing+loan.csv')"
   ]
  },
  {
   "cell_type": "code",
   "execution_count": 41,
   "metadata": {
    "id": "DcLetD9uRKQ5"
   },
   "outputs": [],
   "source": [
    "join = join.rename({'Labels':'spec_clust'}, axis = 1)"
   ]
  },
  {
   "cell_type": "code",
   "execution_count": 42,
   "metadata": {
    "id": "xBDlQcJ-1aJ_"
   },
   "outputs": [],
   "source": [
    "log.rename(columns={'user_id_cnt': 'action_cnt'}, inplace=True)"
   ]
  },
  {
   "cell_type": "code",
   "execution_count": 43,
   "metadata": {
    "id": "voY6AVwi1e0n"
   },
   "outputs": [],
   "source": [
    "log.rename(columns={'user_id_day_cnt': 'use_day_cnt'}, inplace=True)"
   ]
  },
  {
   "cell_type": "code",
   "execution_count": 44,
   "metadata": {
    "id": "1I2MMpKYGebl"
   },
   "outputs": [],
   "source": [
    "# first_event 결측값 -> Others\n",
    "log['first_event'] = log['first_event'].fillna('Others')"
   ]
  },
  {
   "cell_type": "code",
   "execution_count": 45,
   "metadata": {
    "id": "tQDh7N6LRbZZ"
   },
   "outputs": [],
   "source": [
    "join_final = pd.merge(join,log ,on=\"user_id\",how=\"left\")"
   ]
  },
  {
   "cell_type": "markdown",
   "metadata": {
    "id": "Fh2ti1ES1eMM"
   },
   "source": [
    "## 전처리"
   ]
  },
  {
   "cell_type": "code",
   "execution_count": 46,
   "metadata": {
    "id": "oEesTLMK_gHR"
   },
   "outputs": [],
   "source": [
    "# id 당 총 대출 수\n",
    "id_applied = join_final.groupby('user_id').sum()['is_applied'].sort_values(ascending=False)\n",
    "id_applied = pd.DataFrame(id_applied)\n",
    "id_applied = id_applied.reset_index()\n",
    "id_applied = id_applied.rename({'is_applied':'sum_applied'}, axis = 1)"
   ]
  },
  {
   "cell_type": "code",
   "execution_count": 47,
   "metadata": {
    "id": "-KGoMe-4mFcL"
   },
   "outputs": [],
   "source": [
    "join = pd.merge(id_applied,join_final ,on=\"user_id\",how=\"right\")"
   ]
  },
  {
   "cell_type": "code",
   "execution_count": 48,
   "metadata": {
    "id": "gJZ8rmJXiA7i"
   },
   "outputs": [],
   "source": [
    "sum_applied_list = id_applied['sum_applied'].unique()"
   ]
  },
  {
   "cell_type": "markdown",
   "metadata": {
    "id": "kJN0Ba9oKGmg"
   },
   "source": [
    "## 8. 결측값"
   ]
  },
  {
   "cell_type": "markdown",
   "metadata": {
    "id": "mKji_WJPKW0B"
   },
   "source": [
    "### Join으로 인하여 생기는 결측값 중 is_applied가 0인 데이터는 제거"
   ]
  },
  {
   "cell_type": "code",
   "execution_count": 49,
   "metadata": {
    "id": "YOYZtm_SG0cs"
   },
   "outputs": [
    {
     "data": {
      "text/plain": [
       "user_id                                      0\n",
       "sum_applied                                  0\n",
       "application_id                               0\n",
       "gender                                       0\n",
       "insert_time                                  0\n",
       "yearly_income                                0\n",
       "income_type                                  0\n",
       "employment_type                              0\n",
       "houseown_type                                0\n",
       "desired_amount                               0\n",
       "purpose                                      0\n",
       "personal_rehabilitation_yn                   0\n",
       "personal_rehabilitation_complete_yn          0\n",
       "existing_loan_cnt                            0\n",
       "existing_loan_amt                            0\n",
       "reage                                        0\n",
       "career                                       0\n",
       "credit_grade                                 0\n",
       "spec_clust                                   0\n",
       "loanapply_insert_time                        0\n",
       "bank_id                                      0\n",
       "product_id                                   0\n",
       "loan_limit                                   0\n",
       "loan_rate                                    0\n",
       "is_applied                             3255482\n",
       "weekday                                      0\n",
       "loanapply_insert_hour                        0\n",
       "bank_apply_rate                              0\n",
       "product_apply_rate                           0\n",
       "cluster2                                     0\n",
       "timestamp                               488001\n",
       "event                                   488001\n",
       "action_cnt                              488001\n",
       "use_day_cnt                             488001\n",
       "first_event                             488001\n",
       "timeout_sum(s)                          488001\n",
       "dtype: int64"
      ]
     },
     "execution_count": 49,
     "metadata": {},
     "output_type": "execute_result"
    }
   ],
   "source": [
    "join.isnull().sum()"
   ]
  },
  {
   "cell_type": "code",
   "execution_count": 50,
   "metadata": {
    "id": "4_dwAONdKeKu"
   },
   "outputs": [],
   "source": [
    "join_0 = join[join['is_applied']==0]\n",
    "join_not0 = join[join['is_applied']!=0]"
   ]
  },
  {
   "cell_type": "code",
   "execution_count": 51,
   "metadata": {
    "id": "7cetqwMuKVYO"
   },
   "outputs": [],
   "source": [
    "join_0 = join_0.dropna(subset = ['timestamp'], axis=0) "
   ]
  },
  {
   "cell_type": "code",
   "execution_count": 52,
   "metadata": {
    "id": "tllrH9Z000KG"
   },
   "outputs": [],
   "source": [
    "join = pd.concat([join_0,join_not0])"
   ]
  },
  {
   "cell_type": "code",
   "execution_count": 53,
   "metadata": {
    "id": "swdG-A-ylZE0"
   },
   "outputs": [],
   "source": [
    "join = join.drop(['timestamp'], axis = 1)"
   ]
  },
  {
   "cell_type": "code",
   "execution_count": 54,
   "metadata": {},
   "outputs": [],
   "source": [
    "join = join.drop(['event'], axis = 1)"
   ]
  },
  {
   "cell_type": "code",
   "execution_count": 55,
   "metadata": {
    "id": "tXYYMk4cAIJk"
   },
   "outputs": [],
   "source": [
    "from pandas import Series, DataFrame"
   ]
  },
  {
   "cell_type": "code",
   "execution_count": 56,
   "metadata": {
    "id": "6GR6mdGdiBBQ"
   },
   "outputs": [],
   "source": [
    "for i in range(len(sum_applied_list)):\n",
    "  join.loc[join['action_cnt'].isnull() & join['sum_applied']== sum_applied_list[i], 'action_cnt'] = join[(join['sum_applied']==sum_applied_list[i])]['action_cnt'].mean()\n",
    "  join.loc[join['use_day_cnt'].isnull() & join['sum_applied']== sum_applied_list[i], 'use_day_cnt'] = join[(join['sum_applied']==sum_applied_list[i])]['use_day_cnt'].mean()\n",
    "  join.loc[join['timeout_sum(s)'].isnull() & join['sum_applied']== sum_applied_list[i], 'timeout_sum(s)'] = join[(join['sum_applied']==sum_applied_list[i])]['timeout_sum(s)'].mean()"
   ]
  },
  {
   "cell_type": "code",
   "execution_count": 57,
   "metadata": {},
   "outputs": [
    {
     "data": {
      "text/plain": [
       "cluster2  first_event              first_event            \n",
       "0         CompleteIDCertification  CompleteIDCertification    9276934\n",
       "          EndLoanApply             EndLoanApply                257282\n",
       "          GetCreditInfo            GetCreditInfo               575553\n",
       "          StartLoanApply           StartLoanApply                   3\n",
       "          others                   others                       42723\n",
       "1         CompleteIDCertification  CompleteIDCertification    1108779\n",
       "          EndLoanApply             EndLoanApply                 27751\n",
       "          GetCreditInfo            GetCreditInfo               100534\n",
       "          others                   others                         784\n",
       "2         CompleteIDCertification  CompleteIDCertification     303297\n",
       "          EndLoanApply             EndLoanApply                  7416\n",
       "          GetCreditInfo            GetCreditInfo                14192\n",
       "          others                   others                        1068\n",
       "3         CompleteIDCertification  CompleteIDCertification     386926\n",
       "          EndLoanApply             EndLoanApply                  9317\n",
       "          GetCreditInfo            GetCreditInfo                18023\n",
       "          StartLoanApply           StartLoanApply                   1\n",
       "          others                   others                        1149\n",
       "4         CompleteIDCertification  CompleteIDCertification     304755\n",
       "          EndLoanApply             EndLoanApply                  8631\n",
       "          GetCreditInfo            GetCreditInfo                17583\n",
       "          others                   others                        1171\n",
       "5         CompleteIDCertification  CompleteIDCertification     531782\n",
       "          EndLoanApply             EndLoanApply                 12994\n",
       "          GetCreditInfo            GetCreditInfo                26954\n",
       "          others                   others                        1890\n",
       "Name: first_event, dtype: int64"
      ]
     },
     "execution_count": 57,
     "metadata": {},
     "output_type": "execute_result"
    }
   ],
   "source": [
    "df_max = join.groupby(['cluster2', 'first_event'])['first_event'].value_counts()\n",
    "df_max"
   ]
  },
  {
   "cell_type": "code",
   "execution_count": 58,
   "metadata": {},
   "outputs": [],
   "source": [
    "join.loc[join['first_event'].isnull(), 'first_event'] = 'CompleteIDCertification'"
   ]
  },
  {
   "cell_type": "code",
   "execution_count": 59,
   "metadata": {
    "id": "gX9o-JZxiBDU"
   },
   "outputs": [
    {
     "data": {
      "text/plain": [
       "user_id                                      0\n",
       "sum_applied                                  0\n",
       "application_id                               0\n",
       "gender                                       0\n",
       "insert_time                                  0\n",
       "yearly_income                                0\n",
       "income_type                                  0\n",
       "employment_type                              0\n",
       "houseown_type                                0\n",
       "desired_amount                               0\n",
       "purpose                                      0\n",
       "personal_rehabilitation_yn                   0\n",
       "personal_rehabilitation_complete_yn          0\n",
       "existing_loan_cnt                            0\n",
       "existing_loan_amt                            0\n",
       "reage                                        0\n",
       "career                                       0\n",
       "credit_grade                                 0\n",
       "spec_clust                                   0\n",
       "loanapply_insert_time                        0\n",
       "bank_id                                      0\n",
       "product_id                                   0\n",
       "loan_limit                                   0\n",
       "loan_rate                                    0\n",
       "is_applied                             3255482\n",
       "weekday                                      0\n",
       "loanapply_insert_hour                        0\n",
       "bank_apply_rate                              0\n",
       "product_apply_rate                           0\n",
       "cluster2                                     0\n",
       "action_cnt                                   0\n",
       "use_day_cnt                                  0\n",
       "first_event                                  0\n",
       "timeout_sum(s)                               0\n",
       "dtype: int64"
      ]
     },
     "execution_count": 59,
     "metadata": {},
     "output_type": "execute_result"
    }
   ],
   "source": [
    "join.isnull().sum()"
   ]
  },
  {
   "cell_type": "code",
   "execution_count": 60,
   "metadata": {
    "id": "3WdTfPzHmJl_"
   },
   "outputs": [],
   "source": [
    "join.to_csv('/Users/sungahwang/Desktop/BC_data/final.csv', index = False)"
   ]
  }
 ],
 "metadata": {
  "accelerator": "GPU",
  "colab": {
   "collapsed_sections": [],
   "machine_shape": "hm",
   "provenance": []
  },
  "gpuClass": "premium",
  "kernelspec": {
   "display_name": "Python 3 (ipykernel)",
   "language": "python",
   "name": "python3"
  },
  "language_info": {
   "codemirror_mode": {
    "name": "ipython",
    "version": 3
   },
   "file_extension": ".py",
   "mimetype": "text/x-python",
   "name": "python",
   "nbconvert_exporter": "python",
   "pygments_lexer": "ipython3",
   "version": "3.9.12"
  }
 },
 "nbformat": 4,
 "nbformat_minor": 1
}
